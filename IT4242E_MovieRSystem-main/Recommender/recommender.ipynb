{
  "cells": [
    {
      "cell_type": "markdown",
      "metadata": {
        "id": "GDXTtyQ1Gt9Y"
      },
      "source": [
        "# Recommender"
      ]
    },
    {
      "cell_type": "markdown",
      "metadata": {
        "id": "BlcwqfqgGt9d"
      },
      "source": [
        "## Load User Models data"
      ]
    },
    {
      "cell_type": "code",
      "execution_count": 1,
      "metadata": {
        "id": "oaSldVC8Gt9e"
      },
      "outputs": [],
      "source": [
        "import warnings\n",
        "warnings.filterwarnings('ignore')"
      ]
    },
    {
      "cell_type": "code",
      "execution_count": 2,
      "metadata": {
        "id": "VNvuGPAVGt9f"
      },
      "outputs": [],
      "source": [
        "import os\n",
        "from ast import literal_eval\n",
        "import pandas as pd\n",
        "import numpy as np"
      ]
    },
    {
      "cell_type": "code",
      "execution_count": 3,
      "metadata": {
        "id": "_TF35yL9Gt9g"
      },
      "outputs": [],
      "source": [
        "os.chdir(\"../Dataset\")"
      ]
    },
    {
      "cell_type": "code",
      "execution_count": 4,
      "metadata": {
        "id": "jEqGxTU3Gt9g"
      },
      "outputs": [],
      "source": [
        "with open(\"ModelStorage/idToTitle.json\", \"r\") as file:\n",
        "    idToTitle = file.read()"
      ]
    },
    {
      "cell_type": "code",
      "execution_count": 5,
      "metadata": {
        "id": "WJ20yn1-Gt9h"
      },
      "outputs": [],
      "source": [
        "ratings = pd.read_csv(\"ratings_small.csv\")"
      ]
    },
    {
      "cell_type": "code",
      "execution_count": 6,
      "metadata": {
        "id": "bECl5t5EGt9h"
      },
      "outputs": [],
      "source": [
        "idToTitle = literal_eval(idToTitle)"
      ]
    },
    {
      "cell_type": "code",
      "execution_count": 7,
      "metadata": {
        "id": "2q__CNJRGt9i"
      },
      "outputs": [],
      "source": [
        "idToTitle = { int(k):v for k, v in idToTitle.items()}"
      ]
    },
    {
      "cell_type": "code",
      "execution_count": 8,
      "metadata": {
        "colab": {
          "base_uri": "https://localhost:8080/",
          "height": 35
        },
        "id": "EWS-lttcGt9j",
        "outputId": "40f08f07-a31a-4f26-c6c4-2f530efdc186"
      },
      "outputs": [
        {
          "data": {
            "text/plain": [
              "'Heat'"
            ]
          },
          "execution_count": 8,
          "metadata": {},
          "output_type": "execute_result"
        }
      ],
      "source": [
        "idToTitle[949]"
      ]
    },
    {
      "cell_type": "code",
      "execution_count": 9,
      "metadata": {
        "id": "ynB5rXmCGt9k"
      },
      "outputs": [],
      "source": [
        "dataset = pd.read_csv(\"FeatureExtracted/dataset.csv\")"
      ]
    },
    {
      "cell_type": "code",
      "execution_count": 10,
      "metadata": {
        "id": "WoMEfHdxGt9k"
      },
      "outputs": [],
      "source": [
        "dataset.drop('id', axis = 1, inplace = True)"
      ]
    },
    {
      "cell_type": "code",
      "execution_count": 11,
      "metadata": {
        "id": "A5jiwUcHGt9l"
      },
      "outputs": [],
      "source": [
        "with open(\"ModelStorage/indexToId.txt\", \"r\") as file:\n",
        "    indexToId = file.read()"
      ]
    },
    {
      "cell_type": "code",
      "execution_count": 12,
      "metadata": {
        "id": "1ojghzNfGt9l"
      },
      "outputs": [],
      "source": [
        "indexToId = literal_eval(indexToId)"
      ]
    },
    {
      "cell_type": "code",
      "execution_count": 13,
      "metadata": {
        "id": "TPCxlmfRGt9l"
      },
      "outputs": [],
      "source": [
        "with open(\"ModelStorage/idToIndex.txt\", \"r\") as file:\n",
        "    idToIndex = file.read()"
      ]
    },
    {
      "cell_type": "code",
      "execution_count": 14,
      "metadata": {
        "id": "Olk2KkcyGt9m"
      },
      "outputs": [],
      "source": [
        "idToIndex = literal_eval(idToIndex)"
      ]
    },
    {
      "cell_type": "code",
      "execution_count": 15,
      "metadata": {
        "id": "iwQwG8UvGt9m"
      },
      "outputs": [],
      "source": [
        "# model = np.fromfile(\"ModelStorage/model.txt\").reshape((671,38))\n",
        "U = np.fromfile(\"ModelStorage/U.txt\").reshape((671,38))\n",
        "b = np.fromfile(\"ModelStorage/b.txt\").reshape((671,1))"
      ]
    },
    {
      "cell_type": "markdown",
      "metadata": {
        "id": "Acou3kSrGt9m"
      },
      "source": [
        "## Prediction"
      ]
    },
    {
      "cell_type": "markdown",
      "metadata": {},
      "source": [
        "Fist we need to calculate the matrix of ratings (Same step as in Machine Learning Phase)"
      ]
    },
    {
      "cell_type": "code",
      "execution_count": 16,
      "metadata": {
        "id": "WM_eQRo7Gt9m"
      },
      "outputs": [],
      "source": [
        "from sklearn import preprocessing\n",
        "dataset = preprocessing.scale(dataset)"
      ]
    },
    {
      "cell_type": "code",
      "execution_count": 17,
      "metadata": {
        "id": "ng1U6Nl6gN-k"
      },
      "outputs": [],
      "source": [
        "dataset = np.concatenate((dataset, np.ones((2830,1))), axis = 1)"
      ]
    },
    {
      "cell_type": "code",
      "execution_count": 18,
      "metadata": {
        "id": "I4lm2EYUGt9n"
      },
      "outputs": [],
      "source": [
        "ratings_matrix = np.matmul(np.concatenate((U,b), axis = 1), dataset.T)"
      ]
    },
    {
      "cell_type": "markdown",
      "metadata": {},
      "source": [
        "## Recommendation"
      ]
    },
    {
      "cell_type": "code",
      "execution_count": 19,
      "metadata": {
        "id": "FZWyOhM-Gt9n"
      },
      "outputs": [],
      "source": [
        "user = 10"
      ]
    },
    {
      "cell_type": "markdown",
      "metadata": {},
      "source": [
        "Predicted Rating of user"
      ]
    },
    {
      "cell_type": "code",
      "execution_count": 20,
      "metadata": {
        "colab": {
          "base_uri": "https://localhost:8080/"
        },
        "id": "dTjLQqbxGt9n",
        "outputId": "f5bc1b65-d3a3-4675-b0a2-fbbba6f92130"
      },
      "outputs": [
        {
          "data": {
            "text/plain": [
              "array([3.57121183, 3.5521947 , 3.55592394, ..., 3.58974951, 3.5790874 ,\n",
              "       3.53914925])"
            ]
          },
          "execution_count": 20,
          "metadata": {},
          "output_type": "execute_result"
        }
      ],
      "source": [
        "ratings_matrix[user - 1]"
      ]
    },
    {
      "cell_type": "code",
      "execution_count": 21,
      "metadata": {
        "id": "l4Y6taftGt9o"
      },
      "outputs": [],
      "source": [
        "ratings_user_df = pd.DataFrame()"
      ]
    },
    {
      "cell_type": "code",
      "execution_count": 22,
      "metadata": {
        "id": "H0WRDuYpGt9o"
      },
      "outputs": [],
      "source": [
        "ratings_user_df['movie_Id'] = list(range(ratings_matrix[user - 1].size))\n",
        "ratings_user_df['movie_Id'] = ratings_user_df['movie_Id'].apply(lambda x: indexToId[x])\n",
        "ratings_user_df['rating'] = ratings_matrix[user - 1]"
      ]
    },
    {
      "cell_type": "code",
      "execution_count": 23,
      "metadata": {
        "colab": {
          "base_uri": "https://localhost:8080/"
        },
        "id": "1yFf47RFGt9o",
        "outputId": "aa9ec4a5-41de-4946-83a2-9d7a4a09ef7f"
      },
      "outputs": [
        {
          "data": {
            "text/plain": [
              "1336    3.667635\n",
              "2743    3.666480\n",
              "2755    3.663898\n",
              "1908    3.661777\n",
              "1797    3.661167\n",
              "          ...   \n",
              "2007    3.465921\n",
              "1654    3.465652\n",
              "2157    3.464976\n",
              "984     3.457739\n",
              "1149    3.447849\n",
              "Name: rating, Length: 2830, dtype: float64"
            ]
          },
          "execution_count": 23,
          "metadata": {},
          "output_type": "execute_result"
        }
      ],
      "source": [
        "ratings_user_df['rating'].sort_values(ascending = False)"
      ]
    },
    {
      "cell_type": "markdown",
      "metadata": {
        "id": "MqDV3Qv3Gt9p"
      },
      "source": [
        "In the predicted ratings by user, drop the movies that they have seen"
      ]
    },
    {
      "cell_type": "code",
      "execution_count": 24,
      "metadata": {
        "id": "SrM3u5j3Gt9p"
      },
      "outputs": [],
      "source": [
        "movies_have_seen = ratings[ratings['userId'] == user]['movieId'].values"
      ]
    },
    {
      "cell_type": "code",
      "execution_count": 25,
      "metadata": {
        "colab": {
          "base_uri": "https://localhost:8080/"
        },
        "id": "HTpbwz17Gt9p",
        "outputId": "b2f49a8d-01e3-4de4-f6d5-b27dfc327c22"
      },
      "outputs": [
        {
          "data": {
            "text/plain": [
              "Int64Index([ 286,  382,  411,  524,  609,  636,  685,  747,  783, 1078, 1216,\n",
              "            1272, 1414, 1436, 1441, 1487, 1610, 1658, 1660, 1821, 2690],\n",
              "           dtype='int64')"
            ]
          },
          "execution_count": 25,
          "metadata": {},
          "output_type": "execute_result"
        }
      ],
      "source": [
        "ratings_user_df[ratings_user_df['movie_Id'].isin(movies_have_seen)].index"
      ]
    },
    {
      "cell_type": "code",
      "execution_count": 26,
      "metadata": {
        "id": "uEOs3iCnGt9p"
      },
      "outputs": [],
      "source": [
        "ratings_user_df.drop(ratings_user_df[ratings_user_df['movie_Id'].isin(movies_have_seen)].index, inplace = True)"
      ]
    },
    {
      "cell_type": "code",
      "execution_count": 27,
      "metadata": {
        "id": "FgV1nV6hGt9p"
      },
      "outputs": [],
      "source": [
        "indexToRecommend = ratings_user_df['rating'].sort_values(ascending = False)[0:20].index"
      ]
    },
    {
      "cell_type": "markdown",
      "metadata": {
        "id": "re5cNZy5Gt9q"
      },
      "source": [
        "Movie user have seen."
      ]
    },
    {
      "cell_type": "code",
      "execution_count": 28,
      "metadata": {
        "colab": {
          "base_uri": "https://localhost:8080/"
        },
        "id": "yggs4QBXGt9q",
        "outputId": "8cecf5a0-13c6-461e-d6f5-f76ea0236da6"
      },
      "outputs": [
        {
          "name": "stdout",
          "output_type": "stream",
          "text": [
            "Leon: The Professional\n",
            "The Maltese Falcon\n",
            "Con Air\n",
            "Scream 2\n",
            "Titanic\n",
            "Backdraft\n",
            "The Gift\n",
            "Shattered\n",
            "Mystic River\n",
            "In My Skin\n",
            "Aguirre: The Wrath of God\n",
            "Van Helsing\n",
            "Swimming to Cambodia\n",
            "The Rolling Stones: Gimme Shelter\n",
            "Mercy\n",
            "The Wages of Fear\n",
            "Zardoz\n",
            "Spring, Summer, Fall, Winter... and Spring\n",
            "The Leopard\n",
            "Fires on the Plain\n",
            "The Tunnel\n",
            "Charlie and the Chocolate Factory\n",
            "Cube Zero\n",
            "Underworld: Evolution\n",
            "Land of Plenty\n",
            "The Last King of Scotland\n",
            "Blood Diamond\n",
            "In the Name of the King: A Dungeon Siege Tale\n",
            "The Happening\n",
            "The Haunted Castle\n",
            "Samaritan Zatôichi\n",
            "Hotel Very Welcome\n",
            "The Message\n",
            "Carry On Doctor\n",
            "Devil in the Flesh\n",
            "Frankenstein Created Woman\n",
            "Travelling with Pets\n"
          ]
        }
      ],
      "source": [
        "for x in movies_have_seen:\n",
        "    if x in indexToId.keys():\n",
        "        if indexToId[x] in idToTitle.keys():\n",
        "            print(idToTitle[indexToId[x]])"
      ]
    },
    {
      "cell_type": "markdown",
      "metadata": {
        "id": "QeJ8hZi4Gt9q"
      },
      "source": [
        "Movie to recommend user"
      ]
    },
    {
      "cell_type": "code",
      "execution_count": 29,
      "metadata": {
        "colab": {
          "base_uri": "https://localhost:8080/"
        },
        "id": "P7KOmJR9Gt9q",
        "outputId": "f1ff1082-cf5e-4a95-c4c8-abadc4f5dc3c"
      },
      "outputs": [
        {
          "name": "stdout",
          "output_type": "stream",
          "text": [
            "October (Ten Days that Shook the World)\n",
            "It's Hard Being Loved by Jerks\n",
            "Tchoupitoulas\n",
            "Shine a Light\n",
            "Sicko\n",
            "Once in a Lifetime: The Extraordinary Story of the New York Cosmos\n",
            "The Carter\n",
            "Caesar Must Die\n",
            "The X Files: I Want to Believe\n",
            "Daydream Believers: The Monkees Story\n",
            "The Nomi Song\n",
            "Olympia Part Two: Festival of Beauty\n",
            "The Weeping Camel\n",
            "Modern Life\n",
            "Shanghai Ghetto\n",
            "Fall of the Republic: The Presidency of Barack H. Obama\n",
            "To Be and to Have\n",
            "Monterey Pop\n",
            "Capturing the Friedmans\n",
            "Presumed Guilty\n"
          ]
        }
      ],
      "source": [
        "for x in indexToRecommend:\n",
        "    print(idToTitle[indexToId[x]])"
      ]
    }
  ],
  "metadata": {
    "colab": {
      "collapsed_sections": [],
      "name": "recommender.ipynb",
      "provenance": []
    },
    "kernelspec": {
      "display_name": "Python 3.8.8 ('base')",
      "language": "python",
      "name": "python3"
    },
    "language_info": {
      "codemirror_mode": {
        "name": "ipython",
        "version": 3
      },
      "file_extension": ".py",
      "mimetype": "text/x-python",
      "name": "python",
      "nbconvert_exporter": "python",
      "pygments_lexer": "ipython3",
      "version": "3.8.8"
    },
    "orig_nbformat": 4,
    "vscode": {
      "interpreter": {
        "hash": "2043299c89c8cd0b4d1a6f5cf4529bd58e6a4e0fe3181a25e0d328c821cdc5c5"
      }
    }
  },
  "nbformat": 4,
  "nbformat_minor": 0
}
