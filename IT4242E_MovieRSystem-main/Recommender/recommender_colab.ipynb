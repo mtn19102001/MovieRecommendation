{
  "cells": [
    {
      "cell_type": "markdown",
      "metadata": {
        "id": "GDXTtyQ1Gt9Y"
      },
      "source": [
        "# Recommender"
      ]
    },
    {
      "cell_type": "markdown",
      "metadata": {
        "id": "BlcwqfqgGt9d"
      },
      "source": [
        "## Load User Models data"
      ]
    },
    {
      "cell_type": "code",
      "execution_count": 101,
      "metadata": {
        "colab": {
          "base_uri": "https://localhost:8080/"
        },
        "id": "pqb5hCXSG1bI",
        "outputId": "096d6ae5-dc67-44c3-ae82-c8de7f97f759"
      },
      "outputs": [
        {
          "name": "stdout",
          "output_type": "stream",
          "text": [
            "Drive already mounted at /content/drive; to attempt to forcibly remount, call drive.mount(\"/content/drive\", force_remount=True).\n"
          ]
        }
      ],
      "source": [
        "from google.colab import drive\n",
        "drive.mount('/content/drive')"
      ]
    },
    {
      "cell_type": "code",
      "execution_count": 102,
      "metadata": {
        "id": "oaSldVC8Gt9e"
      },
      "outputs": [],
      "source": [
        "import warnings\n",
        "warnings.filterwarnings('ignore')"
      ]
    },
    {
      "cell_type": "code",
      "execution_count": 103,
      "metadata": {
        "id": "VNvuGPAVGt9f"
      },
      "outputs": [],
      "source": [
        "import os\n",
        "from ast import literal_eval\n",
        "import pandas as pd\n",
        "import numpy as np"
      ]
    },
    {
      "cell_type": "code",
      "execution_count": 104,
      "metadata": {
        "id": "_TF35yL9Gt9g"
      },
      "outputs": [],
      "source": [
        "os.chdir(\"/content/drive/MyDrive/MovieRSystem\")"
      ]
    },
    {
      "cell_type": "code",
      "execution_count": 105,
      "metadata": {
        "id": "jEqGxTU3Gt9g"
      },
      "outputs": [],
      "source": [
        "with open(\"ModelStorage/idToTitle.json\", \"r\") as file:\n",
        "    idToTitle = file.read()"
      ]
    },
    {
      "cell_type": "code",
      "execution_count": 106,
      "metadata": {
        "id": "WJ20yn1-Gt9h"
      },
      "outputs": [],
      "source": [
        "ratings = pd.read_csv(\"ratings_small.csv\")"
      ]
    },
    {
      "cell_type": "code",
      "execution_count": 107,
      "metadata": {
        "id": "bECl5t5EGt9h"
      },
      "outputs": [],
      "source": [
        "idToTitle = literal_eval(idToTitle)"
      ]
    },
    {
      "cell_type": "code",
      "execution_count": 108,
      "metadata": {
        "id": "2q__CNJRGt9i"
      },
      "outputs": [],
      "source": [
        "idToTitle = { int(k):v for k, v in idToTitle.items()}"
      ]
    },
    {
      "cell_type": "code",
      "execution_count": 109,
      "metadata": {
        "colab": {
          "base_uri": "https://localhost:8080/",
          "height": 35
        },
        "id": "EWS-lttcGt9j",
        "outputId": "40f08f07-a31a-4f26-c6c4-2f530efdc186"
      },
      "outputs": [
        {
          "data": {
            "application/vnd.google.colaboratory.intrinsic+json": {
              "type": "string"
            },
            "text/plain": [
              "'Heat'"
            ]
          },
          "execution_count": 109,
          "metadata": {},
          "output_type": "execute_result"
        }
      ],
      "source": [
        "idToTitle[949]"
      ]
    },
    {
      "cell_type": "code",
      "execution_count": 110,
      "metadata": {
        "id": "ynB5rXmCGt9k"
      },
      "outputs": [],
      "source": [
        "dataset = pd.read_csv(\"FeatureExtracted/dataset.csv\")"
      ]
    },
    {
      "cell_type": "code",
      "execution_count": 111,
      "metadata": {
        "id": "WoMEfHdxGt9k"
      },
      "outputs": [],
      "source": [
        "dataset.drop('id', axis = 1, inplace = True)"
      ]
    },
    {
      "cell_type": "code",
      "execution_count": 112,
      "metadata": {
        "id": "A5jiwUcHGt9l"
      },
      "outputs": [],
      "source": [
        "with open(\"ModelStorage/indexToId.txt\", \"r\") as file:\n",
        "    indexToId = file.read()"
      ]
    },
    {
      "cell_type": "code",
      "execution_count": 113,
      "metadata": {
        "id": "1ojghzNfGt9l"
      },
      "outputs": [],
      "source": [
        "indexToId = literal_eval(indexToId)"
      ]
    },
    {
      "cell_type": "code",
      "execution_count": 114,
      "metadata": {
        "id": "TPCxlmfRGt9l"
      },
      "outputs": [],
      "source": [
        "with open(\"ModelStorage/idToIndex.txt\", \"r\") as file:\n",
        "    idToIndex = file.read()"
      ]
    },
    {
      "cell_type": "code",
      "execution_count": 115,
      "metadata": {
        "id": "Olk2KkcyGt9m"
      },
      "outputs": [],
      "source": [
        "idToIndex = literal_eval(idToIndex)"
      ]
    },
    {
      "cell_type": "code",
      "execution_count": 116,
      "metadata": {
        "id": "iwQwG8UvGt9m"
      },
      "outputs": [],
      "source": [
        "# model = np.fromfile(\"ModelStorage/model.txt\").reshape((671,38))\n",
        "U = np.fromfile(\"ModelStorage/U.txt\").reshape((671,38))\n",
        "b = np.fromfile(\"ModelStorage/b.txt\").reshape((671,1))"
      ]
    },
    {
      "cell_type": "markdown",
      "metadata": {
        "id": "Acou3kSrGt9m"
      },
      "source": [
        "## Prediction"
      ]
    },
    {
      "cell_type": "markdown",
      "metadata": {},
      "source": [
        "Fist we need to calculate the matrix of ratings (Same step as in Machine Learning Phase)"
      ]
    },
    {
      "cell_type": "code",
      "execution_count": 117,
      "metadata": {
        "id": "WM_eQRo7Gt9m"
      },
      "outputs": [],
      "source": [
        "from sklearn import preprocessing\n",
        "dataset = preprocessing.scale(dataset)"
      ]
    },
    {
      "cell_type": "code",
      "execution_count": 118,
      "metadata": {
        "id": "ng1U6Nl6gN-k"
      },
      "outputs": [],
      "source": [
        "dataset = np.concatenate((dataset, np.ones((2830,1))), axis = 1)"
      ]
    },
    {
      "cell_type": "code",
      "execution_count": 119,
      "metadata": {
        "id": "I4lm2EYUGt9n"
      },
      "outputs": [],
      "source": [
        "ratings_matrix = np.matmul(np.concatenate((U,b), axis = 1), dataset.T)"
      ]
    },
    {
      "cell_type": "markdown",
      "metadata": {},
      "source": [
        "## Recommendation"
      ]
    },
    {
      "cell_type": "code",
      "execution_count": 120,
      "metadata": {
        "id": "FZWyOhM-Gt9n"
      },
      "outputs": [],
      "source": [
        "user = 10"
      ]
    },
    {
      "cell_type": "markdown",
      "metadata": {},
      "source": [
        "Predicted Rating of user"
      ]
    },
    {
      "cell_type": "code",
      "execution_count": 121,
      "metadata": {
        "colab": {
          "base_uri": "https://localhost:8080/"
        },
        "id": "dTjLQqbxGt9n",
        "outputId": "f5bc1b65-d3a3-4675-b0a2-fbbba6f92130"
      },
      "outputs": [
        {
          "data": {
            "text/plain": [
              "array([3.98410604, 3.97581129, 3.96737859, ..., 4.00973028, 3.99006628,\n",
              "       3.96936509])"
            ]
          },
          "execution_count": 121,
          "metadata": {},
          "output_type": "execute_result"
        }
      ],
      "source": [
        "ratings_matrix[user - 1]"
      ]
    },
    {
      "cell_type": "code",
      "execution_count": 122,
      "metadata": {
        "id": "l4Y6taftGt9o"
      },
      "outputs": [],
      "source": [
        "ratings_user_df = pd.DataFrame()"
      ]
    },
    {
      "cell_type": "code",
      "execution_count": 123,
      "metadata": {
        "id": "H0WRDuYpGt9o"
      },
      "outputs": [],
      "source": [
        "ratings_user_df['movie_Id'] = list(range(ratings_matrix[user - 1].size))\n",
        "ratings_user_df['movie_Id'] = ratings_user_df['movie_Id'].apply(lambda x: indexToId[x])\n",
        "ratings_user_df['rating'] = ratings_matrix[user - 1]"
      ]
    },
    {
      "cell_type": "code",
      "execution_count": 124,
      "metadata": {
        "colab": {
          "base_uri": "https://localhost:8080/"
        },
        "id": "1yFf47RFGt9o",
        "outputId": "aa9ec4a5-41de-4946-83a2-9d7a4a09ef7f"
      },
      "outputs": [
        {
          "data": {
            "text/plain": [
              "1016    4.023982\n",
              "2537    4.017939\n",
              "2743    4.017563\n",
              "2583    4.016156\n",
              "1908    4.015993\n",
              "          ...   \n",
              "1422    3.923036\n",
              "1721    3.922210\n",
              "710     3.918737\n",
              "2051    3.913459\n",
              "8       3.909853\n",
              "Name: rating, Length: 2830, dtype: float64"
            ]
          },
          "execution_count": 124,
          "metadata": {},
          "output_type": "execute_result"
        }
      ],
      "source": [
        "ratings_user_df['rating'].sort_values(ascending = False)"
      ]
    },
    {
      "cell_type": "markdown",
      "metadata": {
        "id": "MqDV3Qv3Gt9p"
      },
      "source": [
        "In the predicted ratings by user, drop the movies that they have seen"
      ]
    },
    {
      "cell_type": "code",
      "execution_count": 125,
      "metadata": {
        "id": "SrM3u5j3Gt9p"
      },
      "outputs": [],
      "source": [
        "movies_have_seen = ratings[ratings['userId'] == user]['movieId'].values"
      ]
    },
    {
      "cell_type": "code",
      "execution_count": 126,
      "metadata": {
        "colab": {
          "base_uri": "https://localhost:8080/"
        },
        "id": "HTpbwz17Gt9p",
        "outputId": "b2f49a8d-01e3-4de4-f6d5-b27dfc327c22"
      },
      "outputs": [
        {
          "data": {
            "text/plain": [
              "Int64Index([ 286,  382,  411,  524,  609,  636,  685,  747,  783, 1078, 1216,\n",
              "            1272, 1414, 1436, 1441, 1487, 1610, 1658, 1660, 1821, 2690],\n",
              "           dtype='int64')"
            ]
          },
          "execution_count": 126,
          "metadata": {},
          "output_type": "execute_result"
        }
      ],
      "source": [
        "ratings_user_df[ratings_user_df['movie_Id'].isin(movies_have_seen)].index"
      ]
    },
    {
      "cell_type": "code",
      "execution_count": 127,
      "metadata": {
        "id": "uEOs3iCnGt9p"
      },
      "outputs": [],
      "source": [
        "ratings_user_df.drop(ratings_user_df[ratings_user_df['movie_Id'].isin(movies_have_seen)].index, inplace = True)"
      ]
    },
    {
      "cell_type": "code",
      "execution_count": 128,
      "metadata": {
        "id": "FgV1nV6hGt9p"
      },
      "outputs": [],
      "source": [
        "indexToRecommend = ratings_user_df['rating'].sort_values(ascending = False)[0:20].index"
      ]
    },
    {
      "cell_type": "markdown",
      "metadata": {
        "id": "re5cNZy5Gt9q"
      },
      "source": [
        "Movie user have seen."
      ]
    },
    {
      "cell_type": "code",
      "execution_count": 129,
      "metadata": {
        "colab": {
          "base_uri": "https://localhost:8080/"
        },
        "id": "yggs4QBXGt9q",
        "outputId": "8cecf5a0-13c6-461e-d6f5-f76ea0236da6"
      },
      "outputs": [
        {
          "name": "stdout",
          "output_type": "stream",
          "text": [
            "Leon: The Professional\n",
            "The Maltese Falcon\n",
            "Con Air\n",
            "Scream 2\n",
            "Titanic\n",
            "Backdraft\n",
            "The Gift\n",
            "Shattered\n",
            "Mystic River\n",
            "In My Skin\n",
            "Aguirre: The Wrath of God\n",
            "Van Helsing\n",
            "Swimming to Cambodia\n",
            "The Rolling Stones: Gimme Shelter\n",
            "Mercy\n",
            "The Wages of Fear\n",
            "Zardoz\n",
            "Spring, Summer, Fall, Winter... and Spring\n",
            "The Leopard\n",
            "Fires on the Plain\n",
            "The Tunnel\n",
            "Charlie and the Chocolate Factory\n",
            "Cube Zero\n",
            "Underworld: Evolution\n",
            "Land of Plenty\n",
            "The Last King of Scotland\n",
            "Blood Diamond\n",
            "In the Name of the King: A Dungeon Siege Tale\n",
            "The Happening\n",
            "The Haunted Castle\n",
            "Samaritan Zatôichi\n",
            "Hotel Very Welcome\n",
            "The Message\n",
            "Carry On Doctor\n",
            "Devil in the Flesh\n",
            "Frankenstein Created Woman\n",
            "Travelling with Pets\n"
          ]
        }
      ],
      "source": [
        "for x in movies_have_seen:\n",
        "    if x in indexToId.keys():\n",
        "        if indexToId[x] in idToTitle.keys():\n",
        "            print(idToTitle[indexToId[x]])"
      ]
    },
    {
      "cell_type": "markdown",
      "metadata": {
        "id": "QeJ8hZi4Gt9q"
      },
      "source": [
        "Movie to recommend user"
      ]
    },
    {
      "cell_type": "code",
      "execution_count": 130,
      "metadata": {
        "colab": {
          "base_uri": "https://localhost:8080/"
        },
        "id": "P7KOmJR9Gt9q",
        "outputId": "f1ff1082-cf5e-4a95-c4c8-abadc4f5dc3c"
      },
      "outputs": [
        {
          "name": "stdout",
          "output_type": "stream",
          "text": [
            "Stevie\n",
            "Big Time\n",
            "It's Hard Being Loved by Jerks\n",
            "Daydream Believers: The Monkees Story\n",
            "Shine a Light\n",
            "Man with a Movie Camera\n",
            "Caesar Must Die\n",
            "A2\n",
            "Sunless\n",
            "The Road to Guantanamo\n",
            "Big River Man\n",
            "Children of Paradise\n",
            "Twenty Years Later\n",
            "The Other Side of Midnight\n",
            "Mother India\n",
            "The Weeping Camel\n",
            "A Star Is Born\n",
            "Catching Hell\n",
            "Beauty Is Embarrassing\n",
            "Budrus\n"
          ]
        }
      ],
      "source": [
        "for x in indexToRecommend:\n",
        "    print(idToTitle[indexToId[x]])"
      ]
    }
  ],
  "metadata": {
    "colab": {
      "collapsed_sections": [],
      "name": "recommender.ipynb",
      "provenance": []
    },
    "kernelspec": {
      "display_name": "Python 3.8.8 ('base')",
      "language": "python",
      "name": "python3"
    },
    "language_info": {
      "codemirror_mode": {
        "name": "ipython",
        "version": 3
      },
      "file_extension": ".py",
      "mimetype": "text/x-python",
      "name": "python",
      "nbconvert_exporter": "python",
      "pygments_lexer": "ipython3",
      "version": "3.8.8"
    },
    "orig_nbformat": 4,
    "vscode": {
      "interpreter": {
        "hash": "2043299c89c8cd0b4d1a6f5cf4529bd58e6a4e0fe3181a25e0d328c821cdc5c5"
      }
    }
  },
  "nbformat": 4,
  "nbformat_minor": 0
}
