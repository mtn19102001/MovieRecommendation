{
  "cells": [
    {
      "cell_type": "markdown",
      "metadata": {
        "id": "GDXTtyQ1Gt9Y"
      },
      "source": [
        "# Recommender"
      ]
    },
    {
      "cell_type": "markdown",
      "metadata": {
        "id": "BlcwqfqgGt9d"
      },
      "source": [
        "## Load User Models data"
      ]
    },
    {
      "cell_type": "code",
      "execution_count": 1,
      "metadata": {
        "id": "oaSldVC8Gt9e"
      },
      "outputs": [],
      "source": [
        "import warnings\n",
        "warnings.filterwarnings('ignore')"
      ]
    },
    {
      "cell_type": "code",
      "execution_count": 2,
      "metadata": {
        "id": "VNvuGPAVGt9f"
      },
      "outputs": [],
      "source": [
        "import os\n",
        "from ast import literal_eval\n",
        "import pandas as pd\n",
        "import numpy as np"
      ]
    },
    {
      "cell_type": "code",
      "execution_count": 3,
      "metadata": {
        "id": "_TF35yL9Gt9g"
      },
      "outputs": [],
      "source": [
        "os.chdir(\"../Dataset\")"
      ]
    },
    {
      "cell_type": "code",
      "execution_count": 4,
      "metadata": {
        "id": "jEqGxTU3Gt9g"
      },
      "outputs": [],
      "source": [
        "with open(\"ModelStorage/idToTitle.json\", \"r\") as file:\n",
        "    idToTitle = file.read()"
      ]
    },
    {
      "cell_type": "code",
      "execution_count": 5,
      "metadata": {
        "id": "WJ20yn1-Gt9h"
      },
      "outputs": [],
      "source": [
        "ratings = pd.read_csv(\"ratings_small.csv\")"
      ]
    },
    {
      "cell_type": "code",
      "execution_count": 6,
      "metadata": {
        "id": "bECl5t5EGt9h"
      },
      "outputs": [],
      "source": [
        "idToTitle = literal_eval(idToTitle)"
      ]
    },
    {
      "cell_type": "code",
      "execution_count": 7,
      "metadata": {
        "id": "2q__CNJRGt9i"
      },
      "outputs": [],
      "source": [
        "idToTitle = { int(k):v for k, v in idToTitle.items()}"
      ]
    },
    {
      "cell_type": "code",
      "execution_count": 8,
      "metadata": {
        "colab": {
          "base_uri": "https://localhost:8080/",
          "height": 36
        },
        "id": "EWS-lttcGt9j",
        "outputId": "512d48d0-2cf7-4ea4-daab-f9edd2695955"
      },
      "outputs": [
        {
          "data": {
            "text/plain": [
              "'Heat'"
            ]
          },
          "execution_count": 8,
          "metadata": {},
          "output_type": "execute_result"
        }
      ],
      "source": [
        "idToTitle[949]"
      ]
    },
    {
      "cell_type": "code",
      "execution_count": 9,
      "metadata": {
        "id": "ynB5rXmCGt9k"
      },
      "outputs": [],
      "source": [
        "dataset = pd.read_csv(\"FeatureExtracted/dataset.csv\")"
      ]
    },
    {
      "cell_type": "code",
      "execution_count": 10,
      "metadata": {
        "id": "WoMEfHdxGt9k"
      },
      "outputs": [],
      "source": [
        "dataset.drop('id', axis = 1, inplace = True)"
      ]
    },
    {
      "cell_type": "code",
      "execution_count": 11,
      "metadata": {
        "id": "A5jiwUcHGt9l"
      },
      "outputs": [],
      "source": [
        "with open(\"ModelStorage/indexToId.txt\", \"r\") as file:\n",
        "    indexToId = file.read()"
      ]
    },
    {
      "cell_type": "code",
      "execution_count": 12,
      "metadata": {
        "id": "1ojghzNfGt9l"
      },
      "outputs": [],
      "source": [
        "indexToId = literal_eval(indexToId)"
      ]
    },
    {
      "cell_type": "code",
      "execution_count": 13,
      "metadata": {
        "id": "TPCxlmfRGt9l"
      },
      "outputs": [],
      "source": [
        "with open(\"ModelStorage/idToIndex.txt\", \"r\") as file:\n",
        "    idToIndex = file.read()"
      ]
    },
    {
      "cell_type": "code",
      "execution_count": 14,
      "metadata": {
        "id": "Olk2KkcyGt9m"
      },
      "outputs": [],
      "source": [
        "idToIndex = literal_eval(idToIndex)"
      ]
    },
    {
      "cell_type": "code",
      "execution_count": 15,
      "metadata": {
        "id": "iwQwG8UvGt9m"
      },
      "outputs": [],
      "source": [
        "U = np.fromfile(\"ModelStorage/U.txt\").reshape((671,38))\n",
        "b = np.fromfile(\"ModelStorage/b.txt\").reshape((671,1))"
      ]
    },
    {
      "cell_type": "markdown",
      "metadata": {
        "id": "Acou3kSrGt9m"
      },
      "source": [
        "## Prediction"
      ]
    },
    {
      "cell_type": "markdown",
      "metadata": {
        "id": "IEkHCLPasAUX"
      },
      "source": [
        "Fist we need to calculate the matrix of ratings (Same step as in Machine Learning Phase of Classification Model)\n",
        "\n",
        "`Content_Based_Classification.ipynb` or `Content_Based_Classification_Colab.ipynb`"
      ]
    },
    {
      "cell_type": "code",
      "execution_count": 16,
      "metadata": {
        "id": "WM_eQRo7Gt9m"
      },
      "outputs": [],
      "source": [
        "from sklearn import preprocessing\n",
        "dataset = preprocessing.scale(dataset)"
      ]
    },
    {
      "cell_type": "code",
      "execution_count": 17,
      "metadata": {
        "id": "ng1U6Nl6gN-k"
      },
      "outputs": [],
      "source": [
        "dataset = np.concatenate((dataset, np.ones((2830,1))), axis = 1)"
      ]
    },
    {
      "cell_type": "code",
      "execution_count": 18,
      "metadata": {
        "id": "I4lm2EYUGt9n"
      },
      "outputs": [],
      "source": [
        "probs_matrix = np.matmul(np.concatenate((U,b), axis = 1), dataset.T)"
      ]
    },
    {
      "cell_type": "code",
      "execution_count": 19,
      "metadata": {
        "id": "tg-UzLNEypTp"
      },
      "outputs": [],
      "source": [
        "def sigmoid(x):\n",
        "    return 1 /(1 + 1 / np.exp(x))"
      ]
    },
    {
      "cell_type": "code",
      "execution_count": 20,
      "metadata": {
        "id": "I9AhIMKCI4u1"
      },
      "outputs": [],
      "source": [
        "probs_matrix = sigmoid(probs_matrix)"
      ]
    },
    {
      "cell_type": "markdown",
      "metadata": {
        "id": "cQET88gvsLnh"
      },
      "source": [
        "## Recommendation"
      ]
    },
    {
      "cell_type": "markdown",
      "metadata": {
        "id": "8cH234bys5Bo"
      },
      "source": [
        "Let's specify user id (From 0 to 670)"
      ]
    },
    {
      "cell_type": "code",
      "execution_count": 21,
      "metadata": {
        "id": "FZWyOhM-Gt9n"
      },
      "outputs": [],
      "source": [
        "user = 22"
      ]
    },
    {
      "cell_type": "code",
      "execution_count": 22,
      "metadata": {
        "colab": {
          "base_uri": "https://localhost:8080/"
        },
        "id": "dTjLQqbxGt9n",
        "outputId": "d71effb4-f073-4ea1-b32d-c83124ec2c29"
      },
      "outputs": [
        {
          "data": {
            "text/plain": [
              "array([0.47994519, 0.46313222, 0.41660993, ..., 0.46990951, 0.46955222,\n",
              "       0.49098539])"
            ]
          },
          "execution_count": 22,
          "metadata": {},
          "output_type": "execute_result"
        }
      ],
      "source": [
        "probs_matrix[user - 1]"
      ]
    },
    {
      "cell_type": "code",
      "execution_count": 23,
      "metadata": {
        "id": "l4Y6taftGt9o"
      },
      "outputs": [],
      "source": [
        "decision_user_df = pd.DataFrame()"
      ]
    },
    {
      "cell_type": "code",
      "execution_count": 24,
      "metadata": {
        "id": "H0WRDuYpGt9o"
      },
      "outputs": [],
      "source": [
        "decision_user_df['movie_Id'] = list(range(probs_matrix[user - 1].size))\n",
        "decision_user_df['movie_Id'] = decision_user_df['movie_Id'].apply(lambda x: indexToId[x])\n",
        "decision_user_df['shouldRecommend'] = probs_matrix[user - 1]"
      ]
    },
    {
      "cell_type": "markdown",
      "metadata": {
        "id": "BPeQJHzjsVZ3"
      },
      "source": [
        "Transform the probabilty: 1 if p>=0.5 else 0 \n",
        "\n",
        "1 means that user may rate 4.0 for the movie\n",
        "\n",
        "0 means lower than 4.0"
      ]
    },
    {
      "cell_type": "code",
      "execution_count": 25,
      "metadata": {
        "id": "v8H0aD_kOvDn"
      },
      "outputs": [],
      "source": [
        "decision_user_df['shouldRecommend'] = decision_user_df['shouldRecommend'].apply(lambda x: 1 if x>=0.5 else 0)"
      ]
    },
    {
      "cell_type": "code",
      "execution_count": 35,
      "metadata": {},
      "outputs": [
        {
          "data": {
            "text/html": [
              "<div>\n",
              "<style scoped>\n",
              "    .dataframe tbody tr th:only-of-type {\n",
              "        vertical-align: middle;\n",
              "    }\n",
              "\n",
              "    .dataframe tbody tr th {\n",
              "        vertical-align: top;\n",
              "    }\n",
              "\n",
              "    .dataframe thead th {\n",
              "        text-align: right;\n",
              "    }\n",
              "</style>\n",
              "<table border=\"1\" class=\"dataframe\">\n",
              "  <thead>\n",
              "    <tr style=\"text-align: right;\">\n",
              "      <th></th>\n",
              "      <th>movie_Id</th>\n",
              "      <th>shouldRecommend</th>\n",
              "    </tr>\n",
              "  </thead>\n",
              "  <tbody>\n",
              "    <tr>\n",
              "      <th>0</th>\n",
              "      <td>949</td>\n",
              "      <td>0</td>\n",
              "    </tr>\n",
              "    <tr>\n",
              "      <th>1</th>\n",
              "      <td>710</td>\n",
              "      <td>0</td>\n",
              "    </tr>\n",
              "    <tr>\n",
              "      <th>2</th>\n",
              "      <td>1408</td>\n",
              "      <td>0</td>\n",
              "    </tr>\n",
              "    <tr>\n",
              "      <th>3</th>\n",
              "      <td>524</td>\n",
              "      <td>0</td>\n",
              "    </tr>\n",
              "    <tr>\n",
              "      <th>4</th>\n",
              "      <td>4584</td>\n",
              "      <td>0</td>\n",
              "    </tr>\n",
              "    <tr>\n",
              "      <th>...</th>\n",
              "      <td>...</td>\n",
              "      <td>...</td>\n",
              "    </tr>\n",
              "    <tr>\n",
              "      <th>2825</th>\n",
              "      <td>80831</td>\n",
              "      <td>0</td>\n",
              "    </tr>\n",
              "    <tr>\n",
              "      <th>2826</th>\n",
              "      <td>3104</td>\n",
              "      <td>0</td>\n",
              "    </tr>\n",
              "    <tr>\n",
              "      <th>2827</th>\n",
              "      <td>64197</td>\n",
              "      <td>0</td>\n",
              "    </tr>\n",
              "    <tr>\n",
              "      <th>2828</th>\n",
              "      <td>98604</td>\n",
              "      <td>0</td>\n",
              "    </tr>\n",
              "    <tr>\n",
              "      <th>2829</th>\n",
              "      <td>49280</td>\n",
              "      <td>0</td>\n",
              "    </tr>\n",
              "  </tbody>\n",
              "</table>\n",
              "<p>2740 rows × 2 columns</p>\n",
              "</div>"
            ],
            "text/plain": [
              "      movie_Id  shouldRecommend\n",
              "0          949                0\n",
              "1          710                0\n",
              "2         1408                0\n",
              "3          524                0\n",
              "4         4584                0\n",
              "...        ...              ...\n",
              "2825     80831                0\n",
              "2826      3104                0\n",
              "2827     64197                0\n",
              "2828     98604                0\n",
              "2829     49280                0\n",
              "\n",
              "[2740 rows x 2 columns]"
            ]
          },
          "execution_count": 35,
          "metadata": {},
          "output_type": "execute_result"
        }
      ],
      "source": [
        "decision_user_df"
      ]
    },
    {
      "cell_type": "code",
      "execution_count": 33,
      "metadata": {
        "colab": {
          "base_uri": "https://localhost:8080/",
          "height": 423
        },
        "id": "1yFf47RFGt9o",
        "outputId": "ba2ad675-5025-48af-cbb4-75873b18cd28"
      },
      "outputs": [
        {
          "data": {
            "text/plain": [
              "0    2669\n",
              "1      71\n",
              "Name: shouldRecommend, dtype: int64"
            ]
          },
          "execution_count": 33,
          "metadata": {},
          "output_type": "execute_result"
        }
      ],
      "source": [
        "decision_user_df['shouldRecommend'].value_counts()"
      ]
    },
    {
      "cell_type": "markdown",
      "metadata": {
        "id": "MqDV3Qv3Gt9p"
      },
      "source": [
        "In the predicted `shouldRecommend`(pred rating >=4) for user, drop the movies that they have seen"
      ]
    },
    {
      "cell_type": "code",
      "execution_count": 27,
      "metadata": {
        "id": "SrM3u5j3Gt9p"
      },
      "outputs": [],
      "source": [
        "movies_have_seen = ratings[ratings['userId'] == user]['movieId'].values"
      ]
    },
    {
      "cell_type": "code",
      "execution_count": 28,
      "metadata": {
        "colab": {
          "base_uri": "https://localhost:8080/"
        },
        "id": "HTpbwz17Gt9p",
        "outputId": "1d20b649-0ef6-44db-d111-6eb7cf143d56"
      },
      "outputs": [
        {
          "data": {
            "text/plain": [
              "Int64Index([  37,   71,  102,  134,  174,  178,  249,  304,  351,  360,  395,\n",
              "             415,  416,  429,  448,  452,  456,  474,  475,  476,  491,  507,\n",
              "             537,  548,  572,  601,  609,  640,  645,  650,  652,  675,  685,\n",
              "             783,  802,  804,  810,  821,  824,  833,  861,  885,  898,  925,\n",
              "             950,  970, 1041, 1045, 1069, 1093, 1121, 1128, 1179, 1277, 1289,\n",
              "            1326, 1327, 1393, 1403, 1454, 1457, 1480, 1503, 1548, 1572, 1586,\n",
              "            1609, 1623, 1645, 1695, 1719, 1763, 1798, 1803, 1816, 1823, 1854,\n",
              "            1957, 1969, 1991, 2148, 2204, 2275, 2399, 2612, 2614, 2635, 2710,\n",
              "            2764, 2778],\n",
              "           dtype='int64')"
            ]
          },
          "execution_count": 28,
          "metadata": {},
          "output_type": "execute_result"
        }
      ],
      "source": [
        "decision_user_df[decision_user_df['movie_Id'].isin(movies_have_seen)].index"
      ]
    },
    {
      "cell_type": "code",
      "execution_count": 29,
      "metadata": {
        "id": "uEOs3iCnGt9p"
      },
      "outputs": [],
      "source": [
        "decision_user_df.drop(decision_user_df[decision_user_df['movie_Id'].isin(movies_have_seen)].index, inplace = True)"
      ]
    },
    {
      "cell_type": "code",
      "execution_count": 30,
      "metadata": {
        "id": "FgV1nV6hGt9p"
      },
      "outputs": [],
      "source": [
        "indexToRecommend = decision_user_df['shouldRecommend'].sort_values(ascending = False)[0:20].index"
      ]
    },
    {
      "cell_type": "markdown",
      "metadata": {
        "id": "re5cNZy5Gt9q"
      },
      "source": [
        "Movie user have seen."
      ]
    },
    {
      "cell_type": "code",
      "execution_count": 31,
      "metadata": {
        "colab": {
          "base_uri": "https://localhost:8080/"
        },
        "id": "yggs4QBXGt9q",
        "outputId": "2b1e5d03-3431-4853-bc54-8f23f6785105"
      },
      "outputs": [
        {
          "name": "stdout",
          "output_type": "stream",
          "text": [
            "Strange Days\n",
            "Mary Shelley's Frankenstein\n",
            "Natural Born Killers\n",
            "Once Were Warriors\n",
            "Timecop\n",
            "Sabrina\n",
            "Citizen Kane\n",
            "Spellbound\n",
            "Bringing Up Baby\n",
            "One Flew Over the Cuckoo's Nest\n",
            "Amadeus\n",
            "Das Boot\n",
            "The Manchurian Candidate\n",
            "Young Frankenstein\n",
            "Ben-Hur\n",
            "Sneakers\n",
            "Addicted to Love\n",
            "Welcome to Woop Woop\n",
            "Wild Things\n",
            "Rush Hour\n",
            "Elizabeth\n",
            "Armed and Dangerous\n",
            "Office Space\n",
            "The Thomas Crown Affair\n",
            "Only Angels Have Wings\n",
            "American Beauty\n",
            "Jakob the Liar\n",
            "Sleepy Hollow\n",
            "Babes in Toyland\n",
            "Maurice\n",
            "Backdraft\n",
            "The Fisher King\n",
            "El Dorado\n",
            "Gentlemen Prefer Blondes\n",
            "Lara Croft: Tomb Raider\n",
            "Ocean's Eleven\n",
            "All the President's Men\n",
            "Mystic River\n",
            "Man of Marble\n",
            "In My Skin\n",
            "Girl with a Pearl Earring\n",
            "Van Helsing\n",
            "The Rolling Stones: Gimme Shelter\n",
            "Mercy\n",
            "Fail-Safe\n",
            "The Miracle Worker\n",
            "The Wages of Fear\n",
            "Same Old Song\n",
            "Nostalgia\n",
            "Spring, Summer, Fall, Winter... and Spring\n",
            "Hiroshima Mon Amour\n",
            "Zatoichi\n",
            "Samsara\n",
            "The Leopard\n",
            "The Polar Express\n",
            "Un chien andalou\n",
            "The Last Hurrah\n",
            "Marlowe\n",
            "Claire's Knee\n",
            "Zabriskie Point\n",
            "Duel\n",
            "The Emigrants\n",
            "The Mad Adventures of Rabbi Jacob\n",
            "The Message\n",
            "Rumble Fish\n",
            "Batman Begins\n",
            "Hum Dil De Chuke Sanam\n",
            "Mahogany\n",
            "Sympathy for Lady Vengeance\n",
            "Failure to Launch\n",
            "Secrets of a Soul\n",
            "Silent Hill\n",
            "Ronja Robbersdaughter\n",
            "Borat: Cultural Learnings of America for Make Benefit Glorious Nation of Kazakhstan\n",
            "Eragon\n",
            "Rocky Balboa\n",
            "Dark Horse\n",
            "The Man in the Iron Mask\n",
            "Alvin and the Chipmunks\n",
            "Mongolian Ping Pong\n",
            "The Pope's Toilet\n",
            "The Chronicles of Narnia: Prince Caspian\n",
            "The Happening\n",
            "Terminator Salvation\n",
            "Franklyn\n",
            "Lorna's Silence\n",
            "Legionnaire\n",
            "Les Cousins\n",
            "Doppelganger\n",
            "Carancho\n",
            "Piranha 3DD\n",
            "The Mugger\n",
            "Wild Gals of the Naked West\n",
            "Les Misérables\n",
            "The Haunted\n",
            "Bill Burr: Let It Go\n",
            "Lotte from Gadgetville\n",
            "Three-Step Dance\n",
            "Three Quarter Moon\n",
            "The Boom\n",
            "Devil in the Flesh\n",
            "L'odore della notte\n",
            "Pure\n",
            "Don't Look Down\n",
            "A Dandy in Aspic\n",
            "Verlengd Weekend\n",
            "Windows on Monday\n",
            "Red Eagle\n",
            "Momentum\n",
            "The Accidental Gangster and the Mistaken Courtesean\n",
            "Blondie Goes Latin\n",
            "My Super Psycho Sweet 16: Part 2\n",
            "Die Wolke\n",
            "Circle of Love\n",
            "Van Gogh: Brush with Genius\n",
            "Fantasía... 3\n"
          ]
        }
      ],
      "source": [
        "for x in movies_have_seen:\n",
        "    if x in indexToId.keys():\n",
        "        if indexToId[x] in idToTitle.keys():\n",
        "            print(idToTitle[indexToId[x]])"
      ]
    },
    {
      "cell_type": "markdown",
      "metadata": {
        "id": "QeJ8hZi4Gt9q"
      },
      "source": [
        "Movie to recommend user"
      ]
    },
    {
      "cell_type": "code",
      "execution_count": 32,
      "metadata": {
        "colab": {
          "base_uri": "https://localhost:8080/"
        },
        "id": "P7KOmJR9Gt9q",
        "outputId": "6995a343-b32d-445b-9a93-8b4c80a2327b"
      },
      "outputs": [
        {
          "name": "stdout",
          "output_type": "stream",
          "text": [
            "Frankenstein 90\n",
            "Buck Rogers in the 25th Century\n",
            "At Risk\n",
            "Duel\n",
            "The Dark Knight\n",
            "Godzilla vs. Mechagodzilla II\n",
            "Godzilla vs. The Sea Monster\n",
            "Ghost Rider\n",
            "The Count of Monte-Cristo\n",
            "The Bodyguard\n",
            "Tuya's Marriage\n",
            "Read It and Weep\n",
            "Shark Kill\n",
            "Titanic\n",
            "The Day After\n",
            "Hulk\n",
            "Pirates of the Caribbean: The Curse of the Black Pearl\n",
            "Dollman vs. Demonic Toys\n",
            "Pirates of the Caribbean: On Stranger Tides\n",
            "Performance\n"
          ]
        }
      ],
      "source": [
        "for x in indexToRecommend:\n",
        "    print(idToTitle[indexToId[x]])"
      ]
    }
  ],
  "metadata": {
    "colab": {
      "collapsed_sections": [],
      "name": "recommender_classification_colab.ipynb",
      "provenance": []
    },
    "kernelspec": {
      "display_name": "Python 3.8.8 ('base')",
      "language": "python",
      "name": "python3"
    },
    "language_info": {
      "codemirror_mode": {
        "name": "ipython",
        "version": 3
      },
      "file_extension": ".py",
      "mimetype": "text/x-python",
      "name": "python",
      "nbconvert_exporter": "python",
      "pygments_lexer": "ipython3",
      "version": "3.8.8"
    },
    "orig_nbformat": 4,
    "vscode": {
      "interpreter": {
        "hash": "2043299c89c8cd0b4d1a6f5cf4529bd58e6a4e0fe3181a25e0d328c821cdc5c5"
      }
    }
  },
  "nbformat": 4,
  "nbformat_minor": 0
}
