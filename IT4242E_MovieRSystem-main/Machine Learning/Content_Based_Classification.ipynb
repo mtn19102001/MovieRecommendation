{
  "cells": [
    {
      "cell_type": "code",
      "execution_count": 1,
      "metadata": {
        "colab": {
          "base_uri": "https://localhost:8080/"
        },
        "id": "8GpiO68LF-d3",
        "outputId": "2db17239-d842-43fe-ca7e-5a2312d1316c"
      },
      "outputs": [
        {
          "name": "stderr",
          "output_type": "stream",
          "text": [
            "c:\\Users\\Admin\\anaconda3\\lib\\site-packages\\torchvision\\io\\image.py:11: UserWarning: Failed to load image Python extension: Could not find module 'C:\\Users\\Admin\\anaconda3\\Lib\\site-packages\\torchvision\\image.pyd' (or one of its dependencies). Try using the full path with constructor syntax.\n",
            "  warn(f\"Failed to load image Python extension: {e}\")\n"
          ]
        }
      ],
      "source": [
        "from torchmetrics import Accuracy"
      ]
    },
    {
      "cell_type": "code",
      "execution_count": 2,
      "metadata": {
        "id": "nBCiXDMzkdto"
      },
      "outputs": [],
      "source": [
        "import warnings\n",
        "warnings.filterwarnings('ignore')\n",
        "import pandas as pd\n",
        "import numpy as np\n",
        "import os\n",
        "import json\n",
        "import matplotlib.pyplot as plt"
      ]
    },
    {
      "cell_type": "code",
      "execution_count": 3,
      "metadata": {
        "id": "EXS44fd5krnI"
      },
      "outputs": [],
      "source": [
        "os.chdir(\"../Dataset\")"
      ]
    },
    {
      "cell_type": "code",
      "execution_count": 4,
      "metadata": {
        "id": "1iojVoORkiUZ"
      },
      "outputs": [],
      "source": [
        "dataset = pd.read_csv(\"FeatureExtracted/dataset.csv\")\n",
        "ratings_train = pd.read_csv(\"CleanedData/ratings_train.csv\")\n",
        "ratings_test = pd.read_csv(\"CleanedData/ratings_test.csv\")"
      ]
    },
    {
      "cell_type": "markdown",
      "metadata": {
        "id": "Z6k5rKc9k720"
      },
      "source": [
        "## Content-Based Recommendation System - Pytorch"
      ]
    },
    {
      "cell_type": "code",
      "execution_count": 5,
      "metadata": {
        "id": "uP9PPs_wlVQK"
      },
      "outputs": [],
      "source": [
        "import torch\n",
        "import torch.nn as nn\n",
        "import torch.nn.functional as F\n",
        "# import torchvision\n",
        "# import torchvision.transforms as transforms"
      ]
    },
    {
      "cell_type": "markdown",
      "metadata": {
        "id": "6lK_ZxPsmHwG"
      },
      "source": [
        "### Make Dataset For Train"
      ]
    },
    {
      "cell_type": "markdown",
      "metadata": {
        "id": "iHRVh4KHnF2N"
      },
      "source": [
        "There are 671 users"
      ]
    },
    {
      "cell_type": "code",
      "execution_count": 6,
      "metadata": {
        "colab": {
          "base_uri": "https://localhost:8080/"
        },
        "id": "jwQUxcCZmly4",
        "outputId": "043ec047-af33-4366-aeb8-5aa09fca2033"
      },
      "outputs": [
        {
          "name": "stdout",
          "output_type": "stream",
          "text": [
            "671\n"
          ]
        }
      ],
      "source": [
        "len_users = len(ratings_train['userId'].unique())\n",
        "print(len_users)"
      ]
    },
    {
      "cell_type": "markdown",
      "metadata": {
        "id": "daUnLGdnnNSO"
      },
      "source": [
        "2830 movies"
      ]
    },
    {
      "cell_type": "code",
      "execution_count": 7,
      "metadata": {
        "colab": {
          "base_uri": "https://localhost:8080/"
        },
        "id": "qn7CGKI8nIXN",
        "outputId": "d72ef2ed-8c4e-4e22-a069-f165f68a839d"
      },
      "outputs": [
        {
          "name": "stdout",
          "output_type": "stream",
          "text": [
            "2830\n"
          ]
        }
      ],
      "source": [
        "len_dataset = len(dataset)\n",
        "print(len_dataset)"
      ]
    },
    {
      "cell_type": "markdown",
      "metadata": {
        "id": "05nl88knoDCp"
      },
      "source": [
        "We need to save the id for later recommendation"
      ]
    },
    {
      "cell_type": "code",
      "execution_count": 8,
      "metadata": {
        "colab": {
          "base_uri": "https://localhost:8080/",
          "height": 505
        },
        "id": "Et32VfWBnwF8",
        "outputId": "37038c97-da30-4517-8a82-491d38002379"
      },
      "outputs": [
        {
          "data": {
            "text/html": [
              "<div>\n",
              "<style scoped>\n",
              "    .dataframe tbody tr th:only-of-type {\n",
              "        vertical-align: middle;\n",
              "    }\n",
              "\n",
              "    .dataframe tbody tr th {\n",
              "        vertical-align: top;\n",
              "    }\n",
              "\n",
              "    .dataframe thead th {\n",
              "        text-align: right;\n",
              "    }\n",
              "</style>\n",
              "<table border=\"1\" class=\"dataframe\">\n",
              "  <thead>\n",
              "    <tr style=\"text-align: right;\">\n",
              "      <th></th>\n",
              "      <th>budget</th>\n",
              "      <th>id</th>\n",
              "      <th>runtime</th>\n",
              "      <th>revenue</th>\n",
              "      <th>vote_average</th>\n",
              "      <th>vote_count</th>\n",
              "      <th>CastsRank</th>\n",
              "      <th>NumLeadActors</th>\n",
              "      <th>HasTop50Actors</th>\n",
              "      <th>NumCrews</th>\n",
              "      <th>...</th>\n",
              "      <th>History</th>\n",
              "      <th>Horror</th>\n",
              "      <th>Music</th>\n",
              "      <th>Mystery</th>\n",
              "      <th>Romance</th>\n",
              "      <th>Science Fiction</th>\n",
              "      <th>TV Movie</th>\n",
              "      <th>Thriller</th>\n",
              "      <th>War</th>\n",
              "      <th>Western</th>\n",
              "    </tr>\n",
              "  </thead>\n",
              "  <tbody>\n",
              "    <tr>\n",
              "      <th>0</th>\n",
              "      <td>60000000</td>\n",
              "      <td>949</td>\n",
              "      <td>170.0</td>\n",
              "      <td>187436818.0</td>\n",
              "      <td>7.7</td>\n",
              "      <td>1886.0</td>\n",
              "      <td>13852</td>\n",
              "      <td>3</td>\n",
              "      <td>0</td>\n",
              "      <td>71</td>\n",
              "      <td>...</td>\n",
              "      <td>0</td>\n",
              "      <td>0</td>\n",
              "      <td>0</td>\n",
              "      <td>0</td>\n",
              "      <td>0</td>\n",
              "      <td>0</td>\n",
              "      <td>0</td>\n",
              "      <td>1</td>\n",
              "      <td>0</td>\n",
              "      <td>0</td>\n",
              "    </tr>\n",
              "    <tr>\n",
              "      <th>1</th>\n",
              "      <td>58000000</td>\n",
              "      <td>710</td>\n",
              "      <td>130.0</td>\n",
              "      <td>352194034.0</td>\n",
              "      <td>6.6</td>\n",
              "      <td>1194.0</td>\n",
              "      <td>5916</td>\n",
              "      <td>3</td>\n",
              "      <td>1</td>\n",
              "      <td>46</td>\n",
              "      <td>...</td>\n",
              "      <td>0</td>\n",
              "      <td>0</td>\n",
              "      <td>0</td>\n",
              "      <td>0</td>\n",
              "      <td>0</td>\n",
              "      <td>0</td>\n",
              "      <td>0</td>\n",
              "      <td>1</td>\n",
              "      <td>0</td>\n",
              "      <td>0</td>\n",
              "    </tr>\n",
              "    <tr>\n",
              "      <th>2</th>\n",
              "      <td>98000000</td>\n",
              "      <td>1408</td>\n",
              "      <td>119.0</td>\n",
              "      <td>10017322.0</td>\n",
              "      <td>5.7</td>\n",
              "      <td>137.0</td>\n",
              "      <td>3481</td>\n",
              "      <td>0</td>\n",
              "      <td>0</td>\n",
              "      <td>16</td>\n",
              "      <td>...</td>\n",
              "      <td>0</td>\n",
              "      <td>0</td>\n",
              "      <td>0</td>\n",
              "      <td>0</td>\n",
              "      <td>0</td>\n",
              "      <td>0</td>\n",
              "      <td>0</td>\n",
              "      <td>0</td>\n",
              "      <td>0</td>\n",
              "      <td>0</td>\n",
              "    </tr>\n",
              "    <tr>\n",
              "      <th>3</th>\n",
              "      <td>52000000</td>\n",
              "      <td>524</td>\n",
              "      <td>178.0</td>\n",
              "      <td>116112375.0</td>\n",
              "      <td>7.8</td>\n",
              "      <td>1343.0</td>\n",
              "      <td>6894</td>\n",
              "      <td>0</td>\n",
              "      <td>0</td>\n",
              "      <td>10</td>\n",
              "      <td>...</td>\n",
              "      <td>0</td>\n",
              "      <td>0</td>\n",
              "      <td>0</td>\n",
              "      <td>0</td>\n",
              "      <td>0</td>\n",
              "      <td>0</td>\n",
              "      <td>0</td>\n",
              "      <td>0</td>\n",
              "      <td>0</td>\n",
              "      <td>0</td>\n",
              "    </tr>\n",
              "    <tr>\n",
              "      <th>4</th>\n",
              "      <td>16500000</td>\n",
              "      <td>4584</td>\n",
              "      <td>136.0</td>\n",
              "      <td>135000000.0</td>\n",
              "      <td>7.2</td>\n",
              "      <td>364.0</td>\n",
              "      <td>4392</td>\n",
              "      <td>2</td>\n",
              "      <td>1</td>\n",
              "      <td>8</td>\n",
              "      <td>...</td>\n",
              "      <td>0</td>\n",
              "      <td>0</td>\n",
              "      <td>0</td>\n",
              "      <td>0</td>\n",
              "      <td>1</td>\n",
              "      <td>0</td>\n",
              "      <td>0</td>\n",
              "      <td>0</td>\n",
              "      <td>0</td>\n",
              "      <td>0</td>\n",
              "    </tr>\n",
              "    <tr>\n",
              "      <th>...</th>\n",
              "      <td>...</td>\n",
              "      <td>...</td>\n",
              "      <td>...</td>\n",
              "      <td>...</td>\n",
              "      <td>...</td>\n",
              "      <td>...</td>\n",
              "      <td>...</td>\n",
              "      <td>...</td>\n",
              "      <td>...</td>\n",
              "      <td>...</td>\n",
              "      <td>...</td>\n",
              "      <td>...</td>\n",
              "      <td>...</td>\n",
              "      <td>...</td>\n",
              "      <td>...</td>\n",
              "      <td>...</td>\n",
              "      <td>...</td>\n",
              "      <td>...</td>\n",
              "      <td>...</td>\n",
              "      <td>...</td>\n",
              "      <td>...</td>\n",
              "    </tr>\n",
              "    <tr>\n",
              "      <th>2825</th>\n",
              "      <td>0</td>\n",
              "      <td>80831</td>\n",
              "      <td>121.0</td>\n",
              "      <td>0.0</td>\n",
              "      <td>6.5</td>\n",
              "      <td>2.0</td>\n",
              "      <td>1374</td>\n",
              "      <td>0</td>\n",
              "      <td>0</td>\n",
              "      <td>4</td>\n",
              "      <td>...</td>\n",
              "      <td>0</td>\n",
              "      <td>0</td>\n",
              "      <td>0</td>\n",
              "      <td>0</td>\n",
              "      <td>0</td>\n",
              "      <td>0</td>\n",
              "      <td>0</td>\n",
              "      <td>0</td>\n",
              "      <td>0</td>\n",
              "      <td>0</td>\n",
              "    </tr>\n",
              "    <tr>\n",
              "      <th>2826</th>\n",
              "      <td>0</td>\n",
              "      <td>3104</td>\n",
              "      <td>92.0</td>\n",
              "      <td>0.0</td>\n",
              "      <td>5.9</td>\n",
              "      <td>33.0</td>\n",
              "      <td>1054</td>\n",
              "      <td>0</td>\n",
              "      <td>0</td>\n",
              "      <td>11</td>\n",
              "      <td>...</td>\n",
              "      <td>0</td>\n",
              "      <td>1</td>\n",
              "      <td>0</td>\n",
              "      <td>0</td>\n",
              "      <td>0</td>\n",
              "      <td>1</td>\n",
              "      <td>0</td>\n",
              "      <td>0</td>\n",
              "      <td>0</td>\n",
              "      <td>0</td>\n",
              "    </tr>\n",
              "    <tr>\n",
              "      <th>2827</th>\n",
              "      <td>0</td>\n",
              "      <td>64197</td>\n",
              "      <td>97.0</td>\n",
              "      <td>0.0</td>\n",
              "      <td>6.0</td>\n",
              "      <td>5.0</td>\n",
              "      <td>729</td>\n",
              "      <td>0</td>\n",
              "      <td>0</td>\n",
              "      <td>4</td>\n",
              "      <td>...</td>\n",
              "      <td>0</td>\n",
              "      <td>0</td>\n",
              "      <td>0</td>\n",
              "      <td>0</td>\n",
              "      <td>1</td>\n",
              "      <td>0</td>\n",
              "      <td>0</td>\n",
              "      <td>0</td>\n",
              "      <td>0</td>\n",
              "      <td>0</td>\n",
              "    </tr>\n",
              "    <tr>\n",
              "      <th>2828</th>\n",
              "      <td>0</td>\n",
              "      <td>98604</td>\n",
              "      <td>91.0</td>\n",
              "      <td>0.0</td>\n",
              "      <td>4.6</td>\n",
              "      <td>6.0</td>\n",
              "      <td>2385</td>\n",
              "      <td>0</td>\n",
              "      <td>0</td>\n",
              "      <td>4</td>\n",
              "      <td>...</td>\n",
              "      <td>0</td>\n",
              "      <td>0</td>\n",
              "      <td>0</td>\n",
              "      <td>0</td>\n",
              "      <td>1</td>\n",
              "      <td>0</td>\n",
              "      <td>0</td>\n",
              "      <td>0</td>\n",
              "      <td>0</td>\n",
              "      <td>0</td>\n",
              "    </tr>\n",
              "    <tr>\n",
              "      <th>2829</th>\n",
              "      <td>0</td>\n",
              "      <td>49280</td>\n",
              "      <td>1.0</td>\n",
              "      <td>0.0</td>\n",
              "      <td>6.5</td>\n",
              "      <td>22.0</td>\n",
              "      <td>123</td>\n",
              "      <td>0</td>\n",
              "      <td>0</td>\n",
              "      <td>1</td>\n",
              "      <td>...</td>\n",
              "      <td>0</td>\n",
              "      <td>0</td>\n",
              "      <td>0</td>\n",
              "      <td>0</td>\n",
              "      <td>0</td>\n",
              "      <td>0</td>\n",
              "      <td>0</td>\n",
              "      <td>1</td>\n",
              "      <td>0</td>\n",
              "      <td>0</td>\n",
              "    </tr>\n",
              "  </tbody>\n",
              "</table>\n",
              "<p>2830 rows × 39 columns</p>\n",
              "</div>"
            ],
            "text/plain": [
              "        budget     id  runtime      revenue  vote_average  vote_count  \\\n",
              "0     60000000    949    170.0  187436818.0           7.7      1886.0   \n",
              "1     58000000    710    130.0  352194034.0           6.6      1194.0   \n",
              "2     98000000   1408    119.0   10017322.0           5.7       137.0   \n",
              "3     52000000    524    178.0  116112375.0           7.8      1343.0   \n",
              "4     16500000   4584    136.0  135000000.0           7.2       364.0   \n",
              "...        ...    ...      ...          ...           ...         ...   \n",
              "2825         0  80831    121.0          0.0           6.5         2.0   \n",
              "2826         0   3104     92.0          0.0           5.9        33.0   \n",
              "2827         0  64197     97.0          0.0           6.0         5.0   \n",
              "2828         0  98604     91.0          0.0           4.6         6.0   \n",
              "2829         0  49280      1.0          0.0           6.5        22.0   \n",
              "\n",
              "      CastsRank  NumLeadActors  HasTop50Actors  NumCrews  ...  History  \\\n",
              "0         13852              3               0        71  ...        0   \n",
              "1          5916              3               1        46  ...        0   \n",
              "2          3481              0               0        16  ...        0   \n",
              "3          6894              0               0        10  ...        0   \n",
              "4          4392              2               1         8  ...        0   \n",
              "...         ...            ...             ...       ...  ...      ...   \n",
              "2825       1374              0               0         4  ...        0   \n",
              "2826       1054              0               0        11  ...        0   \n",
              "2827        729              0               0         4  ...        0   \n",
              "2828       2385              0               0         4  ...        0   \n",
              "2829        123              0               0         1  ...        0   \n",
              "\n",
              "      Horror  Music  Mystery  Romance  Science Fiction  TV Movie  Thriller  \\\n",
              "0          0      0        0        0                0         0         1   \n",
              "1          0      0        0        0                0         0         1   \n",
              "2          0      0        0        0                0         0         0   \n",
              "3          0      0        0        0                0         0         0   \n",
              "4          0      0        0        1                0         0         0   \n",
              "...      ...    ...      ...      ...              ...       ...       ...   \n",
              "2825       0      0        0        0                0         0         0   \n",
              "2826       1      0        0        0                1         0         0   \n",
              "2827       0      0        0        1                0         0         0   \n",
              "2828       0      0        0        1                0         0         0   \n",
              "2829       0      0        0        0                0         0         1   \n",
              "\n",
              "      War  Western  \n",
              "0       0        0  \n",
              "1       0        0  \n",
              "2       0        0  \n",
              "3       0        0  \n",
              "4       0        0  \n",
              "...   ...      ...  \n",
              "2825    0        0  \n",
              "2826    0        0  \n",
              "2827    0        0  \n",
              "2828    0        0  \n",
              "2829    0        0  \n",
              "\n",
              "[2830 rows x 39 columns]"
            ]
          },
          "execution_count": 8,
          "metadata": {},
          "output_type": "execute_result"
        }
      ],
      "source": [
        "dataset"
      ]
    },
    {
      "cell_type": "code",
      "execution_count": 9,
      "metadata": {
        "id": "Bs0TVnKboIt7"
      },
      "outputs": [],
      "source": [
        "indexToId = dict(zip(dataset.index, dataset['id']))\n",
        "idToIndex = dict(zip(dataset['id'], dataset.index))"
      ]
    },
    {
      "cell_type": "code",
      "execution_count": 10,
      "metadata": {
        "colab": {
          "base_uri": "https://localhost:8080/"
        },
        "id": "HHTw-2JnoUkD",
        "outputId": "8c35cb9f-7bf3-4a7c-9349-c53c0878b33b"
      },
      "outputs": [
        {
          "data": {
            "text/plain": [
              "949"
            ]
          },
          "execution_count": 10,
          "metadata": {},
          "output_type": "execute_result"
        }
      ],
      "source": [
        "indexToId[0]"
      ]
    },
    {
      "cell_type": "code",
      "execution_count": 11,
      "metadata": {
        "id": "0haQ_ZQfocEf"
      },
      "outputs": [],
      "source": [
        "dataset.drop(columns = ['id'], inplace = True)"
      ]
    },
    {
      "cell_type": "code",
      "execution_count": 12,
      "metadata": {
        "id": "RPDj7O4HJKz5"
      },
      "outputs": [],
      "source": [
        "from sklearn import preprocessing"
      ]
    },
    {
      "cell_type": "code",
      "execution_count": 13,
      "metadata": {
        "id": "ZtLdMonHKIrh"
      },
      "outputs": [],
      "source": [
        "dataset = preprocessing.scale(dataset)"
      ]
    },
    {
      "cell_type": "code",
      "execution_count": 14,
      "metadata": {
        "id": "f9WxSPJT_m2z"
      },
      "outputs": [],
      "source": [
        "len_features = dataset.shape[1]"
      ]
    },
    {
      "cell_type": "markdown",
      "metadata": {
        "id": "8LOrXg1Ep1zR"
      },
      "source": [
        "Test Transfrom Metadata Movies Dataframe to Tensor"
      ]
    },
    {
      "cell_type": "code",
      "execution_count": 15,
      "metadata": {
        "id": "lCdA5Bq2pSYm"
      },
      "outputs": [],
      "source": [
        "movies_tensor = torch.tensor(dataset, requires_grad= False)"
      ]
    },
    {
      "cell_type": "markdown",
      "metadata": {
        "id": "sgy1cJVkp4mH"
      },
      "source": [
        "Test Transform Ratings to Sparse Tensor"
      ]
    },
    {
      "cell_type": "code",
      "execution_count": 16,
      "metadata": {
        "id": "zfVG0vXlqeUg"
      },
      "outputs": [],
      "source": [
        "ratings_train[\"movieId\"] = ratings_train[\"movieId\"].apply(lambda x: idToIndex[x])"
      ]
    },
    {
      "cell_type": "code",
      "execution_count": 17,
      "metadata": {
        "id": "P0GDITByrarE"
      },
      "outputs": [],
      "source": [
        "ratings_test[\"movieId\"] = ratings_test[\"movieId\"].apply(lambda x: idToIndex[x])"
      ]
    },
    {
      "cell_type": "code",
      "execution_count": 18,
      "metadata": {
        "colab": {
          "base_uri": "https://localhost:8080/"
        },
        "id": "sK9aLxXEqZTJ",
        "outputId": "0f1c2504-1e23-4c29-a921-4378360a94a5"
      },
      "outputs": [
        {
          "data": {
            "text/plain": [
              "True"
            ]
          },
          "execution_count": 18,
          "metadata": {},
          "output_type": "execute_result"
        }
      ],
      "source": [
        "len(ratings_train['userId'].unique()) == len(ratings_test['userId'].unique())"
      ]
    },
    {
      "cell_type": "code",
      "execution_count": 19,
      "metadata": {
        "id": "1FpqymVAsGIX"
      },
      "outputs": [],
      "source": [
        "ratings_train[\"userId\"] = ratings_train[\"userId\"].apply(lambda x: x - 1)\n",
        "ratings_test[\"userId\"] = ratings_test[\"userId\"].apply(lambda x: x - 1)"
      ]
    },
    {
      "cell_type": "code",
      "execution_count": 20,
      "metadata": {
        "id": "1Cqd1dV5p1D0"
      },
      "outputs": [],
      "source": [
        "ratings_tensor = torch.sparse_coo_tensor([ratings_train['userId'], ratings_train['movieId']], ratings_train['rating'], (len_users, len_dataset))"
      ]
    },
    {
      "cell_type": "markdown",
      "metadata": {
        "id": "IaFwcoPGtQ9s"
      },
      "source": [
        "All works normally!\n",
        "\n",
        "Now we will put all those codes into one block"
      ]
    },
    {
      "cell_type": "markdown",
      "metadata": {
        "id": "_fjdj_1KpRxB"
      },
      "source": [
        "Rating larger than 4.0 will be assigned by **2** else **1**. 2 and 1 because we want to avoid the misunderstanding of library with 0 for the unrated one"
      ]
    },
    {
      "cell_type": "code",
      "execution_count": 21,
      "metadata": {
        "id": "ORa5my2dDzlI"
      },
      "outputs": [],
      "source": [
        "ratings_train['rating'] = ratings_train['rating'].apply(lambda x: 2 if x >= 4 else 1)\n",
        "ratings_test['rating'] = ratings_test['rating'].apply(lambda x: 2 if x >= 4 else 1)"
      ]
    },
    {
      "cell_type": "markdown",
      "metadata": {
        "id": "JOLYiTAeKYu7"
      },
      "source": [
        "Convert dataset to Tensor data structure"
      ]
    },
    {
      "cell_type": "code",
      "execution_count": 22,
      "metadata": {
        "id": "dPoOLXdiuEaI"
      },
      "outputs": [],
      "source": [
        "movies_tensor = torch.tensor(dataset, requires_grad= False)\n",
        "movies_tensor = torch.cat((movies_tensor, torch.ones(len_dataset, 1, dtype = torch.float64)), axis = 1)\n",
        "ratings_train_tensor = torch.sparse_coo_tensor([ratings_train['userId'],\\\n",
        "                                                     ratings_train['movieId']],\\\n",
        "                                                     ratings_train['rating'], (len_users, len_dataset))\n",
        "ratings_test_tensor = torch.sparse_coo_tensor([ratings_test['userId'],\\\n",
        "                                                     ratings_test['movieId']],\\\n",
        "                                                     ratings_test['rating'], (len_users, len_dataset))\n",
        "\n",
        "ratings_train_tensor = ratings_train_tensor.to_dense()\n",
        "ratings_test_tensor = ratings_test_tensor.to_dense()"
      ]
    },
    {
      "cell_type": "code",
      "execution_count": 23,
      "metadata": {
        "id": "l4xf3ae7ur7s"
      },
      "outputs": [],
      "source": [
        "from torch.autograd import Variable"
      ]
    },
    {
      "cell_type": "code",
      "execution_count": 24,
      "metadata": {
        "colab": {
          "base_uri": "https://localhost:8080/"
        },
        "id": "YQkPDoq4xlIt",
        "outputId": "6e3ce319-e5cd-4f18-acd5-6895fae44a05"
      },
      "outputs": [
        {
          "data": {
            "text/plain": [
              "tensor(1)"
            ]
          },
          "execution_count": 24,
          "metadata": {},
          "output_type": "execute_result"
        }
      ],
      "source": [
        "ratings_train_tensor[0][474]"
      ]
    },
    {
      "cell_type": "markdown",
      "metadata": {
        "id": "0L0c6SXJv9WX"
      },
      "source": [
        "### Train"
      ]
    },
    {
      "cell_type": "markdown",
      "metadata": {
        "id": "9X53qYJbAfBa"
      },
      "source": [
        "We proposed a Regression Model for predicting Ratings\n",
        "\n",
        "To predict the rate from user model $U$ and movies profiles $M$:\n",
        "\n",
        "$U$ * $M^\\top$ = $\\hat{R}$ \n",
        "\n",
        "$L = BCE(\\hat{R}, R)$ for all movies that have rated \n",
        "\n",
        "Find the partial derivatives for matrix $U$ : $ \\dfrac{\\partial L}{\\partial U} $\n",
        "\n",
        "Update $U$ based on $ \\dfrac{\\partial L}{\\partial U} $"
      ]
    },
    {
      "cell_type": "markdown",
      "metadata": {
        "id": "V0Hk-5ctEfa2"
      },
      "source": [
        "To calculate derivatives, we use **Autograd** of ***Pytorch***"
      ]
    },
    {
      "cell_type": "code",
      "execution_count": 25,
      "metadata": {
        "colab": {
          "base_uri": "https://localhost:8080/",
          "height": 36
        },
        "id": "esuVsSYYL8C-",
        "outputId": "b1e7e26f-dc7d-4b6a-c2c5-e64629e7a4f2"
      },
      "outputs": [
        {
          "data": {
            "text/plain": [
              "'\\nAutograd example\\n'"
            ]
          },
          "execution_count": 25,
          "metadata": {},
          "output_type": "execute_result"
        }
      ],
      "source": [
        "\"\"\"\n",
        "Autograd example\n",
        "\"\"\"\n",
        "# ratings_pred = torch.matmul(torch.cat((U, b), axis = 1), movies_tensor.T)\n",
        "# mask = ratings_train_tensor.bool()\n",
        "# nonzero_pred = F.sigmoid(ratings_pred.masked_select(mask))\n",
        "# nonzero_train = ratings_train_tensor.masked_select(mask)\n",
        "# loss = criterion(nonzero_pred, nonzero_train)\n",
        "# loss.backward()"
      ]
    },
    {
      "cell_type": "code",
      "execution_count": 26,
      "metadata": {
        "id": "ZyYP-YPCIwH2"
      },
      "outputs": [],
      "source": [
        "U = Variable(torch.randn(len_users, len_features, dtype = torch.float64), requires_grad=True)\n",
        "b = Variable(torch.randn(len_users, 1, dtype = torch.float64), requires_grad=True)"
      ]
    },
    {
      "cell_type": "markdown",
      "metadata": {
        "id": "HUHgQL2eD95N"
      },
      "source": [
        "Here we use BCELoss (**Binary Cross Entropy Loss**) for classification 0 and 1\n",
        "\n",
        "Metrics use is `accuracy`."
      ]
    },
    {
      "cell_type": "code",
      "execution_count": 27,
      "metadata": {
        "id": "m3oji6TMIC6g"
      },
      "outputs": [],
      "source": [
        "criterion = nn.BCELoss()\n",
        "optimizer = torch.optim.Adam([U], lr = 0.005)\n",
        "optimizer.add_param_group({'params': b, \"lr\": 0.005, \"weight_decay\": 0})"
      ]
    },
    {
      "cell_type": "code",
      "execution_count": 28,
      "metadata": {
        "id": "xJ_-m9TmLk0x"
      },
      "outputs": [],
      "source": [
        "from tqdm.notebook import tqdm"
      ]
    },
    {
      "cell_type": "code",
      "execution_count": 29,
      "metadata": {
        "id": "GMgm2bhOU4OM"
      },
      "outputs": [],
      "source": [
        "bestU = None\n",
        "bestb = None\n",
        "maxAcc = 0.0"
      ]
    },
    {
      "cell_type": "markdown",
      "metadata": {
        "id": "IUx-KhHQVkda"
      },
      "source": [
        "First try 3001 loop without regulization, lr = 0.005"
      ]
    },
    {
      "cell_type": "code",
      "execution_count": 30,
      "metadata": {
        "colab": {
          "base_uri": "https://localhost:8080/",
          "height": 1000,
          "referenced_widgets": [
            "bbaddceaf77f45e18e8941852226ddf7",
            "2ee2a8fcce10495594ff3133d2b4a107",
            "c6e0cd7b878b49df8fa8e1be2f2d86b0",
            "a3f93c95217d461a985398038d55af96",
            "bf4fbf2daa534d18ac24bc1da8f62f9f",
            "025818dd89214501990773f400e1722a",
            "ef5c6765d9534ae7b17d6b3a5d6a89e5",
            "8db4bac184854e87a1b0225a02b7d54d",
            "ecb56abfa1d3455f90317a38b79455e9",
            "1297cad86e2346dd93a7ecc7e0889f92",
            "e1470a7c0bc64c349a8bbc54bf2228fa"
          ]
        },
        "id": "Z6zLIEjrIG9l",
        "outputId": "c9d937ee-4a31-4208-f27f-559c57b5de40"
      },
      "outputs": [
        {
          "data": {
            "application/vnd.jupyter.widget-view+json": {
              "model_id": "252e4fcb15074d4a8c0ce1638d4b0ce2",
              "version_major": 2,
              "version_minor": 0
            },
            "text/plain": [
              "  0%|          | 0/3001 [00:00<?, ?it/s]"
            ]
          },
          "metadata": {},
          "output_type": "display_data"
        },
        {
          "name": "stdout",
          "output_type": "stream",
          "text": [
            "Epoch: 0. Train Loss: 2.5659123538704156. Train Acc: 0.49807631969451904. Valid Loss: 2.551373500559264. Valid Acc: 0.5013406872749329.\n",
            "Epoch: 10. Train Loss: 2.3617002067796014. Train Acc: 0.5088489651679993. Valid Loss: 2.4377209516513405. Valid Acc: 0.5019928812980652.\n",
            "Epoch: 20. Train Loss: 2.178715865185289. Train Acc: 0.5204553008079529. Valid Loss: 2.3309321674550314. Valid Acc: 0.5027900338172913.\n",
            "Epoch: 30. Train Loss: 2.012982422458307. Train Acc: 0.5297852158546448. Valid Loss: 2.2447472547335727. Valid Acc: 0.5038771033287048.\n",
            "Epoch: 40. Train Loss: 1.8620849818579364. Train Acc: 0.5401090383529663. Valid Loss: 2.163985960489234. Valid Acc: 0.5048192143440247.\n",
            "Epoch: 50. Train Loss: 1.7230781336991914. Train Acc: 0.5509137511253357. Valid Loss: 2.0967569004489777. Valid Acc: 0.5061236023902893.\n",
            "Epoch: 60. Train Loss: 1.5953969045255516. Train Acc: 0.5622314810752869. Valid Loss: 2.0376826055742994. Valid Acc: 0.5074280500411987.\n",
            "Epoch: 70. Train Loss: 1.4845099061488731. Train Acc: 0.5734850764274597. Valid Loss: 1.985483908366411. Valid Acc: 0.5075005292892456.\n",
            "Epoch: 80. Train Loss: 1.3848546550441747. Train Acc: 0.5855723023414612. Valid Loss: 1.9386729047425122. Valid Acc: 0.5106167197227478.\n",
            "Epoch: 90. Train Loss: 1.2951027560322828. Train Acc: 0.5969541668891907. Valid Loss: 1.8963849823816652. Valid Acc: 0.5132980942726135.\n",
            "Epoch: 100. Train Loss: 1.2142756336726601. Train Acc: 0.6090734004974365. Valid Loss: 1.8577720825956643. Valid Acc: 0.5153272151947021.\n",
            "Epoch: 110. Train Loss: 1.14129253351817. Train Acc: 0.6198461055755615. Valid Loss: 1.822375087910262. Valid Acc: 0.517066478729248.\n",
            "Epoch: 120. Train Loss: 1.0752003510310058. Train Acc: 0.6307470202445984. Valid Loss: 1.789816759718802. Valid Acc: 0.5201826095581055.\n",
            "Epoch: 130. Train Loss: 1.0151056330310226. Train Acc: 0.6405578851699829. Valid Loss: 1.759652265283883. Valid Acc: 0.5211247205734253.\n",
            "Epoch: 140. Train Loss: 0.9603517792864638. Train Acc: 0.651138186454773. Valid Loss: 1.7316839356066547. Valid Acc: 0.5240234732627869.\n",
            "Epoch: 150. Train Loss: 0.9103579968393227. Train Acc: 0.6608849167823792. Valid Loss: 1.7058627046566117. Valid Acc: 0.5248206257820129.\n",
            "Epoch: 160. Train Loss: 0.8646504433472245. Train Acc: 0.6699262857437134. Valid Loss: 1.6820289497209573. Valid Acc: 0.5258352160453796.\n",
            "Epoch: 170. Train Loss: 0.8229034114648933. Train Acc: 0.6784225702285767. Valid Loss: 1.6600338970818516. Valid Acc: 0.5282991528511047.\n",
            "Epoch: 180. Train Loss: 0.7847311077844094. Train Acc: 0.6870471239089966. Valid Loss: 1.6398098761235016. Valid Acc: 0.5301833748817444.\n",
            "Epoch: 190. Train Loss: 0.7497808564488302. Train Acc: 0.6947419047355652. Valid Loss: 1.6213047902037947. Valid Acc: 0.5321400165557861.\n",
            "Epoch: 200. Train Loss: 0.7177724839350416. Train Acc: 0.7031099796295166. Valid Loss: 1.6044475726106566. Valid Acc: 0.5328646898269653.\n",
            "Epoch: 210. Train Loss: 0.6884566671850446. Train Acc: 0.7124398946762085. Valid Loss: 1.5891661554772751. Valid Acc: 0.534893810749054.\n",
            "Epoch: 220. Train Loss: 0.6615916917754082. Train Acc: 0.7193651795387268. Valid Loss: 1.5753649441817534. Valid Acc: 0.5378650426864624.\n",
            "Epoch: 230. Train Loss: 0.6369313122263164. Train Acc: 0.7269637584686279. Valid Loss: 1.5629332799617033. Valid Acc: 0.5385897755622864.\n",
            "Epoch: 240. Train Loss: 0.6142681141503664. Train Acc: 0.7342096567153931. Valid Loss: 1.5517586623214252. Valid Acc: 0.5393144488334656.\n",
            "Epoch: 250. Train Loss: 0.5934214594892071. Train Acc: 0.741263210773468. Valid Loss: 1.5417552336280842. Valid Acc: 0.5411986112594604.\n",
            "Epoch: 260. Train Loss: 0.5742295207054632. Train Acc: 0.7468419075012207. Valid Loss: 1.5328482668574497. Valid Acc: 0.5425755381584167.\n",
            "Epoch: 270. Train Loss: 0.5565483981702601. Train Acc: 0.752901554107666. Valid Loss: 1.5249652085179384. Valid Acc: 0.5438799858093262.\n",
            "Epoch: 280. Train Loss: 0.5402508270430542. Train Acc: 0.7584803104400635. Valid Loss: 1.5180108160039076. Valid Acc: 0.5452569127082825.\n",
            "Epoch: 290. Train Loss: 0.5252217801100366. Train Acc: 0.7629047632217407. Valid Loss: 1.511932375381536. Valid Acc: 0.5469961762428284.\n",
            "Epoch: 300. Train Loss: 0.5113527326022227. Train Acc: 0.7679705023765564. Valid Loss: 1.5112515299615243. Valid Acc: 0.5491702556610107.\n",
            "Epoch: 310. Train Loss: 0.49854123752586255. Train Acc: 0.7727476954460144. Valid Loss: 1.5066853439930084. Valid Acc: 0.5513442754745483.\n",
            "Epoch: 320. Train Loss: 0.4866939841521806. Train Acc: 0.7769156694412231. Valid Loss: 1.5028120650809753. Valid Acc: 0.5524313449859619.\n",
            "Epoch: 330. Train Loss: 0.4757259997324858. Train Acc: 0.7818852066993713. Valid Loss: 1.499571001568813. Valid Acc: 0.5538082718849182.\n",
            "Epoch: 340. Train Loss: 0.4655593377420083. Train Acc: 0.785892903804779. Valid Loss: 1.4969040166723515. Valid Acc: 0.5543155074119568.\n",
            "Epoch: 350. Train Loss: 0.4561231409203931. Train Acc: 0.7893876433372498. Valid Loss: 1.4947636551902201. Valid Acc: 0.5548228025436401.\n",
            "Epoch: 360. Train Loss: 0.4473537011951816. Train Acc: 0.7928181886672974. Valid Loss: 1.4931019577927391. Valid Acc: 0.5554750561714172.\n",
            "Epoch: 370. Train Loss: 0.43919400705796546. Train Acc: 0.7957999110221863. Valid Loss: 1.4918804828459271. Valid Acc: 0.5561272501945496.\n",
            "Epoch: 380. Train Loss: 0.43159308220727766. Train Acc: 0.7997435331344604. Valid Loss: 1.4910641306021974. Valid Acc: 0.556562066078186.\n",
            "Epoch: 390. Train Loss: 0.4245053549497905. Train Acc: 0.8025007843971252. Valid Loss: 1.4906228329752014. Valid Acc: 0.5578665137290955.\n",
            "Epoch: 400. Train Loss: 0.4178900775982461. Train Acc: 0.8056749105453491. Valid Loss: 1.490529275762477. Valid Acc: 0.5585187077522278.\n",
            "Epoch: 410. Train Loss: 0.41171077086627755. Train Acc: 0.8082398176193237. Valid Loss: 1.4907606549114165. Valid Acc: 0.5589535236358643.\n",
            "Epoch: 420. Train Loss: 0.40593469344729977. Train Acc: 0.8110291957855225. Valid Loss: 1.4912968551142187. Valid Acc: 0.5594608187675476.\n",
            "Epoch: 430. Train Loss: 0.4005323361720504. Train Acc: 0.8127284646034241. Valid Loss: 1.4921161370606573. Valid Acc: 0.5612000823020935.\n",
            "Epoch: 440. Train Loss: 0.3954769486973382. Train Acc: 0.815517783164978. Valid Loss: 1.4932004982443026. Valid Acc: 0.56163489818573.\n",
            "Epoch: 450. Train Loss: 0.39074412438961514. Train Acc: 0.817633867263794. Valid Loss: 1.4945395147043858. Valid Acc: 0.5627943873405457.\n",
            "Epoch: 460. Train Loss: 0.3863114479665611. Train Acc: 0.8195575475692749. Valid Loss: 1.4961172225201353. Valid Acc: 0.5638814568519592.\n",
            "Epoch: 470. Train Loss: 0.3821581873399489. Train Acc: 0.8215453624725342. Valid Loss: 1.4979244592314174. Valid Acc: 0.5650409460067749.\n",
            "Epoch: 480. Train Loss: 0.37826502450335897. Train Acc: 0.8236935138702393. Valid Loss: 1.499945827835144. Valid Acc: 0.5655482411384583.\n",
            "Epoch: 490. Train Loss: 0.3746138466306011. Train Acc: 0.8251041769981384. Valid Loss: 1.5021717128737888. Valid Acc: 0.566635251045227.\n",
            "Epoch: 500. Train Loss: 0.3711876156923475. Train Acc: 0.826995849609375. Valid Loss: 1.5045899891275887. Valid Acc: 0.5671425461769104.\n",
            "Epoch: 510. Train Loss: 0.36797030810911197. Train Acc: 0.82856684923172. Valid Loss: 1.5071920137297496. Valid Acc: 0.5672875046730042.\n",
            "Epoch: 520. Train Loss: 0.36494689240426886. Train Acc: 0.8304263949394226. Valid Loss: 1.5099695790287009. Valid Acc: 0.5675773620605469.\n",
            "Epoch: 530. Train Loss: 0.36210330929308904. Train Acc: 0.8313241600990295. Valid Loss: 1.512905883344585. Valid Acc: 0.5669975876808167.\n",
            "Epoch: 540. Train Loss: 0.35942643328604507. Train Acc: 0.8329272270202637. Valid Loss: 1.5159926073240415. Valid Acc: 0.5673599243164062.\n",
            "Epoch: 550. Train Loss: 0.3569040150049507. Train Acc: 0.8340173363685608. Valid Loss: 1.5192155097801856. Valid Acc: 0.5688818097114563.\n",
            "Epoch: 560. Train Loss: 0.35452461705336336. Train Acc: 0.8357166051864624. Valid Loss: 1.5225635340263073. Valid Acc: 0.5693166255950928.\n",
            "Epoch: 570. Train Loss: 0.35227755873150124. Train Acc: 0.8364860415458679. Valid Loss: 1.5260363830715102. Valid Acc: 0.5697514414787292.\n",
            "Epoch: 580. Train Loss: 0.3501528784084579. Train Acc: 0.8375120162963867. Valid Loss: 1.529610635324325. Valid Acc: 0.5696789622306824.\n",
            "Epoch: 590. Train Loss: 0.3481413127698391. Train Acc: 0.8386983275413513. Valid Loss: 1.5332831944035636. Valid Acc: 0.5704036355018616.\n",
            "Epoch: 600. Train Loss: 0.34623428508704396. Train Acc: 0.839692234992981. Valid Loss: 1.537045514589024. Valid Acc: 0.5710558891296387.\n",
            "Epoch: 610. Train Loss: 0.34442389288683345. Train Acc: 0.8406861424446106. Valid Loss: 1.5408891747086855. Valid Acc: 0.5712732672691345.\n",
            "Epoch: 620. Train Loss: 0.34270288818049455. Train Acc: 0.8411349654197693. Valid Loss: 1.5448061207712802. Valid Acc: 0.5712732672691345.\n",
            "Epoch: 630. Train Loss: 0.34106464800680386. Train Acc: 0.8419685959815979. Valid Loss: 1.5487894317122193. Valid Acc: 0.5714907050132751.\n",
            "Epoch: 640. Train Loss: 0.33950313696143547. Train Acc: 0.8430907130241394. Valid Loss: 1.5528324007457848. Valid Acc: 0.5714907050132751.\n",
            "Epoch: 650. Train Loss: 0.3380128651775277. Train Acc: 0.8436037302017212. Valid Loss: 1.556928476913026. Valid Acc: 0.5711283683776855.\n",
            "Epoch: 660. Train Loss: 0.3365888464098608. Train Acc: 0.8442128896713257. Valid Loss: 1.5610751067654676. Valid Acc: 0.5709834098815918.\n",
            "Epoch: 670. Train Loss: 0.33522655774875076. Train Acc: 0.8447579145431519. Valid Loss: 1.5652605901963443. Valid Acc: 0.5710558891296387.\n",
            "Epoch: 680. Train Loss: 0.33392190259705007. Train Acc: 0.8455274105072021. Valid Loss: 1.5694805295982344. Valid Acc: 0.5719255208969116.\n",
            "Epoch: 690. Train Loss: 0.33267117455452533. Train Acc: 0.8463610410690308. Valid Loss: 1.5737414596383266. Valid Acc: 0.572577714920044.\n",
            "Epoch: 700. Train Loss: 0.33147101749125024. Train Acc: 0.8470022678375244. Valid Loss: 1.5780288369235906. Valid Acc: 0.5723603367805481.\n",
            "Epoch: 710. Train Loss: 0.330318376286529. Train Acc: 0.8477075695991516. Valid Loss: 1.5823243955160997. Valid Acc: 0.5725052356719971.\n",
            "Epoch: 720. Train Loss: 0.3292104367752602. Train Acc: 0.8478358387947083. Valid Loss: 1.5866771470267187. Valid Acc: 0.5727226734161377.\n",
            "Epoch: 730. Train Loss: 0.328144563995718. Train Acc: 0.8484129309654236. Valid Loss: 1.590979680509435. Valid Acc: 0.5727226734161377.\n",
            "Epoch: 740. Train Loss: 0.32711825730789496. Train Acc: 0.8489259481430054. Valid Loss: 1.5999597985710396. Valid Acc: 0.5727226734161377.\n",
            "Epoch: 750. Train Loss: 0.32612913620333134. Train Acc: 0.8491503596305847. Valid Loss: 1.6043040027284146. Valid Acc: 0.5720704197883606.\n",
            "Epoch: 760. Train Loss: 0.32517495185121. Train Acc: 0.8498877882957458. Valid Loss: 1.6086643954426654. Valid Acc: 0.5721428990364075.\n",
            "Epoch: 770. Train Loss: 0.3242536055704541. Train Acc: 0.8506572842597961. Valid Loss: 1.6130481655924735. Valid Acc: 0.5719255208969116.\n",
            "Epoch: 780. Train Loss: 0.32336315873882654. Train Acc: 0.8512343764305115. Valid Loss: 1.6174293968824083. Valid Acc: 0.5719980001449585.\n",
            "Epoch: 790. Train Loss: 0.3225018303767646. Train Acc: 0.8515549898147583. Valid Loss: 1.6218214896692815. Valid Acc: 0.5718530416488647.\n",
            "Epoch: 800. Train Loss: 0.321667986285323. Train Acc: 0.851843535900116. Valid Loss: 1.6262479807151853. Valid Acc: 0.5723603367805481.\n",
            "Epoch: 810. Train Loss: 0.32086012482018195. Train Acc: 0.8523565530776978. Valid Loss: 1.6306543884861318. Valid Acc: 0.5721428990364075.\n",
            "Epoch: 820. Train Loss: 0.3200768626495215. Train Acc: 0.8529336452484131. Valid Loss: 1.6350684811710883. Valid Acc: 0.5727226734161377.\n",
            "Epoch: 830. Train Loss: 0.31931692197324985. Train Acc: 0.8537992835044861. Valid Loss: 1.6394881277353714. Valid Acc: 0.5730125308036804.\n",
            "Epoch: 840. Train Loss: 0.3185791195381712. Train Acc: 0.8538634181022644. Valid Loss: 1.6439122524768792. Valid Acc: 0.5730125308036804.\n",
            "Epoch: 850. Train Loss: 0.3178623572856047. Train Acc: 0.8539596199989319. Valid Loss: 1.6483789419837767. Valid Acc: 0.5733023881912231.\n",
            "Epoch: 860. Train Loss: 0.31716561433584484. Train Acc: 0.8545046448707581. Valid Loss: 1.652814944051124. Valid Acc: 0.5736647844314575.\n",
            "Epoch: 870. Train Loss: 0.31648794016994175. Train Acc: 0.8546649813652039. Valid Loss: 1.6572586303130783. Valid Acc: 0.5739546418190002.\n",
            "Epoch: 880. Train Loss: 0.3158284478241474. Train Acc: 0.8550496697425842. Valid Loss: 1.6616790616656838. Valid Acc: 0.5744619369506836.\n",
            "Epoch: 890. Train Loss: 0.31518630984603474. Train Acc: 0.8553062081336975. Valid Loss: 1.6661349453311742. Valid Acc: 0.574244499206543.\n",
            "Epoch: 900. Train Loss: 0.3145607520770132. Train Acc: 0.8554985523223877. Valid Loss: 1.6705673154071567. Valid Acc: 0.5751141309738159.\n",
            "Epoch: 910. Train Loss: 0.31395104994048423. Train Acc: 0.8557870984077454. Valid Loss: 1.6750011237291649. Valid Acc: 0.5751866102218628.\n",
            "Epoch: 920. Train Loss: 0.31335652437378386. Train Acc: 0.8560435771942139. Valid Loss: 1.6794605542625676. Valid Acc: 0.5751141309738159.\n",
            "Epoch: 930. Train Loss: 0.3127765382311563. Train Acc: 0.8561077117919922. Valid Loss: 1.6838996957793324. Valid Acc: 0.5746793150901794.\n",
            "Epoch: 940. Train Loss: 0.31221049300633097. Train Acc: 0.8563641905784607. Valid Loss: 1.6883396144187313. Valid Acc: 0.5748242735862732.\n",
            "Epoch: 950. Train Loss: 0.31165782583386026. Train Acc: 0.8566527962684631. Valid Loss: 1.692769473166072. Valid Acc: 0.5754039883613586.\n",
            "Epoch: 960. Train Loss: 0.311118006731983. Train Acc: 0.856781005859375. Valid Loss: 1.701842658875183. Valid Acc: 0.5754039883613586.\n",
            "Epoch: 970. Train Loss: 0.31059053605870457. Train Acc: 0.8569413423538208. Valid Loss: 1.706319408568548. Valid Acc: 0.5748967528343201.\n",
            "Epoch: 980. Train Loss: 0.31007494215788967. Train Acc: 0.8572619557380676. Valid Loss: 1.710766378303293. Valid Acc: 0.5751866102218628.\n",
            "Epoch: 990. Train Loss: 0.3095707791772389. Train Acc: 0.8571978211402893. Valid Loss: 1.7151889076314957. Valid Acc: 0.5751866102218628.\n",
            "Epoch: 1000. Train Loss: 0.3090776250454393. Train Acc: 0.8573901653289795. Valid Loss: 1.7196343811190264. Valid Acc: 0.5748967528343201.\n",
            "Epoch: 1010. Train Loss: 0.30859507960077326. Train Acc: 0.8576146364212036. Valid Loss: 1.7240584600861146. Valid Acc: 0.5748242735862732.\n",
            "Epoch: 1020. Train Loss: 0.30812276286732493. Train Acc: 0.8578711152076721. Valid Loss: 1.728493933663628. Valid Acc: 0.5744619369506836.\n",
            "Epoch: 1030. Train Loss: 0.30766031347793943. Train Acc: 0.858191728591919. Valid Loss: 1.7329279030019977. Valid Acc: 0.5746068358421326.\n",
            "Epoch: 1040. Train Loss: 0.3072073872442716. Train Acc: 0.8583199977874756. Valid Loss: 1.737380978592501. Valid Acc: 0.5745344161987305.\n",
            "Epoch: 1050. Train Loss: 0.3067636558738849. Train Acc: 0.8584802746772766. Valid Loss: 1.7417819160435446. Valid Acc: 0.5745344161987305.\n",
            "Epoch: 1060. Train Loss: 0.3063288058323791. Train Acc: 0.8586726784706116. Valid Loss: 1.7461767667604575. Valid Acc: 0.5747517943382263.\n",
            "Epoch: 1070. Train Loss: 0.30590253734538325. Train Acc: 0.8589612245559692. Valid Loss: 1.7552080937700183. Valid Acc: 0.5747517943382263.\n",
            "Epoch: 1080. Train Loss: 0.30548456353148346. Train Acc: 0.8591856360435486. Valid Loss: 1.7642870958875239. Valid Acc: 0.5749691724777222.\n",
            "Epoch: 1090. Train Loss: 0.30507460965345284. Train Acc: 0.8594100475311279. Valid Loss: 1.768678234421554. Valid Acc: 0.5748967528343201.\n",
            "Epoch: 1100. Train Loss: 0.3046724124751625. Train Acc: 0.8595703840255737. Valid Loss: 1.7730665156043584. Valid Acc: 0.5747517943382263.\n",
            "Epoch: 1110. Train Loss: 0.3042777200057166. Train Acc: 0.859634518623352. Valid Loss: 1.7774516907142373. Valid Acc: 0.5747517943382263.\n",
            "Epoch: 1120. Train Loss: 0.30389028964292447. Train Acc: 0.8598909974098206. Valid Loss: 1.7818335764233595. Valid Acc: 0.5748242735862732.\n",
            "Epoch: 1130. Train Loss: 0.30350988993349276. Train Acc: 0.859987199306488. Valid Loss: 1.786208171621333. Valid Acc: 0.5749691724777222.\n",
            "Epoch: 1140. Train Loss: 0.30313629886165794. Train Acc: 0.8599230647087097. Valid Loss: 1.7905830167636918. Valid Acc: 0.5749691724777222.\n",
            "Epoch: 1150. Train Loss: 0.30276930293065407. Train Acc: 0.8599551320075989. Valid Loss: 1.7949540907359633. Valid Acc: 0.5746793150901794.\n",
            "Epoch: 1160. Train Loss: 0.3024086983070215. Train Acc: 0.8601154088973999. Valid Loss: 1.799321115079404. Valid Acc: 0.5747517943382263.\n",
            "Epoch: 1170. Train Loss: 0.30205428898510883. Train Acc: 0.8603078126907349. Valid Loss: 1.803684052335456. Valid Acc: 0.5746793150901794.\n",
            "Epoch: 1180. Train Loss: 0.3017058874557435. Train Acc: 0.8604039549827576. Valid Loss: 1.8080427325617838. Valid Acc: 0.5746068358421326.\n",
            "Epoch: 1190. Train Loss: 0.3013633138860842. Train Acc: 0.860852837562561. Valid Loss: 1.8123973076253221. Valid Acc: 0.5749691724777222.\n",
            "Epoch: 1200. Train Loss: 0.3010263958362576. Train Acc: 0.8611413836479187. Valid Loss: 1.8213784417896481. Valid Acc: 0.575041651725769.\n",
            "Epoch: 1210. Train Loss: 0.30069496797017053. Train Acc: 0.861205518245697. Valid Loss: 1.8257242179087099. Valid Acc: 0.5747517943382263.\n",
            "Epoch: 1220. Train Loss: 0.3003688717119248. Train Acc: 0.8614299297332764. Valid Loss: 1.8300645286793298. Valid Acc: 0.5746793150901794.\n",
            "Epoch: 1230. Train Loss: 0.30004795491641684. Train Acc: 0.8615261316299438. Valid Loss: 1.834400485275497. Valid Acc: 0.5743894577026367.\n",
            "Epoch: 1240. Train Loss: 0.29973207155676707. Train Acc: 0.8615261316299438. Valid Loss: 1.838731647103553. Valid Acc: 0.5746793150901794.\n",
            "Epoch: 1250. Train Loss: 0.2994210814240471. Train Acc: 0.8617826104164124. Valid Loss: 1.8430574003503801. Valid Acc: 0.5743894577026367.\n",
            "Epoch: 1260. Train Loss: 0.2991148498395208. Train Acc: 0.8618788123130798. Valid Loss: 1.8473787894458262. Valid Acc: 0.5747517943382263.\n",
            "Epoch: 1270. Train Loss: 0.29881324738025733. Train Acc: 0.8621352910995483. Valid Loss: 1.8516956713212067. Valid Acc: 0.5744619369506836.\n",
            "Epoch: 1280. Train Loss: 0.2985161496184516. Train Acc: 0.8622314929962158. Valid Loss: 1.8560074720404072. Valid Acc: 0.5747517943382263.\n",
            "Epoch: 1290. Train Loss: 0.2982234368744283. Train Acc: 0.862263560295105. Valid Loss: 1.860310258918814. Valid Acc: 0.5746068358421326.\n",
            "Epoch: 1300. Train Loss: 0.2979349939830978. Train Acc: 0.862423837184906. Valid Loss: 1.8646097669068353. Valid Acc: 0.5748967528343201.\n",
            "Epoch: 1310. Train Loss: 0.2976507100734707. Train Acc: 0.862423837184906. Valid Loss: 1.8689064697073114. Valid Acc: 0.5749691724777222.\n",
            "Epoch: 1320. Train Loss: 0.29737047836073344. Train Acc: 0.8625521063804626. Valid Loss: 1.8731947669612317. Valid Acc: 0.5748967528343201.\n",
            "Epoch: 1330. Train Loss: 0.29709419595030695. Train Acc: 0.8627123832702637. Valid Loss: 1.8774800962429883. Valid Acc: 0.575041651725769.\n",
            "Epoch: 1340. Train Loss: 0.29682176365327. Train Acc: 0.8626483082771301. Valid Loss: 1.8817541678257401. Valid Acc: 0.5752590894699097.\n",
            "Epoch: 1350. Train Loss: 0.2965530858125128. Train Acc: 0.8627444505691528. Valid Loss: 1.8860336827183815. Valid Acc: 0.5751141309738159.\n",
            "Epoch: 1360. Train Loss: 0.29628807013898356. Train Acc: 0.8626483082771301. Valid Loss: 1.8903006453338342. Valid Acc: 0.5752590894699097.\n",
            "Epoch: 1370. Train Loss: 0.2960266275574098. Train Acc: 0.862616240978241. Valid Loss: 1.8945643027443544. Valid Acc: 0.5749691724777222.\n",
            "Epoch: 1380. Train Loss: 0.2957686720608932. Train Acc: 0.862616240978241. Valid Loss: 1.898824867187285. Valid Acc: 0.5751141309738159.\n",
            "Epoch: 1390. Train Loss: 0.29551412057380927. Train Acc: 0.8626803755760193. Valid Loss: 1.9030614947306108. Valid Acc: 0.5751866102218628.\n",
            "Epoch: 1400. Train Loss: 0.2952628928224731. Train Acc: 0.8628085851669312. Valid Loss: 1.9073161605433415. Valid Acc: 0.575041651725769.\n",
            "Epoch: 1410. Train Loss: 0.295014911213062. Train Acc: 0.8630009889602661. Valid Loss: 1.9115449568932779. Valid Acc: 0.5749691724777222.\n",
            "Epoch: 1420. Train Loss: 0.29477010071632115. Train Acc: 0.8630009889602661. Valid Loss: 1.9157964743385032. Valid Acc: 0.5747517943382263.\n",
            "Epoch: 1430. Train Loss: 0.2945283887586352. Train Acc: 0.8630650639533997. Valid Loss: 1.920014516216237. Valid Acc: 0.5746793150901794.\n",
            "Epoch: 1440. Train Loss: 0.29428970516171465. Train Acc: 0.8631612658500671. Valid Loss: 1.9242262737502556. Valid Acc: 0.5747517943382263.\n",
            "Epoch: 1450. Train Loss: 0.2940539818338876. Train Acc: 0.8632895350456238. Valid Loss: 1.9284828341769416. Valid Acc: 0.5746793150901794.\n",
            "Epoch: 1460. Train Loss: 0.29382115311381746. Train Acc: 0.8634498119354248. Valid Loss: 1.9326839084914398. Valid Acc: 0.5748242735862732.\n",
            "Epoch: 1470. Train Loss: 0.2935911551765849. Train Acc: 0.8636742830276489. Valid Loss: 1.9368783791608863. Valid Acc: 0.5747517943382263.\n",
            "Epoch: 1480. Train Loss: 0.29336392650691234. Train Acc: 0.8638024926185608. Valid Loss: 1.9410690488028128. Valid Acc: 0.5748242735862732.\n",
            "Epoch: 1490. Train Loss: 0.29313940677683203. Train Acc: 0.8638666272163391. Valid Loss: 1.9452514908732117. Valid Acc: 0.5748967528343201.\n",
            "Epoch: 1500. Train Loss: 0.2929175385003772. Train Acc: 0.8639628291130066. Valid Loss: 1.9494333533873751. Valid Acc: 0.5748967528343201.\n",
            "Epoch: 1510. Train Loss: 0.29269826526885345. Train Acc: 0.8640910387039185. Valid Loss: 1.953604239727863. Valid Acc: 0.5749691724777222.\n",
            "Epoch: 1520. Train Loss: 0.2924815325800898. Train Acc: 0.8640269041061401. Valid Loss: 1.962406707746136. Valid Acc: 0.5751141309738159.\n",
            "Epoch: 1530. Train Loss: 0.2922672875750128. Train Acc: 0.8640589714050293. Valid Loss: 1.966569185546758. Valid Acc: 0.575041651725769.\n",
            "Epoch: 1540. Train Loss: 0.29205547893161804. Train Acc: 0.8639948964118958. Valid Loss: 1.9707251618720358. Valid Acc: 0.5751141309738159.\n",
            "Epoch: 1550. Train Loss: 0.2918460568643738. Train Acc: 0.8642193078994751. Valid Loss: 1.974883164791751. Valid Acc: 0.5748967528343201.\n",
            "Epoch: 1560. Train Loss: 0.29163897304412495. Train Acc: 0.8643155097961426. Valid Loss: 1.9790252665698187. Valid Acc: 0.575041651725769.\n",
            "Epoch: 1570. Train Loss: 0.2914341805484912. Train Acc: 0.8643155097961426. Valid Loss: 1.983166664120418. Valid Acc: 0.575041651725769.\n",
            "Epoch: 1580. Train Loss: 0.2912316338116596. Train Acc: 0.8644116520881653. Valid Loss: 1.9872989955272025. Valid Acc: 0.5749691724777222.\n",
            "Epoch: 1590. Train Loss: 0.2910312885751651. Train Acc: 0.8645399212837219. Valid Loss: 1.991440190886682. Valid Acc: 0.575041651725769.\n",
            "Epoch: 1600. Train Loss: 0.2908331018412854. Train Acc: 0.8646681904792786. Valid Loss: 1.9955619378935958. Valid Acc: 0.575041651725769.\n",
            "Epoch: 1610. Train Loss: 0.290637031828447. Train Acc: 0.8647643327713013. Valid Loss: 1.9996852735857429. Valid Acc: 0.5751141309738159.\n",
            "Epoch: 1620. Train Loss: 0.290443037928475. Train Acc: 0.8648926019668579. Valid Loss: 2.003787996146708. Valid Acc: 0.5751141309738159.\n",
            "Epoch: 1630. Train Loss: 0.29025108066560146. Train Acc: 0.8650528788566589. Valid Loss: 2.007907621809373. Valid Acc: 0.5751866102218628.\n",
            "Epoch: 1640. Train Loss: 0.29006112165714426. Train Acc: 0.8651490807533264. Valid Loss: 2.012018818702246. Valid Acc: 0.5751866102218628.\n",
            "Epoch: 1650. Train Loss: 0.2898731235757637. Train Acc: 0.8651490807533264. Valid Loss: 2.016111042407393. Valid Acc: 0.5749691724777222.\n",
            "Epoch: 1660. Train Loss: 0.289687050113217. Train Acc: 0.8651490807533264. Valid Loss: 2.0202113845538276. Valid Acc: 0.575041651725769.\n",
            "Epoch: 1670. Train Loss: 0.28950286594553226. Train Acc: 0.8653414845466614. Valid Loss: 2.024293795000907. Valid Acc: 0.5751866102218628.\n",
            "Epoch: 1680. Train Loss: 0.2893205366995414. Train Acc: 0.8654055595397949. Valid Loss: 2.028374572825619. Valid Acc: 0.5748967528343201.\n",
            "Epoch: 1690. Train Loss: 0.2891400289418245. Train Acc: 0.8653734922409058. Valid Loss: 2.0324635747116804. Valid Acc: 0.5748967528343201.\n",
            "Epoch: 1700. Train Loss: 0.28896131024217747. Train Acc: 0.8654376268386841. Valid Loss: 2.0365381064383765. Valid Acc: 0.5748967528343201.\n",
            "Epoch: 1710. Train Loss: 0.28878434852982726. Train Acc: 0.8655017614364624. Valid Loss: 2.040589713655643. Valid Acc: 0.5747517943382263.\n",
            "Epoch: 1720. Train Loss: 0.2886091136171212. Train Acc: 0.8655338287353516. Valid Loss: 2.044656131157146. Valid Acc: 0.575041651725769.\n",
            "Epoch: 1730. Train Loss: 0.28843557408348686. Train Acc: 0.8655658960342407. Valid Loss: 2.0487528243696835. Valid Acc: 0.575041651725769.\n",
            "Epoch: 1740. Train Loss: 0.2882637016972298. Train Acc: 0.8655979633331299. Valid Loss: 2.052829648587695. Valid Acc: 0.5749691724777222.\n",
            "Epoch: 1750. Train Loss: 0.28809346779743905. Train Acc: 0.8657261729240417. Valid Loss: 2.0568597667678588. Valid Acc: 0.5748967528343201.\n",
            "Epoch: 1760. Train Loss: 0.2879248444767459. Train Acc: 0.8657582402229309. Valid Loss: 2.060890368538676. Valid Acc: 0.5751141309738159.\n",
            "Epoch: 1770. Train Loss: 0.28775780457881484. Train Acc: 0.8658223748207092. Valid Loss: 2.064911594112611. Valid Acc: 0.575041651725769.\n",
            "Epoch: 1780. Train Loss: 0.2875923216422318. Train Acc: 0.8658223748207092. Valid Loss: 2.068932957524273. Valid Acc: 0.5752590894699097.\n",
            "Epoch: 1790. Train Loss: 0.2874283698651798. Train Acc: 0.8659185767173767. Valid Loss: 2.0729869286100198. Valid Acc: 0.5753315687179565.\n",
            "Epoch: 1800. Train Loss: 0.28726592408058976. Train Acc: 0.865982711315155. Valid Loss: 2.0770150474698506. Valid Acc: 0.5751141309738159.\n",
            "Epoch: 1810. Train Loss: 0.28710495973478317. Train Acc: 0.8659506440162659. Valid Loss: 2.0856580512192426. Valid Acc: 0.5751141309738159.\n",
            "Epoch: 1820. Train Loss: 0.2869454528664946. Train Acc: 0.8660147190093994. Valid Loss: 2.089661981834979. Valid Acc: 0.5751141309738159.\n",
            "Epoch: 1830. Train Loss: 0.2867873800874739. Train Acc: 0.865982711315155. Valid Loss: 2.093681704794574. Valid Acc: 0.5751141309738159.\n",
            "Epoch: 1840. Train Loss: 0.2866307185638846. Train Acc: 0.8659185767173767. Valid Loss: 2.0976472759955094. Valid Acc: 0.5751866102218628.\n",
            "Epoch: 1850. Train Loss: 0.2864754460251937. Train Acc: 0.8659506440162659. Valid Loss: 2.1016583450565283. Valid Acc: 0.5751141309738159.\n",
            "Epoch: 1860. Train Loss: 0.28632154071533594. Train Acc: 0.8660788536071777. Valid Loss: 2.105618939832303. Valid Acc: 0.5751866102218628.\n",
            "Epoch: 1870. Train Loss: 0.28616898119058903. Train Acc: 0.8662712574005127. Valid Loss: 2.1095707856134016. Valid Acc: 0.5754039883613586.\n",
            "Epoch: 1880. Train Loss: 0.2860177467692452. Train Acc: 0.8663033246994019. Valid Loss: 2.122789327441008. Valid Acc: 0.5751866102218628.\n",
            "Epoch: 1890. Train Loss: 0.2858678171929174. Train Acc: 0.8663994669914246. Valid Loss: 2.126733455372186. Valid Acc: 0.5752590894699097.\n",
            "Epoch: 1900. Train Loss: 0.2857191725579129. Train Acc: 0.8665598034858704. Valid Loss: 2.1306772527552944. Valid Acc: 0.575041651725769.\n",
            "Epoch: 1910. Train Loss: 0.2855717934370674. Train Acc: 0.8666880130767822. Valid Loss: 2.134611885648866. Valid Acc: 0.5751141309738159.\n",
            "Epoch: 1920. Train Loss: 0.2854256608468491. Train Acc: 0.8667842149734497. Valid Loss: 2.1431791989061324. Valid Acc: 0.5751141309738159.\n",
            "Epoch: 1930. Train Loss: 0.2852807562128707. Train Acc: 0.866848349571228. Valid Loss: 2.147106661504649. Valid Acc: 0.5749691724777222.\n",
            "Epoch: 1940. Train Loss: 0.28513706136709654. Train Acc: 0.8669445514678955. Valid Loss: 2.151033812754466. Valid Acc: 0.5749691724777222.\n",
            "Epoch: 1950. Train Loss: 0.28499455853481764. Train Acc: 0.8670727610588074. Valid Loss: 2.15495347107613. Valid Acc: 0.5751141309738159.\n",
            "Epoch: 1960. Train Loss: 0.28485323032299537. Train Acc: 0.867361307144165. Valid Loss: 2.1588682512014357. Valid Acc: 0.575041651725769.\n",
            "Epoch: 1970. Train Loss: 0.28471305970977767. Train Acc: 0.8673933744430542. Valid Loss: 2.162780145781684. Valid Acc: 0.5751866102218628.\n",
            "Epoch: 1980. Train Loss: 0.2845740300343866. Train Acc: 0.8674895763397217. Valid Loss: 2.166692180549464. Valid Acc: 0.5751866102218628.\n",
            "Epoch: 1990. Train Loss: 0.28443612499937365. Train Acc: 0.8675537109375. Valid Loss: 2.1705953494516343. Valid Acc: 0.5752590894699097.\n",
            "Epoch: 2000. Train Loss: 0.2842993286754773. Train Acc: 0.867713987827301. Valid Loss: 2.17449554806594. Valid Acc: 0.5754039883613586.\n",
            "Epoch: 2010. Train Loss: 0.2841636252514948. Train Acc: 0.867713987827301. Valid Loss: 2.17839107731151. Valid Acc: 0.5751866102218628.\n",
            "Epoch: 2020. Train Loss: 0.2840289996043984. Train Acc: 0.8676819205284119. Valid Loss: 2.1822899391705417. Valid Acc: 0.5748967528343201.\n",
            "Epoch: 2030. Train Loss: 0.2838954366761462. Train Acc: 0.8676819205284119. Valid Loss: 2.186178600601263. Valid Acc: 0.5751141309738159.\n",
            "Epoch: 2040. Train Loss: 0.2837629217904847. Train Acc: 0.8677781224250793. Valid Loss: 2.1900624770857986. Valid Acc: 0.5751141309738159.\n",
            "Epoch: 2050. Train Loss: 0.2836314405514526. Train Acc: 0.8677781224250793. Valid Loss: 2.1939440745052803. Valid Acc: 0.575041651725769.\n",
            "Epoch: 2060. Train Loss: 0.28350097886771713. Train Acc: 0.8678422570228577. Valid Loss: 2.1978249303561563. Valid Acc: 0.5746793150901794.\n",
            "Epoch: 2070. Train Loss: 0.2833715229278819. Train Acc: 0.8678422570228577. Valid Loss: 2.2017023920680487. Valid Acc: 0.5746793150901794.\n",
            "Epoch: 2080. Train Loss: 0.28324305919987935. Train Acc: 0.8678743243217468. Valid Loss: 2.2055716588111847. Valid Acc: 0.5748967528343201.\n",
            "Epoch: 2090. Train Loss: 0.28311557442126006. Train Acc: 0.8679705262184143. Valid Loss: 2.2094388025651055. Valid Acc: 0.5748967528343201.\n",
            "Epoch: 2100. Train Loss: 0.2829890555930959. Train Acc: 0.868066668510437. Valid Loss: 2.213307690893972. Valid Acc: 0.5747517943382263.\n",
            "Epoch: 2110. Train Loss: 0.28286348997307714. Train Acc: 0.868259072303772. Valid Loss: 2.2171705504815242. Valid Acc: 0.5748242735862732.\n",
            "Epoch: 2120. Train Loss: 0.2827388657227488. Train Acc: 0.8683552145957947. Valid Loss: 2.2210292422244207. Valid Acc: 0.5748242735862732.\n",
            "Epoch: 2130. Train Loss: 0.28261516906851564. Train Acc: 0.8683232069015503. Valid Loss: 2.224886027999478. Valid Acc: 0.5748242735862732.\n",
            "Epoch: 2140. Train Loss: 0.28249238871488597. Train Acc: 0.8683232069015503. Valid Loss: 2.2287380312006735. Valid Acc: 0.5748242735862732.\n",
            "Epoch: 2150. Train Loss: 0.28237051336448926. Train Acc: 0.868419349193573. Valid Loss: 2.2325864655883825. Valid Acc: 0.5746068358421326.\n",
            "Epoch: 2160. Train Loss: 0.28224953115362605. Train Acc: 0.868419349193573. Valid Loss: 2.236433787966592. Valid Acc: 0.5744619369506836.\n",
            "Epoch: 2170. Train Loss: 0.2821294307295716. Train Acc: 0.8684834837913513. Valid Loss: 2.2402815682658948. Valid Acc: 0.574244499206543.\n",
            "Epoch: 2180. Train Loss: 0.2820102009667752. Train Acc: 0.8685155510902405. Valid Loss: 2.244112698836844. Valid Acc: 0.574099600315094.\n",
            "Epoch: 2190. Train Loss: 0.2818918309476627. Train Acc: 0.868611752986908. Valid Loss: 2.2479575505693212. Valid Acc: 0.5741720199584961.\n",
            "Epoch: 2200. Train Loss: 0.28177430995823116. Train Acc: 0.8688040971755981. Valid Loss: 2.251793221676429. Valid Acc: 0.574244499206543.\n",
            "Epoch: 2210. Train Loss: 0.28165762748293127. Train Acc: 0.868772029876709. Valid Loss: 2.2556245415713336. Valid Acc: 0.574244499206543.\n",
            "Epoch: 2220. Train Loss: 0.2815417734285568. Train Acc: 0.868772029876709. Valid Loss: 2.2594446494539255. Valid Acc: 0.574244499206543.\n",
            "Epoch: 2230. Train Loss: 0.2814267378732915. Train Acc: 0.868772029876709. Valid Loss: 2.2632752047339557. Valid Acc: 0.574244499206543.\n",
            "Epoch: 2240. Train Loss: 0.2813125092896538. Train Acc: 0.868772029876709. Valid Loss: 2.267094945276911. Valid Acc: 0.574244499206543.\n",
            "Epoch: 2250. Train Loss: 0.28119907924253285. Train Acc: 0.868772029876709. Valid Loss: 2.2709349061182547. Valid Acc: 0.574099600315094.\n",
            "Epoch: 2260. Train Loss: 0.2810864380782599. Train Acc: 0.8688361644744873. Valid Loss: 2.274737503622622. Valid Acc: 0.5741720199584961.\n",
            "Epoch: 2270. Train Loss: 0.2809745762785796. Train Acc: 0.8688361644744873. Valid Loss: 2.2785671488785875. Valid Acc: 0.5743169784545898.\n",
            "Epoch: 2280. Train Loss: 0.2808634845950664. Train Acc: 0.8688682317733765. Valid Loss: 2.28236989283724. Valid Acc: 0.5743894577026367.\n",
            "Epoch: 2290. Train Loss: 0.28075315410471424. Train Acc: 0.8689965009689331. Valid Loss: 2.2861736108989157. Valid Acc: 0.5743894577026367.\n",
            "Epoch: 2300. Train Loss: 0.28064357514779004. Train Acc: 0.8690605759620667. Valid Loss: 2.2900004951526984. Valid Acc: 0.5741720199584961.\n",
            "Epoch: 2310. Train Loss: 0.28053473958537745. Train Acc: 0.869124710559845. Valid Loss: 2.293786462354158. Valid Acc: 0.5743169784545898.\n",
            "Epoch: 2320. Train Loss: 0.2804266385723511. Train Acc: 0.8691888451576233. Valid Loss: 2.297583556400317. Valid Acc: 0.5745344161987305.\n",
            "Epoch: 2330. Train Loss: 0.28031926367950344. Train Acc: 0.8692850470542908. Valid Loss: 2.301423694784453. Valid Acc: 0.5745344161987305.\n",
            "Epoch: 2340. Train Loss: 0.28021260655115926. Train Acc: 0.8692529797554016. Valid Loss: 2.3051999487307406. Valid Acc: 0.5745344161987305.\n",
            "Epoch: 2350. Train Loss: 0.2801066589731147. Train Acc: 0.8693171143531799. Valid Loss: 2.3089822602922605. Valid Acc: 0.5744619369506836.\n",
            "Epoch: 2360. Train Loss: 0.2800014128749405. Train Acc: 0.8692529797554016. Valid Loss: 2.3127606900205153. Valid Acc: 0.5744619369506836.\n",
            "Epoch: 2370. Train Loss: 0.27989686032572053. Train Acc: 0.8692850470542908. Valid Loss: 2.3166203103061638. Valid Acc: 0.5743894577026367.\n",
            "Epoch: 2380. Train Loss: 0.2797929935278963. Train Acc: 0.8693171143531799. Valid Loss: 2.3204059814044657. Valid Acc: 0.5743894577026367.\n",
            "Epoch: 2390. Train Loss: 0.27968980481223066. Train Acc: 0.8693171143531799. Valid Loss: 2.3241599624333977. Valid Acc: 0.5744619369506836.\n",
            "Epoch: 2400. Train Loss: 0.27958728663545435. Train Acc: 0.8693491220474243. Valid Loss: 2.3279376149618467. Valid Acc: 0.5744619369506836.\n",
            "Epoch: 2410. Train Loss: 0.27948543157788647. Train Acc: 0.8693811893463135. Valid Loss: 2.3317101468403907. Valid Acc: 0.5745344161987305.\n",
            "Epoch: 2420. Train Loss: 0.27938423234047616. Train Acc: 0.8694132566452026. Valid Loss: 2.3354771827515464. Valid Acc: 0.5744619369506836.\n",
            "Epoch: 2430. Train Loss: 0.2792836817422265. Train Acc: 0.8693491220474243. Valid Loss: 2.339294871772197. Valid Acc: 0.5745344161987305.\n",
            "Epoch: 2440. Train Loss: 0.2791837727176303. Train Acc: 0.8694132566452026. Valid Loss: 2.3430358496839707. Valid Acc: 0.5746793150901794.\n",
            "Epoch: 2450. Train Loss: 0.2790844983141651. Train Acc: 0.869477391242981. Valid Loss: 2.3467960506918284. Valid Acc: 0.5745344161987305.\n",
            "Epoch: 2460. Train Loss: 0.2789858516898605. Train Acc: 0.8694453239440918. Valid Loss: 2.3505333965440016. Valid Acc: 0.5746793150901794.\n",
            "Epoch: 2470. Train Loss: 0.2788878261109259. Train Acc: 0.8693491220474243. Valid Loss: 2.354274190753269. Valid Acc: 0.5746068358421326.\n",
            "Epoch: 2480. Train Loss: 0.27879041494944207. Train Acc: 0.8693811893463135. Valid Loss: 2.362617763897544. Valid Acc: 0.5748967528343201.\n",
            "Epoch: 2490. Train Loss: 0.278693611681117. Train Acc: 0.8693811893463135. Valid Loss: 2.371061769123034. Valid Acc: 0.5748967528343201.\n",
            "Epoch: 2500. Train Loss: 0.27859740988310344. Train Acc: 0.8694132566452026. Valid Loss: 2.3748353111555844. Valid Acc: 0.5748967528343201.\n",
            "Epoch: 2510. Train Loss: 0.2785018032318798. Train Acc: 0.8694132566452026. Valid Loss: 2.378546000306056. Valid Acc: 0.5746068358421326.\n",
            "Epoch: 2520. Train Loss: 0.278406785501192. Train Acc: 0.8694132566452026. Valid Loss: 2.382279040254033. Valid Acc: 0.5746068358421326.\n",
            "Epoch: 2530. Train Loss: 0.2783123505603209. Train Acc: 0.8694132566452026. Valid Loss: 2.385957772405854. Valid Acc: 0.5744619369506836.\n",
            "Epoch: 2540. Train Loss: 0.27821849252508857. Train Acc: 0.869477391242981. Valid Loss: 2.3897030183880372. Valid Acc: 0.5743894577026367.\n",
            "Epoch: 2550. Train Loss: 0.2781252050360089. Train Acc: 0.8694453239440918. Valid Loss: 2.393401144002096. Valid Acc: 0.5743169784545898.\n",
            "Epoch: 2560. Train Loss: 0.27803248255396135. Train Acc: 0.8694453239440918. Valid Loss: 2.3970998409436746. Valid Acc: 0.574099600315094.\n",
            "Epoch: 2570. Train Loss: 0.27794031930478863. Train Acc: 0.8694453239440918. Valid Loss: 2.4008356039179977. Valid Acc: 0.5740271210670471.\n",
            "Epoch: 2580. Train Loss: 0.27784870954268936. Train Acc: 0.8695094585418701. Valid Loss: 2.4137719829438766. Valid Acc: 0.5740271210670471.\n",
            "Epoch: 2590. Train Loss: 0.2777576476866876. Train Acc: 0.8695415258407593. Valid Loss: 2.4174437563488422. Valid Acc: 0.5740271210670471.\n",
            "Epoch: 2600. Train Loss: 0.2776671282138541. Train Acc: 0.8696056604385376. Valid Loss: 2.4211584529033447. Valid Acc: 0.5739546418190002.\n",
            "Epoch: 2610. Train Loss: 0.27757714569187436. Train Acc: 0.8696377277374268. Valid Loss: 2.424828487035651. Valid Acc: 0.5739546418190002.\n",
            "Epoch: 2620. Train Loss: 0.27748769476564356. Train Acc: 0.8696056604385376. Valid Loss: 2.4284958896994895. Valid Acc: 0.5740271210670471.\n",
            "Epoch: 2630. Train Loss: 0.27739877015915365. Train Acc: 0.8696056604385376. Valid Loss: 2.432150735219215. Valid Acc: 0.574099600315094.\n",
            "Epoch: 2640. Train Loss: 0.27731036669852277. Train Acc: 0.8696377277374268. Valid Loss: 2.435841840410045. Valid Acc: 0.574244499206543.\n",
            "Epoch: 2650. Train Loss: 0.27722247925806576. Train Acc: 0.8696377277374268. Valid Loss: 2.4441291484463834. Valid Acc: 0.574099600315094.\n",
            "Epoch: 2660. Train Loss: 0.277135102692219. Train Acc: 0.8696377277374268. Valid Loss: 2.452431859592489. Valid Acc: 0.5740271210670471.\n",
            "Epoch: 2670. Train Loss: 0.2770482320762688. Train Acc: 0.8696377277374268. Valid Loss: 2.4561362063408962. Valid Acc: 0.5740271210670471.\n",
            "Epoch: 2680. Train Loss: 0.27696186254226723. Train Acc: 0.8697338700294495. Valid Loss: 2.459782533312938. Valid Acc: 0.5739546418190002.\n",
            "Epoch: 2690. Train Loss: 0.27687598925148776. Train Acc: 0.8697338700294495. Valid Loss: 2.463432215370464. Valid Acc: 0.574099600315094.\n",
            "Epoch: 2700. Train Loss: 0.2767906076436385. Train Acc: 0.8697659373283386. Valid Loss: 2.467080374433774. Valid Acc: 0.5740271210670471.\n",
            "Epoch: 2710. Train Loss: 0.27670571244681125. Train Acc: 0.8697659373283386. Valid Loss: 2.470725651435402. Valid Acc: 0.5741720199584961.\n",
            "Epoch: 2720. Train Loss: 0.27662130007213676. Train Acc: 0.8697338700294495. Valid Loss: 2.474382017191976. Valid Acc: 0.5741720199584961.\n",
            "Epoch: 2730. Train Loss: 0.2765373639709261. Train Acc: 0.8697659373283386. Valid Loss: 2.4780179901477126. Valid Acc: 0.5741720199584961.\n",
            "Epoch: 2740. Train Loss: 0.2764539017054118. Train Acc: 0.8697659373283386. Valid Loss: 2.4863088179156816. Valid Acc: 0.5741720199584961.\n",
            "Epoch: 2750. Train Loss: 0.27637090792739305. Train Acc: 0.8697980046272278. Valid Loss: 2.489930030964468. Valid Acc: 0.574244499206543.\n",
            "Epoch: 2760. Train Loss: 0.276288378236438. Train Acc: 0.8697980046272278. Valid Loss: 2.493578880670506. Valid Acc: 0.574244499206543.\n",
            "Epoch: 2770. Train Loss: 0.27620630856600153. Train Acc: 0.8697980046272278. Valid Loss: 2.497256488049877. Valid Acc: 0.5743894577026367.\n",
            "Epoch: 2780. Train Loss: 0.2761246944943396. Train Acc: 0.8698621392250061. Valid Loss: 2.500890240174936. Valid Acc: 0.5745344161987305.\n",
            "Epoch: 2790. Train Loss: 0.27604353185495173. Train Acc: 0.8698300719261169. Valid Loss: 2.5045226240509724. Valid Acc: 0.5745344161987305.\n",
            "Epoch: 2800. Train Loss: 0.27596281649398774. Train Acc: 0.8697980046272278. Valid Loss: 2.5081896571129545. Valid Acc: 0.5743169784545898.\n",
            "Epoch: 2810. Train Loss: 0.27588254430987097. Train Acc: 0.8698621392250061. Valid Loss: 2.5118070838053885. Valid Acc: 0.5743894577026367.\n",
            "Epoch: 2820. Train Loss: 0.2758027124264811. Train Acc: 0.8698621392250061. Valid Loss: 2.515422418695774. Valid Acc: 0.5743894577026367.\n",
            "Epoch: 2830. Train Loss: 0.27572331372423636. Train Acc: 0.8700224161148071. Valid Loss: 2.519079953804384. Valid Acc: 0.5741720199584961.\n",
            "Epoch: 2840. Train Loss: 0.2756443467541937. Train Acc: 0.8700224161148071. Valid Loss: 2.5226919001988684. Valid Acc: 0.5744619369506836.\n",
            "Epoch: 2850. Train Loss: 0.2755658075097488. Train Acc: 0.8701186180114746. Valid Loss: 2.5262972098852714. Valid Acc: 0.5743894577026367.\n",
            "Epoch: 2860. Train Loss: 0.2754876920313937. Train Acc: 0.8700865507125854. Valid Loss: 2.5299363348756136. Valid Acc: 0.5743894577026367.\n",
            "Epoch: 2870. Train Loss: 0.27540999559895696. Train Acc: 0.8700224161148071. Valid Loss: 2.533557855981158. Valid Acc: 0.5744619369506836.\n",
            "Epoch: 2880. Train Loss: 0.27533271544819055. Train Acc: 0.8700865507125854. Valid Loss: 2.537186853878282. Valid Acc: 0.5744619369506836.\n",
            "Epoch: 2890. Train Loss: 0.27525584769417033. Train Acc: 0.8700865507125854. Valid Loss: 2.540793921871553. Valid Acc: 0.5745344161987305.\n",
            "Epoch: 2900. Train Loss: 0.27517938865010466. Train Acc: 0.8701186180114746. Valid Loss: 2.544399976379815. Valid Acc: 0.5744619369506836.\n",
            "Epoch: 2910. Train Loss: 0.2751033347313857. Train Acc: 0.8701186180114746. Valid Loss: 2.548032408640966. Valid Acc: 0.5746068358421326.\n",
            "Epoch: 2920. Train Loss: 0.27502768248122206. Train Acc: 0.8701186180114746. Valid Loss: 2.556264296579507. Valid Acc: 0.5745344161987305.\n",
            "Epoch: 2930. Train Loss: 0.27495242831481803. Train Acc: 0.8701506853103638. Valid Loss: 2.559933101359307. Valid Acc: 0.5745344161987305.\n",
            "Epoch: 2940. Train Loss: 0.2748775685091809. Train Acc: 0.8702789545059204. Valid Loss: 2.5635235113569386. Valid Acc: 0.5744619369506836.\n",
            "Epoch: 2950. Train Loss: 0.27480310000269154. Train Acc: 0.8703750967979431. Valid Loss: 2.567124499950391. Valid Acc: 0.5744619369506836.\n",
            "Epoch: 2960. Train Loss: 0.27472901941566874. Train Acc: 0.8703750967979431. Valid Loss: 2.570783378788286. Valid Acc: 0.5744619369506836.\n",
            "Epoch: 2970. Train Loss: 0.27465532336101767. Train Acc: 0.8703750967979431. Valid Loss: 2.574365165994101. Valid Acc: 0.5741720199584961.\n",
            "Epoch: 2980. Train Loss: 0.274582008570757. Train Acc: 0.8704071640968323. Valid Loss: 2.578005368618872. Valid Acc: 0.5740271210670471.\n",
            "Epoch: 2990. Train Loss: 0.2745090718054349. Train Acc: 0.8704071640968323. Valid Loss: 2.581629602021091. Valid Acc: 0.5738096833229065.\n",
            "Epoch: 3000. Train Loss: 0.2744365098638622. Train Acc: 0.8704071640968323. Valid Loss: 2.585248307107947. Valid Acc: 0.5738096833229065.\n"
          ]
        }
      ],
      "source": [
        "EPOCH = 3001\n",
        "a = Accuracy()\n",
        "trainLoss = []\n",
        "testLoss = []\n",
        "testEp = []\n",
        "trainAcc = []\n",
        "testAcc =[]\n",
        "for ep in tqdm(range(EPOCH)):\n",
        "    optimizer.zero_grad()\n",
        "    ratings_pred = torch.matmul(torch.cat((U, b), axis = 1), movies_tensor.T)\n",
        "    mask = ratings_train_tensor.bool()\n",
        "    nonzero_pred = F.sigmoid(ratings_pred.masked_select(mask))\n",
        "    nonzero_train = ratings_train_tensor.masked_select(mask)\n",
        "    nonzero_train = nonzero_train - 1\n",
        "    loss = criterion(nonzero_pred, nonzero_train.double())\n",
        "    accuracy = a(nonzero_pred, nonzero_train.int())\n",
        "    loss.backward()\n",
        "    optimizer.step()\n",
        "\n",
        "    trainLoss.append(loss.item())\n",
        "    trainAcc.append(accuracy.item())\n",
        "    if ep % 10 == 0:\n",
        "      mask = ratings_test_tensor.bool()\n",
        "      nonzero_pred = F.sigmoid(ratings_pred.masked_select(mask))\n",
        "      nonzero_test = ratings_test_tensor.masked_select(mask)\n",
        "      nonzero_test = nonzero_test - 1\n",
        "      loss_test = criterion(nonzero_pred, nonzero_test.double())\n",
        "      accuracy_test = a(nonzero_pred, nonzero_test.int())\n",
        "\n",
        "      testEp.append(ep)\n",
        "      testLoss.append(loss_test.item())\n",
        "      testAcc.append(accuracy_test.item())\n",
        "      \n",
        "      if maxAcc < accuracy_test:\n",
        "        bestU = U\n",
        "        bestb = b\n",
        "        maxAcc = accuracy_test\n",
        "      print(f'Epoch: {ep}. Train Loss: {loss}. Train Acc: {accuracy}. Valid Loss: {loss_test}. Valid Acc: {accuracy_test}.')\n"
      ]
    },
    {
      "cell_type": "code",
      "execution_count": 31,
      "metadata": {
        "colab": {
          "base_uri": "https://localhost:8080/",
          "height": 584
        },
        "id": "a7Fp3ZaImIJn",
        "outputId": "732835f4-ffcd-48c0-cab8-31f56162a4b4"
      },
      "outputs": [
        {
          "data": {
            "text/plain": [
              "<matplotlib.legend.Legend at 0x1c6e82e3eb0>"
            ]
          },
          "execution_count": 31,
          "metadata": {},
          "output_type": "execute_result"
        },
        {
          "data": {
            "image/png": "[encoded data removed]",
            "text/plain": [
              "<Figure size 1152x648 with 1 Axes>"
            ]
          },
          "metadata": {
            "needs_background": "light"
          },
          "output_type": "display_data"
        }
      ],
      "source": [
        "fig = plt.figure(figsize = (16,9))\n",
        "numOfEpoch = 3001\n",
        "plt.plot(np.arange(0, numOfEpoch), trainLoss, label='Training Loss')\n",
        "plt.plot(testEp, testLoss, label='Validation Loss')\n",
        "plt.title('Loss Plot')\n",
        "plt.xlabel('Epoch')\n",
        "plt.ylabel('Loss')\n",
        "# plt.ylim((0.0,1.0))\n",
        "plt.legend()"
      ]
    },
    {
      "cell_type": "code",
      "execution_count": 32,
      "metadata": {
        "colab": {
          "base_uri": "https://localhost:8080/",
          "height": 584
        },
        "id": "z8HjBE-xmJ8v",
        "outputId": "147f4351-db0f-4ed0-87f4-88925ce2fb17"
      },
      "outputs": [
        {
          "data": {
            "text/plain": [
              "<matplotlib.legend.Legend at 0x1c6e83ba790>"
            ]
          },
          "execution_count": 32,
          "metadata": {},
          "output_type": "execute_result"
        },
        {
          "data": {
            "image/png": "[encoded data removed]",
            "text/plain": [
              "<Figure size 1152x648 with 1 Axes>"
            ]
          },
          "metadata": {
            "needs_background": "light"
          },
          "output_type": "display_data"
        }
      ],
      "source": [
        "fig = plt.figure(figsize = (16,9))\n",
        "numOfEpoch = 3001\n",
        "plt.plot(np.arange(0, numOfEpoch), trainAcc, label='Training Accuracy')\n",
        "plt.plot(testEp, testAcc, label='Validation Accuracy')\n",
        "plt.title('Accuracy Plot')\n",
        "plt.xlabel('Epoch')\n",
        "plt.ylabel('Accuracy')\n",
        "# plt.ylim((0.0,1.0))\n",
        "plt.legend()"
      ]
    },
    {
      "cell_type": "markdown",
      "metadata": {
        "id": "UlS_u0AMfr7U"
      },
      "source": [
        "Now apply regularization with lr = 0.005, weight_decay for U is 0.05"
      ]
    },
    {
      "cell_type": "code",
      "execution_count": 33,
      "metadata": {
        "id": "KDCNaqv6mcgW"
      },
      "outputs": [],
      "source": [
        "U = Variable(torch.randn(len_users, len_features, dtype = torch.float64), requires_grad=True)\n",
        "b = Variable(torch.randn(len_users, 1, dtype = torch.float64), requires_grad=True)"
      ]
    },
    {
      "cell_type": "code",
      "execution_count": 34,
      "metadata": {
        "id": "cXxUGF1ZftJ0"
      },
      "outputs": [],
      "source": [
        "criterion = nn.BCELoss()\n",
        "optimizer = torch.optim.Adam([U], lr = 0.005, weight_decay = 0.005)\n",
        "optimizer.add_param_group({'params': b, \"lr\": 0.005, \"weight_decay\": 0})"
      ]
    },
    {
      "cell_type": "code",
      "execution_count": 35,
      "metadata": {
        "id": "R0RGbm0vmeL_"
      },
      "outputs": [],
      "source": [
        "bestU = None\n",
        "bestb = None\n",
        "maxAcc = 0.0"
      ]
    },
    {
      "cell_type": "code",
      "execution_count": 36,
      "metadata": {
        "colab": {
          "base_uri": "https://localhost:8080/",
          "height": 1000,
          "referenced_widgets": [
            "fc35f20a0fb34d468d228799a2805b2b",
            "deca56a6862f49578c50bf6035cb28bb",
            "951d824df220485190ec3366939e3370",
            "118f18df621a4f3d9c4483f84dfd3efb",
            "ee17d8cabb844527b712b4011098ec07",
            "2548e84c88424a9e8351388119bd4abc",
            "ee92fbf0fb104e8c96b8c3c73d3e6caf",
            "bbf865fb84bd490ebe2c36d429b7c8bc",
            "d14401e2f18d4bb8aea9417c4c90684e",
            "344817c3a8b341ed9998f4a1e861a31c",
            "9ea8a4cec0564c318a8722ab9142c7ac"
          ]
        },
        "id": "VYzJ9OAzmV23",
        "outputId": "230ad7cd-0333-4ff3-8bc5-0c51c997f6dd"
      },
      "outputs": [
        {
          "data": {
            "application/vnd.jupyter.widget-view+json": {
              "model_id": "90a913de51ad4301a31d876bf01b8f70",
              "version_major": 2,
              "version_minor": 0
            },
            "text/plain": [
              "  0%|          | 0/3001 [00:00<?, ?it/s]"
            ]
          },
          "metadata": {},
          "output_type": "display_data"
        },
        {
          "name": "stdout",
          "output_type": "stream",
          "text": [
            "Epoch: 0. Train Loss: 2.5569805048205234. Train Acc: 0.5039756298065186. Valid Loss: 2.5966262827824558. Valid Acc: 0.4949634075164795.\n",
            "Epoch: 10. Train Loss: 2.442474453082978. Train Acc: 0.505995512008667. Valid Loss: 2.490494945551108. Valid Acc: 0.49655771255493164.\n",
            "Epoch: 20. Train Loss: 2.33217046848684. Train Acc: 0.5082398056983948. Valid Loss: 2.388677363579942. Valid Acc: 0.49684759974479675.\n",
            "Epoch: 30. Train Loss: 2.2226420669320337. Train Acc: 0.5092657804489136. Valid Loss: 2.291065953446026. Valid Acc: 0.4981520473957062.\n",
            "Epoch: 40. Train Loss: 2.125950136516534. Train Acc: 0.5113497972488403. Valid Loss: 2.197975935823121. Valid Acc: 0.4994564950466156.\n",
            "Epoch: 50. Train Loss: 2.0319113338513604. Train Acc: 0.5122795701026917. Valid Loss: 2.1045878378943477. Valid Acc: 0.5003260970115662.\n",
            "Epoch: 60. Train Loss: 1.9445614435401377. Train Acc: 0.5146842002868652. Valid Loss: 2.0151536471585048. Valid Acc: 0.5010508298873901.\n",
            "Epoch: 70. Train Loss: 1.8598214518266962. Train Acc: 0.5163514018058777. Valid Loss: 1.9344764205493281. Valid Acc: 0.5030074715614319.\n",
            "Epoch: 80. Train Loss: 1.7813517735652862. Train Acc: 0.518852174282074. Valid Loss: 1.8578326388254827. Valid Acc: 0.5049641132354736.\n",
            "Epoch: 90. Train Loss: 1.706960709192514. Train Acc: 0.5211285948753357. Valid Loss: 1.7850540997448794. Valid Acc: 0.5070657134056091.\n",
            "Epoch: 100. Train Loss: 1.636516873385074. Train Acc: 0.5236614346504211. Valid Loss: 1.7161048610785787. Valid Acc: 0.5090948343276978.\n",
            "Epoch: 110. Train Loss: 1.5698296825135392. Train Acc: 0.5250400900840759. Valid Loss: 1.6507680530659952. Valid Acc: 0.5112689137458801.\n",
            "Epoch: 120. Train Loss: 1.5065898282143912. Train Acc: 0.5284706354141235. Valid Loss: 1.5887734693233824. Valid Acc: 0.5153272151947021.\n",
            "Epoch: 130. Train Loss: 1.446944682336704. Train Acc: 0.5308752655982971. Valid Loss: 1.5301524431040694. Valid Acc: 0.5178636312484741.\n",
            "Epoch: 140. Train Loss: 1.3906249241126518. Train Acc: 0.5339531898498535. Valid Loss: 1.4747606362379022. Valid Acc: 0.5211247205734253.\n",
            "Epoch: 150. Train Loss: 1.3375312289229389. Train Acc: 0.5373517274856567. Valid Loss: 1.4224823647117937. Valid Acc: 0.5217769145965576.\n",
            "Epoch: 160. Train Loss: 1.2874914913657847. Train Acc: 0.5409746766090393. Valid Loss: 1.3731286580597146. Valid Acc: 0.5254004001617432.\n",
            "Epoch: 170. Train Loss: 1.240351329134296. Train Acc: 0.5449182391166687. Valid Loss: 1.3265460350963. Valid Acc: 0.5284441113471985.\n",
            "Epoch: 180. Train Loss: 1.1959815377164142. Train Acc: 0.5482205748558044. Valid Loss: 1.2825903240457561. Valid Acc: 0.5316327214241028.\n",
            "Epoch: 190. Train Loss: 1.1542237144694352. Train Acc: 0.5527092218399048. Valid Loss: 1.2411269962449327. Valid Acc: 0.533879280090332.\n",
            "Epoch: 200. Train Loss: 1.1149585209776347. Train Acc: 0.5570054650306702. Valid Loss: 1.2020447682235067. Valid Acc: 0.5368505120277405.\n",
            "Epoch: 210. Train Loss: 1.0780604616048057. Train Acc: 0.5608207583427429. Valid Loss: 1.165228026772001. Valid Acc: 0.5390245914459229.\n",
            "Epoch: 220. Train Loss: 1.0434196713152146. Train Acc: 0.5652452707290649. Valid Loss: 1.1305696620404508. Valid Acc: 0.5424306392669678.\n",
            "Epoch: 230. Train Loss: 1.010927786689808. Train Acc: 0.5694453120231628. Valid Loss: 1.0979677212839354. Valid Acc: 0.5451119542121887.\n",
            "Epoch: 240. Train Loss: 0.9804761724997524. Train Acc: 0.5740942358970642. Valid Loss: 1.0673232379360196. Valid Acc: 0.5468512177467346.\n",
            "Epoch: 250. Train Loss: 0.9519563718674441. Train Acc: 0.5789355635643005. Valid Loss: 1.0385402042069307. Valid Acc: 0.5493151545524597.\n",
            "Epoch: 260. Train Loss: 0.9252642869605495. Train Acc: 0.5830073952674866. Valid Loss: 1.0115253694815833. Valid Acc: 0.5505471229553223.\n",
            "Epoch: 270. Train Loss: 0.9003016524907888. Train Acc: 0.587303638458252. Valid Loss: 0.9861883553525944. Valid Acc: 0.5543879866600037.\n",
            "Epoch: 280. Train Loss: 0.8769742082054212. Train Acc: 0.5913113355636597. Valid Loss: 0.962441540288356. Valid Acc: 0.557431697845459.\n",
            "Epoch: 290. Train Loss: 0.8551901089971269. Train Acc: 0.5960243940353394. Valid Loss: 0.9401995549464066. Valid Acc: 0.5606927871704102.\n",
            "Epoch: 300. Train Loss: 0.8348594135982775. Train Acc: 0.6002565026283264. Valid Loss: 0.9193794386971048. Valid Acc: 0.5656207203865051.\n",
            "Epoch: 310. Train Loss: 0.8158947200956543. Train Acc: 0.6041038632392883. Valid Loss: 0.8999007602070673. Valid Acc: 0.5684469938278198.\n",
            "Epoch: 320. Train Loss: 0.7982120618426883. Train Acc: 0.6077268123626709. Valid Loss: 0.8816858839858362. Valid Acc: 0.5714182257652283.\n",
            "Epoch: 330. Train Loss: 0.7817314206823806. Train Acc: 0.6120871901512146. Valid Loss: 0.8646602826455291. Valid Acc: 0.5751866102218628.\n",
            "Epoch: 340. Train Loss: 0.7663768946589309. Train Acc: 0.6159346103668213. Valid Loss: 0.8487526905806292. Valid Acc: 0.5790999531745911.\n",
            "Epoch: 350. Train Loss: 0.7520766771612636. Train Acc: 0.6196857690811157. Valid Loss: 0.8338950970214879. Valid Acc: 0.5811290740966797.\n",
            "Epoch: 360. Train Loss: 0.7387629300779279. Train Acc: 0.6235973238945007. Valid Loss: 0.8200227202731398. Valid Acc: 0.5847525000572205.\n",
            "Epoch: 370. Train Loss: 0.7263716304991448. Train Acc: 0.6272523403167725. Valid Loss: 0.8070740824801175. Valid Acc: 0.5891006588935852.\n",
            "Epoch: 380. Train Loss: 0.7148424205055041. Train Acc: 0.6319653987884521. Valid Loss: 0.7949911022542812. Valid Acc: 0.592579185962677.\n",
            "Epoch: 390. Train Loss: 0.7041184527763797. Train Acc: 0.6361975073814392. Valid Loss: 0.7837190582309984. Valid Acc: 0.5956953167915344.\n",
            "Epoch: 400. Train Loss: 0.6941462265332136. Train Acc: 0.6409426331520081. Valid Loss: 0.7732063949604444. Valid Acc: 0.5988839864730835.\n",
            "Epoch: 410. Train Loss: 0.6848754250727672. Train Acc: 0.6446937918663025. Valid Loss: 0.763404478577551. Valid Acc: 0.6024349331855774.\n",
            "Epoch: 420. Train Loss: 0.6762587660943088. Train Acc: 0.6480602622032166. Valid Loss: 0.7542674050581046. Valid Acc: 0.6045365333557129.\n",
            "Epoch: 430. Train Loss: 0.668251860032386. Train Acc: 0.6513625979423523. Valid Loss: 0.7457518800575567. Valid Acc: 0.6075077652931213.\n",
            "Epoch: 440. Train Loss: 0.6608130683033457. Train Acc: 0.6547290682792664. Valid Loss: 0.7378171392641336. Valid Acc: 0.6104789972305298.\n",
            "Epoch: 450. Train Loss: 0.6539033608006982. Train Acc: 0.6573260426521301. Valid Loss: 0.7304248750473071. Valid Acc: 0.6136676669120789.\n",
            "Epoch: 460. Train Loss: 0.6474861779107551. Train Acc: 0.66085284948349. Valid Loss: 0.7235391513614772. Valid Acc: 0.6159866452217102.\n",
            "Epoch: 470. Train Loss: 0.64152730200855. Train Acc: 0.6635780930519104. Valid Loss: 0.7171262982489662. Valid Acc: 0.618595540523529.\n",
            "Epoch: 480. Train Loss: 0.6359948997586412. Train Acc: 0.6654055714607239. Valid Loss: 0.7111537685080016. Valid Acc: 0.6206971406936646.\n",
            "Epoch: 490. Train Loss: 0.6308584950342184. Train Acc: 0.6674895882606506. Valid Loss: 0.705595839105209. Valid Acc: 0.6225088834762573.\n",
            "Epoch: 500. Train Loss: 0.6260909286506509. Train Acc: 0.6694774031639099. Valid Loss: 0.7004202988062231. Valid Acc: 0.6243206262588501.\n",
            "Epoch: 510. Train Loss: 0.6216658905214594. Train Acc: 0.6716254949569702. Valid Loss: 0.6956033894307557. Valid Acc: 0.6255525946617126.\n",
            "Epoch: 520. Train Loss: 0.6175591707147688. Train Acc: 0.672491192817688. Valid Loss: 0.6911209512515278. Valid Acc: 0.6255525946617126.\n",
            "Epoch: 530. Train Loss: 0.6137482244204469. Train Acc: 0.6744469404220581. Valid Loss: 0.6869503996857347. Valid Acc: 0.6264946460723877.\n",
            "Epoch: 540. Train Loss: 0.610212057832195. Train Acc: 0.6756331920623779. Valid Loss: 0.683070626873612. Valid Acc: 0.6272918581962585.\n",
            "Epoch: 550. Train Loss: 0.6069311199988482. Train Acc: 0.6766270995140076. Valid Loss: 0.6794619118294086. Valid Acc: 0.6277990937232971.\n",
            "Epoch: 560. Train Loss: 0.6038872000209391. Train Acc: 0.6782302260398865. Valid Loss: 0.6761058302635228. Valid Acc: 0.6284513473510742.\n",
            "Epoch: 570. Train Loss: 0.6010633347244598. Train Acc: 0.6796729564666748. Valid Loss: 0.6729851657494954. Valid Acc: 0.6291760206222534.\n",
            "Epoch: 580. Train Loss: 0.598443725449285. Train Acc: 0.6802180409431458. Valid Loss: 0.6700838260281944. Valid Acc: 0.629538357257843.\n",
            "Epoch: 590. Train Loss: 0.5960136603024159. Train Acc: 0.6815646290779114. Valid Loss: 0.6673867801576. Valid Acc: 0.6298282742500305.\n",
            "Epoch: 600. Train Loss: 0.5937594415073055. Train Acc: 0.6826226115226746. Valid Loss: 0.6648800094465853. Valid Acc: 0.6308428049087524.\n",
            "Epoch: 610. Train Loss: 0.5916683236144877. Train Acc: 0.6832959055900574. Valid Loss: 0.6625504341959911. Valid Acc: 0.631205141544342.\n",
            "Epoch: 620. Train Loss: 0.5897284586209409. Train Acc: 0.6836806535720825. Valid Loss: 0.6603858324635513. Valid Acc: 0.6316399574279785.\n",
            "Epoch: 630. Train Loss: 0.5879288362273336. Train Acc: 0.6853799223899841. Valid Loss: 0.6583748003344191. Valid Acc: 0.6326545476913452.\n",
            "Epoch: 640. Train Loss: 0.586259229347758. Train Acc: 0.6860852837562561. Valid Loss: 0.6565067022310072. Valid Acc: 0.6322197318077087.\n",
            "Epoch: 650. Train Loss: 0.5847101453406974. Train Acc: 0.6869509220123291. Valid Loss: 0.6547716109145996. Valid Acc: 0.6326545476913452.\n",
            "Epoch: 660. Train Loss: 0.5832727751590234. Train Acc: 0.687848687171936. Valid Loss: 0.653160270999698. Valid Acc: 0.6341038942337036.\n",
            "Epoch: 670. Train Loss: 0.5819389484927142. Train Acc: 0.6888746619224548. Valid Loss: 0.6516640503976618. Valid Acc: 0.6346836686134338.\n",
            "Epoch: 680. Train Loss: 0.5807010892525934. Train Acc: 0.6892914175987244. Valid Loss: 0.650274903648053. Valid Acc: 0.6350460052490234.\n",
            "Epoch: 690. Train Loss: 0.5795521748016812. Train Acc: 0.6906700730323792. Valid Loss: 0.6489853323905982. Valid Acc: 0.6358431577682495.\n",
            "Epoch: 700. Train Loss: 0.5784856968810675. Train Acc: 0.6912792325019836. Valid Loss: 0.6477883510257052. Valid Acc: 0.6365678906440735.\n",
            "Epoch: 710. Train Loss: 0.5774956252263809. Train Acc: 0.6922731399536133. Valid Loss: 0.6466774531505205. Valid Acc: 0.6372200846672058.\n",
            "Epoch: 720. Train Loss: 0.5765763734185562. Train Acc: 0.6929785013198853. Valid Loss: 0.6456465802304809. Valid Acc: 0.6367127895355225.\n",
            "Epoch: 730. Train Loss: 0.5757227669282414. Train Acc: 0.6937159299850464. Valid Loss: 0.6446900922222911. Valid Acc: 0.6375824213027954.\n",
            "Epoch: 740. Train Loss: 0.5749300133173848. Train Acc: 0.6952548623085022. Valid Loss: 0.6438027398314388. Valid Acc: 0.6375099420547485.\n",
            "Epoch: 750. Train Loss: 0.5741936744517023. Train Acc: 0.695767879486084. Valid Loss: 0.6429796384495361. Valid Acc: 0.6384520530700684.\n",
            "Epoch: 760. Train Loss: 0.573509640602731. Train Acc: 0.6966976523399353. Valid Loss: 0.6422162436957598. Valid Acc: 0.6390318274497986.\n",
            "Epoch: 770. Train Loss: 0.5728741063228523. Train Acc: 0.6976594924926758. Valid Loss: 0.6415083284752112. Valid Acc: 0.6393941640853882.\n",
            "Epoch: 780. Train Loss: 0.572283547979364. Train Acc: 0.6982365846633911. Valid Loss: 0.6408519614814093. Valid Acc: 0.6401188373565674.\n",
            "Epoch: 790. Train Loss: 0.5717347028433459. Train Acc: 0.6983327865600586. Valid Loss: 0.6402434870697512. Valid Acc: 0.6402637958526611.\n",
            "Epoch: 800. Train Loss: 0.5712245496397709. Train Acc: 0.6986854672431946. Valid Loss: 0.6396795064266393. Valid Acc: 0.6406261324882507.\n",
            "Epoch: 810. Train Loss: 0.5707502904742602. Train Acc: 0.6991664171218872. Valid Loss: 0.6391568599588555. Valid Acc: 0.6407710909843445.\n",
            "Epoch: 820. Train Loss: 0.5703093340584111. Train Acc: 0.6995190978050232. Valid Loss: 0.6386726108291353. Valid Acc: 0.641205906867981.\n",
            "Epoch: 830. Train Loss: 0.5698992801597097. Train Acc: 0.7002564668655396. Valid Loss: 0.6382240295667356. Valid Acc: 0.6412783265113831.\n",
            "Epoch: 840. Train Loss: 0.5695179052040868. Train Acc: 0.7006091475486755. Valid Loss: 0.6378085796861751. Valid Acc: 0.6416407227516174.\n",
            "Epoch: 850. Train Loss: 0.569163148960691. Train Acc: 0.7010900974273682. Valid Loss: 0.6374239042505978. Valid Acc: 0.6413508057594299.\n",
            "Epoch: 860. Train Loss: 0.5688331022392427. Train Acc: 0.7017954587936401. Valid Loss: 0.6370678133207394. Valid Acc: 0.6414957642555237.\n",
            "Epoch: 870. Train Loss: 0.5685259955309439. Train Acc: 0.7018595933914185. Valid Loss: 0.6367382722358044. Valid Acc: 0.6414232850074768.\n",
            "Epoch: 880. Train Loss: 0.5682401885258946. Train Acc: 0.7021481394767761. Valid Loss: 0.6364333906751584. Valid Acc: 0.6413508057594299.\n",
            "Epoch: 890. Train Loss: 0.5679741604418078. Train Acc: 0.7023404836654663. Valid Loss: 0.6361514124541913. Valid Acc: 0.6417131423950195.\n",
            "Epoch: 900. Train Loss: 0.5677265011019307. Train Acc: 0.702276349067688. Valid Loss: 0.635890706009974. Valid Acc: 0.6416407227516174.\n",
            "Epoch: 910. Train Loss: 0.5674959027082168. Train Acc: 0.7025328874588013. Valid Loss: 0.6356497555229392. Valid Acc: 0.642147958278656.\n",
            "Epoch: 920. Train Loss: 0.5672811524542419. Train Acc: 0.702629029750824. Valid Loss: 0.635427152135368. Valid Acc: 0.6424378752708435.\n",
            "Epoch: 930. Train Loss: 0.567081137436825. Train Acc: 0.7026931643486023. Valid Loss: 0.6352215567229303. Valid Acc: 0.6427277326583862.\n",
            "Epoch: 940. Train Loss: 0.5668947961086517. Train Acc: 0.7028214335441589. Valid Loss: 0.6350317961400513. Valid Acc: 0.6433799266815186.\n",
            "Epoch: 950. Train Loss: 0.5667210581219213. Train Acc: 0.7030779123306274. Valid Loss: 0.634856997148064. Valid Acc: 0.6434524059295654.\n",
            "Epoch: 960. Train Loss: 0.5665593527064838. Train Acc: 0.7035588622093201. Valid Loss: 0.6346952884608603. Valid Acc: 0.643669843673706.\n",
            "Epoch: 970. Train Loss: 0.566408434039057. Train Acc: 0.7038794755935669. Valid Loss: 0.6345467198625817. Valid Acc: 0.643669843673706.\n",
            "Epoch: 980. Train Loss: 0.5662678189118636. Train Acc: 0.7039756178855896. Valid Loss: 0.6344096637939429. Valid Acc: 0.6439597010612488.\n",
            "Epoch: 990. Train Loss: 0.5661366364066953. Train Acc: 0.7040397524833679. Valid Loss: 0.634283650695808. Valid Acc: 0.6441771388053894.\n",
            "Epoch: 1000. Train Loss: 0.5660142982994322. Train Acc: 0.7040718197822571. Valid Loss: 0.6341677045903257. Valid Acc: 0.6442495584487915.\n",
            "Epoch: 1010. Train Loss: 0.5659001389941571. Train Acc: 0.7041038870811462. Valid Loss: 0.634061208054444. Valid Acc: 0.643814742565155.\n",
            "Epoch: 1020. Train Loss: 0.5657936142926256. Train Acc: 0.7042000889778137. Valid Loss: 0.6339634090760926. Valid Acc: 0.6440321803092957.\n",
            "Epoch: 1030. Train Loss: 0.5656941409059838. Train Acc: 0.7044886350631714. Valid Loss: 0.6338737209600623. Valid Acc: 0.6441046595573425.\n",
            "Epoch: 1040. Train Loss: 0.5656015102347536. Train Acc: 0.7044886350631714. Valid Loss: 0.6337916308680599. Valid Acc: 0.643814742565155.\n",
            "Epoch: 1050. Train Loss: 0.5655145158186786. Train Acc: 0.7046809792518616. Valid Loss: 0.633716321144255. Valid Acc: 0.6438872218132019.\n",
            "Epoch: 1060. Train Loss: 0.5654335492071771. Train Acc: 0.7047451138496399. Valid Loss: 0.6336476039585354. Valid Acc: 0.6438872218132019.\n",
            "Epoch: 1070. Train Loss: 0.5653579021566284. Train Acc: 0.7046489119529724. Valid Loss: 0.6335848832334118. Valid Acc: 0.6441046595573425.\n",
            "Epoch: 1080. Train Loss: 0.5652870990821732. Train Acc: 0.7046809792518616. Valid Loss: 0.6335276832970067. Valid Acc: 0.6439597010612488.\n",
            "Epoch: 1090. Train Loss: 0.5652208944682597. Train Acc: 0.7046489119529724. Valid Loss: 0.6334756353573734. Valid Acc: 0.6443220376968384.\n",
            "Epoch: 1100. Train Loss: 0.5651589989878051. Train Acc: 0.7047451138496399. Valid Loss: 0.6334283722383317. Valid Acc: 0.6443220376968384.\n",
            "Epoch: 1110. Train Loss: 0.5651010704399497. Train Acc: 0.7046489119529724. Valid Loss: 0.6333855248686773. Valid Acc: 0.6443945169448853.\n",
            "Epoch: 1120. Train Loss: 0.5650468349409304. Train Acc: 0.7045527696609497. Valid Loss: 0.6333467675004578. Valid Acc: 0.6443220376968384.\n",
            "Epoch: 1130. Train Loss: 0.5649960555598296. Train Acc: 0.7046809792518616. Valid Loss: 0.6333118041319555. Valid Acc: 0.6443945169448853.\n",
            "Epoch: 1140. Train Loss: 0.5649484829312318. Train Acc: 0.7046809792518616. Valid Loss: 0.6332803483488211. Valid Acc: 0.6439597010612488.\n",
            "Epoch: 1150. Train Loss: 0.5649038971376341. Train Acc: 0.704777181148529. Valid Loss: 0.6332521387353387. Valid Acc: 0.6441046595573425.\n",
            "Epoch: 1160. Train Loss: 0.5648620962965952. Train Acc: 0.7050336599349976. Valid Loss: 0.6332269334962746. Valid Acc: 0.6443220376968384.\n",
            "Epoch: 1170. Train Loss: 0.5648228860805432. Train Acc: 0.7051619291305542. Valid Loss: 0.6332045055156124. Valid Acc: 0.644684374332428.\n",
            "Epoch: 1180. Train Loss: 0.5647860912686676. Train Acc: 0.7051619291305542. Valid Loss: 0.6331846463097726. Valid Acc: 0.6449742913246155.\n",
            "Epoch: 1190. Train Loss: 0.5647515474643078. Train Acc: 0.7052260637283325. Valid Loss: 0.6331671850783048. Valid Acc: 0.6446119546890259.\n",
            "Epoch: 1200. Train Loss: 0.5647190839486731. Train Acc: 0.7051939964294434. Valid Loss: 0.633151693747763. Valid Acc: 0.6448293328285217.\n",
            "Epoch: 1210. Train Loss: 0.5646885941357047. Train Acc: 0.7052901387214661. Valid Loss: 0.6331387005257523. Valid Acc: 0.6449742913246155.\n",
            "Epoch: 1220. Train Loss: 0.5646599221813864. Train Acc: 0.7053542733192444. Valid Loss: 0.6331271575349526. Valid Acc: 0.644684374332428.\n",
            "Epoch: 1230. Train Loss: 0.5646330412077037. Train Acc: 0.7055466771125793. Valid Loss: 0.6331175328251832. Valid Acc: 0.6446119546890259.\n",
            "Epoch: 1240. Train Loss: 0.5646075043917352. Train Acc: 0.705642819404602. Valid Loss: 0.6331094700549139. Valid Acc: 0.6443945169448853.\n",
            "Epoch: 1250. Train Loss: 0.5645836802356295. Train Acc: 0.705642819404602. Valid Loss: 0.6331028376367315. Valid Acc: 0.6443945169448853.\n",
            "Epoch: 1260. Train Loss: 0.5645611229189472. Train Acc: 0.705642819404602. Valid Loss: 0.6330975626122964. Valid Acc: 0.6443945169448853.\n",
            "Epoch: 1270. Train Loss: 0.5645397332766716. Train Acc: 0.7057069540023804. Valid Loss: 0.6330936963716449. Valid Acc: 0.6444669961929321.\n",
            "Epoch: 1280. Train Loss: 0.5645198641524648. Train Acc: 0.7057390213012695. Valid Loss: 0.6330904578609639. Valid Acc: 0.644539475440979.\n",
            "Epoch: 1290. Train Loss: 0.5645009511879292. Train Acc: 0.7057069540023804. Valid Loss: 0.6330887215469275. Valid Acc: 0.6448293328285217.\n",
            "Epoch: 1300. Train Loss: 0.5644829215943796. Train Acc: 0.7058672904968262. Valid Loss: 0.6330881522296786. Valid Acc: 0.6448293328285217.\n",
            "Epoch: 1310. Train Loss: 0.5644660251768338. Train Acc: 0.7059313654899597. Valid Loss: 0.6330889780217802. Valid Acc: 0.6449018120765686.\n",
            "Epoch: 1320. Train Loss: 0.5644500870327677. Train Acc: 0.7059313654899597. Valid Loss: 0.6330886241875487. Valid Acc: 0.6451916694641113.\n",
            "Epoch: 1330. Train Loss: 0.564434800292451. Train Acc: 0.705995500087738. Valid Loss: 0.6330907373185787. Valid Acc: 0.6451191902160645.\n",
            "Epoch: 1340. Train Loss: 0.5644205477315868. Train Acc: 0.7059313654899597. Valid Loss: 0.6330932625407841. Valid Acc: 0.6451916694641113.\n",
            "Epoch: 1350. Train Loss: 0.5644069015303579. Train Acc: 0.705835223197937. Valid Loss: 0.6330960753840532. Valid Acc: 0.6451916694641113.\n",
            "Epoch: 1360. Train Loss: 0.5643940719691946. Train Acc: 0.7058031558990479. Valid Loss: 0.6330998033139699. Valid Acc: 0.6452641487121582.\n",
            "Epoch: 1370. Train Loss: 0.5643818188242562. Train Acc: 0.7058672904968262. Valid Loss: 0.6331037589850915. Valid Acc: 0.645481526851654.\n",
            "Epoch: 1380. Train Loss: 0.5643702095337103. Train Acc: 0.7058992981910706. Valid Loss: 0.6331081625148404. Valid Acc: 0.6455540060997009.\n",
            "Epoch: 1390. Train Loss: 0.564359066979046. Train Acc: 0.7059634327888489. Valid Loss: 0.6331133108375331. Valid Acc: 0.6456264853477478.\n",
            "Epoch: 1400. Train Loss: 0.564348668106181. Train Acc: 0.7059313654899597. Valid Loss: 0.6331189137740441. Valid Acc: 0.6456264853477478.\n",
            "Epoch: 1410. Train Loss: 0.5643385033083025. Train Acc: 0.7058992981910706. Valid Loss: 0.6331247352077553. Valid Acc: 0.6456989645957947.\n",
            "Epoch: 1420. Train Loss: 0.5643289463186064. Train Acc: 0.7060596346855164. Valid Loss: 0.6331312248480762. Valid Acc: 0.6456989645957947.\n",
            "Epoch: 1430. Train Loss: 0.5643198182664357. Train Acc: 0.7060275673866272. Valid Loss: 0.6331374390743555. Valid Acc: 0.6456264853477478.\n",
            "Epoch: 1440. Train Loss: 0.5643110628085265. Train Acc: 0.7060917019844055. Valid Loss: 0.6331444376681614. Valid Acc: 0.6456264853477478.\n",
            "Epoch: 1450. Train Loss: 0.5643025054512073. Train Acc: 0.7060596346855164. Valid Loss: 0.6331516821879968. Valid Acc: 0.6455540060997009.\n",
            "Epoch: 1460. Train Loss: 0.564294881669816. Train Acc: 0.7060275673866272. Valid Loss: 0.6331586778464267. Valid Acc: 0.6455540060997009.\n",
            "Epoch: 1470. Train Loss: 0.5642869573174242. Train Acc: 0.7060917019844055. Valid Loss: 0.6331661178271977. Valid Acc: 0.6456264853477478.\n",
            "Epoch: 1480. Train Loss: 0.5642799818795323. Train Acc: 0.7060917019844055. Valid Loss: 0.6331741095222257. Valid Acc: 0.6455540060997009.\n",
            "Epoch: 1490. Train Loss: 0.564272841927933. Train Acc: 0.7060917019844055. Valid Loss: 0.6331819530062331. Valid Acc: 0.645481526851654.\n",
            "Epoch: 1500. Train Loss: 0.5642662992306164. Train Acc: 0.705995500087738. Valid Loss: 0.6331902845082663. Valid Acc: 0.645481526851654.\n",
            "Epoch: 1510. Train Loss: 0.5642596231874051. Train Acc: 0.705995500087738. Valid Loss: 0.6331985408716855. Valid Acc: 0.645409107208252.\n",
            "Epoch: 1520. Train Loss: 0.5642535379770418. Train Acc: 0.7060917019844055. Valid Loss: 0.6332070893642768. Valid Acc: 0.645481526851654.\n",
            "Epoch: 1530. Train Loss: 0.564247755102305. Train Acc: 0.7060275673866272. Valid Loss: 0.6332149222704694. Valid Acc: 0.645481526851654.\n",
            "Epoch: 1540. Train Loss: 0.5642418436244956. Train Acc: 0.7060596346855164. Valid Loss: 0.6332240052088431. Valid Acc: 0.645409107208252.\n",
            "Epoch: 1550. Train Loss: 0.5642362263432492. Train Acc: 0.7060596346855164. Valid Loss: 0.6332326549811443. Valid Acc: 0.6455540060997009.\n",
            "Epoch: 1560. Train Loss: 0.5642309915522032. Train Acc: 0.7061237692832947. Valid Loss: 0.6332413585535008. Valid Acc: 0.6456989645957947.\n",
            "Epoch: 1570. Train Loss: 0.5642260069565175. Train Acc: 0.7060596346855164. Valid Loss: 0.633250293550667. Valid Acc: 0.6456989645957947.\n",
            "Epoch: 1580. Train Loss: 0.5642210576999372. Train Acc: 0.7060596346855164. Valid Loss: 0.6332592192653629. Valid Acc: 0.6456989645957947.\n",
            "Epoch: 1590. Train Loss: 0.564216262963246. Train Acc: 0.7060596346855164. Valid Loss: 0.6332683647090425. Valid Acc: 0.6456989645957947.\n",
            "Epoch: 1600. Train Loss: 0.5642117061460874. Train Acc: 0.7060596346855164. Valid Loss: 0.6332774448579389. Valid Acc: 0.6456989645957947.\n",
            "Epoch: 1610. Train Loss: 0.5642072037481927. Train Acc: 0.7060596346855164. Valid Loss: 0.6332865328167389. Valid Acc: 0.6456989645957947.\n",
            "Epoch: 1620. Train Loss: 0.564202930388509. Train Acc: 0.7060596346855164. Valid Loss: 0.6332958402117994. Valid Acc: 0.6456989645957947.\n",
            "Epoch: 1630. Train Loss: 0.5641988200289605. Train Acc: 0.7060596346855164. Valid Loss: 0.6333047936906305. Valid Acc: 0.6456989645957947.\n",
            "Epoch: 1640. Train Loss: 0.5641947173449504. Train Acc: 0.7060596346855164. Valid Loss: 0.6333143097378222. Valid Acc: 0.6456989645957947.\n",
            "Epoch: 1650. Train Loss: 0.5641907404384711. Train Acc: 0.7060596346855164. Valid Loss: 0.6333234633136996. Valid Acc: 0.6456989645957947.\n",
            "Epoch: 1660. Train Loss: 0.5641869410664465. Train Acc: 0.7060275673866272. Valid Loss: 0.6333326964771046. Valid Acc: 0.6456989645957947.\n",
            "Epoch: 1670. Train Loss: 0.5641832755832129. Train Acc: 0.7060275673866272. Valid Loss: 0.6333424406166624. Valid Acc: 0.6456989645957947.\n",
            "Epoch: 1680. Train Loss: 0.5641797662485234. Train Acc: 0.7060275673866272. Valid Loss: 0.6333516080620261. Valid Acc: 0.6456989645957947.\n",
            "Epoch: 1690. Train Loss: 0.564176054626127. Train Acc: 0.705995500087738. Valid Loss: 0.6333609225999643. Valid Acc: 0.6456989645957947.\n",
            "Epoch: 1700. Train Loss: 0.5641729826717786. Train Acc: 0.705995500087738. Valid Loss: 0.6333705009774506. Valid Acc: 0.6456264853477478.\n",
            "Epoch: 1710. Train Loss: 0.5641690120723728. Train Acc: 0.7059634327888489. Valid Loss: 0.6333800716713834. Valid Acc: 0.6456264853477478.\n",
            "Epoch: 1720. Train Loss: 0.5641665413683824. Train Acc: 0.7059634327888489. Valid Loss: 0.6333891065625056. Valid Acc: 0.6456264853477478.\n",
            "Epoch: 1730. Train Loss: 0.5641631160305903. Train Acc: 0.7059634327888489. Valid Loss: 0.6333985726600468. Valid Acc: 0.6456264853477478.\n",
            "Epoch: 1740. Train Loss: 0.5641603201842097. Train Acc: 0.7059313654899597. Valid Loss: 0.6334079073847549. Valid Acc: 0.6456264853477478.\n",
            "Epoch: 1750. Train Loss: 0.5641571282124035. Train Acc: 0.7059313654899597. Valid Loss: 0.6334177938107529. Valid Acc: 0.6455540060997009.\n",
            "Epoch: 1760. Train Loss: 0.5641543689963215. Train Acc: 0.7059313654899597. Valid Loss: 0.6334268751577702. Valid Acc: 0.6456264853477478.\n",
            "Epoch: 1770. Train Loss: 0.5641514227603055. Train Acc: 0.7059313654899597. Valid Loss: 0.6334363573716535. Valid Acc: 0.6456264853477478.\n",
            "Epoch: 1780. Train Loss: 0.5641489200938709. Train Acc: 0.7058992981910706. Valid Loss: 0.6334454692888508. Valid Acc: 0.6455540060997009.\n",
            "Epoch: 1790. Train Loss: 0.5641462220698168. Train Acc: 0.7058992981910706. Valid Loss: 0.633454997049209. Valid Acc: 0.645481526851654.\n",
            "Epoch: 1800. Train Loss: 0.5641436275512975. Train Acc: 0.7059634327888489. Valid Loss: 0.6334643291212474. Valid Acc: 0.645481526851654.\n",
            "Epoch: 1810. Train Loss: 0.5641409794954603. Train Acc: 0.705995500087738. Valid Loss: 0.633474260023349. Valid Acc: 0.645481526851654.\n",
            "Epoch: 1820. Train Loss: 0.5641388262723436. Train Acc: 0.705995500087738. Valid Loss: 0.6334832330693644. Valid Acc: 0.645481526851654.\n",
            "Epoch: 1830. Train Loss: 0.5641360317866261. Train Acc: 0.705995500087738. Valid Loss: 0.6334922960143266. Valid Acc: 0.645481526851654.\n",
            "Epoch: 1840. Train Loss: 0.5641339265183909. Train Acc: 0.705995500087738. Valid Loss: 0.6335018139031128. Valid Acc: 0.645481526851654.\n",
            "Epoch: 1850. Train Loss: 0.5641314142260121. Train Acc: 0.7060275673866272. Valid Loss: 0.6335114643644952. Valid Acc: 0.6455540060997009.\n",
            "Epoch: 1860. Train Loss: 0.5641293458665645. Train Acc: 0.7060275673866272. Valid Loss: 0.6335202954151813. Valid Acc: 0.6455540060997009.\n",
            "Epoch: 1870. Train Loss: 0.5641270102219919. Train Acc: 0.7060275673866272. Valid Loss: 0.6335296980922824. Valid Acc: 0.6455540060997009.\n",
            "Epoch: 1880. Train Loss: 0.5641248095091395. Train Acc: 0.7060275673866272. Valid Loss: 0.6335391327429287. Valid Acc: 0.6455540060997009.\n",
            "Epoch: 1890. Train Loss: 0.5641227793740391. Train Acc: 0.7060275673866272. Valid Loss: 0.6335483492525705. Valid Acc: 0.6455540060997009.\n",
            "Epoch: 1900. Train Loss: 0.5641206411195956. Train Acc: 0.705995500087738. Valid Loss: 0.6335577839609468. Valid Acc: 0.6455540060997009.\n",
            "Epoch: 1910. Train Loss: 0.5641184995241091. Train Acc: 0.705995500087738. Valid Loss: 0.6335668996829908. Valid Acc: 0.6455540060997009.\n",
            "Epoch: 1920. Train Loss: 0.5641166469961088. Train Acc: 0.705995500087738. Valid Loss: 0.6335761315838384. Valid Acc: 0.6455540060997009.\n",
            "Epoch: 1930. Train Loss: 0.5641145403143472. Train Acc: 0.705995500087738. Valid Loss: 0.6335855951234901. Valid Acc: 0.6456264853477478.\n",
            "Epoch: 1940. Train Loss: 0.5641128646361008. Train Acc: 0.705995500087738. Valid Loss: 0.6335953063871949. Valid Acc: 0.6455540060997009.\n",
            "Epoch: 1950. Train Loss: 0.5641108862120023. Train Acc: 0.705995500087738. Valid Loss: 0.6336029366058615. Valid Acc: 0.6455540060997009.\n",
            "Epoch: 1960. Train Loss: 0.5641090221730577. Train Acc: 0.705995500087738. Valid Loss: 0.6336132364991266. Valid Acc: 0.6455540060997009.\n",
            "Epoch: 1970. Train Loss: 0.5641075252352793. Train Acc: 0.705995500087738. Valid Loss: 0.633621835563106. Valid Acc: 0.6455540060997009.\n",
            "Epoch: 1980. Train Loss: 0.5641052680238874. Train Acc: 0.705995500087738. Valid Loss: 0.6336312313190507. Valid Acc: 0.6455540060997009.\n",
            "Epoch: 1990. Train Loss: 0.5641036304801332. Train Acc: 0.705995500087738. Valid Loss: 0.6336396478136173. Valid Acc: 0.6455540060997009.\n",
            "Epoch: 2000. Train Loss: 0.5641024109407287. Train Acc: 0.705995500087738. Valid Loss: 0.6336493110746136. Valid Acc: 0.6455540060997009.\n",
            "Epoch: 2010. Train Loss: 0.564100386801768. Train Acc: 0.705995500087738. Valid Loss: 0.6336582228487722. Valid Acc: 0.6455540060997009.\n",
            "Epoch: 2020. Train Loss: 0.5640989600029285. Train Acc: 0.7059634327888489. Valid Loss: 0.6336667625463882. Valid Acc: 0.6455540060997009.\n",
            "Epoch: 2030. Train Loss: 0.5640971948886122. Train Acc: 0.7059634327888489. Valid Loss: 0.6336762874639744. Valid Acc: 0.645481526851654.\n",
            "Epoch: 2040. Train Loss: 0.5640958307560726. Train Acc: 0.7059313654899597. Valid Loss: 0.6336849781130207. Valid Acc: 0.6455540060997009.\n",
            "Epoch: 2050. Train Loss: 0.5640940520680914. Train Acc: 0.7059634327888489. Valid Loss: 0.6336944462351507. Valid Acc: 0.6455540060997009.\n",
            "Epoch: 2060. Train Loss: 0.5640928080022297. Train Acc: 0.7059634327888489. Valid Loss: 0.6337031485815965. Valid Acc: 0.6455540060997009.\n",
            "Epoch: 2070. Train Loss: 0.564091159858141. Train Acc: 0.7059634327888489. Valid Loss: 0.6337121923858173. Valid Acc: 0.6455540060997009.\n",
            "Epoch: 2080. Train Loss: 0.5640897680218242. Train Acc: 0.7059634327888489. Valid Loss: 0.6337210578630262. Valid Acc: 0.6455540060997009.\n",
            "Epoch: 2090. Train Loss: 0.5640884574458646. Train Acc: 0.7059634327888489. Valid Loss: 0.6337300443949401. Valid Acc: 0.6455540060997009.\n",
            "Epoch: 2100. Train Loss: 0.5640869309500953. Train Acc: 0.7059634327888489. Valid Loss: 0.6337384028395173. Valid Acc: 0.6455540060997009.\n",
            "Epoch: 2110. Train Loss: 0.5640856959764183. Train Acc: 0.7059634327888489. Valid Loss: 0.6337473721684612. Valid Acc: 0.6455540060997009.\n",
            "Epoch: 2120. Train Loss: 0.5640844832325994. Train Acc: 0.7059313654899597. Valid Loss: 0.6337560325224263. Valid Acc: 0.6455540060997009.\n",
            "Epoch: 2130. Train Loss: 0.5640832814312062. Train Acc: 0.7059634327888489. Valid Loss: 0.6337648423856602. Valid Acc: 0.6455540060997009.\n",
            "Epoch: 2140. Train Loss: 0.5640815109014488. Train Acc: 0.7059313654899597. Valid Loss: 0.6337742333989236. Valid Acc: 0.6455540060997009.\n",
            "Epoch: 2150. Train Loss: 0.564080676717864. Train Acc: 0.7059634327888489. Valid Loss: 0.6337825588042361. Valid Acc: 0.6455540060997009.\n",
            "Epoch: 2160. Train Loss: 0.5640790859122988. Train Acc: 0.7059634327888489. Valid Loss: 0.6337917296221374. Valid Acc: 0.6455540060997009.\n",
            "Epoch: 2170. Train Loss: 0.56407814234695. Train Acc: 0.7059634327888489. Valid Loss: 0.6338003228177022. Valid Acc: 0.6455540060997009.\n",
            "Epoch: 2180. Train Loss: 0.564076795927045. Train Acc: 0.7059634327888489. Valid Loss: 0.6338087670167523. Valid Acc: 0.6455540060997009.\n",
            "Epoch: 2190. Train Loss: 0.564075650943571. Train Acc: 0.7059634327888489. Valid Loss: 0.63381744945612. Valid Acc: 0.6455540060997009.\n",
            "Epoch: 2200. Train Loss: 0.5640748657109093. Train Acc: 0.7059634327888489. Valid Loss: 0.6338261443648651. Valid Acc: 0.6455540060997009.\n",
            "Epoch: 2210. Train Loss: 0.5640732595396815. Train Acc: 0.7059634327888489. Valid Loss: 0.6338353874096548. Valid Acc: 0.6455540060997009.\n",
            "Epoch: 2220. Train Loss: 0.5640721440045154. Train Acc: 0.7059634327888489. Valid Loss: 0.6338434444981788. Valid Acc: 0.6455540060997009.\n",
            "Epoch: 2230. Train Loss: 0.5640711983881469. Train Acc: 0.7059634327888489. Valid Loss: 0.6338517923292137. Valid Acc: 0.6455540060997009.\n",
            "Epoch: 2240. Train Loss: 0.5640699071854075. Train Acc: 0.7059634327888489. Valid Loss: 0.6338606260022739. Valid Acc: 0.6455540060997009.\n",
            "Epoch: 2250. Train Loss: 0.5640688369886632. Train Acc: 0.7059634327888489. Valid Loss: 0.633868930352316. Valid Acc: 0.6455540060997009.\n",
            "Epoch: 2260. Train Loss: 0.564067696633924. Train Acc: 0.7059634327888489. Valid Loss: 0.6338770215950053. Valid Acc: 0.6455540060997009.\n",
            "Epoch: 2270. Train Loss: 0.5640669060234244. Train Acc: 0.7059634327888489. Valid Loss: 0.6338864067245631. Valid Acc: 0.6455540060997009.\n",
            "Epoch: 2280. Train Loss: 0.5640658110919012. Train Acc: 0.7059634327888489. Valid Loss: 0.6338944895068975. Valid Acc: 0.6455540060997009.\n",
            "Epoch: 2290. Train Loss: 0.5640647929677248. Train Acc: 0.7059634327888489. Valid Loss: 0.6339029818302108. Valid Acc: 0.6455540060997009.\n",
            "Epoch: 2300. Train Loss: 0.564063595722721. Train Acc: 0.7059634327888489. Valid Loss: 0.6339111857678456. Valid Acc: 0.6455540060997009.\n",
            "Epoch: 2310. Train Loss: 0.5640623538399481. Train Acc: 0.7059634327888489. Valid Loss: 0.6339190758906726. Valid Acc: 0.6455540060997009.\n",
            "Epoch: 2320. Train Loss: 0.5640620119772579. Train Acc: 0.7059634327888489. Valid Loss: 0.6339273107351315. Valid Acc: 0.6455540060997009.\n",
            "Epoch: 2330. Train Loss: 0.5640610277872555. Train Acc: 0.7059634327888489. Valid Loss: 0.6339367913642647. Valid Acc: 0.6455540060997009.\n",
            "Epoch: 2340. Train Loss: 0.5640598871247701. Train Acc: 0.7059634327888489. Valid Loss: 0.6339449102178982. Valid Acc: 0.6455540060997009.\n",
            "Epoch: 2350. Train Loss: 0.5640591869980307. Train Acc: 0.7059634327888489. Valid Loss: 0.6339532286198963. Valid Acc: 0.6455540060997009.\n",
            "Epoch: 2360. Train Loss: 0.5640580122117828. Train Acc: 0.7059634327888489. Valid Loss: 0.6339620103981488. Valid Acc: 0.6455540060997009.\n",
            "Epoch: 2370. Train Loss: 0.5640574308125064. Train Acc: 0.7059634327888489. Valid Loss: 0.6339697781153215. Valid Acc: 0.6455540060997009.\n",
            "Epoch: 2380. Train Loss: 0.5640563874486119. Train Acc: 0.7059634327888489. Valid Loss: 0.6339780781353728. Valid Acc: 0.6455540060997009.\n",
            "Epoch: 2390. Train Loss: 0.5640552220958468. Train Acc: 0.7059634327888489. Valid Loss: 0.6339865048732604. Valid Acc: 0.6455540060997009.\n",
            "Epoch: 2400. Train Loss: 0.5640547430371691. Train Acc: 0.7059634327888489. Valid Loss: 0.633994347127232. Valid Acc: 0.6455540060997009.\n",
            "Epoch: 2410. Train Loss: 0.5640537408276831. Train Acc: 0.705995500087738. Valid Loss: 0.6340028343822687. Valid Acc: 0.6455540060997009.\n",
            "Epoch: 2420. Train Loss: 0.5640530745152637. Train Acc: 0.705995500087738. Valid Loss: 0.6340105317235404. Valid Acc: 0.6455540060997009.\n",
            "Epoch: 2430. Train Loss: 0.5640522707101958. Train Acc: 0.7059634327888489. Valid Loss: 0.6340193132588176. Valid Acc: 0.6455540060997009.\n",
            "Epoch: 2440. Train Loss: 0.5640514820956127. Train Acc: 0.7059634327888489. Valid Loss: 0.6340270255340331. Valid Acc: 0.6455540060997009.\n",
            "Epoch: 2450. Train Loss: 0.5640505633741196. Train Acc: 0.7059634327888489. Valid Loss: 0.6340353303705284. Valid Acc: 0.6455540060997009.\n",
            "Epoch: 2460. Train Loss: 0.5640498812288549. Train Acc: 0.7059634327888489. Valid Loss: 0.6340435116153011. Valid Acc: 0.6455540060997009.\n",
            "Epoch: 2470. Train Loss: 0.564049050275332. Train Acc: 0.7059313654899597. Valid Loss: 0.6340507265558256. Valid Acc: 0.6455540060997009.\n",
            "Epoch: 2480. Train Loss: 0.564048579217251. Train Acc: 0.7059634327888489. Valid Loss: 0.6340599407033858. Valid Acc: 0.6455540060997009.\n",
            "Epoch: 2490. Train Loss: 0.564047718351132. Train Acc: 0.7059634327888489. Valid Loss: 0.6340674654031763. Valid Acc: 0.6455540060997009.\n",
            "Epoch: 2500. Train Loss: 0.5640468893788564. Train Acc: 0.7059634327888489. Valid Loss: 0.6340754363479135. Valid Acc: 0.6456264853477478.\n",
            "Epoch: 2510. Train Loss: 0.5640462111271634. Train Acc: 0.7059634327888489. Valid Loss: 0.6340842544932123. Valid Acc: 0.6455540060997009.\n",
            "Epoch: 2520. Train Loss: 0.5640456619634657. Train Acc: 0.7059634327888489. Valid Loss: 0.6340916887039765. Valid Acc: 0.6455540060997009.\n",
            "Epoch: 2530. Train Loss: 0.5640448115782349. Train Acc: 0.7059634327888489. Valid Loss: 0.6340997975189175. Valid Acc: 0.6455540060997009.\n",
            "Epoch: 2540. Train Loss: 0.5640440102547349. Train Acc: 0.7059634327888489. Valid Loss: 0.6341078827186467. Valid Acc: 0.6455540060997009.\n",
            "Epoch: 2550. Train Loss: 0.56404330256631. Train Acc: 0.7059634327888489. Valid Loss: 0.6341151780518729. Valid Acc: 0.6455540060997009.\n",
            "Epoch: 2560. Train Loss: 0.564042837797533. Train Acc: 0.7059634327888489. Valid Loss: 0.6341237074772278. Valid Acc: 0.6455540060997009.\n",
            "Epoch: 2570. Train Loss: 0.5640423154041959. Train Acc: 0.7059634327888489. Valid Loss: 0.6341319754860854. Valid Acc: 0.6455540060997009.\n",
            "Epoch: 2580. Train Loss: 0.5640412538052327. Train Acc: 0.7059634327888489. Valid Loss: 0.6341393916510167. Valid Acc: 0.6455540060997009.\n",
            "Epoch: 2590. Train Loss: 0.5640407509715635. Train Acc: 0.7059634327888489. Valid Loss: 0.6341468093399799. Valid Acc: 0.6455540060997009.\n",
            "Epoch: 2600. Train Loss: 0.5640402365498486. Train Acc: 0.7059634327888489. Valid Loss: 0.6341556040062496. Valid Acc: 0.6455540060997009.\n",
            "Epoch: 2610. Train Loss: 0.564039443816764. Train Acc: 0.7059634327888489. Valid Loss: 0.6341635953053548. Valid Acc: 0.6455540060997009.\n",
            "Epoch: 2620. Train Loss: 0.5640389218018957. Train Acc: 0.7059634327888489. Valid Loss: 0.634171137555681. Valid Acc: 0.6455540060997009.\n",
            "Epoch: 2630. Train Loss: 0.5640382206664157. Train Acc: 0.7059313654899597. Valid Loss: 0.6341786075959082. Valid Acc: 0.6455540060997009.\n",
            "Epoch: 2640. Train Loss: 0.5640376163257282. Train Acc: 0.7059634327888489. Valid Loss: 0.6341865519178289. Valid Acc: 0.6455540060997009.\n",
            "Epoch: 2650. Train Loss: 0.5640371760349461. Train Acc: 0.7059313654899597. Valid Loss: 0.6341939451576066. Valid Acc: 0.6455540060997009.\n",
            "Epoch: 2660. Train Loss: 0.5640365362583656. Train Acc: 0.7059313654899597. Valid Loss: 0.6342019811107982. Valid Acc: 0.6455540060997009.\n",
            "Epoch: 2670. Train Loss: 0.5640358532621613. Train Acc: 0.7059313654899597. Valid Loss: 0.6342102890368493. Valid Acc: 0.6455540060997009.\n",
            "Epoch: 2680. Train Loss: 0.5640351879199105. Train Acc: 0.7059634327888489. Valid Loss: 0.6342171099180596. Valid Acc: 0.6455540060997009.\n",
            "Epoch: 2690. Train Loss: 0.5640341729431906. Train Acc: 0.7059313654899597. Valid Loss: 0.6342253517671386. Valid Acc: 0.6455540060997009.\n",
            "Epoch: 2700. Train Loss: 0.5640342752689059. Train Acc: 0.7059634327888489. Valid Loss: 0.6342327284563283. Valid Acc: 0.6455540060997009.\n",
            "Epoch: 2710. Train Loss: 0.5640338800825561. Train Acc: 0.7059634327888489. Valid Loss: 0.6342413439811545. Valid Acc: 0.6455540060997009.\n",
            "Epoch: 2720. Train Loss: 0.5640334821570058. Train Acc: 0.7059634327888489. Valid Loss: 0.6342489637467581. Valid Acc: 0.6455540060997009.\n",
            "Epoch: 2730. Train Loss: 0.5640324948407036. Train Acc: 0.7059634327888489. Valid Loss: 0.6342563039371095. Valid Acc: 0.6455540060997009.\n",
            "Epoch: 2740. Train Loss: 0.5640321063639986. Train Acc: 0.7059634327888489. Valid Loss: 0.6342626925993293. Valid Acc: 0.6455540060997009.\n",
            "Epoch: 2750. Train Loss: 0.5640313401323613. Train Acc: 0.7059634327888489. Valid Loss: 0.6342714926646772. Valid Acc: 0.6455540060997009.\n",
            "Epoch: 2760. Train Loss: 0.5640310484333493. Train Acc: 0.7059634327888489. Valid Loss: 0.6342790270582228. Valid Acc: 0.6455540060997009.\n",
            "Epoch: 2770. Train Loss: 0.5640303783644147. Train Acc: 0.7059634327888489. Valid Loss: 0.6342867433644033. Valid Acc: 0.6455540060997009.\n",
            "Epoch: 2780. Train Loss: 0.5640297589070901. Train Acc: 0.7059634327888489. Valid Loss: 0.6342940579133021. Valid Acc: 0.6455540060997009.\n",
            "Epoch: 2790. Train Loss: 0.5640293496696887. Train Acc: 0.7059634327888489. Valid Loss: 0.6343017504628187. Valid Acc: 0.6455540060997009.\n",
            "Epoch: 2800. Train Loss: 0.5640286844423604. Train Acc: 0.7059634327888489. Valid Loss: 0.6343093805282757. Valid Acc: 0.6455540060997009.\n",
            "Epoch: 2810. Train Loss: 0.5640283078626641. Train Acc: 0.7059634327888489. Valid Loss: 0.6343169820945997. Valid Acc: 0.6455540060997009.\n",
            "Epoch: 2820. Train Loss: 0.5640281147356161. Train Acc: 0.7059634327888489. Valid Loss: 0.6343248373857221. Valid Acc: 0.6455540060997009.\n",
            "Epoch: 2830. Train Loss: 0.564027182284418. Train Acc: 0.7059634327888489. Valid Loss: 0.6343321060157886. Valid Acc: 0.6455540060997009.\n",
            "Epoch: 2840. Train Loss: 0.5640270422743311. Train Acc: 0.7059634327888489. Valid Loss: 0.6343396087707897. Valid Acc: 0.6455540060997009.\n",
            "Epoch: 2850. Train Loss: 0.5640263262151853. Train Acc: 0.7059634327888489. Valid Loss: 0.6343468228248921. Valid Acc: 0.6455540060997009.\n",
            "Epoch: 2860. Train Loss: 0.5640259762905248. Train Acc: 0.7059634327888489. Valid Loss: 0.6343543545633549. Valid Acc: 0.6455540060997009.\n",
            "Epoch: 2870. Train Loss: 0.5640254036757983. Train Acc: 0.7059634327888489. Valid Loss: 0.6343617503683588. Valid Acc: 0.6455540060997009.\n",
            "Epoch: 2880. Train Loss: 0.5640250294511185. Train Acc: 0.7059313654899597. Valid Loss: 0.6343692578007987. Valid Acc: 0.6455540060997009.\n",
            "Epoch: 2890. Train Loss: 0.5640247013441064. Train Acc: 0.7059313654899597. Valid Loss: 0.6343753435382454. Valid Acc: 0.6455540060997009.\n",
            "Epoch: 2900. Train Loss: 0.5640241357064417. Train Acc: 0.7059634327888489. Valid Loss: 0.6343842286944379. Valid Acc: 0.6455540060997009.\n",
            "Epoch: 2910. Train Loss: 0.5640238310062301. Train Acc: 0.7059634327888489. Valid Loss: 0.6343915099990475. Valid Acc: 0.6455540060997009.\n",
            "Epoch: 2920. Train Loss: 0.5640231067005482. Train Acc: 0.7059634327888489. Valid Loss: 0.6343990976965854. Valid Acc: 0.6455540060997009.\n",
            "Epoch: 2930. Train Loss: 0.5640221876048351. Train Acc: 0.7059634327888489. Valid Loss: 0.6344068984187629. Valid Acc: 0.6455540060997009.\n",
            "Epoch: 2940. Train Loss: 0.5640221070951557. Train Acc: 0.7059634327888489. Valid Loss: 0.6344140992594919. Valid Acc: 0.6455540060997009.\n",
            "Epoch: 2950. Train Loss: 0.5640219353013654. Train Acc: 0.7059634327888489. Valid Loss: 0.634420840812364. Valid Acc: 0.6455540060997009.\n",
            "Epoch: 2960. Train Loss: 0.5640214778633975. Train Acc: 0.7059634327888489. Valid Loss: 0.6344283706890572. Valid Acc: 0.6455540060997009.\n",
            "Epoch: 2970. Train Loss: 0.5640209003899546. Train Acc: 0.7059634327888489. Valid Loss: 0.6344356748547376. Valid Acc: 0.6455540060997009.\n",
            "Epoch: 2980. Train Loss: 0.564020744403733. Train Acc: 0.7059634327888489. Valid Loss: 0.634442443326672. Valid Acc: 0.6455540060997009.\n",
            "Epoch: 2990. Train Loss: 0.5640201665490007. Train Acc: 0.7059634327888489. Valid Loss: 0.63445063119548. Valid Acc: 0.6455540060997009.\n",
            "Epoch: 3000. Train Loss: 0.5640198293541061. Train Acc: 0.7059634327888489. Valid Loss: 0.6344576313399993. Valid Acc: 0.6455540060997009.\n"
          ]
        }
      ],
      "source": [
        "EPOCH = 3001\n",
        "a = Accuracy()\n",
        "trainLoss = []\n",
        "testLoss = []\n",
        "testEp = []\n",
        "trainAcc = []\n",
        "testAcc = []\n",
        "for ep in tqdm(range(EPOCH)):\n",
        "    optimizer.zero_grad()\n",
        "    ratings_pred = torch.matmul(torch.cat((U, b), axis = 1), movies_tensor.T)\n",
        "    mask = ratings_train_tensor.bool()\n",
        "    nonzero_pred = F.sigmoid(ratings_pred.masked_select(mask))\n",
        "    nonzero_train = ratings_train_tensor.masked_select(mask)\n",
        "    nonzero_train = nonzero_train - 1\n",
        "    loss = criterion(nonzero_pred, nonzero_train.double())\n",
        "    accuracy = a(nonzero_pred, nonzero_train.int())\n",
        "    loss.backward()\n",
        "    optimizer.step()\n",
        "\n",
        "    trainLoss.append(loss.item())\n",
        "    trainAcc.append(accuracy.item())\n",
        "    if ep % 10 == 0:\n",
        "      mask = ratings_test_tensor.bool()\n",
        "      nonzero_pred = F.sigmoid(ratings_pred.masked_select(mask))\n",
        "      nonzero_test = ratings_test_tensor.masked_select(mask)\n",
        "      nonzero_test = nonzero_test - 1\n",
        "      loss_test = criterion(nonzero_pred, nonzero_test.double())\n",
        "      accuracy_test = a(nonzero_pred, nonzero_test.int())\n",
        "\n",
        "      testEp.append(ep)\n",
        "      testLoss.append(loss_test.item())\n",
        "      testAcc.append(accuracy_test.item())\n",
        "      \n",
        "      if maxAcc < accuracy_test:\n",
        "        bestU = U\n",
        "        bestb = b\n",
        "        maxAcc = accuracy_test\n",
        "      print(f'Epoch: {ep}. Train Loss: {loss}. Train Acc: {accuracy}. Valid Loss: {loss_test}. Valid Acc: {accuracy_test}.')\n"
      ]
    },
    {
      "cell_type": "code",
      "execution_count": 37,
      "metadata": {
        "colab": {
          "base_uri": "https://localhost:8080/",
          "height": 584
        },
        "id": "joBlRE3JmxWQ",
        "outputId": "84203716-0de3-4c25-f695-8fb12e3d9cc0"
      },
      "outputs": [
        {
          "data": {
            "text/plain": [
              "<matplotlib.legend.Legend at 0x1c6e843ba00>"
            ]
          },
          "execution_count": 37,
          "metadata": {},
          "output_type": "execute_result"
        },
        {
          "data": {
            "image/png": "[encoded data removed]",
            "text/plain": [
              "<Figure size 1152x648 with 1 Axes>"
            ]
          },
          "metadata": {
            "needs_background": "light"
          },
          "output_type": "display_data"
        }
      ],
      "source": [
        "fig = plt.figure(figsize = (16,9))\n",
        "numOfEpoch = 3001\n",
        "plt.plot(np.arange(0, numOfEpoch), trainLoss, label='Training Loss')\n",
        "plt.plot(testEp, testLoss, label='Validation Loss')\n",
        "plt.title('Loss Plot')\n",
        "plt.xlabel('Epoch')\n",
        "plt.ylabel('Loss')\n",
        "# plt.ylim((0.0,1.0))\n",
        "plt.legend()"
      ]
    },
    {
      "cell_type": "code",
      "execution_count": 38,
      "metadata": {
        "colab": {
          "base_uri": "https://localhost:8080/",
          "height": 584
        },
        "id": "T87yn8QQmyvG",
        "outputId": "ca54461d-1e63-4600-c919-628de1315be8"
      },
      "outputs": [
        {
          "data": {
            "text/plain": [
              "<matplotlib.legend.Legend at 0x1c6ed665c40>"
            ]
          },
          "execution_count": 38,
          "metadata": {},
          "output_type": "execute_result"
        },
        {
          "data": {
            "image/png": "[encoded data removed]",
            "text/plain": [
              "<Figure size 1152x648 with 1 Axes>"
            ]
          },
          "metadata": {
            "needs_background": "light"
          },
          "output_type": "display_data"
        }
      ],
      "source": [
        "fig = plt.figure(figsize = (16,9))\n",
        "numOfEpoch = 3001\n",
        "plt.plot(np.arange(0, numOfEpoch), trainAcc, label='Training Accuracy')\n",
        "plt.plot(testEp, testAcc, label='Validation Accuracy')\n",
        "plt.title('Accuracy Plot')\n",
        "plt.xlabel('Epoch')\n",
        "plt.ylabel('Accuracy')\n",
        "# plt.ylim((0.0,1.0))\n",
        "plt.legend()"
      ]
    },
    {
      "cell_type": "markdown",
      "metadata": {
        "id": "tCbXrQHpQrud"
      },
      "source": [
        "Max Acc on Validation Test"
      ]
    },
    {
      "cell_type": "code",
      "execution_count": 39,
      "metadata": {
        "colab": {
          "base_uri": "https://localhost:8080/"
        },
        "id": "MQdLds7PQZxl",
        "outputId": "9094111a-bd5b-4223-e469-c869b97ec2fb"
      },
      "outputs": [
        {
          "data": {
            "text/plain": [
              "tensor(0.6457)"
            ]
          },
          "execution_count": 39,
          "metadata": {},
          "output_type": "execute_result"
        }
      ],
      "source": [
        "maxAcc"
      ]
    },
    {
      "cell_type": "code",
      "execution_count": 40,
      "metadata": {
        "colab": {
          "base_uri": "https://localhost:8080/"
        },
        "id": "x5UekHG2Qa9l",
        "outputId": "78b22531-ab05-45d7-bc2b-0986883b5f6c"
      },
      "outputs": [
        {
          "data": {
            "text/plain": [
              "tensor([[ 3.7451e-05,  2.9436e-05, -7.6236e-05,  ...,  1.5727e-04,\n",
              "          4.9483e-05,  4.1296e-05],\n",
              "        [-1.2024e-02, -3.4009e-02,  7.2701e-03,  ...,  6.3200e-03,\n",
              "          5.4529e-03, -2.5529e-15],\n",
              "        [ 7.4308e-03,  4.4527e-03, -4.4797e-03,  ...,  1.3246e-03,\n",
              "         -9.2589e-03, -3.9062e-13],\n",
              "        ...,\n",
              "        [ 1.0040e-02,  2.6597e-03,  3.9776e-03,  ...,  6.1828e-03,\n",
              "          4.4480e-16,  3.3120e-16],\n",
              "        [ 2.8021e-03, -3.9962e-03,  1.4460e-04,  ..., -1.6241e-03,\n",
              "          1.6042e-02,  3.9622e-19],\n",
              "        [ 1.2498e-02, -6.5744e-03,  1.0276e-02,  ...,  1.3977e-02,\n",
              "         -2.5654e-02, -3.7415e-02]], dtype=torch.float64, requires_grad=True)"
            ]
          },
          "execution_count": 40,
          "metadata": {},
          "output_type": "execute_result"
        }
      ],
      "source": [
        "bestU"
      ]
    },
    {
      "cell_type": "code",
      "execution_count": 41,
      "metadata": {
        "id": "Gp1vVXofQcm0"
      },
      "outputs": [],
      "source": [
        "bestU.detach().numpy().tofile(\"ModelStorage/U.txt\")\n",
        "bestb.detach().numpy().tofile(\"ModelStorage/b.txt\")"
      ]
    },
    {
      "cell_type": "code",
      "execution_count": 42,
      "metadata": {
        "id": "ONPhzjAgQdZn"
      },
      "outputs": [],
      "source": [
        "with open(\"ModelStorage/indexToId.txt\", \"w+\") as file:\n",
        "  file.write(str(indexToId))\n",
        "with open(\"ModelStorage/idToIndex.txt\", \"w+\") as file:\n",
        "  file.write(str(idToIndex))"
      ]
    }
  ],
  "metadata": {
    "colab": {
      "collapsed_sections": [],
      "name": "Content_Based_Classification_Colab.ipynb",
      "provenance": []
    },
    "kernelspec": {
      "display_name": "Python 3.8.8 ('base')",
      "language": "python",
      "name": "python3"
    },
    "language_info": {
      "codemirror_mode": {
        "name": "ipython",
        "version": 3
      },
      "file_extension": ".py",
      "mimetype": "text/x-python",
      "name": "python",
      "nbconvert_exporter": "python",
      "pygments_lexer": "ipython3",
      "version": "3.8.8"
    },
    "vscode": {
      "interpreter": {
        "hash": "2043299c89c8cd0b4d1a6f5cf4529bd58e6a4e0fe3181a25e0d328c821cdc5c5"
      }
    },
    "widgets": {
      "application/vnd.jupyter.widget-state+json": {
        "025818dd89214501990773f400e1722a": {
          "model_module": "@jupyter-widgets/base",
          "model_module_version": "1.2.0",
          "model_name": "LayoutModel",
          "state": {
            "_model_module": "@jupyter-widgets/base",
            "_model_module_version": "1.2.0",
            "_model_name": "LayoutModel",
            "_view_count": null,
            "_view_module": "@jupyter-widgets/base",
            "_view_module_version": "1.2.0",
            "_view_name": "LayoutView",
            "align_content": null,
            "align_items": null,
            "align_self": null,
            "border": null,
            "bottom": null,
            "display": null,
            "flex": null,
            "flex_flow": null,
            "grid_area": null,
            "grid_auto_columns": null,
            "grid_auto_flow": null,
            "grid_auto_rows": null,
            "grid_column": null,
            "grid_gap": null,
            "grid_row": null,
            "grid_template_areas": null,
            "grid_template_columns": null,
            "grid_template_rows": null,
            "height": null,
            "justify_content": null,
            "justify_items": null,
            "left": null,
            "margin": null,
            "max_height": null,
            "max_width": null,
            "min_height": null,
            "min_width": null,
            "object_fit": null,
            "object_position": null,
            "order": null,
            "overflow": null,
            "overflow_x": null,
            "overflow_y": null,
            "padding": null,
            "right": null,
            "top": null,
            "visibility": null,
            "width": null
          }
        },
        "118f18df621a4f3d9c4483f84dfd3efb": {
          "model_module": "@jupyter-widgets/controls",
          "model_module_version": "1.5.0",
          "model_name": "HTMLModel",
          "state": {
            "_dom_classes": [],
            "_model_module": "@jupyter-widgets/controls",
            "_model_module_version": "1.5.0",
            "_model_name": "HTMLModel",
            "_view_count": null,
            "_view_module": "@jupyter-widgets/controls",
            "_view_module_version": "1.5.0",
            "_view_name": "HTMLView",
            "description": "",
            "description_tooltip": null,
            "layout": "IPY_MODEL_344817c3a8b341ed9998f4a1e861a31c",
            "placeholder": "​",
            "style": "IPY_MODEL_9ea8a4cec0564c318a8722ab9142c7ac",
            "value": " 3001/3001 [02:28&lt;00:00, 20.66it/s]"
          }
        },
        "1297cad86e2346dd93a7ecc7e0889f92": {
          "model_module": "@jupyter-widgets/base",
          "model_module_version": "1.2.0",
          "model_name": "LayoutModel",
          "state": {
            "_model_module": "@jupyter-widgets/base",
            "_model_module_version": "1.2.0",
            "_model_name": "LayoutModel",
            "_view_count": null,
            "_view_module": "@jupyter-widgets/base",
            "_view_module_version": "1.2.0",
            "_view_name": "LayoutView",
            "align_content": null,
            "align_items": null,
            "align_self": null,
            "border": null,
            "bottom": null,
            "display": null,
            "flex": null,
            "flex_flow": null,
            "grid_area": null,
            "grid_auto_columns": null,
            "grid_auto_flow": null,
            "grid_auto_rows": null,
            "grid_column": null,
            "grid_gap": null,
            "grid_row": null,
            "grid_template_areas": null,
            "grid_template_columns": null,
            "grid_template_rows": null,
            "height": null,
            "justify_content": null,
            "justify_items": null,
            "left": null,
            "margin": null,
            "max_height": null,
            "max_width": null,
            "min_height": null,
            "min_width": null,
            "object_fit": null,
            "object_position": null,
            "order": null,
            "overflow": null,
            "overflow_x": null,
            "overflow_y": null,
            "padding": null,
            "right": null,
            "top": null,
            "visibility": null,
            "width": null
          }
        },
        "2548e84c88424a9e8351388119bd4abc": {
          "model_module": "@jupyter-widgets/base",
          "model_module_version": "1.2.0",
          "model_name": "LayoutModel",
          "state": {
            "_model_module": "@jupyter-widgets/base",
            "_model_module_version": "1.2.0",
            "_model_name": "LayoutModel",
            "_view_count": null,
            "_view_module": "@jupyter-widgets/base",
            "_view_module_version": "1.2.0",
            "_view_name": "LayoutView",
            "align_content": null,
            "align_items": null,
            "align_self": null,
            "border": null,
            "bottom": null,
            "display": null,
            "flex": null,
            "flex_flow": null,
            "grid_area": null,
            "grid_auto_columns": null,
            "grid_auto_flow": null,
            "grid_auto_rows": null,
            "grid_column": null,
            "grid_gap": null,
            "grid_row": null,
            "grid_template_areas": null,
            "grid_template_columns": null,
            "grid_template_rows": null,
            "height": null,
            "justify_content": null,
            "justify_items": null,
            "left": null,
            "margin": null,
            "max_height": null,
            "max_width": null,
            "min_height": null,
            "min_width": null,
            "object_fit": null,
            "object_position": null,
            "order": null,
            "overflow": null,
            "overflow_x": null,
            "overflow_y": null,
            "padding": null,
            "right": null,
            "top": null,
            "visibility": null,
            "width": null
          }
        },
        "2ee2a8fcce10495594ff3133d2b4a107": {
          "model_module": "@jupyter-widgets/controls",
          "model_module_version": "1.5.0",
          "model_name": "HTMLModel",
          "state": {
            "_dom_classes": [],
            "_model_module": "@jupyter-widgets/controls",
            "_model_module_version": "1.5.0",
            "_model_name": "HTMLModel",
            "_view_count": null,
            "_view_module": "@jupyter-widgets/controls",
            "_view_module_version": "1.5.0",
            "_view_name": "HTMLView",
            "description": "",
            "description_tooltip": null,
            "layout": "IPY_MODEL_025818dd89214501990773f400e1722a",
            "placeholder": "​",
            "style": "IPY_MODEL_ef5c6765d9534ae7b17d6b3a5d6a89e5",
            "value": "100%"
          }
        },
        "344817c3a8b341ed9998f4a1e861a31c": {
          "model_module": "@jupyter-widgets/base",
          "model_module_version": "1.2.0",
          "model_name": "LayoutModel",
          "state": {
            "_model_module": "@jupyter-widgets/base",
            "_model_module_version": "1.2.0",
            "_model_name": "LayoutModel",
            "_view_count": null,
            "_view_module": "@jupyter-widgets/base",
            "_view_module_version": "1.2.0",
            "_view_name": "LayoutView",
            "align_content": null,
            "align_items": null,
            "align_self": null,
            "border": null,
            "bottom": null,
            "display": null,
            "flex": null,
            "flex_flow": null,
            "grid_area": null,
            "grid_auto_columns": null,
            "grid_auto_flow": null,
            "grid_auto_rows": null,
            "grid_column": null,
            "grid_gap": null,
            "grid_row": null,
            "grid_template_areas": null,
            "grid_template_columns": null,
            "grid_template_rows": null,
            "height": null,
            "justify_content": null,
            "justify_items": null,
            "left": null,
            "margin": null,
            "max_height": null,
            "max_width": null,
            "min_height": null,
            "min_width": null,
            "object_fit": null,
            "object_position": null,
            "order": null,
            "overflow": null,
            "overflow_x": null,
            "overflow_y": null,
            "padding": null,
            "right": null,
            "top": null,
            "visibility": null,
            "width": null
          }
        },
        "8db4bac184854e87a1b0225a02b7d54d": {
          "model_module": "@jupyter-widgets/base",
          "model_module_version": "1.2.0",
          "model_name": "LayoutModel",
          "state": {
            "_model_module": "@jupyter-widgets/base",
            "_model_module_version": "1.2.0",
            "_model_name": "LayoutModel",
            "_view_count": null,
            "_view_module": "@jupyter-widgets/base",
            "_view_module_version": "1.2.0",
            "_view_name": "LayoutView",
            "align_content": null,
            "align_items": null,
            "align_self": null,
            "border": null,
            "bottom": null,
            "display": null,
            "flex": null,
            "flex_flow": null,
            "grid_area": null,
            "grid_auto_columns": null,
            "grid_auto_flow": null,
            "grid_auto_rows": null,
            "grid_column": null,
            "grid_gap": null,
            "grid_row": null,
            "grid_template_areas": null,
            "grid_template_columns": null,
            "grid_template_rows": null,
            "height": null,
            "justify_content": null,
            "justify_items": null,
            "left": null,
            "margin": null,
            "max_height": null,
            "max_width": null,
            "min_height": null,
            "min_width": null,
            "object_fit": null,
            "object_position": null,
            "order": null,
            "overflow": null,
            "overflow_x": null,
            "overflow_y": null,
            "padding": null,
            "right": null,
            "top": null,
            "visibility": null,
            "width": null
          }
        },
        "951d824df220485190ec3366939e3370": {
          "model_module": "@jupyter-widgets/controls",
          "model_module_version": "1.5.0",
          "model_name": "FloatProgressModel",
          "state": {
            "_dom_classes": [],
            "_model_module": "@jupyter-widgets/controls",
            "_model_module_version": "1.5.0",
            "_model_name": "FloatProgressModel",
            "_view_count": null,
            "_view_module": "@jupyter-widgets/controls",
            "_view_module_version": "1.5.0",
            "_view_name": "ProgressView",
            "bar_style": "success",
            "description": "",
            "description_tooltip": null,
            "layout": "IPY_MODEL_bbf865fb84bd490ebe2c36d429b7c8bc",
            "max": 3001,
            "min": 0,
            "orientation": "horizontal",
            "style": "IPY_MODEL_d14401e2f18d4bb8aea9417c4c90684e",
            "value": 3001
          }
        },
        "9ea8a4cec0564c318a8722ab9142c7ac": {
          "model_module": "@jupyter-widgets/controls",
          "model_module_version": "1.5.0",
          "model_name": "DescriptionStyleModel",
          "state": {
            "_model_module": "@jupyter-widgets/controls",
            "_model_module_version": "1.5.0",
            "_model_name": "DescriptionStyleModel",
            "_view_count": null,
            "_view_module": "@jupyter-widgets/base",
            "_view_module_version": "1.2.0",
            "_view_name": "StyleView",
            "description_width": ""
          }
        },
        "a3f93c95217d461a985398038d55af96": {
          "model_module": "@jupyter-widgets/controls",
          "model_module_version": "1.5.0",
          "model_name": "HTMLModel",
          "state": {
            "_dom_classes": [],
            "_model_module": "@jupyter-widgets/controls",
            "_model_module_version": "1.5.0",
            "_model_name": "HTMLModel",
            "_view_count": null,
            "_view_module": "@jupyter-widgets/controls",
            "_view_module_version": "1.5.0",
            "_view_name": "HTMLView",
            "description": "",
            "description_tooltip": null,
            "layout": "IPY_MODEL_1297cad86e2346dd93a7ecc7e0889f92",
            "placeholder": "​",
            "style": "IPY_MODEL_e1470a7c0bc64c349a8bbc54bf2228fa",
            "value": " 3001/3001 [02:40&lt;00:00, 20.91it/s]"
          }
        },
        "bbaddceaf77f45e18e8941852226ddf7": {
          "model_module": "@jupyter-widgets/controls",
          "model_module_version": "1.5.0",
          "model_name": "HBoxModel",
          "state": {
            "_dom_classes": [],
            "_model_module": "@jupyter-widgets/controls",
            "_model_module_version": "1.5.0",
            "_model_name": "HBoxModel",
            "_view_count": null,
            "_view_module": "@jupyter-widgets/controls",
            "_view_module_version": "1.5.0",
            "_view_name": "HBoxView",
            "box_style": "",
            "children": [
              "IPY_MODEL_2ee2a8fcce10495594ff3133d2b4a107",
              "IPY_MODEL_c6e0cd7b878b49df8fa8e1be2f2d86b0",
              "IPY_MODEL_a3f93c95217d461a985398038d55af96"
            ],
            "layout": "IPY_MODEL_bf4fbf2daa534d18ac24bc1da8f62f9f"
          }
        },
        "bbf865fb84bd490ebe2c36d429b7c8bc": {
          "model_module": "@jupyter-widgets/base",
          "model_module_version": "1.2.0",
          "model_name": "LayoutModel",
          "state": {
            "_model_module": "@jupyter-widgets/base",
            "_model_module_version": "1.2.0",
            "_model_name": "LayoutModel",
            "_view_count": null,
            "_view_module": "@jupyter-widgets/base",
            "_view_module_version": "1.2.0",
            "_view_name": "LayoutView",
            "align_content": null,
            "align_items": null,
            "align_self": null,
            "border": null,
            "bottom": null,
            "display": null,
            "flex": null,
            "flex_flow": null,
            "grid_area": null,
            "grid_auto_columns": null,
            "grid_auto_flow": null,
            "grid_auto_rows": null,
            "grid_column": null,
            "grid_gap": null,
            "grid_row": null,
            "grid_template_areas": null,
            "grid_template_columns": null,
            "grid_template_rows": null,
            "height": null,
            "justify_content": null,
            "justify_items": null,
            "left": null,
            "margin": null,
            "max_height": null,
            "max_width": null,
            "min_height": null,
            "min_width": null,
            "object_fit": null,
            "object_position": null,
            "order": null,
            "overflow": null,
            "overflow_x": null,
            "overflow_y": null,
            "padding": null,
            "right": null,
            "top": null,
            "visibility": null,
            "width": null
          }
        },
        "bf4fbf2daa534d18ac24bc1da8f62f9f": {
          "model_module": "@jupyter-widgets/base",
          "model_module_version": "1.2.0",
          "model_name": "LayoutModel",
          "state": {
            "_model_module": "@jupyter-widgets/base",
            "_model_module_version": "1.2.0",
            "_model_name": "LayoutModel",
            "_view_count": null,
            "_view_module": "@jupyter-widgets/base",
            "_view_module_version": "1.2.0",
            "_view_name": "LayoutView",
            "align_content": null,
            "align_items": null,
            "align_self": null,
            "border": null,
            "bottom": null,
            "display": null,
            "flex": null,
            "flex_flow": null,
            "grid_area": null,
            "grid_auto_columns": null,
            "grid_auto_flow": null,
            "grid_auto_rows": null,
            "grid_column": null,
            "grid_gap": null,
            "grid_row": null,
            "grid_template_areas": null,
            "grid_template_columns": null,
            "grid_template_rows": null,
            "height": null,
            "justify_content": null,
            "justify_items": null,
            "left": null,
            "margin": null,
            "max_height": null,
            "max_width": null,
            "min_height": null,
            "min_width": null,
            "object_fit": null,
            "object_position": null,
            "order": null,
            "overflow": null,
            "overflow_x": null,
            "overflow_y": null,
            "padding": null,
            "right": null,
            "top": null,
            "visibility": null,
            "width": null
          }
        },
        "c6e0cd7b878b49df8fa8e1be2f2d86b0": {
          "model_module": "@jupyter-widgets/controls",
          "model_module_version": "1.5.0",
          "model_name": "FloatProgressModel",
          "state": {
            "_dom_classes": [],
            "_model_module": "@jupyter-widgets/controls",
            "_model_module_version": "1.5.0",
            "_model_name": "FloatProgressModel",
            "_view_count": null,
            "_view_module": "@jupyter-widgets/controls",
            "_view_module_version": "1.5.0",
            "_view_name": "ProgressView",
            "bar_style": "success",
            "description": "",
            "description_tooltip": null,
            "layout": "IPY_MODEL_8db4bac184854e87a1b0225a02b7d54d",
            "max": 3001,
            "min": 0,
            "orientation": "horizontal",
            "style": "IPY_MODEL_ecb56abfa1d3455f90317a38b79455e9",
            "value": 3001
          }
        },
        "d14401e2f18d4bb8aea9417c4c90684e": {
          "model_module": "@jupyter-widgets/controls",
          "model_module_version": "1.5.0",
          "model_name": "ProgressStyleModel",
          "state": {
            "_model_module": "@jupyter-widgets/controls",
            "_model_module_version": "1.5.0",
            "_model_name": "ProgressStyleModel",
            "_view_count": null,
            "_view_module": "@jupyter-widgets/base",
            "_view_module_version": "1.2.0",
            "_view_name": "StyleView",
            "bar_color": null,
            "description_width": ""
          }
        },
        "deca56a6862f49578c50bf6035cb28bb": {
          "model_module": "@jupyter-widgets/controls",
          "model_module_version": "1.5.0",
          "model_name": "HTMLModel",
          "state": {
            "_dom_classes": [],
            "_model_module": "@jupyter-widgets/controls",
            "_model_module_version": "1.5.0",
            "_model_name": "HTMLModel",
            "_view_count": null,
            "_view_module": "@jupyter-widgets/controls",
            "_view_module_version": "1.5.0",
            "_view_name": "HTMLView",
            "description": "",
            "description_tooltip": null,
            "layout": "IPY_MODEL_2548e84c88424a9e8351388119bd4abc",
            "placeholder": "​",
            "style": "IPY_MODEL_ee92fbf0fb104e8c96b8c3c73d3e6caf",
            "value": "100%"
          }
        },
        "e1470a7c0bc64c349a8bbc54bf2228fa": {
          "model_module": "@jupyter-widgets/controls",
          "model_module_version": "1.5.0",
          "model_name": "DescriptionStyleModel",
          "state": {
            "_model_module": "@jupyter-widgets/controls",
            "_model_module_version": "1.5.0",
            "_model_name": "DescriptionStyleModel",
            "_view_count": null,
            "_view_module": "@jupyter-widgets/base",
            "_view_module_version": "1.2.0",
            "_view_name": "StyleView",
            "description_width": ""
          }
        },
        "ecb56abfa1d3455f90317a38b79455e9": {
          "model_module": "@jupyter-widgets/controls",
          "model_module_version": "1.5.0",
          "model_name": "ProgressStyleModel",
          "state": {
            "_model_module": "@jupyter-widgets/controls",
            "_model_module_version": "1.5.0",
            "_model_name": "ProgressStyleModel",
            "_view_count": null,
            "_view_module": "@jupyter-widgets/base",
            "_view_module_version": "1.2.0",
            "_view_name": "StyleView",
            "bar_color": null,
            "description_width": ""
          }
        },
        "ee17d8cabb844527b712b4011098ec07": {
          "model_module": "@jupyter-widgets/base",
          "model_module_version": "1.2.0",
          "model_name": "LayoutModel",
          "state": {
            "_model_module": "@jupyter-widgets/base",
            "_model_module_version": "1.2.0",
            "_model_name": "LayoutModel",
            "_view_count": null,
            "_view_module": "@jupyter-widgets/base",
            "_view_module_version": "1.2.0",
            "_view_name": "LayoutView",
            "align_content": null,
            "align_items": null,
            "align_self": null,
            "border": null,
            "bottom": null,
            "display": null,
            "flex": null,
            "flex_flow": null,
            "grid_area": null,
            "grid_auto_columns": null,
            "grid_auto_flow": null,
            "grid_auto_rows": null,
            "grid_column": null,
            "grid_gap": null,
            "grid_row": null,
            "grid_template_areas": null,
            "grid_template_columns": null,
            "grid_template_rows": null,
            "height": null,
            "justify_content": null,
            "justify_items": null,
            "left": null,
            "margin": null,
            "max_height": null,
            "max_width": null,
            "min_height": null,
            "min_width": null,
            "object_fit": null,
            "object_position": null,
            "order": null,
            "overflow": null,
            "overflow_x": null,
            "overflow_y": null,
            "padding": null,
            "right": null,
            "top": null,
            "visibility": null,
            "width": null
          }
        },
        "ee92fbf0fb104e8c96b8c3c73d3e6caf": {
          "model_module": "@jupyter-widgets/controls",
          "model_module_version": "1.5.0",
          "model_name": "DescriptionStyleModel",
          "state": {
            "_model_module": "@jupyter-widgets/controls",
            "_model_module_version": "1.5.0",
            "_model_name": "DescriptionStyleModel",
            "_view_count": null,
            "_view_module": "@jupyter-widgets/base",
            "_view_module_version": "1.2.0",
            "_view_name": "StyleView",
            "description_width": ""
          }
        },
        "ef5c6765d9534ae7b17d6b3a5d6a89e5": {
          "model_module": "@jupyter-widgets/controls",
          "model_module_version": "1.5.0",
          "model_name": "DescriptionStyleModel",
          "state": {
            "_model_module": "@jupyter-widgets/controls",
            "_model_module_version": "1.5.0",
            "_model_name": "DescriptionStyleModel",
            "_view_count": null,
            "_view_module": "@jupyter-widgets/base",
            "_view_module_version": "1.2.0",
            "_view_name": "StyleView",
            "description_width": ""
          }
        },
        "fc35f20a0fb34d468d228799a2805b2b": {
          "model_module": "@jupyter-widgets/controls",
          "model_module_version": "1.5.0",
          "model_name": "HBoxModel",
          "state": {
            "_dom_classes": [],
            "_model_module": "@jupyter-widgets/controls",
            "_model_module_version": "1.5.0",
            "_model_name": "HBoxModel",
            "_view_count": null,
            "_view_module": "@jupyter-widgets/controls",
            "_view_module_version": "1.5.0",
            "_view_name": "HBoxView",
            "box_style": "",
            "children": [
              "IPY_MODEL_deca56a6862f49578c50bf6035cb28bb",
              "IPY_MODEL_951d824df220485190ec3366939e3370",
              "IPY_MODEL_118f18df621a4f3d9c4483f84dfd3efb"
            ],
            "layout": "IPY_MODEL_ee17d8cabb844527b712b4011098ec07"
          }
        }
      }
    }
  },
  "nbformat": 4,
  "nbformat_minor": 0
}
