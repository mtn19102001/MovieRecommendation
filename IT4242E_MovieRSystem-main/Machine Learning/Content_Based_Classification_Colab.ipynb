{
  "cells": [
    {
      "cell_type": "code",
      "source": [
        "from google.colab import drive\n",
        "drive.mount('/content/drive')"
      ],
      "metadata": {
        "colab": {
          "base_uri": "https://localhost:8080/"
        },
        "id": "3e7l1kq7-MUC",
        "outputId": "27328dba-4966-435c-9180-37dce9d20d50"
      },
      "execution_count": 79,
      "outputs": [
        {
          "output_type": "stream",
          "name": "stdout",
          "text": [
            "Drive already mounted at /content/drive; to attempt to forcibly remount, call drive.mount(\"/content/drive\", force_remount=True).\n"
          ]
        }
      ]
    },
    {
      "cell_type": "code",
      "source": [
        "!pip install torchmetrics\n",
        "from torchmetrics import Accuracy"
      ],
      "metadata": {
        "id": "8GpiO68LF-d3",
        "colab": {
          "base_uri": "https://localhost:8080/"
        },
        "outputId": "2db17239-d842-43fe-ca7e-5a2312d1316c"
      },
      "execution_count": 80,
      "outputs": [
        {
          "output_type": "stream",
          "name": "stdout",
          "text": [
            "Looking in indexes: https://pypi.org/simple, https://us-python.pkg.dev/colab-wheels/public/simple/\n",
            "Requirement already satisfied: torchmetrics in /usr/local/lib/python3.7/dist-packages (0.9.2)\n",
            "Requirement already satisfied: numpy>=1.17.2 in /usr/local/lib/python3.7/dist-packages (from torchmetrics) (1.21.6)\n",
            "Requirement already satisfied: typing-extensions in /usr/local/lib/python3.7/dist-packages (from torchmetrics) (4.1.1)\n",
            "Requirement already satisfied: torch>=1.3.1 in /usr/local/lib/python3.7/dist-packages (from torchmetrics) (1.11.0+cu113)\n",
            "Requirement already satisfied: packaging in /usr/local/lib/python3.7/dist-packages (from torchmetrics) (21.3)\n",
            "Requirement already satisfied: pyparsing!=3.0.5,>=2.0.2 in /usr/local/lib/python3.7/dist-packages (from packaging->torchmetrics) (3.0.9)\n"
          ]
        }
      ]
    },
    {
      "cell_type": "code",
      "execution_count": 81,
      "metadata": {
        "id": "nBCiXDMzkdto"
      },
      "outputs": [],
      "source": [
        "import warnings\n",
        "warnings.filterwarnings('ignore')\n",
        "import pandas as pd\n",
        "import numpy as np\n",
        "import os\n",
        "import json\n",
        "import matplotlib.pyplot as plt"
      ]
    },
    {
      "cell_type": "code",
      "execution_count": 82,
      "metadata": {
        "id": "EXS44fd5krnI"
      },
      "outputs": [],
      "source": [
        "os.chdir(\"/content/drive/MyDrive/MovieRSystem\")"
      ]
    },
    {
      "cell_type": "code",
      "execution_count": 83,
      "metadata": {
        "id": "1iojVoORkiUZ"
      },
      "outputs": [],
      "source": [
        "dataset = pd.read_csv(\"FeatureExtracted/dataset.csv\")\n",
        "ratings_train = pd.read_csv(\"CleanedData/ratings_train.csv\")\n",
        "ratings_test = pd.read_csv(\"CleanedData/ratings_test.csv\")"
      ]
    },
    {
      "cell_type": "markdown",
      "metadata": {
        "id": "Z6k5rKc9k720"
      },
      "source": [
        "## Content-Based Recommendation System - Pytorch"
      ]
    },
    {
      "cell_type": "code",
      "source": [
        "!pip install torch"
      ],
      "metadata": {
        "colab": {
          "base_uri": "https://localhost:8080/"
        },
        "id": "CIBSLACY-hoE",
        "outputId": "8a40b086-fad9-4cbf-e6d4-b9d51f368e2e"
      },
      "execution_count": 84,
      "outputs": [
        {
          "output_type": "stream",
          "name": "stdout",
          "text": [
            "Looking in indexes: https://pypi.org/simple, https://us-python.pkg.dev/colab-wheels/public/simple/\n",
            "Requirement already satisfied: torch in /usr/local/lib/python3.7/dist-packages (1.11.0+cu113)\n",
            "Requirement already satisfied: typing-extensions in /usr/local/lib/python3.7/dist-packages (from torch) (4.1.1)\n"
          ]
        }
      ]
    },
    {
      "cell_type": "code",
      "execution_count": 85,
      "metadata": {
        "id": "uP9PPs_wlVQK"
      },
      "outputs": [],
      "source": [
        "import torch\n",
        "import torch.nn as nn\n",
        "import torch.nn.functional as F\n",
        "import torchvision\n",
        "import torchvision.transforms as transforms"
      ]
    },
    {
      "cell_type": "markdown",
      "metadata": {
        "id": "6lK_ZxPsmHwG"
      },
      "source": [
        "### Make Dataset For Train"
      ]
    },
    {
      "cell_type": "markdown",
      "metadata": {
        "id": "iHRVh4KHnF2N"
      },
      "source": [
        "There are 671 users"
      ]
    },
    {
      "cell_type": "code",
      "execution_count": 86,
      "metadata": {
        "colab": {
          "base_uri": "https://localhost:8080/"
        },
        "id": "jwQUxcCZmly4",
        "outputId": "043ec047-af33-4366-aeb8-5aa09fca2033"
      },
      "outputs": [
        {
          "output_type": "stream",
          "name": "stdout",
          "text": [
            "671\n"
          ]
        }
      ],
      "source": [
        "len_users = len(ratings_train['userId'].unique())\n",
        "print(len_users)"
      ]
    },
    {
      "cell_type": "markdown",
      "metadata": {
        "id": "daUnLGdnnNSO"
      },
      "source": [
        "2830 movies"
      ]
    },
    {
      "cell_type": "code",
      "execution_count": 87,
      "metadata": {
        "colab": {
          "base_uri": "https://localhost:8080/"
        },
        "id": "qn7CGKI8nIXN",
        "outputId": "d72ef2ed-8c4e-4e22-a069-f165f68a839d"
      },
      "outputs": [
        {
          "output_type": "stream",
          "name": "stdout",
          "text": [
            "2830\n"
          ]
        }
      ],
      "source": [
        "len_dataset = len(dataset)\n",
        "print(len_dataset)"
      ]
    },
    {
      "cell_type": "markdown",
      "metadata": {
        "id": "05nl88knoDCp"
      },
      "source": [
        "We need to save the id for later recommendation"
      ]
    },
    {
      "cell_type": "code",
      "execution_count": 88,
      "metadata": {
        "colab": {
          "base_uri": "https://localhost:8080/",
          "height": 505
        },
        "id": "Et32VfWBnwF8",
        "outputId": "37038c97-da30-4517-8a82-491d38002379"
      },
      "outputs": [
        {
          "output_type": "execute_result",
          "data": {
            "text/plain": [
              "        budget     id  runtime      revenue  vote_average  vote_count  \\\n",
              "0     60000000    949    170.0  187436818.0           7.7      1886.0   \n",
              "1     58000000    710    130.0  352194034.0           6.6      1194.0   \n",
              "2     98000000   1408    119.0   10017322.0           5.7       137.0   \n",
              "3     52000000    524    178.0  116112375.0           7.8      1343.0   \n",
              "4     16500000   4584    136.0  135000000.0           7.2       364.0   \n",
              "...        ...    ...      ...          ...           ...         ...   \n",
              "2825         0  80831    121.0          0.0           6.5         2.0   \n",
              "2826         0   3104     92.0          0.0           5.9        33.0   \n",
              "2827         0  64197     97.0          0.0           6.0         5.0   \n",
              "2828         0  98604     91.0          0.0           4.6         6.0   \n",
              "2829         0  49280      1.0          0.0           6.5        22.0   \n",
              "\n",
              "      CastsRank  NumLeadActors  HasTop50Actors  NumCrews  ...  History  \\\n",
              "0         14175              3               0        71  ...        0   \n",
              "1          5703              3               1        46  ...        0   \n",
              "2          3771              0               0        16  ...        0   \n",
              "3          6447              0               0        10  ...        0   \n",
              "4          4515              2               1         8  ...        0   \n",
              "...         ...            ...             ...       ...  ...      ...   \n",
              "2825       1105              0               0         4  ...        0   \n",
              "2826       1129              0               0        11  ...        0   \n",
              "2827        399              0               0         4  ...        0   \n",
              "2828       1982              0               0         4  ...        0   \n",
              "2829         77              0               0         1  ...        0   \n",
              "\n",
              "      Horror  Music  Mystery  Romance  Science Fiction  TV Movie  Thriller  \\\n",
              "0          0      0        0        0                0         0         1   \n",
              "1          0      0        0        0                0         0         1   \n",
              "2          0      0        0        0                0         0         0   \n",
              "3          0      0        0        0                0         0         0   \n",
              "4          0      0        0        1                0         0         0   \n",
              "...      ...    ...      ...      ...              ...       ...       ...   \n",
              "2825       0      0        0        0                0         0         0   \n",
              "2826       1      0        0        0                1         0         0   \n",
              "2827       0      0        0        1                0         0         0   \n",
              "2828       0      0        0        1                0         0         0   \n",
              "2829       0      0        0        0                0         0         1   \n",
              "\n",
              "      War  Western  \n",
              "0       0        0  \n",
              "1       0        0  \n",
              "2       0        0  \n",
              "3       0        0  \n",
              "4       0        0  \n",
              "...   ...      ...  \n",
              "2825    0        0  \n",
              "2826    0        0  \n",
              "2827    0        0  \n",
              "2828    0        0  \n",
              "2829    0        0  \n",
              "\n",
              "[2830 rows x 39 columns]"
            ],
            "text/html": [
              "\n",
              "  <div id=\"df-3d23ce63-dca9-4132-8509-d115ff0cb5c5\">\n",
              "    <div class=\"colab-df-container\">\n",
              "      <div>\n",
              "<style scoped>\n",
              "    .dataframe tbody tr th:only-of-type {\n",
              "        vertical-align: middle;\n",
              "    }\n",
              "\n",
              "    .dataframe tbody tr th {\n",
              "        vertical-align: top;\n",
              "    }\n",
              "\n",
              "    .dataframe thead th {\n",
              "        text-align: right;\n",
              "    }\n",
              "</style>\n",
              "<table border=\"1\" class=\"dataframe\">\n",
              "  <thead>\n",
              "    <tr style=\"text-align: right;\">\n",
              "      <th></th>\n",
              "      <th>budget</th>\n",
              "      <th>id</th>\n",
              "      <th>runtime</th>\n",
              "      <th>revenue</th>\n",
              "      <th>vote_average</th>\n",
              "      <th>vote_count</th>\n",
              "      <th>CastsRank</th>\n",
              "      <th>NumLeadActors</th>\n",
              "      <th>HasTop50Actors</th>\n",
              "      <th>NumCrews</th>\n",
              "      <th>...</th>\n",
              "      <th>History</th>\n",
              "      <th>Horror</th>\n",
              "      <th>Music</th>\n",
              "      <th>Mystery</th>\n",
              "      <th>Romance</th>\n",
              "      <th>Science Fiction</th>\n",
              "      <th>TV Movie</th>\n",
              "      <th>Thriller</th>\n",
              "      <th>War</th>\n",
              "      <th>Western</th>\n",
              "    </tr>\n",
              "  </thead>\n",
              "  <tbody>\n",
              "    <tr>\n",
              "      <th>0</th>\n",
              "      <td>60000000</td>\n",
              "      <td>949</td>\n",
              "      <td>170.0</td>\n",
              "      <td>187436818.0</td>\n",
              "      <td>7.7</td>\n",
              "      <td>1886.0</td>\n",
              "      <td>14175</td>\n",
              "      <td>3</td>\n",
              "      <td>0</td>\n",
              "      <td>71</td>\n",
              "      <td>...</td>\n",
              "      <td>0</td>\n",
              "      <td>0</td>\n",
              "      <td>0</td>\n",
              "      <td>0</td>\n",
              "      <td>0</td>\n",
              "      <td>0</td>\n",
              "      <td>0</td>\n",
              "      <td>1</td>\n",
              "      <td>0</td>\n",
              "      <td>0</td>\n",
              "    </tr>\n",
              "    <tr>\n",
              "      <th>1</th>\n",
              "      <td>58000000</td>\n",
              "      <td>710</td>\n",
              "      <td>130.0</td>\n",
              "      <td>352194034.0</td>\n",
              "      <td>6.6</td>\n",
              "      <td>1194.0</td>\n",
              "      <td>5703</td>\n",
              "      <td>3</td>\n",
              "      <td>1</td>\n",
              "      <td>46</td>\n",
              "      <td>...</td>\n",
              "      <td>0</td>\n",
              "      <td>0</td>\n",
              "      <td>0</td>\n",
              "      <td>0</td>\n",
              "      <td>0</td>\n",
              "      <td>0</td>\n",
              "      <td>0</td>\n",
              "      <td>1</td>\n",
              "      <td>0</td>\n",
              "      <td>0</td>\n",
              "    </tr>\n",
              "    <tr>\n",
              "      <th>2</th>\n",
              "      <td>98000000</td>\n",
              "      <td>1408</td>\n",
              "      <td>119.0</td>\n",
              "      <td>10017322.0</td>\n",
              "      <td>5.7</td>\n",
              "      <td>137.0</td>\n",
              "      <td>3771</td>\n",
              "      <td>0</td>\n",
              "      <td>0</td>\n",
              "      <td>16</td>\n",
              "      <td>...</td>\n",
              "      <td>0</td>\n",
              "      <td>0</td>\n",
              "      <td>0</td>\n",
              "      <td>0</td>\n",
              "      <td>0</td>\n",
              "      <td>0</td>\n",
              "      <td>0</td>\n",
              "      <td>0</td>\n",
              "      <td>0</td>\n",
              "      <td>0</td>\n",
              "    </tr>\n",
              "    <tr>\n",
              "      <th>3</th>\n",
              "      <td>52000000</td>\n",
              "      <td>524</td>\n",
              "      <td>178.0</td>\n",
              "      <td>116112375.0</td>\n",
              "      <td>7.8</td>\n",
              "      <td>1343.0</td>\n",
              "      <td>6447</td>\n",
              "      <td>0</td>\n",
              "      <td>0</td>\n",
              "      <td>10</td>\n",
              "      <td>...</td>\n",
              "      <td>0</td>\n",
              "      <td>0</td>\n",
              "      <td>0</td>\n",
              "      <td>0</td>\n",
              "      <td>0</td>\n",
              "      <td>0</td>\n",
              "      <td>0</td>\n",
              "      <td>0</td>\n",
              "      <td>0</td>\n",
              "      <td>0</td>\n",
              "    </tr>\n",
              "    <tr>\n",
              "      <th>4</th>\n",
              "      <td>16500000</td>\n",
              "      <td>4584</td>\n",
              "      <td>136.0</td>\n",
              "      <td>135000000.0</td>\n",
              "      <td>7.2</td>\n",
              "      <td>364.0</td>\n",
              "      <td>4515</td>\n",
              "      <td>2</td>\n",
              "      <td>1</td>\n",
              "      <td>8</td>\n",
              "      <td>...</td>\n",
              "      <td>0</td>\n",
              "      <td>0</td>\n",
              "      <td>0</td>\n",
              "      <td>0</td>\n",
              "      <td>1</td>\n",
              "      <td>0</td>\n",
              "      <td>0</td>\n",
              "      <td>0</td>\n",
              "      <td>0</td>\n",
              "      <td>0</td>\n",
              "    </tr>\n",
              "    <tr>\n",
              "      <th>...</th>\n",
              "      <td>...</td>\n",
              "      <td>...</td>\n",
              "      <td>...</td>\n",
              "      <td>...</td>\n",
              "      <td>...</td>\n",
              "      <td>...</td>\n",
              "      <td>...</td>\n",
              "      <td>...</td>\n",
              "      <td>...</td>\n",
              "      <td>...</td>\n",
              "      <td>...</td>\n",
              "      <td>...</td>\n",
              "      <td>...</td>\n",
              "      <td>...</td>\n",
              "      <td>...</td>\n",
              "      <td>...</td>\n",
              "      <td>...</td>\n",
              "      <td>...</td>\n",
              "      <td>...</td>\n",
              "      <td>...</td>\n",
              "      <td>...</td>\n",
              "    </tr>\n",
              "    <tr>\n",
              "      <th>2825</th>\n",
              "      <td>0</td>\n",
              "      <td>80831</td>\n",
              "      <td>121.0</td>\n",
              "      <td>0.0</td>\n",
              "      <td>6.5</td>\n",
              "      <td>2.0</td>\n",
              "      <td>1105</td>\n",
              "      <td>0</td>\n",
              "      <td>0</td>\n",
              "      <td>4</td>\n",
              "      <td>...</td>\n",
              "      <td>0</td>\n",
              "      <td>0</td>\n",
              "      <td>0</td>\n",
              "      <td>0</td>\n",
              "      <td>0</td>\n",
              "      <td>0</td>\n",
              "      <td>0</td>\n",
              "      <td>0</td>\n",
              "      <td>0</td>\n",
              "      <td>0</td>\n",
              "    </tr>\n",
              "    <tr>\n",
              "      <th>2826</th>\n",
              "      <td>0</td>\n",
              "      <td>3104</td>\n",
              "      <td>92.0</td>\n",
              "      <td>0.0</td>\n",
              "      <td>5.9</td>\n",
              "      <td>33.0</td>\n",
              "      <td>1129</td>\n",
              "      <td>0</td>\n",
              "      <td>0</td>\n",
              "      <td>11</td>\n",
              "      <td>...</td>\n",
              "      <td>0</td>\n",
              "      <td>1</td>\n",
              "      <td>0</td>\n",
              "      <td>0</td>\n",
              "      <td>0</td>\n",
              "      <td>1</td>\n",
              "      <td>0</td>\n",
              "      <td>0</td>\n",
              "      <td>0</td>\n",
              "      <td>0</td>\n",
              "    </tr>\n",
              "    <tr>\n",
              "      <th>2827</th>\n",
              "      <td>0</td>\n",
              "      <td>64197</td>\n",
              "      <td>97.0</td>\n",
              "      <td>0.0</td>\n",
              "      <td>6.0</td>\n",
              "      <td>5.0</td>\n",
              "      <td>399</td>\n",
              "      <td>0</td>\n",
              "      <td>0</td>\n",
              "      <td>4</td>\n",
              "      <td>...</td>\n",
              "      <td>0</td>\n",
              "      <td>0</td>\n",
              "      <td>0</td>\n",
              "      <td>0</td>\n",
              "      <td>1</td>\n",
              "      <td>0</td>\n",
              "      <td>0</td>\n",
              "      <td>0</td>\n",
              "      <td>0</td>\n",
              "      <td>0</td>\n",
              "    </tr>\n",
              "    <tr>\n",
              "      <th>2828</th>\n",
              "      <td>0</td>\n",
              "      <td>98604</td>\n",
              "      <td>91.0</td>\n",
              "      <td>0.0</td>\n",
              "      <td>4.6</td>\n",
              "      <td>6.0</td>\n",
              "      <td>1982</td>\n",
              "      <td>0</td>\n",
              "      <td>0</td>\n",
              "      <td>4</td>\n",
              "      <td>...</td>\n",
              "      <td>0</td>\n",
              "      <td>0</td>\n",
              "      <td>0</td>\n",
              "      <td>0</td>\n",
              "      <td>1</td>\n",
              "      <td>0</td>\n",
              "      <td>0</td>\n",
              "      <td>0</td>\n",
              "      <td>0</td>\n",
              "      <td>0</td>\n",
              "    </tr>\n",
              "    <tr>\n",
              "      <th>2829</th>\n",
              "      <td>0</td>\n",
              "      <td>49280</td>\n",
              "      <td>1.0</td>\n",
              "      <td>0.0</td>\n",
              "      <td>6.5</td>\n",
              "      <td>22.0</td>\n",
              "      <td>77</td>\n",
              "      <td>0</td>\n",
              "      <td>0</td>\n",
              "      <td>1</td>\n",
              "      <td>...</td>\n",
              "      <td>0</td>\n",
              "      <td>0</td>\n",
              "      <td>0</td>\n",
              "      <td>0</td>\n",
              "      <td>0</td>\n",
              "      <td>0</td>\n",
              "      <td>0</td>\n",
              "      <td>1</td>\n",
              "      <td>0</td>\n",
              "      <td>0</td>\n",
              "    </tr>\n",
              "  </tbody>\n",
              "</table>\n",
              "<p>2830 rows × 39 columns</p>\n",
              "</div>\n",
              "      <button class=\"colab-df-convert\" onclick=\"convertToInteractive('df-3d23ce63-dca9-4132-8509-d115ff0cb5c5')\"\n",
              "              title=\"Convert this dataframe to an interactive table.\"\n",
              "              style=\"display:none;\">\n",
              "        \n",
              "  <svg xmlns=\"http://www.w3.org/2000/svg\" height=\"24px\"viewBox=\"0 0 24 24\"\n",
              "       width=\"24px\">\n",
              "    <path d=\"M0 0h24v24H0V0z\" fill=\"none\"/>\n",
              "    <path d=\"M18.56 5.44l.94 2.06.94-2.06 2.06-.94-2.06-.94-.94-2.06-.94 2.06-2.06.94zm-11 1L8.5 8.5l.94-2.06 2.06-.94-2.06-.94L8.5 2.5l-.94 2.06-2.06.94zm10 10l.94 2.06.94-2.06 2.06-.94-2.06-.94-.94-2.06-.94 2.06-2.06.94z\"/><path d=\"M17.41 7.96l-1.37-1.37c-.4-.4-.92-.59-1.43-.59-.52 0-1.04.2-1.43.59L10.3 9.45l-7.72 7.72c-.78.78-.78 2.05 0 2.83L4 21.41c.39.39.9.59 1.41.59.51 0 1.02-.2 1.41-.59l7.78-7.78 2.81-2.81c.8-.78.8-2.07 0-2.86zM5.41 20L4 18.59l7.72-7.72 1.47 1.35L5.41 20z\"/>\n",
              "  </svg>\n",
              "      </button>\n",
              "      \n",
              "  <style>\n",
              "    .colab-df-container {\n",
              "      display:flex;\n",
              "      flex-wrap:wrap;\n",
              "      gap: 12px;\n",
              "    }\n",
              "\n",
              "    .colab-df-convert {\n",
              "      background-color: #E8F0FE;\n",
              "      border: none;\n",
              "      border-radius: 50%;\n",
              "      cursor: pointer;\n",
              "      display: none;\n",
              "      fill: #1967D2;\n",
              "      height: 32px;\n",
              "      padding: 0 0 0 0;\n",
              "      width: 32px;\n",
              "    }\n",
              "\n",
              "    .colab-df-convert:hover {\n",
              "      background-color: #E2EBFA;\n",
              "      box-shadow: 0px 1px 2px rgba(60, 64, 67, 0.3), 0px 1px 3px 1px rgba(60, 64, 67, 0.15);\n",
              "      fill: #174EA6;\n",
              "    }\n",
              "\n",
              "    [theme=dark] .colab-df-convert {\n",
              "      background-color: #3B4455;\n",
              "      fill: #D2E3FC;\n",
              "    }\n",
              "\n",
              "    [theme=dark] .colab-df-convert:hover {\n",
              "      background-color: #434B5C;\n",
              "      box-shadow: 0px 1px 3px 1px rgba(0, 0, 0, 0.15);\n",
              "      filter: drop-shadow(0px 1px 2px rgba(0, 0, 0, 0.3));\n",
              "      fill: #FFFFFF;\n",
              "    }\n",
              "  </style>\n",
              "\n",
              "      <script>\n",
              "        const buttonEl =\n",
              "          document.querySelector('#df-3d23ce63-dca9-4132-8509-d115ff0cb5c5 button.colab-df-convert');\n",
              "        buttonEl.style.display =\n",
              "          google.colab.kernel.accessAllowed ? 'block' : 'none';\n",
              "\n",
              "        async function convertToInteractive(key) {\n",
              "          const element = document.querySelector('#df-3d23ce63-dca9-4132-8509-d115ff0cb5c5');\n",
              "          const dataTable =\n",
              "            await google.colab.kernel.invokeFunction('convertToInteractive',\n",
              "                                                     [key], {});\n",
              "          if (!dataTable) return;\n",
              "\n",
              "          const docLinkHtml = 'Like what you see? Visit the ' +\n",
              "            '<a target=\"_blank\" href=https://colab.research.google.com/notebooks/data_table.ipynb>data table notebook</a>'\n",
              "            + ' to learn more about interactive tables.';\n",
              "          element.innerHTML = '';\n",
              "          dataTable['output_type'] = 'display_data';\n",
              "          await google.colab.output.renderOutput(dataTable, element);\n",
              "          const docLink = document.createElement('div');\n",
              "          docLink.innerHTML = docLinkHtml;\n",
              "          element.appendChild(docLink);\n",
              "        }\n",
              "      </script>\n",
              "    </div>\n",
              "  </div>\n",
              "  "
            ]
          },
          "metadata": {},
          "execution_count": 88
        }
      ],
      "source": [
        "dataset"
      ]
    },
    {
      "cell_type": "code",
      "execution_count": 89,
      "metadata": {
        "id": "Bs0TVnKboIt7"
      },
      "outputs": [],
      "source": [
        "indexToId = dict(zip(dataset.index, dataset['id']))\n",
        "idToIndex = dict(zip(dataset['id'], dataset.index))"
      ]
    },
    {
      "cell_type": "code",
      "execution_count": 90,
      "metadata": {
        "colab": {
          "base_uri": "https://localhost:8080/"
        },
        "id": "HHTw-2JnoUkD",
        "outputId": "8c35cb9f-7bf3-4a7c-9349-c53c0878b33b"
      },
      "outputs": [
        {
          "output_type": "execute_result",
          "data": {
            "text/plain": [
              "949"
            ]
          },
          "metadata": {},
          "execution_count": 90
        }
      ],
      "source": [
        "indexToId[0]"
      ]
    },
    {
      "cell_type": "code",
      "execution_count": 91,
      "metadata": {
        "id": "0haQ_ZQfocEf"
      },
      "outputs": [],
      "source": [
        "dataset.drop(columns = ['id'], inplace = True)"
      ]
    },
    {
      "cell_type": "code",
      "execution_count": 92,
      "metadata": {
        "id": "RPDj7O4HJKz5"
      },
      "outputs": [],
      "source": [
        "from sklearn import preprocessing"
      ]
    },
    {
      "cell_type": "code",
      "execution_count": 93,
      "metadata": {
        "id": "ZtLdMonHKIrh"
      },
      "outputs": [],
      "source": [
        "dataset = preprocessing.scale(dataset)"
      ]
    },
    {
      "cell_type": "code",
      "source": [
        "len_features = dataset.shape[1]"
      ],
      "metadata": {
        "id": "f9WxSPJT_m2z"
      },
      "execution_count": 94,
      "outputs": []
    },
    {
      "cell_type": "markdown",
      "metadata": {
        "id": "8LOrXg1Ep1zR"
      },
      "source": [
        "Test Transfrom Metadata Movies Dataframe to Tensor"
      ]
    },
    {
      "cell_type": "code",
      "execution_count": 95,
      "metadata": {
        "id": "lCdA5Bq2pSYm"
      },
      "outputs": [],
      "source": [
        "movies_tensor = torch.tensor(dataset, requires_grad= False)"
      ]
    },
    {
      "cell_type": "markdown",
      "metadata": {
        "id": "sgy1cJVkp4mH"
      },
      "source": [
        "Test Transform Ratings to Sparse Tensor"
      ]
    },
    {
      "cell_type": "code",
      "execution_count": 96,
      "metadata": {
        "id": "zfVG0vXlqeUg"
      },
      "outputs": [],
      "source": [
        "ratings_train[\"movieId\"] = ratings_train[\"movieId\"].apply(lambda x: idToIndex[x])"
      ]
    },
    {
      "cell_type": "code",
      "execution_count": 97,
      "metadata": {
        "id": "P0GDITByrarE"
      },
      "outputs": [],
      "source": [
        "ratings_test[\"movieId\"] = ratings_test[\"movieId\"].apply(lambda x: idToIndex[x])"
      ]
    },
    {
      "cell_type": "code",
      "execution_count": 98,
      "metadata": {
        "colab": {
          "base_uri": "https://localhost:8080/"
        },
        "id": "sK9aLxXEqZTJ",
        "outputId": "0f1c2504-1e23-4c29-a921-4378360a94a5"
      },
      "outputs": [
        {
          "output_type": "execute_result",
          "data": {
            "text/plain": [
              "False"
            ]
          },
          "metadata": {},
          "execution_count": 98
        }
      ],
      "source": [
        "len(ratings_train['userId'].unique()) == len(ratings_test['userId'].unique())"
      ]
    },
    {
      "cell_type": "code",
      "execution_count": 99,
      "metadata": {
        "id": "1FpqymVAsGIX"
      },
      "outputs": [],
      "source": [
        "ratings_train[\"userId\"] = ratings_train[\"userId\"].apply(lambda x: x - 1)\n",
        "ratings_test[\"userId\"] = ratings_test[\"userId\"].apply(lambda x: x - 1)"
      ]
    },
    {
      "cell_type": "code",
      "execution_count": 100,
      "metadata": {
        "id": "1Cqd1dV5p1D0"
      },
      "outputs": [],
      "source": [
        "ratings_tensor = torch.sparse_coo_tensor([ratings_train['userId'], ratings_train['movieId']], ratings_train['rating'], (len_users, len_dataset))"
      ]
    },
    {
      "cell_type": "markdown",
      "metadata": {
        "id": "IaFwcoPGtQ9s"
      },
      "source": [
        "All works normally!\n",
        "\n",
        "Now we will put all those codes into one block"
      ]
    },
    {
      "cell_type": "markdown",
      "source": [
        "Rating larger than 4.0 will be assigned by **2** else **1**. 2 and 1 because we want to avoid the misunderstanding of library with 0 for the unrated one"
      ],
      "metadata": {
        "id": "_fjdj_1KpRxB"
      }
    },
    {
      "cell_type": "code",
      "source": [
        "ratings_train['rating'] = ratings_train['rating'].apply(lambda x: 2 if x >= 4 else 1)\n",
        "ratings_test['rating'] = ratings_test['rating'].apply(lambda x: 2 if x >= 4 else 1)"
      ],
      "metadata": {
        "id": "ORa5my2dDzlI"
      },
      "execution_count": 101,
      "outputs": []
    },
    {
      "cell_type": "markdown",
      "source": [
        "Convert dataset to Tensor data structure"
      ],
      "metadata": {
        "id": "JOLYiTAeKYu7"
      }
    },
    {
      "cell_type": "code",
      "execution_count": 102,
      "metadata": {
        "id": "dPoOLXdiuEaI"
      },
      "outputs": [],
      "source": [
        "movies_tensor = torch.tensor(dataset, requires_grad= False)\n",
        "movies_tensor = torch.cat((movies_tensor, torch.ones(len_dataset, 1, dtype = torch.float64)), axis = 1)\n",
        "ratings_train_tensor = torch.sparse_coo_tensor([ratings_train['userId'],\\\n",
        "                                                     ratings_train['movieId']],\\\n",
        "                                                     ratings_train['rating'], (len_users, len_dataset))\n",
        "ratings_test_tensor = torch.sparse_coo_tensor([ratings_test['userId'],\\\n",
        "                                                     ratings_test['movieId']],\\\n",
        "                                                     ratings_test['rating'], (len_users, len_dataset))\n",
        "\n",
        "ratings_train_tensor = ratings_train_tensor.to_dense()\n",
        "ratings_test_tensor = ratings_test_tensor.to_dense()"
      ]
    },
    {
      "cell_type": "code",
      "execution_count": 103,
      "metadata": {
        "id": "l4xf3ae7ur7s"
      },
      "outputs": [],
      "source": [
        "from torch.autograd import Variable"
      ]
    },
    {
      "cell_type": "code",
      "execution_count": 104,
      "metadata": {
        "colab": {
          "base_uri": "https://localhost:8080/"
        },
        "id": "YQkPDoq4xlIt",
        "outputId": "6e3ce319-e5cd-4f18-acd5-6895fae44a05"
      },
      "outputs": [
        {
          "output_type": "execute_result",
          "data": {
            "text/plain": [
              "tensor(0)"
            ]
          },
          "metadata": {},
          "execution_count": 104
        }
      ],
      "source": [
        "ratings_train_tensor[0][474]"
      ]
    },
    {
      "cell_type": "markdown",
      "metadata": {
        "id": "0L0c6SXJv9WX"
      },
      "source": [
        "### Train"
      ]
    },
    {
      "cell_type": "markdown",
      "source": [
        "We proposed a Regression Model for predicting Ratings\n",
        "\n",
        "To predict the rate from user model $U$ and movies profiles $M$:\n",
        "\n",
        "$U$ * $M^\\top$ = $\\hat{R}$ \n",
        "\n",
        "$L = BCE(\\hat{R}, R)$ for all movies that have rated \n",
        "\n",
        "Find the partial derivatives for matrix $U$ : $ \\dfrac{\\partial L}{\\partial U} $\n",
        "\n",
        "Update $U$ based on $ \\dfrac{\\partial L}{\\partial U} $"
      ],
      "metadata": {
        "id": "9X53qYJbAfBa"
      }
    },
    {
      "cell_type": "markdown",
      "source": [
        "To calculate derivatives, we use **Autograd** of ***Pytorch***"
      ],
      "metadata": {
        "id": "V0Hk-5ctEfa2"
      }
    },
    {
      "cell_type": "code",
      "execution_count": 105,
      "metadata": {
        "id": "esuVsSYYL8C-",
        "colab": {
          "base_uri": "https://localhost:8080/",
          "height": 36
        },
        "outputId": "b1e7e26f-dc7d-4b6a-c2c5-e64629e7a4f2"
      },
      "outputs": [
        {
          "output_type": "execute_result",
          "data": {
            "text/plain": [
              "'\\nAutograd example\\n'"
            ],
            "application/vnd.google.colaboratory.intrinsic+json": {
              "type": "string"
            }
          },
          "metadata": {},
          "execution_count": 105
        }
      ],
      "source": [
        "\"\"\"\n",
        "Autograd example\n",
        "\"\"\"\n",
        "# ratings_pred = torch.matmul(torch.cat((U, b), axis = 1), movies_tensor.T)\n",
        "# mask = ratings_train_tensor.bool()\n",
        "# nonzero_pred = F.sigmoid(ratings_pred.masked_select(mask))\n",
        "# nonzero_train = ratings_train_tensor.masked_select(mask)\n",
        "# loss = criterion(nonzero_pred, nonzero_train)\n",
        "# loss.backward()"
      ]
    },
    {
      "cell_type": "code",
      "execution_count": 106,
      "metadata": {
        "id": "ZyYP-YPCIwH2"
      },
      "outputs": [],
      "source": [
        "U = Variable(torch.randn(len_users, len_features, dtype = torch.float64), requires_grad=True)\n",
        "b = Variable(torch.randn(len_users, 1, dtype = torch.float64), requires_grad=True)"
      ]
    },
    {
      "cell_type": "markdown",
      "source": [
        "Here we use BCELoss (**Binary Cross Entropy Loss**) for classification 0 and 1\n",
        "\n",
        "Metrics use is `accuracy`."
      ],
      "metadata": {
        "id": "HUHgQL2eD95N"
      }
    },
    {
      "cell_type": "code",
      "execution_count": 107,
      "metadata": {
        "id": "m3oji6TMIC6g"
      },
      "outputs": [],
      "source": [
        "criterion = nn.BCELoss()\n",
        "optimizer = torch.optim.Adam([U], lr = 0.005)\n",
        "optimizer.add_param_group({'params': b, \"lr\": 0.005, \"weight_decay\": 0})"
      ]
    },
    {
      "cell_type": "code",
      "execution_count": 108,
      "metadata": {
        "id": "xJ_-m9TmLk0x"
      },
      "outputs": [],
      "source": [
        "from tqdm.notebook import tqdm"
      ]
    },
    {
      "cell_type": "code",
      "execution_count": 109,
      "metadata": {
        "id": "GMgm2bhOU4OM"
      },
      "outputs": [],
      "source": [
        "bestU = None\n",
        "bestb = None\n",
        "maxAcc = 0.0"
      ]
    },
    {
      "cell_type": "markdown",
      "metadata": {
        "id": "IUx-KhHQVkda"
      },
      "source": [
        "First try 3001 loop without regulization, lr = 0.005"
      ]
    },
    {
      "cell_type": "code",
      "execution_count": 110,
      "metadata": {
        "colab": {
          "base_uri": "https://localhost:8080/",
          "height": 1000,
          "referenced_widgets": [
            "bbaddceaf77f45e18e8941852226ddf7",
            "2ee2a8fcce10495594ff3133d2b4a107",
            "c6e0cd7b878b49df8fa8e1be2f2d86b0",
            "a3f93c95217d461a985398038d55af96",
            "bf4fbf2daa534d18ac24bc1da8f62f9f",
            "025818dd89214501990773f400e1722a",
            "ef5c6765d9534ae7b17d6b3a5d6a89e5",
            "8db4bac184854e87a1b0225a02b7d54d",
            "ecb56abfa1d3455f90317a38b79455e9",
            "1297cad86e2346dd93a7ecc7e0889f92",
            "e1470a7c0bc64c349a8bbc54bf2228fa"
          ]
        },
        "id": "Z6zLIEjrIG9l",
        "outputId": "c9d937ee-4a31-4208-f27f-559c57b5de40"
      },
      "outputs": [
        {
          "output_type": "display_data",
          "data": {
            "text/plain": [
              "  0%|          | 0/3001 [00:00<?, ?it/s]"
            ],
            "application/vnd.jupyter.widget-view+json": {
              "version_major": 2,
              "version_minor": 0,
              "model_id": "bbaddceaf77f45e18e8941852226ddf7"
            }
          },
          "metadata": {}
        },
        {
          "output_type": "stream",
          "name": "stdout",
          "text": [
            "Epoch: 0. Train Loss: 2.6021032840791753. Train Acc: 0.5026102066040039. Valid Loss: 2.632373077345012. Valid Acc: 0.5015540719032288.\n",
            "Epoch: 10. Train Loss: 2.3964616955627855. Train Acc: 0.5116044878959656. Valid Loss: 2.5082133083826244. Valid Acc: 0.5038283467292786.\n",
            "Epoch: 20. Train Loss: 2.2067153002474775. Train Acc: 0.5228945016860962. Valid Loss: 2.3908052068681886. Valid Acc: 0.5047380924224854.\n",
            "Epoch: 30. Train Loss: 2.038653748385524. Train Acc: 0.5344990491867065. Valid Loss: 2.2853512019140725. Valid Acc: 0.5070881843566895.\n",
            "Epoch: 40. Train Loss: 1.8874746493934837. Train Acc: 0.5468897223472595. Valid Loss: 2.201229526207343. Valid Acc: 0.5096656680107117.\n",
            "Epoch: 50. Train Loss: 1.7505189386933429. Train Acc: 0.5594376921653748. Valid Loss: 2.1225925803302106. Valid Acc: 0.5149723291397095.\n",
            "Epoch: 60. Train Loss: 1.6247959038623276. Train Acc: 0.5701301693916321. Valid Loss: 2.0571498363418406. Valid Acc: 0.5181562900543213.\n",
            "Epoch: 70. Train Loss: 1.5128345374877445. Train Acc: 0.5804138779640198. Valid Loss: 1.9986809079784624. Valid Acc: 0.5208854675292969.\n",
            "Epoch: 80. Train Loss: 1.4115468456973173. Train Acc: 0.5912007093429565. Valid Loss: 1.9462836673492716. Valid Acc: 0.5218709707260132.\n",
            "Epoch: 90. Train Loss: 1.3198493316617077. Train Acc: 0.6033398509025574. Valid Loss: 1.8995010803006804. Valid Acc: 0.5234629511833191.\n",
            "Epoch: 100. Train Loss: 1.2366672514229995. Train Acc: 0.6156047582626343. Valid Loss: 1.8574614748757694. Valid Acc: 0.5250549912452698.\n",
            "Epoch: 110. Train Loss: 1.163328254619851. Train Acc: 0.6257311701774597. Valid Loss: 1.8194978805954651. Valid Acc: 0.5266469717025757.\n",
            "Epoch: 120. Train Loss: 1.0950776175743562. Train Acc: 0.6366438269615173. Valid Loss: 1.7851009141235112. Valid Acc: 0.5295277237892151.\n",
            "Epoch: 130. Train Loss: 1.0312230431796199. Train Acc: 0.6473048329353333. Valid Loss: 1.753853690890411. Valid Acc: 0.5311955213546753.\n",
            "Epoch: 140. Train Loss: 0.9749764609491257. Train Acc: 0.6565192937850952. Valid Loss: 1.7252798870023642. Valid Acc: 0.5328633189201355.\n",
            "Epoch: 150. Train Loss: 0.9237309585358195. Train Acc: 0.6662997603416443. Valid Loss: 1.6990504915092435. Valid Acc: 0.5333939790725708.\n",
            "Epoch: 160. Train Loss: 0.8770381986772386. Train Acc: 0.6751682758331299. Valid Loss: 1.67494335445981. Valid Acc: 0.5344552993774414.\n",
            "Epoch: 170. Train Loss: 0.8343980659187937. Train Acc: 0.6835650205612183. Valid Loss: 1.6527571886230819. Valid Acc: 0.5360472798347473.\n",
            "Epoch: 180. Train Loss: 0.7954107181228562. Train Acc: 0.6915843486785889. Valid Loss: 1.6323248855223151. Valid Acc: 0.5370328426361084.\n",
            "Epoch: 190. Train Loss: 0.759730697593188. Train Acc: 0.699981153011322. Valid Loss: 1.6135186006955324. Valid Acc: 0.5368053913116455.\n",
            "Epoch: 200. Train Loss: 0.7270322535153133. Train Acc: 0.708283543586731. Valid Loss: 1.5962389731374367. Valid Acc: 0.5400651693344116.\n",
            "Epoch: 210. Train Loss: 0.6970379765947302. Train Acc: 0.7157368659973145. Valid Loss: 1.5803864109535295. Valid Acc: 0.5416572093963623.\n",
            "Epoch: 220. Train Loss: 0.6695108816965539. Train Acc: 0.723630428314209. Valid Loss: 1.5658791179270333. Valid Acc: 0.5435523986816406.\n",
            "Epoch: 230. Train Loss: 0.6442516475452377. Train Acc: 0.7301087975502014. Valid Loss: 1.5526665570841327. Valid Acc: 0.5446895360946655.\n",
            "Epoch: 240. Train Loss: 0.6210792456710055. Train Acc: 0.7378137111663818. Valid Loss: 1.5406670785532417. Valid Acc: 0.5443105101585388.\n",
            "Epoch: 250. Train Loss: 0.5998174426660029. Train Acc: 0.7441663146018982. Valid Loss: 1.5298512557482489. Valid Acc: 0.5451444387435913.\n",
            "Epoch: 260. Train Loss: 0.5802964022352138. Train Acc: 0.7497955560684204. Valid Loss: 1.5201944660074285. Valid Acc: 0.5469638109207153.\n",
            "Epoch: 270. Train Loss: 0.5623475407779648. Train Acc: 0.7549216747283936. Valid Loss: 1.5115630816233847. Valid Acc: 0.5478735566139221.\n",
            "Epoch: 280. Train Loss: 0.5457988352349026. Train Acc: 0.7602365016937256. Valid Loss: 1.5039528465967493. Valid Acc: 0.5490865111351013.\n",
            "Epoch: 290. Train Loss: 0.5304891184921909. Train Acc: 0.7664632797241211. Valid Loss: 1.4973272927812704. Valid Acc: 0.5501478314399719.\n",
            "Epoch: 300. Train Loss: 0.5163655138778427. Train Acc: 0.7700169682502747. Valid Loss: 1.496453435358033. Valid Acc: 0.5524221062660217.\n",
            "Epoch: 310. Train Loss: 0.5033601864286146. Train Acc: 0.7746713757514954. Valid Loss: 1.491554201328015. Valid Acc: 0.5543173551559448.\n",
            "Epoch: 320. Train Loss: 0.4913650001245194. Train Acc: 0.7781307101249695. Valid Loss: 1.487416890423727. Valid Acc: 0.5554544925689697.\n",
            "Epoch: 330. Train Loss: 0.48028007046719084. Train Acc: 0.7824705839157104. Valid Loss: 1.4839847889180324. Valid Acc: 0.5557577013969421.\n",
            "Epoch: 340. Train Loss: 0.4700205427095055. Train Acc: 0.7866218090057373. Valid Loss: 1.4812096328849658. Valid Acc: 0.5587900876998901.\n",
            "Epoch: 350. Train Loss: 0.4605179837356015. Train Acc: 0.790364146232605. Valid Loss: 1.4790451279290535. Valid Acc: 0.560836911201477.\n",
            "Epoch: 360. Train Loss: 0.45172106104323784. Train Acc: 0.7942637801170349. Valid Loss: 1.4774441734691044. Valid Acc: 0.5600788593292236.\n",
            "Epoch: 370. Train Loss: 0.44354375518258204. Train Acc: 0.7978489398956299. Valid Loss: 1.4763571306064318. Valid Acc: 0.5611401796340942.\n",
            "Epoch: 380. Train Loss: 0.43589826561465334. Train Acc: 0.8011510372161865. Valid Loss: 1.475734944507098. Valid Acc: 0.5615950226783752.\n",
            "Epoch: 390. Train Loss: 0.42873477967004586. Train Acc: 0.803604006767273. Valid Loss: 1.4755339388484487. Valid Acc: 0.5625047087669373.\n",
            "Epoch: 400. Train Loss: 0.42205368075031785. Train Acc: 0.8068117499351501. Valid Loss: 1.4758050429628713. Valid Acc: 0.5630354285240173.\n",
            "Epoch: 410. Train Loss: 0.41581767165906675. Train Acc: 0.8094848990440369. Valid Loss: 1.4764611511208185. Valid Acc: 0.562959611415863.\n",
            "Epoch: 420. Train Loss: 0.4099888974689426. Train Acc: 0.8126296997070312. Valid Loss: 1.4774533463994108. Valid Acc: 0.5633386373519897.\n",
            "Epoch: 430. Train Loss: 0.4045326388195545. Train Acc: 0.814988374710083. Valid Loss: 1.4787654591698345. Valid Acc: 0.5642483234405518.\n",
            "Epoch: 440. Train Loss: 0.3994172022242983. Train Acc: 0.816906750202179. Valid Loss: 1.4803077690546917. Valid Acc: 0.564324140548706.\n",
            "Epoch: 450. Train Loss: 0.39461400614255043. Train Acc: 0.8182275891304016. Valid Loss: 1.4821258912427389. Valid Acc: 0.56500643491745.\n",
            "Epoch: 460. Train Loss: 0.3900979360653191. Train Acc: 0.8206490874290466. Valid Loss: 1.4890261539523424. Valid Acc: 0.5655370950698853.\n",
            "Epoch: 470. Train Loss: 0.38585015643976867. Train Acc: 0.8229448199272156. Valid Loss: 1.491303184811927. Valid Acc: 0.5656887292861938.\n",
            "Epoch: 480. Train Loss: 0.38185811474967934. Train Acc: 0.8251147866249084. Valid Loss: 1.4938203343814191. Valid Acc: 0.5674323439598083.\n",
            "Epoch: 490. Train Loss: 0.37809869398630286. Train Acc: 0.8262469172477722. Valid Loss: 1.4965511142666883. Valid Acc: 0.5683420300483704.\n",
            "Epoch: 500. Train Loss: 0.3745509621187205. Train Acc: 0.8273476362228394. Valid Loss: 1.4994393660704863. Valid Acc: 0.5693275928497314.\n",
            "Epoch: 510. Train Loss: 0.371199906604799. Train Acc: 0.828982949256897. Valid Loss: 1.5024892277641357. Valid Acc: 0.5685694813728333.\n",
            "Epoch: 520. Train Loss: 0.3680314248494458. Train Acc: 0.8300521969795227. Valid Loss: 1.50567099010329. Valid Acc: 0.5687969326972961.\n",
            "Epoch: 530. Train Loss: 0.36503299053016613. Train Acc: 0.8316246271133423. Valid Loss: 1.5089928173458254. Valid Acc: 0.5691759586334229.\n",
            "Epoch: 540. Train Loss: 0.3621933984823789. Train Acc: 0.8324422836303711. Valid Loss: 1.5124236695054765. Valid Acc: 0.5694791674613953.\n",
            "Epoch: 550. Train Loss: 0.359502433266661. Train Acc: 0.8332914113998413. Valid Loss: 1.5159485730571258. Valid Acc: 0.5697066187858582.\n",
            "Epoch: 560. Train Loss: 0.3569507375015012. Train Acc: 0.8339832425117493. Valid Loss: 1.519601362853782. Valid Acc: 0.5702372789382935.\n",
            "Epoch: 570. Train Loss: 0.3545296247784305. Train Acc: 0.8349267244338989. Valid Loss: 1.523302750969338. Valid Acc: 0.570388913154602.\n",
            "Epoch: 580. Train Loss: 0.3522309529746925. Train Acc: 0.8358702063560486. Valid Loss: 1.5270947932310044. Valid Acc: 0.5706163048744202.\n",
            "Epoch: 590. Train Loss: 0.35004703186196623. Train Acc: 0.8369079828262329. Valid Loss: 1.5309427247968928. Valid Acc: 0.5709953904151917.\n",
            "Epoch: 600. Train Loss: 0.34797057167757445. Train Acc: 0.8380715847015381. Valid Loss: 1.5348867332229836. Valid Acc: 0.5708437561988831.\n",
            "Epoch: 610. Train Loss: 0.34599467007429574. Train Acc: 0.838763415813446. Valid Loss: 1.5388754265106028. Valid Acc: 0.5709195733070374.\n",
            "Epoch: 620. Train Loss: 0.3441128181154513. Train Acc: 0.8397068977355957. Valid Loss: 1.5429015965720532. Valid Acc: 0.5708437561988831.\n",
            "Epoch: 630. Train Loss: 0.3423189095548816. Train Acc: 0.8401157259941101. Valid Loss: 1.5469784779566396. Valid Acc: 0.5705405473709106.\n",
            "Epoch: 640. Train Loss: 0.3406072440475619. Train Acc: 0.8409648537635803. Valid Loss: 1.5511027174339083. Valid Acc: 0.5695549845695496.\n",
            "Epoch: 650. Train Loss: 0.3389725214505444. Train Acc: 0.8420655131340027. Valid Loss: 1.555287641825097. Valid Acc: 0.5697824358940125.\n",
            "Epoch: 660. Train Loss: 0.3374098282052912. Train Acc: 0.8428202867507935. Valid Loss: 1.5594869846229882. Valid Acc: 0.5698582530021667.\n",
            "Epoch: 670. Train Loss: 0.33591461802235345. Train Acc: 0.8436065316200256. Valid Loss: 1.563777094108768. Valid Acc: 0.5706921219825745.\n",
            "Epoch: 680. Train Loss: 0.33448268906895307. Train Acc: 0.8446757793426514. Valid Loss: 1.5680532814322103. Valid Acc: 0.5704647302627563.\n",
            "Epoch: 690. Train Loss: 0.3331101593923865. Train Acc: 0.8455877900123596. Valid Loss: 1.572351333660983. Valid Acc: 0.5702372789382935.\n",
            "Epoch: 700. Train Loss: 0.3317934417860676. Train Acc: 0.8458079099655151. Valid Loss: 1.5766950077732018. Valid Acc: 0.571526050567627.\n",
            "Epoch: 710. Train Loss: 0.33052921887462533. Train Acc: 0.846373975276947. Valid Loss: 1.5810436160028054. Valid Acc: 0.5716018676757812.\n",
            "Epoch: 720. Train Loss: 0.32931441892084906. Train Acc: 0.8473174571990967. Valid Loss: 1.585403663933468. Valid Acc: 0.5708437561988831.\n",
            "Epoch: 730. Train Loss: 0.3281461927625099. Train Acc: 0.8477262854576111. Valid Loss: 1.5898113558368459. Valid Acc: 0.5709195733070374.\n",
            "Epoch: 740. Train Loss: 0.32702189233660217. Train Acc: 0.8480722308158875. Valid Loss: 1.5941853522483886. Valid Acc: 0.5712985992431641.\n",
            "Epoch: 750. Train Loss: 0.32593905133020623. Train Acc: 0.848418116569519. Valid Loss: 1.5985804214176382. Valid Acc: 0.5713744163513184.\n",
            "Epoch: 760. Train Loss: 0.3248953684518841. Train Acc: 0.8490471243858337. Valid Loss: 1.603043164094176. Valid Acc: 0.5716018676757812.\n",
            "Epoch: 770. Train Loss: 0.32388869354196137. Train Acc: 0.8492672443389893. Valid Loss: 1.6074416201158774. Valid Acc: 0.5717534422874451.\n",
            "Epoch: 780. Train Loss: 0.32291701629530234. Train Acc: 0.8495817184448242. Valid Loss: 1.6119022216851007. Valid Acc: 0.5716018676757812.\n",
            "Epoch: 790. Train Loss: 0.32197845696978417. Train Acc: 0.8497704267501831. Valid Loss: 1.6163651941121955. Valid Acc: 0.5713744163513184.\n",
            "Epoch: 800. Train Loss: 0.3210712583013783. Train Acc: 0.8500534892082214. Valid Loss: 1.6256380315307342. Valid Acc: 0.5719050765037537.\n",
            "Epoch: 810. Train Loss: 0.3201937779767655. Train Acc: 0.8507453203201294. Valid Loss: 1.6349109151109997. Valid Acc: 0.5717534422874451.\n",
            "Epoch: 820. Train Loss: 0.3193444812943731. Train Acc: 0.8512799739837646. Valid Loss: 1.6393483137106553. Valid Acc: 0.5718292593955994.\n",
            "Epoch: 830. Train Loss: 0.31852193392661. Train Acc: 0.8516258597373962. Valid Loss: 1.6437847647617194. Valid Acc: 0.5717534422874451.\n",
            "Epoch: 840. Train Loss: 0.31772479529393427. Train Acc: 0.8519089221954346. Valid Loss: 1.6482231932739035. Valid Acc: 0.5722841620445251.\n",
            "Epoch: 850. Train Loss: 0.31695180907099124. Train Acc: 0.852380633354187. Valid Loss: 1.6575240863446161. Valid Acc: 0.5727390050888062.\n",
            "Epoch: 860. Train Loss: 0.3162018019944933. Train Acc: 0.8527894616127014. Valid Loss: 1.6619680363934521. Valid Acc: 0.5728148221969604.\n",
            "Epoch: 870. Train Loss: 0.3154736725223226. Train Acc: 0.8529781699180603. Valid Loss: 1.66641121510131. Valid Acc: 0.5725115537643433.\n",
            "Epoch: 880. Train Loss: 0.31476638785324434. Train Acc: 0.8531982898712158. Valid Loss: 1.6708686657116354. Valid Acc: 0.5723599195480347.\n",
            "Epoch: 890. Train Loss: 0.31407897824596936. Train Acc: 0.8536071181297302. Valid Loss: 1.6753201006282201. Valid Acc: 0.5722841620445251.\n",
            "Epoch: 900. Train Loss: 0.3134105323152946. Train Acc: 0.8540788888931274. Valid Loss: 1.6797669515592046. Valid Acc: 0.5722083449363708.\n",
            "Epoch: 910. Train Loss: 0.3127601927814584. Train Acc: 0.8541103005409241. Valid Loss: 1.684220436345618. Valid Acc: 0.5725115537643433.\n",
            "Epoch: 920. Train Loss: 0.31212715258598. Train Acc: 0.8544562458992004. Valid Loss: 1.6886716373190855. Valid Acc: 0.5723599195480347.\n",
            "Epoch: 930. Train Loss: 0.3115106513512875. Train Acc: 0.8546134829521179. Valid Loss: 1.6931163428998377. Valid Acc: 0.5728148221969604.\n",
            "Epoch: 940. Train Loss: 0.31090997215143007. Train Acc: 0.8546134829521179. Valid Loss: 1.697556062600216. Valid Acc: 0.5731938481330872.\n",
            "Epoch: 950. Train Loss: 0.3103244385588166. Train Acc: 0.8548336625099182. Valid Loss: 1.7020034194234337. Valid Acc: 0.5731180310249329.\n",
            "Epoch: 960. Train Loss: 0.30975341193549183. Train Acc: 0.8551166653633118. Valid Loss: 1.7064448705873212. Valid Acc: 0.57342129945755.\n",
            "Epoch: 970. Train Loss: 0.30919628894153184. Train Acc: 0.8551795482635498. Valid Loss: 1.71090205983789. Valid Acc: 0.5731938481330872.\n",
            "Epoch: 980. Train Loss: 0.3086524992369135. Train Acc: 0.8554311394691467. Valid Loss: 1.7153272098489645. Valid Acc: 0.5735728740692139.\n",
            "Epoch: 990. Train Loss: 0.30812150335662725. Train Acc: 0.8555569648742676. Valid Loss: 1.7197614359227467. Valid Acc: 0.5739519596099854.\n",
            "Epoch: 1000. Train Loss: 0.30760279074187835. Train Acc: 0.855902910232544. Valid Loss: 1.7241821644231716. Valid Acc: 0.5739519596099854.\n",
            "Epoch: 1010. Train Loss: 0.30709587791284126. Train Acc: 0.855902910232544. Valid Loss: 1.7334810872001063. Valid Acc: 0.5738003253936768.\n",
            "Epoch: 1020. Train Loss: 0.30660030677054445. Train Acc: 0.8562173843383789. Valid Loss: 1.737880530321633. Valid Acc: 0.5732696652412415.\n",
            "Epoch: 1030. Train Loss: 0.3061156430172292. Train Acc: 0.8563746213912964. Valid Loss: 1.7423126730734375. Valid Acc: 0.5731938481330872.\n",
            "Epoch: 1040. Train Loss: 0.3056414746859034. Train Acc: 0.8565318584442139. Valid Loss: 1.7467583404510458. Valid Acc: 0.5727390050888062.\n",
            "Epoch: 1050. Train Loss: 0.30517741077087457. Train Acc: 0.8566576242446899. Valid Loss: 1.7511719476375491. Valid Acc: 0.5726631879806519.\n",
            "Epoch: 1060. Train Loss: 0.3047230799518616. Train Acc: 0.8565947413444519. Valid Loss: 1.755556975857792. Valid Acc: 0.5726631879806519.\n",
            "Epoch: 1070. Train Loss: 0.3042781294048927. Train Acc: 0.8567205667495728. Valid Loss: 1.7599371702947892. Valid Acc: 0.5729663968086243.\n",
            "Epoch: 1080. Train Loss: 0.3038422236936563. Train Acc: 0.8570035696029663. Valid Loss: 1.764313292643628. Valid Acc: 0.5729663968086243.\n",
            "Epoch: 1090. Train Loss: 0.303415043735322. Train Acc: 0.8571608066558838. Valid Loss: 1.7687183026481479. Valid Acc: 0.5726631879806519.\n",
            "Epoch: 1100. Train Loss: 0.30299628583513116. Train Acc: 0.8573180437088013. Valid Loss: 1.7730849041247845. Valid Acc: 0.5731938481330872.\n",
            "Epoch: 1110. Train Loss: 0.302585660784317. Train Acc: 0.8574438691139221. Valid Loss: 1.7774518212524981. Valid Acc: 0.5734970569610596.\n",
            "Epoch: 1120. Train Loss: 0.3021828930161758. Train Acc: 0.8573809862136841. Valid Loss: 1.7866544251687384. Valid Acc: 0.5731938481330872.\n",
            "Epoch: 1130. Train Loss: 0.3017877198154303. Train Acc: 0.8574753403663635. Valid Loss: 1.7910303374073229. Valid Acc: 0.5732696652412415.\n",
            "Epoch: 1140. Train Loss: 0.30139989057642713. Train Acc: 0.857947051525116. Valid Loss: 1.7954353074571174. Valid Acc: 0.5733454823493958.\n",
            "Epoch: 1150. Train Loss: 0.30101916610623325. Train Acc: 0.8583558797836304. Valid Loss: 1.799760200249958. Valid Acc: 0.5729663968086243.\n",
            "Epoch: 1160. Train Loss: 0.30064531796934274. Train Acc: 0.8584502339363098. Valid Loss: 1.8041115862286206. Valid Acc: 0.5725873708724976.\n",
            "Epoch: 1170. Train Loss: 0.3002781278714659. Train Acc: 0.8587018251419067. Valid Loss: 1.8084241235867047. Valid Acc: 0.5729663968086243.\n",
            "Epoch: 1180. Train Loss: 0.2999173870806755. Train Acc: 0.8588275909423828. Valid Loss: 1.812786901447661. Valid Acc: 0.5732696652412415.\n",
            "Epoch: 1190. Train Loss: 0.29956289588491664. Train Acc: 0.8590791821479797. Valid Loss: 1.81709121262687. Valid Acc: 0.5733454823493958.\n",
            "Epoch: 1200. Train Loss: 0.29921446308541716. Train Acc: 0.8592993021011353. Valid Loss: 1.8213898385954432. Valid Acc: 0.5737245082855225.\n",
            "Epoch: 1210. Train Loss: 0.29887190552572557. Train Acc: 0.8594880104064941. Valid Loss: 1.8256844689400105. Valid Acc: 0.573876142501831.\n",
            "Epoch: 1220. Train Loss: 0.29853504765589184. Train Acc: 0.8598024845123291. Valid Loss: 1.8299726875181699. Valid Acc: 0.5739519596099854.\n",
            "Epoch: 1230. Train Loss: 0.2982037211307267. Train Acc: 0.8601484298706055. Valid Loss: 1.8391041526527063. Valid Acc: 0.5737245082855225.\n",
            "Epoch: 1240. Train Loss: 0.2978777644402638. Train Acc: 0.860305666923523. Valid Loss: 1.8433787598135334. Valid Acc: 0.5736486911773682.\n",
            "Epoch: 1250. Train Loss: 0.29755702256973454. Train Acc: 0.8606516122817993. Valid Loss: 1.8524989739293567. Valid Acc: 0.5737245082855225.\n",
            "Epoch: 1260. Train Loss: 0.29724134668574825. Train Acc: 0.8607773780822754. Valid Loss: 1.8567655166025239. Valid Acc: 0.5738003253936768.\n",
            "Epoch: 1270. Train Loss: 0.296930593845109. Train Acc: 0.8610604405403137. Valid Loss: 1.8610225936335045. Valid Acc: 0.573876142501831.\n",
            "Epoch: 1280. Train Loss: 0.2966246267228214. Train Acc: 0.8610289692878723. Valid Loss: 1.865308023059422. Valid Acc: 0.5737245082855225.\n",
            "Epoch: 1290. Train Loss: 0.2963233133565529. Train Acc: 0.8611547946929932. Valid Loss: 1.8695570136056308. Valid Acc: 0.5736486911773682.\n",
            "Epoch: 1300. Train Loss: 0.29602652769905474. Train Acc: 0.8612805604934692. Valid Loss: 1.8737971806387175. Valid Acc: 0.57342129945755.\n",
            "Epoch: 1310. Train Loss: 0.2957341459304796. Train Acc: 0.8614377975463867. Valid Loss: 1.8780337684306259. Valid Acc: 0.5733454823493958.\n",
            "Epoch: 1320. Train Loss: 0.29544605169561455. Train Acc: 0.861657977104187. Valid Loss: 1.8822634696217897. Valid Acc: 0.5736486911773682.\n",
            "Epoch: 1330. Train Loss: 0.2951621326807676. Train Acc: 0.8617523312568665. Valid Loss: 1.8864892341201391. Valid Acc: 0.5733454823493958.\n",
            "Epoch: 1340. Train Loss: 0.29488228001752026. Train Acc: 0.8618780970573425. Valid Loss: 1.8907086757952363. Valid Acc: 0.5735728740692139.\n",
            "Epoch: 1350. Train Loss: 0.2946063891865667. Train Acc: 0.861972451210022. Valid Loss: 1.8949196315933006. Valid Acc: 0.5734970569610596.\n",
            "Epoch: 1360. Train Loss: 0.2943343595848951. Train Acc: 0.8620039224624634. Valid Loss: 1.8991265754594757. Valid Acc: 0.5736486911773682.\n",
            "Epoch: 1370. Train Loss: 0.2940660943293984. Train Acc: 0.8622240424156189. Valid Loss: 1.9033246122241398. Valid Acc: 0.5734970569610596.\n",
            "Epoch: 1380. Train Loss: 0.29380150008768385. Train Acc: 0.8621611595153809. Valid Loss: 1.9075196124887845. Valid Acc: 0.5735728740692139.\n",
            "Epoch: 1390. Train Loss: 0.29354048691764245. Train Acc: 0.8624127507209778. Valid Loss: 1.9117064636422343. Valid Acc: 0.5737245082855225.\n",
            "Epoch: 1400. Train Loss: 0.2932829681137116. Train Acc: 0.8625071048736572. Valid Loss: 1.9158873689088896. Valid Acc: 0.5735728740692139.\n",
            "Epoch: 1410. Train Loss: 0.2930288600587777. Train Acc: 0.8626013994216919. Valid Loss: 1.9200676505960745. Valid Acc: 0.5736486911773682.\n",
            "Epoch: 1420. Train Loss: 0.29277808208103934. Train Acc: 0.8626957535743713. Valid Loss: 1.924238466194278. Valid Acc: 0.5733454823493958.\n",
            "Epoch: 1430. Train Loss: 0.2925305563154973. Train Acc: 0.8627586364746094. Valid Loss: 1.9283966744824066. Valid Acc: 0.5736486911773682.\n",
            "Epoch: 1440. Train Loss: 0.29228620756967005. Train Acc: 0.8627586364746094. Valid Loss: 1.932559555111285. Valid Acc: 0.573876142501831.\n",
            "Epoch: 1450. Train Loss: 0.2920449631932658. Train Acc: 0.8627901077270508. Valid Loss: 1.936708275753617. Valid Acc: 0.5737245082855225.\n",
            "Epoch: 1460. Train Loss: 0.2918067529521659. Train Acc: 0.8628215789794922. Valid Loss: 1.9408500097748012. Valid Acc: 0.5738003253936768.\n",
            "Epoch: 1470. Train Loss: 0.2915715089073061. Train Acc: 0.8629788160324097. Valid Loss: 1.944991946257316. Valid Acc: 0.5737245082855225.\n",
            "Epoch: 1480. Train Loss: 0.2913391652992029. Train Acc: 0.8631045818328857. Valid Loss: 1.949127276767861. Valid Acc: 0.5731180310249329.\n",
            "Epoch: 1490. Train Loss: 0.29110965843908426. Train Acc: 0.8630416989326477. Valid Loss: 1.9532454567729411. Valid Acc: 0.5731938481330872.\n",
            "Epoch: 1500. Train Loss: 0.2908829266075418. Train Acc: 0.8630102276802063. Valid Loss: 1.9573804507499084. Valid Acc: 0.5727390050888062.\n",
            "Epoch: 1510. Train Loss: 0.2906589099615171. Train Acc: 0.8631360530853271. Valid Loss: 1.9614758496465403. Valid Acc: 0.5727390050888062.\n",
            "Epoch: 1520. Train Loss: 0.29043755061028537. Train Acc: 0.8632932901382446. Valid Loss: 1.9656067050638655. Valid Acc: 0.5726631879806519.\n",
            "Epoch: 1530. Train Loss: 0.29021879179142906. Train Acc: 0.8632932901382446. Valid Loss: 1.9696909822977557. Valid Acc: 0.5725873708724976.\n",
            "Epoch: 1540. Train Loss: 0.2900025791364888. Train Acc: 0.8633876442909241. Valid Loss: 1.9738287137887764. Valid Acc: 0.5728148221969604.\n",
            "Epoch: 1550. Train Loss: 0.289788859550919. Train Acc: 0.8633561730384827. Valid Loss: 1.9778976458447324. Valid Acc: 0.5727390050888062.\n",
            "Epoch: 1560. Train Loss: 0.2895775814020474. Train Acc: 0.8634190559387207. Valid Loss: 1.9819672129447696. Valid Acc: 0.5725115537643433.\n",
            "Epoch: 1570. Train Loss: 0.2893686946104361. Train Acc: 0.8634190559387207. Valid Loss: 1.9861315473950716. Valid Acc: 0.5722841620445251.\n",
            "Epoch: 1580. Train Loss: 0.2891621505270015. Train Acc: 0.8635134100914001. Valid Loss: 1.9902385523775987. Valid Acc: 0.572435736656189.\n",
            "Epoch: 1590. Train Loss: 0.2889579018908783. Train Acc: 0.8634819984436035. Valid Loss: 1.9942880542760935. Valid Acc: 0.5721325278282166.\n",
            "Epoch: 1600. Train Loss: 0.2887559027874887. Train Acc: 0.8635134100914001. Valid Loss: 1.9983384522920278. Valid Acc: 0.5722083449363708.\n",
            "Epoch: 1610. Train Loss: 0.288556108607098. Train Acc: 0.8635448813438416. Valid Loss: 2.002375874147047. Valid Acc: 0.5720567107200623.\n",
            "Epoch: 1620. Train Loss: 0.28835847600348047. Train Acc: 0.8636706471443176. Valid Loss: 2.0064095634540084. Valid Acc: 0.5723599195480347.\n",
            "Epoch: 1630. Train Loss: 0.288162962852629. Train Acc: 0.8638593554496765. Valid Loss: 2.0104480349744467. Valid Acc: 0.571980893611908.\n",
            "Epoch: 1640. Train Loss: 0.28796952821223903. Train Acc: 0.8638593554496765. Valid Loss: 2.014468314361643. Valid Acc: 0.5718292593955994.\n",
            "Epoch: 1650. Train Loss: 0.28777813228212784. Train Acc: 0.8638908267021179. Valid Loss: 2.0233413017196864. Valid Acc: 0.5716776847839355.\n",
            "Epoch: 1660. Train Loss: 0.2875887363653622. Train Acc: 0.864016592502594. Valid Loss: 2.032199929298402. Valid Acc: 0.5716776847839355.\n",
            "Epoch: 1670. Train Loss: 0.28740130283029586. Train Acc: 0.864079475402832. Valid Loss: 2.036210930967716. Valid Acc: 0.571526050567627.\n",
            "Epoch: 1680. Train Loss: 0.28721579507366624. Train Acc: 0.864016592502594. Valid Loss: 2.040234010859272. Valid Acc: 0.571526050567627.\n",
            "Epoch: 1690. Train Loss: 0.2870321774848074. Train Acc: 0.8642053008079529. Valid Loss: 2.0442445226132544. Valid Acc: 0.5716018676757812.\n",
            "Epoch: 1700. Train Loss: 0.2868504154125425. Train Acc: 0.864331066608429. Valid Loss: 2.0482191863610293. Valid Acc: 0.5713744163513184.\n",
            "Epoch: 1710. Train Loss: 0.2866704754699863. Train Acc: 0.864331066608429. Valid Loss: 2.052227342150473. Valid Acc: 0.5714502334594727.\n",
            "Epoch: 1720. Train Loss: 0.2864923239771676. Train Acc: 0.8644568920135498. Valid Loss: 2.0562103387412334. Valid Acc: 0.5713744163513184.\n",
            "Epoch: 1730. Train Loss: 0.28631592949900325. Train Acc: 0.8644568920135498. Valid Loss: 2.060230199729694. Valid Acc: 0.5713744163513184.\n",
            "Epoch: 1740. Train Loss: 0.28614126093651454. Train Acc: 0.8644254207611084. Valid Loss: 2.064194592517966. Valid Acc: 0.571526050567627.\n",
            "Epoch: 1750. Train Loss: 0.2859682878984979. Train Acc: 0.8644883036613464. Valid Loss: 2.068167271296756. Valid Acc: 0.5716018676757812.\n",
            "Epoch: 1760. Train Loss: 0.28579698080966714. Train Acc: 0.8645826578140259. Valid Loss: 2.072168766811766. Valid Acc: 0.5716018676757812.\n",
            "Epoch: 1770. Train Loss: 0.2856273108519613. Train Acc: 0.8647713661193848. Valid Loss: 2.076146541618241. Valid Acc: 0.571526050567627.\n",
            "Epoch: 1780. Train Loss: 0.28545924993788135. Train Acc: 0.8646770119667053. Valid Loss: 2.080101219481809. Valid Acc: 0.5716018676757812.\n",
            "Epoch: 1790. Train Loss: 0.2852927706885922. Train Acc: 0.8647084832191467. Valid Loss: 2.0840486200390824. Valid Acc: 0.5718292593955994.\n",
            "Epoch: 1800. Train Loss: 0.28512784750761205. Train Acc: 0.8648342490196228. Valid Loss: 2.088011771629981. Valid Acc: 0.5719050765037537.\n",
            "Epoch: 1810. Train Loss: 0.28496445099530704. Train Acc: 0.8648657202720642. Valid Loss: 2.0919381009138984. Valid Acc: 0.5717534422874451.\n",
            "Epoch: 1820. Train Loss: 0.28480255919284103. Train Acc: 0.8649600744247437. Valid Loss: 2.095860828561556. Valid Acc: 0.5716018676757812.\n",
            "Epoch: 1830. Train Loss: 0.2846421459595241. Train Acc: 0.8649600744247437. Valid Loss: 2.1046464202326125. Valid Acc: 0.571980893611908.\n",
            "Epoch: 1840. Train Loss: 0.28448318723230837. Train Acc: 0.8650544285774231. Valid Loss: 2.1086150798674916. Valid Acc: 0.571980893611908.\n",
            "Epoch: 1850. Train Loss: 0.28432565941861804. Train Acc: 0.8650858402252197. Valid Loss: 2.1125376752408527. Valid Acc: 0.5718292593955994.\n",
            "Epoch: 1860. Train Loss: 0.28416953943463463. Train Acc: 0.8651487231254578. Valid Loss: 2.1164221982893476. Valid Acc: 0.5719050765037537.\n",
            "Epoch: 1870. Train Loss: 0.28401480475033497. Train Acc: 0.8652430772781372. Valid Loss: 2.120305908082217. Valid Acc: 0.5720567107200623.\n",
            "Epoch: 1880. Train Loss: 0.2838614333761337. Train Acc: 0.86530601978302. Valid Loss: 2.124267984744214. Valid Acc: 0.5720567107200623.\n",
            "Epoch: 1890. Train Loss: 0.2837094038307588. Train Acc: 0.8654317855834961. Valid Loss: 2.1281481103021216. Valid Acc: 0.5721325278282166.\n",
            "Epoch: 1900. Train Loss: 0.283558695126851. Train Acc: 0.8655890226364136. Valid Loss: 2.132072863040141. Valid Acc: 0.5722083449363708.\n",
            "Epoch: 1910. Train Loss: 0.2834092867587298. Train Acc: 0.865620493888855. Valid Loss: 2.1407857670395156. Valid Acc: 0.5722841620445251.\n",
            "Epoch: 1920. Train Loss: 0.28326115868674406. Train Acc: 0.865620493888855. Valid Loss: 2.1446475417928266. Valid Acc: 0.5722841620445251.\n",
            "Epoch: 1930. Train Loss: 0.2831142913241922. Train Acc: 0.8656519055366516. Valid Loss: 2.148505946118349. Valid Acc: 0.5721325278282166.\n",
            "Epoch: 1940. Train Loss: 0.28296866552402794. Train Acc: 0.865746259689331. Valid Loss: 2.1524140723603913. Valid Acc: 0.5720567107200623.\n",
            "Epoch: 1950. Train Loss: 0.2828242625662884. Train Acc: 0.8657777309417725. Valid Loss: 2.1562618808374268. Valid Acc: 0.571980893611908.\n",
            "Epoch: 1960. Train Loss: 0.2826810641458855. Train Acc: 0.8658720850944519. Valid Loss: 2.1601072734335784. Valid Acc: 0.571980893611908.\n",
            "Epoch: 1970. Train Loss: 0.2825390523608559. Train Acc: 0.8658720850944519. Valid Loss: 2.163956841793669. Valid Acc: 0.571980893611908.\n",
            "Epoch: 1980. Train Loss: 0.28239820970101376. Train Acc: 0.8659034967422485. Valid Loss: 2.1677943275597045. Valid Acc: 0.5717534422874451.\n",
            "Epoch: 1990. Train Loss: 0.2822585190369919. Train Acc: 0.8659034967422485. Valid Loss: 2.171633292230859. Valid Acc: 0.5716018676757812.\n",
            "Epoch: 2000. Train Loss: 0.2821199636096556. Train Acc: 0.865997850894928. Valid Loss: 2.180309643510572. Valid Acc: 0.5716018676757812.\n",
            "Epoch: 2010. Train Loss: 0.28198252701986876. Train Acc: 0.866060733795166. Valid Loss: 2.1889857160931534. Valid Acc: 0.5716018676757812.\n",
            "Epoch: 2020. Train Loss: 0.28184619321859833. Train Acc: 0.8660922050476074. Valid Loss: 2.1928160956395577. Valid Acc: 0.571526050567627.\n",
            "Epoch: 2030. Train Loss: 0.28171094649733913. Train Acc: 0.8662180304527283. Valid Loss: 2.196634233196118. Valid Acc: 0.571526050567627.\n",
            "Epoch: 2040. Train Loss: 0.28157677147884697. Train Acc: 0.8662180304527283. Valid Loss: 2.2004530649113154. Valid Acc: 0.5714502334594727.\n",
            "Epoch: 2050. Train Loss: 0.28144365310816427. Train Acc: 0.8662809133529663. Valid Loss: 2.2042567573713034. Valid Acc: 0.5712985992431641.\n",
            "Epoch: 2060. Train Loss: 0.28131157664392686. Train Acc: 0.8663752675056458. Valid Loss: 2.208086950862593. Valid Acc: 0.5712985992431641.\n",
            "Epoch: 2070. Train Loss: 0.2811805276499506. Train Acc: 0.8663752675056458. Valid Loss: 2.216736045118337. Valid Acc: 0.5714502334594727.\n",
            "Epoch: 2080. Train Loss: 0.28105049201619337. Train Acc: 0.8663752675056458. Valid Loss: 2.2205395446086578. Valid Acc: 0.5712985992431641.\n",
            "Epoch: 2090. Train Loss: 0.2809214566112548. Train Acc: 0.8665010333061218. Valid Loss: 2.224336840896644. Valid Acc: 0.5712227821350098.\n",
            "Epoch: 2100. Train Loss: 0.2807934056694367. Train Acc: 0.8665010333061218. Valid Loss: 2.228138672499521. Valid Acc: 0.5709953904151917.\n",
            "Epoch: 2110. Train Loss: 0.28066632792826407. Train Acc: 0.8665325045585632. Valid Loss: 2.2319214407363996. Valid Acc: 0.5709953904151917.\n",
            "Epoch: 2120. Train Loss: 0.28054020983579225. Train Acc: 0.8665953874588013. Valid Loss: 2.2357200647896938. Valid Acc: 0.5709195733070374.\n",
            "Epoch: 2130. Train Loss: 0.28041503858856076. Train Acc: 0.8666268587112427. Valid Loss: 2.2394966621315833. Valid Acc: 0.5706921219825745.\n",
            "Epoch: 2140. Train Loss: 0.2802908016462704. Train Acc: 0.8666268587112427. Valid Loss: 2.2432833151369778. Valid Acc: 0.5706163048744202.\n",
            "Epoch: 2150. Train Loss: 0.2801674867448972. Train Acc: 0.8666268587112427. Valid Loss: 2.2470701073705235. Valid Acc: 0.5705405473709106.\n",
            "Epoch: 2160. Train Loss: 0.2800450818524663. Train Acc: 0.8667211532592773. Valid Loss: 2.2508469365212553. Valid Acc: 0.5705405473709106.\n",
            "Epoch: 2170. Train Loss: 0.2799235751719548. Train Acc: 0.8668155074119568. Valid Loss: 2.25461653690292. Valid Acc: 0.5704647302627563.\n",
            "Epoch: 2180. Train Loss: 0.2798029551359165. Train Acc: 0.8668783903121948. Valid Loss: 2.258378799899476. Valid Acc: 0.5700856447219849.\n",
            "Epoch: 2190. Train Loss: 0.27968321039795657. Train Acc: 0.8669727444648743. Valid Loss: 2.262162658566746. Valid Acc: 0.5700856447219849.\n",
            "Epoch: 2200. Train Loss: 0.279564329828105. Train Acc: 0.8670356869697571. Valid Loss: 2.265924319500777. Valid Acc: 0.5700098276138306.\n",
            "Epoch: 2210. Train Loss: 0.2794463025070119. Train Acc: 0.8670670986175537. Valid Loss: 2.26967626406136. Valid Acc: 0.5700856447219849.\n",
            "Epoch: 2220. Train Loss: 0.27932911772071606. Train Acc: 0.8671614527702332. Valid Loss: 2.2734216821274895. Valid Acc: 0.569934070110321.\n",
            "Epoch: 2230. Train Loss: 0.27921276495538844. Train Acc: 0.8671929240226746. Valid Loss: 2.27717656715831. Valid Acc: 0.569934070110321.\n",
            "Epoch: 2240. Train Loss: 0.2790972338923141. Train Acc: 0.8671614527702332. Valid Loss: 2.280954154319984. Valid Acc: 0.570388913154602.\n",
            "Epoch: 2250. Train Loss: 0.2789825144030261. Train Acc: 0.8671614527702332. Valid Loss: 2.2846900579182248. Valid Acc: 0.570388913154602.\n",
            "Epoch: 2260. Train Loss: 0.27886859654458773. Train Acc: 0.8672243356704712. Valid Loss: 2.288428958475179. Valid Acc: 0.5706163048744202.\n",
            "Epoch: 2270. Train Loss: 0.27875547057644606. Train Acc: 0.8672243356704712. Valid Loss: 2.292173204943501. Valid Acc: 0.5705405473709106.\n",
            "Epoch: 2280. Train Loss: 0.2786431278666529. Train Acc: 0.8671614527702332. Valid Loss: 2.2958999324695326. Valid Acc: 0.5706921219825745.\n",
            "Epoch: 2290. Train Loss: 0.2785315560870868. Train Acc: 0.8672243356704712. Valid Loss: 2.2996396574024502. Valid Acc: 0.5706921219825745.\n",
            "Epoch: 2300. Train Loss: 0.27842074895339586. Train Acc: 0.8672558069229126. Valid Loss: 2.303372207396876. Valid Acc: 0.5706163048744202.\n",
            "Epoch: 2310. Train Loss: 0.2783106961796174. Train Acc: 0.867350161075592. Valid Loss: 2.307104081268239. Valid Acc: 0.5705405473709106.\n",
            "Epoch: 2320. Train Loss: 0.27820138908044156. Train Acc: 0.867350161075592. Valid Loss: 2.3108774246812462. Valid Acc: 0.5705405473709106.\n",
            "Epoch: 2330. Train Loss: 0.27809281888479326. Train Acc: 0.867350161075592. Valid Loss: 2.3145954391614616. Valid Acc: 0.5704647302627563.\n",
            "Epoch: 2340. Train Loss: 0.2779849769253223. Train Acc: 0.8674130439758301. Valid Loss: 2.31830940068305. Valid Acc: 0.5706921219825745.\n",
            "Epoch: 2350. Train Loss: 0.2778778547378979. Train Acc: 0.8674130439758301. Valid Loss: 2.3220159266741187. Valid Acc: 0.5705405473709106.\n",
            "Epoch: 2360. Train Loss: 0.2777714440028764. Train Acc: 0.8674759268760681. Valid Loss: 2.325744589459796. Valid Acc: 0.5705405473709106.\n",
            "Epoch: 2370. Train Loss: 0.2776657365372225. Train Acc: 0.867601752281189. Valid Loss: 2.329442425955345. Valid Acc: 0.5704647302627563.\n",
            "Epoch: 2380. Train Loss: 0.27756072431202666. Train Acc: 0.8676331639289856. Valid Loss: 2.3331629337768502. Valid Acc: 0.5705405473709106.\n",
            "Epoch: 2390. Train Loss: 0.27745639949169676. Train Acc: 0.867664635181427. Valid Loss: 2.3368539781314186. Valid Acc: 0.5704647302627563.\n",
            "Epoch: 2400. Train Loss: 0.27735275435326084. Train Acc: 0.867727518081665. Valid Loss: 2.3405475386338006. Valid Acc: 0.5704647302627563.\n",
            "Epoch: 2410. Train Loss: 0.277249780523433. Train Acc: 0.8677589893341064. Valid Loss: 2.3442514286896605. Valid Acc: 0.5705405473709106.\n",
            "Epoch: 2420. Train Loss: 0.2771474713553909. Train Acc: 0.867727518081665. Valid Loss: 2.347961910514267. Valid Acc: 0.5701614618301392.\n",
            "Epoch: 2430. Train Loss: 0.27704581917873145. Train Acc: 0.8676961064338684. Valid Loss: 2.3516264109276546. Valid Acc: 0.5703130960464478.\n",
            "Epoch: 2440. Train Loss: 0.27694481666644927. Train Acc: 0.8676961064338684. Valid Loss: 2.3601814399558787. Valid Acc: 0.5702372789382935.\n",
            "Epoch: 2450. Train Loss: 0.2768444566497618. Train Acc: 0.867727518081665. Valid Loss: 2.3638802279805917. Valid Acc: 0.5702372789382935.\n",
            "Epoch: 2460. Train Loss: 0.2767447320760823. Train Acc: 0.867727518081665. Valid Loss: 2.3675901091197686. Valid Acc: 0.5704647302627563.\n",
            "Epoch: 2470. Train Loss: 0.2766456359993148. Train Acc: 0.867727518081665. Valid Loss: 2.371304273355462. Valid Acc: 0.5704647302627563.\n",
            "Epoch: 2480. Train Loss: 0.2765471615798203. Train Acc: 0.8676331639289856. Valid Loss: 2.374957243155024. Valid Acc: 0.5704647302627563.\n",
            "Epoch: 2490. Train Loss: 0.27644930208488316. Train Acc: 0.8676961064338684. Valid Loss: 2.38345995370032. Valid Acc: 0.5705405473709106.\n",
            "Epoch: 2500. Train Loss: 0.27635205088595055. Train Acc: 0.8677589893341064. Valid Loss: 2.387143128322814. Valid Acc: 0.5706163048744202.\n",
            "Epoch: 2510. Train Loss: 0.27625540145564537. Train Acc: 0.8677904009819031. Valid Loss: 2.3907822706832054. Valid Acc: 0.5706163048744202.\n",
            "Epoch: 2520. Train Loss: 0.27615934736591985. Train Acc: 0.8678218722343445. Valid Loss: 2.3944493704416563. Valid Acc: 0.5707679390907288.\n",
            "Epoch: 2530. Train Loss: 0.27606388228604073. Train Acc: 0.8678533434867859. Valid Loss: 2.3980749796525016. Valid Acc: 0.5708437561988831.\n",
            "Epoch: 2540. Train Loss: 0.27596899999057295. Train Acc: 0.8678533434867859. Valid Loss: 2.406578971065932. Valid Acc: 0.5707679390907288.\n",
            "Epoch: 2550. Train Loss: 0.27587469430802053. Train Acc: 0.8678533434867859. Valid Loss: 2.4150881700376203. Valid Acc: 0.5708437561988831.\n",
            "Epoch: 2560. Train Loss: 0.2757809594846982. Train Acc: 0.8678533434867859. Valid Loss: 2.41872849287389. Valid Acc: 0.5709195733070374.\n",
            "Epoch: 2570. Train Loss: 0.2756877888414301. Train Acc: 0.8678847551345825. Valid Loss: 2.422350602033211. Valid Acc: 0.5708437561988831.\n",
            "Epoch: 2580. Train Loss: 0.2755951770545093. Train Acc: 0.8678847551345825. Valid Loss: 2.42598251131065. Valid Acc: 0.5709195733070374.\n",
            "Epoch: 2590. Train Loss: 0.2755031182743796. Train Acc: 0.8679476976394653. Valid Loss: 2.42964986059555. Valid Acc: 0.5709953904151917.\n",
            "Epoch: 2600. Train Loss: 0.27541160677002385. Train Acc: 0.8680419921875. Valid Loss: 2.4332705104028203. Valid Acc: 0.5708437561988831.\n",
            "Epoch: 2610. Train Loss: 0.2753206369130039. Train Acc: 0.8680419921875. Valid Loss: 2.4369210899058418. Valid Acc: 0.5709195733070374.\n",
            "Epoch: 2620. Train Loss: 0.27523020316284447. Train Acc: 0.8680419921875. Valid Loss: 2.440545730125463. Valid Acc: 0.5709195733070374.\n",
            "Epoch: 2630. Train Loss: 0.27514030009759066. Train Acc: 0.8681049346923828. Valid Loss: 2.444167077143323. Valid Acc: 0.5709195733070374.\n",
            "Epoch: 2640. Train Loss: 0.2750509223919231. Train Acc: 0.8681049346923828. Valid Loss: 2.447858093661199. Valid Acc: 0.5706921219825745.\n",
            "Epoch: 2650. Train Loss: 0.27496206436850257. Train Acc: 0.8681678175926208. Valid Loss: 2.451484002712352. Valid Acc: 0.5706921219825745.\n",
            "Epoch: 2660. Train Loss: 0.2748737212651803. Train Acc: 0.8681363463401794. Valid Loss: 2.4550818345639183. Valid Acc: 0.5706163048744202.\n",
            "Epoch: 2670. Train Loss: 0.2747858882553484. Train Acc: 0.8681992292404175. Valid Loss: 2.4587138232052865. Valid Acc: 0.5705405473709106.\n",
            "Epoch: 2680. Train Loss: 0.2746985587317769. Train Acc: 0.8681992292404175. Valid Loss: 2.462366612501496. Valid Acc: 0.5705405473709106.\n",
            "Epoch: 2690. Train Loss: 0.2746117293083939. Train Acc: 0.8682621717453003. Valid Loss: 2.4659643824866837. Valid Acc: 0.5705405473709106.\n",
            "Epoch: 2700. Train Loss: 0.2745253943234915. Train Acc: 0.8682621717453003. Valid Loss: 2.469549338409067. Valid Acc: 0.570388913154602.\n",
            "Epoch: 2710. Train Loss: 0.27443954902914475. Train Acc: 0.8682935833930969. Valid Loss: 2.4731599825872244. Valid Acc: 0.5704647302627563.\n",
            "Epoch: 2720. Train Loss: 0.27435418866525224. Train Acc: 0.8683250546455383. Valid Loss: 2.4767504043401503. Valid Acc: 0.570388913154602.\n",
            "Epoch: 2730. Train Loss: 0.2742693084847502. Train Acc: 0.8682935833930969. Valid Loss: 2.4803872788388626. Valid Acc: 0.5703130960464478.\n",
            "Epoch: 2740. Train Loss: 0.2741849038064435. Train Acc: 0.8682935833930969. Valid Loss: 2.4840114880789725. Valid Acc: 0.5704647302627563.\n",
            "Epoch: 2750. Train Loss: 0.27410097002678524. Train Acc: 0.8682935833930969. Valid Loss: 2.487612416965236. Valid Acc: 0.5704647302627563.\n",
            "Epoch: 2760. Train Loss: 0.2740175038607832. Train Acc: 0.8683250546455383. Valid Loss: 2.4911781319724455. Valid Acc: 0.5705405473709106.\n",
            "Epoch: 2770. Train Loss: 0.2739344971822379. Train Acc: 0.8683250546455383. Valid Loss: 2.4996112515073636. Valid Acc: 0.5705405473709106.\n",
            "Epoch: 2780. Train Loss: 0.2738519490248832. Train Acc: 0.8683250546455383. Valid Loss: 2.503266126080053. Valid Acc: 0.5703130960464478.\n",
            "Epoch: 2790. Train Loss: 0.27376985391843217. Train Acc: 0.8683879375457764. Valid Loss: 2.506821075011917. Valid Acc: 0.5703130960464478.\n",
            "Epoch: 2800. Train Loss: 0.27368820772413005. Train Acc: 0.8683879375457764. Valid Loss: 2.5104196847671654. Valid Acc: 0.5703130960464478.\n",
            "Epoch: 2810. Train Loss: 0.2736070064755828. Train Acc: 0.8683879375457764. Valid Loss: 2.513979596562019. Valid Acc: 0.570388913154602.\n",
            "Epoch: 2820. Train Loss: 0.27352624487784394. Train Acc: 0.8683879375457764. Valid Loss: 2.5175585163726146. Valid Acc: 0.570388913154602.\n",
            "Epoch: 2830. Train Loss: 0.2734459197710656. Train Acc: 0.8684194087982178. Valid Loss: 2.5210876304204644. Valid Acc: 0.5705405473709106.\n",
            "Epoch: 2840. Train Loss: 0.27336602689504313. Train Acc: 0.8684822916984558. Valid Loss: 2.5246173624322013. Valid Acc: 0.5704647302627563.\n",
            "Epoch: 2850. Train Loss: 0.2732865621526668. Train Acc: 0.8684822916984558. Valid Loss: 2.5282541727690453. Valid Acc: 0.5705405473709106.\n",
            "Epoch: 2860. Train Loss: 0.2732075216234296. Train Acc: 0.8685766458511353. Valid Loss: 2.5366604437555065. Valid Acc: 0.5705405473709106.\n",
            "Epoch: 2870. Train Loss: 0.27312890136397255. Train Acc: 0.8686081171035767. Valid Loss: 2.5401868179256812. Valid Acc: 0.5703130960464478.\n",
            "Epoch: 2880. Train Loss: 0.273050697515479. Train Acc: 0.8686081171035767. Valid Loss: 2.543705766814259. Valid Acc: 0.5703130960464478.\n",
            "Epoch: 2890. Train Loss: 0.2729729062680288. Train Acc: 0.8685766458511353. Valid Loss: 2.5472308085865394. Valid Acc: 0.5703130960464478.\n",
            "Epoch: 2900. Train Loss: 0.27289552385960236. Train Acc: 0.8686710000038147. Valid Loss: 2.550754419174605. Valid Acc: 0.5701614618301392.\n",
            "Epoch: 2910. Train Loss: 0.2728185465791649. Train Acc: 0.8686710000038147. Valid Loss: 2.5542684449658197. Valid Acc: 0.5702372789382935.\n",
            "Epoch: 2920. Train Loss: 0.27274197076349094. Train Acc: 0.8686710000038147. Valid Loss: 2.5578449886609658. Valid Acc: 0.5701614618301392.\n",
            "Epoch: 2930. Train Loss: 0.2726657927973051. Train Acc: 0.8687024116516113. Valid Loss: 2.561431813478088. Valid Acc: 0.5701614618301392.\n",
            "Epoch: 2940. Train Loss: 0.27259000911224224. Train Acc: 0.8687338829040527. Valid Loss: 2.5649529378002414. Valid Acc: 0.5701614618301392.\n",
            "Epoch: 2950. Train Loss: 0.2725146162191013. Train Acc: 0.8687967658042908. Valid Loss: 2.568460787949071. Valid Acc: 0.570388913154602.\n",
            "Epoch: 2960. Train Loss: 0.2724396105900631. Train Acc: 0.8687967658042908. Valid Loss: 2.572022550622703. Valid Acc: 0.570388913154602.\n",
            "Epoch: 2970. Train Loss: 0.2723649887571165. Train Acc: 0.8687653541564941. Valid Loss: 2.575543408107636. Valid Acc: 0.5702372789382935.\n",
            "Epoch: 2980. Train Loss: 0.27229074918549173. Train Acc: 0.8687967658042908. Valid Loss: 2.57913161072929. Valid Acc: 0.5705405473709106.\n",
            "Epoch: 2990. Train Loss: 0.27221688341987293. Train Acc: 0.8688596487045288. Valid Loss: 2.582639193988249. Valid Acc: 0.5704647302627563.\n",
            "Epoch: 3000. Train Loss: 0.2721433929838418. Train Acc: 0.8688911199569702. Valid Loss: 2.5861869482952335. Valid Acc: 0.5704647302627563.\n"
          ]
        }
      ],
      "source": [
        "EPOCH = 3001\n",
        "a = Accuracy()\n",
        "trainLoss = []\n",
        "testLoss = []\n",
        "testEp = []\n",
        "trainAcc = []\n",
        "testAcc =[]\n",
        "for ep in tqdm(range(EPOCH)):\n",
        "    optimizer.zero_grad()\n",
        "    ratings_pred = torch.matmul(torch.cat((U, b), axis = 1), movies_tensor.T)\n",
        "    mask = ratings_train_tensor.bool()\n",
        "    nonzero_pred = F.sigmoid(ratings_pred.masked_select(mask))\n",
        "    nonzero_train = ratings_train_tensor.masked_select(mask)\n",
        "    nonzero_train = nonzero_train - 1\n",
        "    loss = criterion(nonzero_pred, nonzero_train.double())\n",
        "    accuracy = a(nonzero_pred, nonzero_train.int())\n",
        "    loss.backward()\n",
        "    optimizer.step()\n",
        "\n",
        "    trainLoss.append(loss.item())\n",
        "    trainAcc.append(accuracy.item())\n",
        "    if ep % 10 == 0:\n",
        "      mask = ratings_test_tensor.bool()\n",
        "      nonzero_pred = F.sigmoid(ratings_pred.masked_select(mask))\n",
        "      nonzero_test = ratings_test_tensor.masked_select(mask)\n",
        "      nonzero_test = nonzero_test - 1\n",
        "      loss_test = criterion(nonzero_pred, nonzero_test.double())\n",
        "      accuracy_test = a(nonzero_pred, nonzero_test.int())\n",
        "\n",
        "      testEp.append(ep)\n",
        "      testLoss.append(loss_test.item())\n",
        "      testAcc.append(accuracy_test.item())\n",
        "      \n",
        "      if maxAcc < accuracy_test:\n",
        "        bestU = U\n",
        "        bestb = b\n",
        "        maxAcc = accuracy_test\n",
        "      print(f'Epoch: {ep}. Train Loss: {loss}. Train Acc: {accuracy}. Valid Loss: {loss_test}. Valid Acc: {accuracy_test}.')\n"
      ]
    },
    {
      "cell_type": "code",
      "source": [
        "fig = plt.figure(figsize = (16,9))\n",
        "numOfEpoch = 3001\n",
        "plt.plot(np.arange(0, numOfEpoch), trainLoss, label='Training Loss')\n",
        "plt.plot(testEp, testLoss, label='Validation Loss')\n",
        "plt.title('Loss Plot')\n",
        "plt.xlabel('Epoch')\n",
        "plt.ylabel('Loss')\n",
        "# plt.ylim((0.0,1.0))\n",
        "plt.legend()"
      ],
      "metadata": {
        "colab": {
          "base_uri": "https://localhost:8080/",
          "height": 584
        },
        "id": "a7Fp3ZaImIJn",
        "outputId": "732835f4-ffcd-48c0-cab8-31f56162a4b4"
      },
      "execution_count": 111,
      "outputs": [
        {
          "output_type": "execute_result",
          "data": {
            "text/plain": [
              "<matplotlib.legend.Legend at 0x7fdb61a17290>"
            ]
          },
          "metadata": {},
          "execution_count": 111
        },
        {
          "output_type": "display_data",
          "data": {
            "text/plain": [
              "<Figure size 1152x648 with 1 Axes>"
            ],
            "image/png": "[encoded data removed]"
          },
          "metadata": {
            "needs_background": "light"
          }
        }
      ]
    },
    {
      "cell_type": "code",
      "source": [
        "fig = plt.figure(figsize = (16,9))\n",
        "numOfEpoch = 3001\n",
        "plt.plot(np.arange(0, numOfEpoch), trainAcc, label='Training Accuracy')\n",
        "plt.plot(testEp, testAcc, label='Validation Accuracy')\n",
        "plt.title('Accuracy Plot')\n",
        "plt.xlabel('Epoch')\n",
        "plt.ylabel('Accuracy')\n",
        "# plt.ylim((0.0,1.0))\n",
        "plt.legend()"
      ],
      "metadata": {
        "colab": {
          "base_uri": "https://localhost:8080/",
          "height": 584
        },
        "id": "z8HjBE-xmJ8v",
        "outputId": "147f4351-db0f-4ed0-87f4-88925ce2fb17"
      },
      "execution_count": 112,
      "outputs": [
        {
          "output_type": "execute_result",
          "data": {
            "text/plain": [
              "<matplotlib.legend.Legend at 0x7fdb5fe91690>"
            ]
          },
          "metadata": {},
          "execution_count": 112
        },
        {
          "output_type": "display_data",
          "data": {
            "text/plain": [
              "<Figure size 1152x648 with 1 Axes>"
            ],
            "image/png": "[encoded data removed]"
          },
          "metadata": {
            "needs_background": "light"
          }
        }
      ]
    },
    {
      "cell_type": "markdown",
      "source": [
        "Now apply regularization with lr = 0.005, weight_decay for U is 0.05"
      ],
      "metadata": {
        "id": "UlS_u0AMfr7U"
      }
    },
    {
      "cell_type": "code",
      "source": [
        "U = Variable(torch.randn(len_users, len_features, dtype = torch.float64), requires_grad=True)\n",
        "b = Variable(torch.randn(len_users, 1, dtype = torch.float64), requires_grad=True)"
      ],
      "metadata": {
        "id": "KDCNaqv6mcgW"
      },
      "execution_count": 123,
      "outputs": []
    },
    {
      "cell_type": "code",
      "source": [
        "criterion = nn.BCELoss()\n",
        "optimizer = torch.optim.Adam([U], lr = 0.005, weight_decay = 0.005)\n",
        "optimizer.add_param_group({'params': b, \"lr\": 0.005, \"weight_decay\": 0})"
      ],
      "metadata": {
        "id": "cXxUGF1ZftJ0"
      },
      "execution_count": 124,
      "outputs": []
    },
    {
      "cell_type": "code",
      "source": [
        "bestU = None\n",
        "bestb = None\n",
        "maxAcc = 0.0"
      ],
      "metadata": {
        "id": "R0RGbm0vmeL_"
      },
      "execution_count": 125,
      "outputs": []
    },
    {
      "cell_type": "code",
      "source": [
        "EPOCH = 3001\n",
        "a = Accuracy()\n",
        "trainLoss = []\n",
        "testLoss = []\n",
        "testEp = []\n",
        "trainAcc = []\n",
        "testAcc = []\n",
        "for ep in tqdm(range(EPOCH)):\n",
        "    optimizer.zero_grad()\n",
        "    ratings_pred = torch.matmul(torch.cat((U, b), axis = 1), movies_tensor.T)\n",
        "    mask = ratings_train_tensor.bool()\n",
        "    nonzero_pred = F.sigmoid(ratings_pred.masked_select(mask))\n",
        "    nonzero_train = ratings_train_tensor.masked_select(mask)\n",
        "    nonzero_train = nonzero_train - 1\n",
        "    loss = criterion(nonzero_pred, nonzero_train.double())\n",
        "    accuracy = a(nonzero_pred, nonzero_train.int())\n",
        "    loss.backward()\n",
        "    optimizer.step()\n",
        "\n",
        "    trainLoss.append(loss.item())\n",
        "    trainAcc.append(accuracy.item())\n",
        "    if ep % 10 == 0:\n",
        "      mask = ratings_test_tensor.bool()\n",
        "      nonzero_pred = F.sigmoid(ratings_pred.masked_select(mask))\n",
        "      nonzero_test = ratings_test_tensor.masked_select(mask)\n",
        "      nonzero_test = nonzero_test - 1\n",
        "      loss_test = criterion(nonzero_pred, nonzero_test.double())\n",
        "      accuracy_test = a(nonzero_pred, nonzero_test.int())\n",
        "\n",
        "      testEp.append(ep)\n",
        "      testLoss.append(loss_test.item())\n",
        "      testAcc.append(accuracy_test.item())\n",
        "      \n",
        "      if maxAcc < accuracy_test:\n",
        "        bestU = U\n",
        "        bestb = b\n",
        "        maxAcc = accuracy_test\n",
        "      print(f'Epoch: {ep}. Train Loss: {loss}. Train Acc: {accuracy}. Valid Loss: {loss_test}. Valid Acc: {accuracy_test}.')\n"
      ],
      "metadata": {
        "colab": {
          "base_uri": "https://localhost:8080/",
          "height": 1000,
          "referenced_widgets": [
            "fc35f20a0fb34d468d228799a2805b2b",
            "deca56a6862f49578c50bf6035cb28bb",
            "951d824df220485190ec3366939e3370",
            "118f18df621a4f3d9c4483f84dfd3efb",
            "ee17d8cabb844527b712b4011098ec07",
            "2548e84c88424a9e8351388119bd4abc",
            "ee92fbf0fb104e8c96b8c3c73d3e6caf",
            "bbf865fb84bd490ebe2c36d429b7c8bc",
            "d14401e2f18d4bb8aea9417c4c90684e",
            "344817c3a8b341ed9998f4a1e861a31c",
            "9ea8a4cec0564c318a8722ab9142c7ac"
          ]
        },
        "id": "VYzJ9OAzmV23",
        "outputId": "230ad7cd-0333-4ff3-8bc5-0c51c997f6dd"
      },
      "execution_count": 126,
      "outputs": [
        {
          "output_type": "display_data",
          "data": {
            "text/plain": [
              "  0%|          | 0/3001 [00:00<?, ?it/s]"
            ],
            "application/vnd.jupyter.widget-view+json": {
              "version_major": 2,
              "version_minor": 0,
              "model_id": "fc35f20a0fb34d468d228799a2805b2b"
            }
          },
          "metadata": {}
        },
        {
          "output_type": "stream",
          "name": "stdout",
          "text": [
            "Epoch: 0. Train Loss: 2.5365588892146707. Train Acc: 0.504339873790741. Valid Loss: 2.6132164428608564. Valid Acc: 0.48904556035995483.\n",
            "Epoch: 10. Train Loss: 2.420720174148159. Train Acc: 0.506321132183075. Valid Loss: 2.504036363125874. Valid Acc: 0.49109241366386414.\n",
            "Epoch: 20. Train Loss: 2.3104521313155346. Train Acc: 0.5078306794166565. Valid Loss: 2.3937070584928817. Valid Acc: 0.49404898285865784.\n",
            "Epoch: 30. Train Loss: 2.2084279963211224. Train Acc: 0.5098119378089905. Valid Loss: 2.2926539685424494. Valid Acc: 0.49412477016448975.\n",
            "Epoch: 40. Train Loss: 2.1112848578673997. Train Acc: 0.5109755396842957. Valid Loss: 2.196934712261897. Valid Acc: 0.49708133935928345.\n",
            "Epoch: 50. Train Loss: 2.021052792102341. Train Acc: 0.5138688087463379. Valid Loss: 2.1065820819387726. Valid Acc: 0.49874913692474365.\n",
            "Epoch: 60. Train Loss: 1.9334014821358174. Train Acc: 0.5163532495498657. Valid Loss: 2.021249450996734. Valid Acc: 0.5008717775344849.\n",
            "Epoch: 70. Train Loss: 1.8541347767687952. Train Acc: 0.5182086825370789. Valid Loss: 1.9407432639232987. Valid Acc: 0.502312183380127.\n",
            "Epoch: 80. Train Loss: 1.7749931486952584. Train Acc: 0.5206302404403687. Valid Loss: 1.864616062970309. Valid Acc: 0.5043590068817139.\n",
            "Epoch: 90. Train Loss: 1.7037843339698038. Train Acc: 0.5224227905273438. Valid Loss: 1.7926365724164988. Valid Acc: 0.5063300728797913.\n",
            "Epoch: 100. Train Loss: 1.6363643697625345. Train Acc: 0.5245927572250366. Valid Loss: 1.71971168209154. Valid Acc: 0.5071640014648438.\n",
            "Epoch: 110. Train Loss: 1.5685232274000915. Train Acc: 0.527045726776123. Valid Loss: 1.6551765492977404. Valid Acc: 0.5104237794876099.\n",
            "Epoch: 120. Train Loss: 1.5081534164145436. Train Acc: 0.5288068652153015. Valid Loss: 1.5941138118386904. Valid Acc: 0.5117883682250977.\n",
            "Epoch: 130. Train Loss: 1.4510333707076384. Train Acc: 0.5323290824890137. Valid Loss: 1.5363301285589213. Valid Acc: 0.5150481462478638.\n",
            "Epoch: 140. Train Loss: 1.397033820988189. Train Acc: 0.5351279973983765. Valid Loss: 1.4816329681479399. Valid Acc: 0.5182321071624756.\n",
            "Epoch: 150. Train Loss: 1.34594890688316. Train Acc: 0.5384615659713745. Valid Loss: 1.4298629667042189. Valid Acc: 0.5200515389442444.\n",
            "Epoch: 160. Train Loss: 1.297793216791093. Train Acc: 0.5418265461921692. Valid Loss: 1.3809379332744598. Valid Acc: 0.5235387682914734.\n",
            "Epoch: 170. Train Loss: 1.252339841005723. Train Acc: 0.5442795157432556. Valid Loss: 1.334703585225254. Valid Acc: 0.5273292660713196.\n",
            "Epoch: 180. Train Loss: 1.2095181117734548. Train Acc: 0.5476444959640503. Valid Loss: 1.2910533799858281. Valid Acc: 0.5309680700302124.\n",
            "Epoch: 190. Train Loss: 1.169195644296049. Train Acc: 0.5510409474372864. Valid Loss: 1.2498579298112233. Valid Acc: 0.5338488221168518.\n",
            "Epoch: 200. Train Loss: 1.1312310595638402. Train Acc: 0.5545002818107605. Valid Loss: 1.2109919956486614. Valid Acc: 0.5381699800491333.\n",
            "Epoch: 210. Train Loss: 1.0955290781599378. Train Acc: 0.5584942698478699. Valid Loss: 1.174350985882328. Valid Acc: 0.5402926206588745.\n",
            "Epoch: 220. Train Loss: 1.0619618072100936. Train Acc: 0.5619221329689026. Valid Loss: 1.139821839303533. Valid Acc: 0.5427185297012329.\n",
            "Epoch: 230. Train Loss: 1.0304285418901649. Train Acc: 0.5658846497535706. Valid Loss: 1.1073004933355222. Valid Acc: 0.5465847849845886.\n",
            "Epoch: 240. Train Loss: 1.0008218199151613. Train Acc: 0.569689929485321. Valid Loss: 1.076680815449677. Valid Acc: 0.5490865111351013.\n",
            "Epoch: 250. Train Loss: 0.9730446752228236. Train Acc: 0.5733065009117126. Valid Loss: 1.0478697897571405. Valid Acc: 0.552497923374176.\n",
            "Epoch: 260. Train Loss: 0.9470012895521142. Train Acc: 0.5767029523849487. Valid Loss: 1.0207762499051447. Valid Acc: 0.5553786754608154.\n",
            "Epoch: 270. Train Loss: 0.9225970858209596. Train Acc: 0.5807283520698547. Valid Loss: 0.9953099684125594. Valid Acc: 0.5587900876998901.\n",
            "Epoch: 280. Train Loss: 0.8997386186583536. Train Acc: 0.5850682258605957. Valid Loss: 0.9713816841406385. Valid Acc: 0.5625047087669373.\n",
            "Epoch: 290. Train Loss: 0.8783364040756603. Train Acc: 0.5896597504615784. Valid Loss: 0.9489057240936888. Valid Acc: 0.5647790431976318.\n",
            "Epoch: 300. Train Loss: 0.8583049945987746. Train Acc: 0.5942197442054749. Valid Loss: 0.9278002101479953. Valid Acc: 0.5683420300483704.\n",
            "Epoch: 310. Train Loss: 0.8395635799745903. Train Acc: 0.5967670679092407. Valid Loss: 0.907987416767569. Valid Acc: 0.5717534422874451.\n",
            "Epoch: 320. Train Loss: 0.822035220976561. Train Acc: 0.6015158295631409. Valid Loss: 0.889393739098466. Valid Acc: 0.575013279914856.\n",
            "Epoch: 330. Train Loss: 0.8056469229691273. Train Acc: 0.6060758829116821. Valid Loss: 0.8719496904099211. Valid Acc: 0.5788037180900574.\n",
            "Epoch: 340. Train Loss: 0.7903294027894612. Train Acc: 0.6100383400917053. Valid Loss: 0.8555896560472943. Valid Acc: 0.5818361043930054.\n",
            "Epoch: 350. Train Loss: 0.7760172097822703. Train Acc: 0.6140952110290527. Valid Loss: 0.8402516828408526. Valid Acc: 0.5863088369369507.\n",
            "Epoch: 360. Train Loss: 0.7626485915208602. Train Acc: 0.6172715425491333. Valid Loss: 0.8258772179821162. Valid Acc: 0.5897960662841797.\n",
            "Epoch: 370. Train Loss: 0.7501654068095313. Train Acc: 0.6204478144645691. Valid Loss: 0.8124108597682361. Valid Acc: 0.5919187068939209.\n",
            "Epoch: 380. Train Loss: 0.7385128942488041. Train Acc: 0.6248820424079895. Valid Loss: 0.7998001260340706. Valid Acc: 0.5947237014770508.\n",
            "Epoch: 390. Train Loss: 0.7276394483612073. Train Acc: 0.6279325485229492. Valid Loss: 0.787995273451532. Valid Acc: 0.5966188907623291.\n",
            "Epoch: 400. Train Loss: 0.717496379088121. Train Acc: 0.6314548254013062. Valid Loss: 0.7769491428021315. Valid Acc: 0.5979076623916626.\n",
            "Epoch: 410. Train Loss: 0.7080377139060131. Train Acc: 0.6342222690582275. Valid Loss: 0.7666170253286421. Valid Acc: 0.6010158658027649.\n",
            "Epoch: 420. Train Loss: 0.6992200312993261. Train Acc: 0.637901782989502. Valid Loss: 0.7569565453759949. Valid Acc: 0.6027594804763794.\n",
            "Epoch: 430. Train Loss: 0.6910023299108802. Train Acc: 0.6410780549049377. Valid Loss: 0.7479275532552724. Valid Acc: 0.6063982844352722.\n",
            "Epoch: 440. Train Loss: 0.6833459228609341. Train Acc: 0.6434052586555481. Valid Loss: 0.7394920241847037. Valid Acc: 0.6076112389564514.\n",
            "Epoch: 450. Train Loss: 0.6762143468410066. Train Acc: 0.6462041735649109. Valid Loss: 0.7316139611901838. Valid Acc: 0.6094306707382202.\n",
            "Epoch: 460. Train Loss: 0.6695732762819427. Train Acc: 0.6478080153465271. Valid Loss: 0.7242593011850137. Valid Acc: 0.6118565797805786.\n",
            "Epoch: 470. Train Loss: 0.6633904344303815. Train Acc: 0.6506698727607727. Valid Loss: 0.7173958229029533. Valid Acc: 0.6136001944541931.\n",
            "Epoch: 480. Train Loss: 0.6576354981843198. Train Acc: 0.6526196599006653. Valid Loss: 0.7109930571398073. Valid Acc: 0.6141308546066284.\n",
            "Epoch: 490. Train Loss: 0.6522799966228932. Train Acc: 0.6545380353927612. Valid Loss: 0.7050222000847914. Valid Acc: 0.6161776781082153.\n",
            "Epoch: 500. Train Loss: 0.6472972059946256. Train Acc: 0.6564878225326538. Valid Loss: 0.6994560307985036. Valid Acc: 0.6179971098899841.\n",
            "Epoch: 510. Train Loss: 0.6426620449537122. Train Acc: 0.659003734588623. Valid Loss: 0.694268833708401. Valid Acc: 0.6199681758880615.\n",
            "Epoch: 520. Train Loss: 0.6383509737795866. Train Acc: 0.6607648134231567. Valid Loss: 0.6894363266850531. Valid Acc: 0.6214843392372131.\n",
            "Epoch: 530. Train Loss: 0.6343419006596295. Train Acc: 0.6624630689620972. Valid Loss: 0.6849355946874202. Valid Acc: 0.622166633605957.\n",
            "Epoch: 540. Train Loss: 0.6306140967793624. Train Acc: 0.6648216843605042. Valid Loss: 0.6807450284179469. Valid Acc: 0.6239102482795715.\n",
            "Epoch: 550. Train Loss: 0.6271481205361398. Train Acc: 0.6661110520362854. Valid Loss: 0.6768442670250117. Valid Acc: 0.6251232028007507.\n",
            "Epoch: 560. Train Loss: 0.62392574991474. Train Acc: 0.6669287085533142. Valid Loss: 0.6732141437122089. Valid Acc: 0.6268668174743652.\n",
            "Epoch: 570. Train Loss: 0.6209299212893438. Train Acc: 0.6680294275283813. Valid Loss: 0.6698366332096775. Valid Acc: 0.6290652751922607.\n",
            "Epoch: 580. Train Loss: 0.6181446727210261. Train Acc: 0.6688785552978516. Valid Loss: 0.6666948003768466. Valid Acc: 0.6292169094085693.\n",
            "Epoch: 590. Train Loss: 0.6155550900657173. Train Acc: 0.6698219776153564. Valid Loss: 0.6637727495761278. Valid Acc: 0.6296717524528503.\n",
            "Epoch: 600. Train Loss: 0.61314725467166. Train Acc: 0.6707969307899475. Valid Loss: 0.6610555747640091. Valid Acc: 0.6299749612808228.\n",
            "Epoch: 610. Train Loss: 0.6109081919287823. Train Acc: 0.6724322438240051. Valid Loss: 0.658529310425841. Valid Acc: 0.6308847069740295.\n",
            "Epoch: 620. Train Loss: 0.6088258203341003. Train Acc: 0.6737216114997864. Valid Loss: 0.6561808835350034. Valid Acc: 0.6320218443870544.\n",
            "Epoch: 630. Train Loss: 0.6068889010394969. Train Acc: 0.6738159656524658. Valid Loss: 0.653998066694789. Valid Acc: 0.6333863735198975.\n",
            "Epoch: 640. Train Loss: 0.6050869880670995. Train Acc: 0.6746965050697327. Valid Loss: 0.6519694325712152. Valid Acc: 0.6354332566261292.\n",
            "Epoch: 650. Train Loss: 0.6034103795249826. Train Acc: 0.6755771040916443. Valid Loss: 0.6500843096770301. Valid Acc: 0.6363429427146912.\n",
            "Epoch: 660. Train Loss: 0.6018500702298543. Train Acc: 0.6763318181037903. Valid Loss: 0.6483327395329219. Valid Acc: 0.6376317143440247.\n",
            "Epoch: 670. Train Loss: 0.6003977061365031. Train Acc: 0.6770551800727844. Valid Loss: 0.6467054352125893. Valid Acc: 0.6380865573883057.\n",
            "Epoch: 680. Train Loss: 0.5990455408894698. Train Acc: 0.6775897741317749. Valid Loss: 0.6451937412724965. Valid Acc: 0.6390721201896667.\n",
            "Epoch: 690. Train Loss: 0.597786394673921. Train Acc: 0.6781244277954102. Valid Loss: 0.6437895950738265. Valid Acc: 0.6399059891700745.\n",
            "Epoch: 700. Train Loss: 0.5966136153896664. Train Acc: 0.679067850112915. Valid Loss: 0.6424854895209268. Valid Acc: 0.6403608322143555.\n",
            "Epoch: 710. Train Loss: 0.5955210420468552. Train Acc: 0.6798855066299438. Valid Loss: 0.6412744372619338. Valid Acc: 0.6404366493225098.\n",
            "Epoch: 720. Train Loss: 0.5945029702126059. Train Acc: 0.680608868598938. Valid Loss: 0.6401499364156596. Valid Acc: 0.6417254209518433.\n",
            "Epoch: 730. Train Loss: 0.5935541193298277. Train Acc: 0.6813950538635254. Valid Loss: 0.6391059378972497. Valid Acc: 0.64210444688797.\n",
            "Epoch: 740. Train Loss: 0.5926696017670502. Train Acc: 0.6817409992218018. Valid Loss: 0.6381368144100191. Valid Acc: 0.6425593495368958.\n",
            "Epoch: 750. Train Loss: 0.5918448935154236. Train Acc: 0.6820240020751953. Valid Loss: 0.6372373311533939. Valid Acc: 0.6429383754730225.\n",
            "Epoch: 760. Train Loss: 0.5910758065027178. Train Acc: 0.6824643015861511. Valid Loss: 0.6364026182715511. Valid Acc: 0.6436206698417664.\n",
            "Epoch: 770. Train Loss: 0.5903584625303007. Train Acc: 0.6825586557388306. Valid Loss: 0.6356281450398561. Valid Acc: 0.6444545388221741.\n",
            "Epoch: 780. Train Loss: 0.5896892688542418. Train Acc: 0.6829046010971069. Valid Loss: 0.6349096957611503. Valid Acc: 0.6454401016235352.\n",
            "Epoch: 790. Train Loss: 0.5890648954293534. Train Acc: 0.6836279034614563. Valid Loss: 0.6342433473238958. Valid Acc: 0.645591676235199.\n",
            "Epoch: 800. Train Loss: 0.5884822538212066. Train Acc: 0.6837536692619324. Valid Loss: 0.633625448359499. Valid Acc: 0.6449093818664551.\n",
            "Epoch: 810. Train Loss: 0.58793847777156. Train Acc: 0.6840996146202087. Valid Loss: 0.6330525999259599. Valid Acc: 0.6450610160827637.\n",
            "Epoch: 820. Train Loss: 0.5874309053811105. Train Acc: 0.6842883229255676. Valid Loss: 0.6325216376378766. Valid Acc: 0.6450610160827637.\n",
            "Epoch: 830. Train Loss: 0.5869570628523013. Train Acc: 0.6844455599784851. Valid Loss: 0.6320296151576378. Valid Acc: 0.6449093818664551.\n",
            "Epoch: 840. Train Loss: 0.5865146497153493. Train Acc: 0.684571385383606. Valid Loss: 0.631573788958682. Valid Acc: 0.645136833190918.\n",
            "Epoch: 850. Train Loss: 0.5861015254435504. Train Acc: 0.6846656799316406. Valid Loss: 0.6311516042688692. Valid Acc: 0.6450610160827637.\n",
            "Epoch: 860. Train Loss: 0.5857156973500515. Train Acc: 0.6850430965423584. Valid Loss: 0.6307606821005562. Valid Acc: 0.6449851989746094.\n",
            "Epoch: 870. Train Loss: 0.5853553096484437. Train Acc: 0.685326099395752. Valid Loss: 0.6303988072742418. Valid Acc: 0.645136833190918.\n",
            "Epoch: 880. Train Loss: 0.585018633554407. Train Acc: 0.6855462789535522. Valid Loss: 0.6300639173449559. Valid Acc: 0.645591676235199.\n",
            "Epoch: 890. Train Loss: 0.5847040583055629. Train Acc: 0.6857978701591492. Valid Loss: 0.6297540923449141. Valid Acc: 0.6456674933433533.\n",
            "Epoch: 900. Train Loss: 0.5844100829816073. Train Acc: 0.6858921647071838. Valid Loss: 0.6294675452621513. Valid Acc: 0.6461223363876343.\n",
            "Epoch: 910. Train Loss: 0.5841353090160188. Train Acc: 0.6859551072120667. Valid Loss: 0.6292026131824271. Valid Acc: 0.6465772390365601.\n",
            "Epoch: 920. Train Loss: 0.5838784333030949. Train Acc: 0.6864582896232605. Valid Loss: 0.6289577490300454. Valid Acc: 0.6467288136482239.\n",
            "Epoch: 930. Train Loss: 0.5836382418183647. Train Acc: 0.6865840554237366. Valid Loss: 0.628731513851794. Valid Acc: 0.6471078991889954.\n",
            "Epoch: 940. Train Loss: 0.5834136036851361. Train Acc: 0.686678409576416. Valid Loss: 0.6285225695963897. Valid Acc: 0.6474111080169678.\n",
            "Epoch: 950. Train Loss: 0.583203465633832. Train Acc: 0.6869300007820129. Valid Loss: 0.6283296723492348. Valid Acc: 0.647714376449585.\n",
            "Epoch: 960. Train Loss: 0.5830068468129603. Train Acc: 0.6869300007820129. Valid Loss: 0.6281516659886739. Valid Acc: 0.6477901339530945.\n",
            "Epoch: 970. Train Loss: 0.5828228339205476. Train Acc: 0.6872759461402893. Valid Loss: 0.6279874762351837. Valid Acc: 0.6483208537101746.\n",
            "Epoch: 980. Train Loss: 0.5826505766325469. Train Acc: 0.6872444748878479. Valid Loss: 0.6278361050690503. Valid Acc: 0.6478659510612488.\n",
            "Epoch: 990. Train Loss: 0.5824892833102171. Train Acc: 0.6876533031463623. Valid Loss: 0.6276966254951948. Valid Acc: 0.6480934023857117.\n",
            "Epoch: 1000. Train Loss: 0.5823382169721391. Train Acc: 0.6879048943519592. Valid Loss: 0.6275681766360752. Valid Acc: 0.6480934023857117.\n",
            "Epoch: 1010. Train Loss: 0.5821966915187288. Train Acc: 0.6881250143051147. Valid Loss: 0.6274499591351894. Valid Acc: 0.6479417681694031.\n",
            "Epoch: 1020. Train Loss: 0.5820640681982602. Train Acc: 0.6884709596633911. Valid Loss: 0.6273412308548346. Valid Acc: 0.647714376449585.\n",
            "Epoch: 1030. Train Loss: 0.5819397523038476. Train Acc: 0.6888169050216675. Valid Loss: 0.6272413028525892. Valid Acc: 0.6477901339530945.\n",
            "Epoch: 1040. Train Loss: 0.5818231900908571. Train Acc: 0.6891313791275024. Valid Loss: 0.6271495356216025. Valid Acc: 0.6479417681694031.\n",
            "Epoch: 1050. Train Loss: 0.5817138659040241. Train Acc: 0.6893829703330994. Valid Loss: 0.6270653355803061. Valid Acc: 0.6473352909088135.\n",
            "Epoch: 1060. Train Loss: 0.5816112995033144. Train Acc: 0.6895716786384583. Valid Loss: 0.6269881517976529. Valid Acc: 0.6474111080169678.\n",
            "Epoch: 1070. Train Loss: 0.5815150435773746. Train Acc: 0.6894458532333374. Valid Loss: 0.6269174729404818. Valid Acc: 0.6474111080169678.\n",
            "Epoch: 1080. Train Loss: 0.5814246814333286. Train Acc: 0.6897603869438171. Valid Loss: 0.6268528244301081. Valid Acc: 0.6478659510612488.\n",
            "Epoch: 1090. Train Loss: 0.5813398248517255. Train Acc: 0.6897917985916138. Valid Loss: 0.6267937657957575. Valid Acc: 0.6480175852775574.\n",
            "Epoch: 1100. Train Loss: 0.5812601120956312. Train Acc: 0.6899805068969727. Valid Loss: 0.6267398882129848. Valid Acc: 0.6483208537101746.\n",
            "Epoch: 1110. Train Loss: 0.5811852060631661. Train Acc: 0.6897917985916138. Valid Loss: 0.626690812215734. Valid Acc: 0.648169219493866.\n",
            "Epoch: 1120. Train Loss: 0.5811147925732113. Train Acc: 0.6898861527442932. Valid Loss: 0.626646185571213. Valid Acc: 0.6478659510612488.\n",
            "Epoch: 1130. Train Loss: 0.5810485787745192. Train Acc: 0.6899176239967346. Valid Loss: 0.626605681307243. Valid Acc: 0.6476385593414307.\n",
            "Epoch: 1140. Train Loss: 0.5809862916695996. Train Acc: 0.6902949810028076. Valid Loss: 0.6265689958824757. Valid Acc: 0.6477901339530945.\n",
            "Epoch: 1150. Train Loss: 0.5809276767829833. Train Acc: 0.6903893351554871. Valid Loss: 0.626535847505999. Valid Acc: 0.6477901339530945.\n",
            "Epoch: 1160. Train Loss: 0.5808725002871064. Train Acc: 0.690578043460846. Valid Loss: 0.6265059759833758. Valid Acc: 0.6477901339530945.\n",
            "Epoch: 1170. Train Loss: 0.5808206222762062. Train Acc: 0.690640926361084. Valid Loss: 0.6264791814400497. Valid Acc: 0.6474111080169678.\n",
            "Epoch: 1180. Train Loss: 0.5807715337056805. Train Acc: 0.690703809261322. Valid Loss: 0.6264550658336464. Valid Acc: 0.6475627422332764.\n",
            "Epoch: 1190. Train Loss: 0.5807254039861803. Train Acc: 0.690703809261322. Valid Loss: 0.626433685637592. Valid Acc: 0.6472594738006592.\n",
            "Epoch: 1200. Train Loss: 0.5806819648081804. Train Acc: 0.6908296346664429. Valid Loss: 0.6264146196526613. Valid Acc: 0.6474869251251221.\n",
            "Epoch: 1210. Train Loss: 0.5806408468586113. Train Acc: 0.6909239292144775. Valid Loss: 0.6263978234580414. Valid Acc: 0.6474111080169678.\n",
            "Epoch: 1220. Train Loss: 0.5806021519791844. Train Acc: 0.6910812258720398. Valid Loss: 0.6263830606664919. Valid Acc: 0.6472594738006592.\n",
            "Epoch: 1230. Train Loss: 0.5805655872157935. Train Acc: 0.6912698745727539. Valid Loss: 0.6263702043650178. Valid Acc: 0.6475627422332764.\n",
            "Epoch: 1240. Train Loss: 0.5805311512416574. Train Acc: 0.6911126375198364. Valid Loss: 0.6263591051622466. Valid Acc: 0.6474111080169678.\n",
            "Epoch: 1250. Train Loss: 0.5804984402557062. Train Acc: 0.6911441087722778. Valid Loss: 0.6263496161995213. Valid Acc: 0.647714376449585.\n",
            "Epoch: 1260. Train Loss: 0.5804675892548004. Train Acc: 0.6912698745727539. Valid Loss: 0.6263416252832444. Valid Acc: 0.6477901339530945.\n",
            "Epoch: 1270. Train Loss: 0.580438525152499. Train Acc: 0.6912698745727539. Valid Loss: 0.6263349728027553. Valid Acc: 0.6475627422332764.\n",
            "Epoch: 1280. Train Loss: 0.5804107955588665. Train Acc: 0.6913013458251953. Valid Loss: 0.6263299414093845. Valid Acc: 0.647714376449585.\n",
            "Epoch: 1290. Train Loss: 0.5803848682143905. Train Acc: 0.6913956999778748. Valid Loss: 0.626325431933017. Valid Acc: 0.6478659510612488.\n",
            "Epoch: 1300. Train Loss: 0.5803598637252111. Train Acc: 0.6915214657783508. Valid Loss: 0.6263224500889156. Valid Acc: 0.6476385593414307.\n",
            "Epoch: 1310. Train Loss: 0.5803365650470902. Train Acc: 0.6915843486785889. Valid Loss: 0.6263203383446923. Valid Acc: 0.6475627422332764.\n",
            "Epoch: 1320. Train Loss: 0.5803142425124836. Train Acc: 0.6916158199310303. Valid Loss: 0.6263191109447414. Valid Acc: 0.6476385593414307.\n",
            "Epoch: 1330. Train Loss: 0.5802931368680354. Train Acc: 0.6915529370307922. Valid Loss: 0.6263188667987798. Valid Acc: 0.647714376449585.\n",
            "Epoch: 1340. Train Loss: 0.5802732680724599. Train Acc: 0.6916472911834717. Valid Loss: 0.6263193004183988. Valid Acc: 0.647714376449585.\n",
            "Epoch: 1350. Train Loss: 0.5802542034460985. Train Acc: 0.6916472911834717. Valid Loss: 0.6263203369534368. Valid Acc: 0.6476385593414307.\n",
            "Epoch: 1360. Train Loss: 0.5802361988092642. Train Acc: 0.6916158199310303. Valid Loss: 0.6263221834092355. Valid Acc: 0.647714376449585.\n",
            "Epoch: 1370. Train Loss: 0.5802190902316685. Train Acc: 0.6915529370307922. Valid Loss: 0.6263245213773997. Valid Acc: 0.6476385593414307.\n",
            "Epoch: 1380. Train Loss: 0.5802028128356647. Train Acc: 0.6915843486785889. Valid Loss: 0.626327434188096. Valid Acc: 0.6475627422332764.\n",
            "Epoch: 1390. Train Loss: 0.5801873725910259. Train Acc: 0.6916787028312683. Valid Loss: 0.6263308516185064. Valid Acc: 0.6476385593414307.\n",
            "Epoch: 1400. Train Loss: 0.5801725840999077. Train Acc: 0.6916472911834717. Valid Loss: 0.6263347478125292. Valid Acc: 0.647714376449585.\n",
            "Epoch: 1410. Train Loss: 0.5801585796802362. Train Acc: 0.6916472911834717. Valid Loss: 0.6263390240096228. Valid Acc: 0.647714376449585.\n",
            "Epoch: 1420. Train Loss: 0.5801453768970708. Train Acc: 0.6916472911834717. Valid Loss: 0.6263436388519836. Valid Acc: 0.6477901339530945.\n",
            "Epoch: 1430. Train Loss: 0.5801327017984739. Train Acc: 0.6915214657783508. Valid Loss: 0.6263485193595415. Valid Acc: 0.6477901339530945.\n",
            "Epoch: 1440. Train Loss: 0.580120381321148. Train Acc: 0.6916158199310303. Valid Loss: 0.6263539496430609. Valid Acc: 0.6477901339530945.\n",
            "Epoch: 1450. Train Loss: 0.5801090123170276. Train Acc: 0.6916472911834717. Valid Loss: 0.6263594331285702. Valid Acc: 0.647714376449585.\n",
            "Epoch: 1460. Train Loss: 0.580097970601664. Train Acc: 0.6916472911834717. Valid Loss: 0.6263653316791855. Valid Acc: 0.647714376449585.\n",
            "Epoch: 1470. Train Loss: 0.5800872549689337. Train Acc: 0.6917101740837097. Valid Loss: 0.6263715483189497. Valid Acc: 0.647714376449585.\n",
            "Epoch: 1480. Train Loss: 0.5800773324812548. Train Acc: 0.6917101740837097. Valid Loss: 0.6263777394295157. Valid Acc: 0.6478659510612488.\n",
            "Epoch: 1490. Train Loss: 0.5800677289295382. Train Acc: 0.6917730569839478. Valid Loss: 0.6263842379471326. Valid Acc: 0.6479417681694031.\n",
            "Epoch: 1500. Train Loss: 0.5800586225830106. Train Acc: 0.6918045282363892. Valid Loss: 0.6263908239886039. Valid Acc: 0.6480175852775574.\n",
            "Epoch: 1510. Train Loss: 0.5800497646297522. Train Acc: 0.6918045282363892. Valid Loss: 0.6263976548035962. Valid Acc: 0.6478659510612488.\n",
            "Epoch: 1520. Train Loss: 0.580041445501888. Train Acc: 0.6918045282363892. Valid Loss: 0.6264046270836348. Valid Acc: 0.6478659510612488.\n",
            "Epoch: 1530. Train Loss: 0.5800333983705663. Train Acc: 0.6918359398841858. Valid Loss: 0.626411650433478. Valid Acc: 0.6478659510612488.\n",
            "Epoch: 1540. Train Loss: 0.5800256321208881. Train Acc: 0.6918359398841858. Valid Loss: 0.6264181106717157. Valid Acc: 0.6479417681694031.\n",
            "Epoch: 1550. Train Loss: 0.5800183414035542. Train Acc: 0.6918674111366272. Valid Loss: 0.6264259423799942. Valid Acc: 0.6480175852775574.\n",
            "Epoch: 1560. Train Loss: 0.5800114171613843. Train Acc: 0.6918359398841858. Valid Loss: 0.6264330906316902. Valid Acc: 0.6479417681694031.\n",
            "Epoch: 1570. Train Loss: 0.5800043690375964. Train Acc: 0.6918674111366272. Valid Loss: 0.626440695973904. Valid Acc: 0.6478659510612488.\n",
            "Epoch: 1580. Train Loss: 0.5799980384387. Train Acc: 0.6919302940368652. Valid Loss: 0.626447999222294. Valid Acc: 0.6478659510612488.\n",
            "Epoch: 1590. Train Loss: 0.5799918912297679. Train Acc: 0.6918988823890686. Valid Loss: 0.6264551198436054. Valid Acc: 0.6478659510612488.\n",
            "Epoch: 1600. Train Loss: 0.5799858557465287. Train Acc: 0.6918359398841858. Valid Loss: 0.6264627441759043. Valid Acc: 0.6479417681694031.\n",
            "Epoch: 1610. Train Loss: 0.5799806093692629. Train Acc: 0.6918359398841858. Valid Loss: 0.6264704571379877. Valid Acc: 0.6478659510612488.\n",
            "Epoch: 1620. Train Loss: 0.5799745960303954. Train Acc: 0.6918359398841858. Valid Loss: 0.6264773502678418. Valid Acc: 0.6479417681694031.\n",
            "Epoch: 1630. Train Loss: 0.5799694452945778. Train Acc: 0.6918359398841858. Valid Loss: 0.626485589508476. Valid Acc: 0.6478659510612488.\n",
            "Epoch: 1640. Train Loss: 0.5799642524246905. Train Acc: 0.6918359398841858. Valid Loss: 0.6264927440837152. Valid Acc: 0.6478659510612488.\n",
            "Epoch: 1650. Train Loss: 0.5799593876233192. Train Acc: 0.6918359398841858. Valid Loss: 0.6265006656513621. Valid Acc: 0.6478659510612488.\n",
            "Epoch: 1660. Train Loss: 0.5799546729691339. Train Acc: 0.6918674111366272. Valid Loss: 0.6265081749090753. Valid Acc: 0.6478659510612488.\n",
            "Epoch: 1670. Train Loss: 0.5799499755884223. Train Acc: 0.6918674111366272. Valid Loss: 0.6265168131088016. Valid Acc: 0.6477901339530945.\n",
            "Epoch: 1680. Train Loss: 0.579945867109644. Train Acc: 0.6918988823890686. Valid Loss: 0.6265231973427764. Valid Acc: 0.647714376449585.\n",
            "Epoch: 1690. Train Loss: 0.5799416182642112. Train Acc: 0.6918988823890686. Valid Loss: 0.6265307223254791. Valid Acc: 0.647714376449585.\n",
            "Epoch: 1700. Train Loss: 0.5799375005947268. Train Acc: 0.6918674111366272. Valid Loss: 0.626538469919569. Valid Acc: 0.6476385593414307.\n",
            "Epoch: 1710. Train Loss: 0.5799338463825239. Train Acc: 0.6918988823890686. Valid Loss: 0.6265449131838514. Valid Acc: 0.6476385593414307.\n",
            "Epoch: 1720. Train Loss: 0.5799299044673405. Train Acc: 0.6918988823890686. Valid Loss: 0.6265537015448697. Valid Acc: 0.6476385593414307.\n",
            "Epoch: 1730. Train Loss: 0.5799264015590745. Train Acc: 0.6918674111366272. Valid Loss: 0.6265604096361747. Valid Acc: 0.6476385593414307.\n",
            "Epoch: 1740. Train Loss: 0.5799228650607896. Train Acc: 0.6918988823890686. Valid Loss: 0.6265680789726218. Valid Acc: 0.6476385593414307.\n",
            "Epoch: 1750. Train Loss: 0.579919443806731. Train Acc: 0.6919302940368652. Valid Loss: 0.6265755284748882. Valid Acc: 0.6476385593414307.\n",
            "Epoch: 1760. Train Loss: 0.5799162751332111. Train Acc: 0.6918988823890686. Valid Loss: 0.6265828031701545. Valid Acc: 0.6476385593414307.\n",
            "Epoch: 1770. Train Loss: 0.5799131075798775. Train Acc: 0.6918988823890686. Valid Loss: 0.6265894620802901. Valid Acc: 0.6476385593414307.\n",
            "Epoch: 1780. Train Loss: 0.5799100965498356. Train Acc: 0.6918988823890686. Valid Loss: 0.6265971664091612. Valid Acc: 0.6476385593414307.\n",
            "Epoch: 1790. Train Loss: 0.5799071941803106. Train Acc: 0.6918988823890686. Valid Loss: 0.6266045082153839. Valid Acc: 0.6476385593414307.\n",
            "Epoch: 1800. Train Loss: 0.5799041434434811. Train Acc: 0.6918988823890686. Valid Loss: 0.6266127005012336. Valid Acc: 0.6476385593414307.\n",
            "Epoch: 1810. Train Loss: 0.5799015845698502. Train Acc: 0.6918988823890686. Valid Loss: 0.6266189652435518. Valid Acc: 0.6476385593414307.\n",
            "Epoch: 1820. Train Loss: 0.5798988740127022. Train Acc: 0.6918988823890686. Valid Loss: 0.6266265680326573. Valid Acc: 0.6476385593414307.\n",
            "Epoch: 1830. Train Loss: 0.5798962713766521. Train Acc: 0.6918988823890686. Valid Loss: 0.62663369104193. Valid Acc: 0.6476385593414307.\n",
            "Epoch: 1840. Train Loss: 0.5798936882230564. Train Acc: 0.6918674111366272. Valid Loss: 0.6266407339843848. Valid Acc: 0.6476385593414307.\n",
            "Epoch: 1850. Train Loss: 0.5798913436478312. Train Acc: 0.6918674111366272. Valid Loss: 0.6266478513016874. Valid Acc: 0.6476385593414307.\n",
            "Epoch: 1860. Train Loss: 0.5798889189623326. Train Acc: 0.6918988823890686. Valid Loss: 0.6266547552219908. Valid Acc: 0.6476385593414307.\n",
            "Epoch: 1870. Train Loss: 0.5798867506245886. Train Acc: 0.6919302940368652. Valid Loss: 0.626661995635184. Valid Acc: 0.6476385593414307.\n",
            "Epoch: 1880. Train Loss: 0.5798844517484785. Train Acc: 0.6919302940368652. Valid Loss: 0.6266689082935727. Valid Acc: 0.6476385593414307.\n",
            "Epoch: 1890. Train Loss: 0.5798825669592288. Train Acc: 0.6919302940368652. Valid Loss: 0.6266758480602903. Valid Acc: 0.6476385593414307.\n",
            "Epoch: 1900. Train Loss: 0.5798803440302763. Train Acc: 0.6919302940368652. Valid Loss: 0.6266827268445081. Valid Acc: 0.6476385593414307.\n",
            "Epoch: 1910. Train Loss: 0.5798783713322966. Train Acc: 0.6919302940368652. Valid Loss: 0.6266896321010796. Valid Acc: 0.6476385593414307.\n",
            "Epoch: 1920. Train Loss: 0.5798764229885706. Train Acc: 0.6919302940368652. Valid Loss: 0.6266964951238286. Valid Acc: 0.6476385593414307.\n",
            "Epoch: 1930. Train Loss: 0.5798742405094054. Train Acc: 0.6919302940368652. Valid Loss: 0.6267030427524276. Valid Acc: 0.6476385593414307.\n",
            "Epoch: 1940. Train Loss: 0.5798723840028984. Train Acc: 0.6919302940368652. Valid Loss: 0.6267098277213373. Valid Acc: 0.6476385593414307.\n",
            "Epoch: 1950. Train Loss: 0.5798709459323068. Train Acc: 0.6919302940368652. Valid Loss: 0.6267168852532234. Valid Acc: 0.6476385593414307.\n",
            "Epoch: 1960. Train Loss: 0.5798689849269407. Train Acc: 0.6919302940368652. Valid Loss: 0.6267234605214571. Valid Acc: 0.6476385593414307.\n",
            "Epoch: 1970. Train Loss: 0.5798674675266992. Train Acc: 0.6919302940368652. Valid Loss: 0.6267296533508598. Valid Acc: 0.6476385593414307.\n",
            "Epoch: 1980. Train Loss: 0.579865759007837. Train Acc: 0.6919302940368652. Valid Loss: 0.6267371204513019. Valid Acc: 0.6476385593414307.\n",
            "Epoch: 1990. Train Loss: 0.5798641259034104. Train Acc: 0.6919302940368652. Valid Loss: 0.6267432407888138. Valid Acc: 0.6476385593414307.\n",
            "Epoch: 2000. Train Loss: 0.579862612180967. Train Acc: 0.6919302940368652. Valid Loss: 0.6267501363839754. Valid Acc: 0.6476385593414307.\n",
            "Epoch: 2010. Train Loss: 0.5798610215515594. Train Acc: 0.6919302940368652. Valid Loss: 0.6267564793673472. Valid Acc: 0.6476385593414307.\n",
            "Epoch: 2020. Train Loss: 0.579859430906492. Train Acc: 0.6919302940368652. Valid Loss: 0.626762976439515. Valid Acc: 0.6476385593414307.\n",
            "Epoch: 2030. Train Loss: 0.5798580923465074. Train Acc: 0.6919302940368652. Valid Loss: 0.6267693893870814. Valid Acc: 0.6476385593414307.\n",
            "Epoch: 2040. Train Loss: 0.5798566591035244. Train Acc: 0.6919302940368652. Valid Loss: 0.6267758906663558. Valid Acc: 0.647714376449585.\n",
            "Epoch: 2050. Train Loss: 0.5798552492432082. Train Acc: 0.6919302940368652. Valid Loss: 0.6267822523307218. Valid Acc: 0.647714376449585.\n",
            "Epoch: 2060. Train Loss: 0.5798537648724563. Train Acc: 0.6919302940368652. Valid Loss: 0.6267887341984494. Valid Acc: 0.647714376449585.\n",
            "Epoch: 2070. Train Loss: 0.5798525153329003. Train Acc: 0.6919302940368652. Valid Loss: 0.6267951517471639. Valid Acc: 0.647714376449585.\n",
            "Epoch: 2080. Train Loss: 0.5798514519908019. Train Acc: 0.6919302940368652. Valid Loss: 0.6268009652148555. Valid Acc: 0.647714376449585.\n",
            "Epoch: 2090. Train Loss: 0.5798502283278065. Train Acc: 0.6919302940368652. Valid Loss: 0.6268073007545141. Valid Acc: 0.647714376449585.\n",
            "Epoch: 2100. Train Loss: 0.5798488335834104. Train Acc: 0.6919302940368652. Valid Loss: 0.626813770243715. Valid Acc: 0.647714376449585.\n",
            "Epoch: 2110. Train Loss: 0.5798476389512685. Train Acc: 0.6919302940368652. Valid Loss: 0.6268196794404906. Valid Acc: 0.647714376449585.\n",
            "Epoch: 2120. Train Loss: 0.5798463926520704. Train Acc: 0.6919302940368652. Valid Loss: 0.6268262832387383. Valid Acc: 0.647714376449585.\n",
            "Epoch: 2130. Train Loss: 0.579845092866277. Train Acc: 0.6919302940368652. Valid Loss: 0.6268316921283198. Valid Acc: 0.647714376449585.\n",
            "Epoch: 2140. Train Loss: 0.5798441214362776. Train Acc: 0.6919302940368652. Valid Loss: 0.626838321177558. Valid Acc: 0.647714376449585.\n",
            "Epoch: 2150. Train Loss: 0.5798432384427475. Train Acc: 0.6919302940368652. Valid Loss: 0.6268451012266706. Valid Acc: 0.647714376449585.\n",
            "Epoch: 2160. Train Loss: 0.5798421033865935. Train Acc: 0.6919302940368652. Valid Loss: 0.6268510768102843. Valid Acc: 0.647714376449585.\n",
            "Epoch: 2170. Train Loss: 0.5798408189902075. Train Acc: 0.6919302940368652. Valid Loss: 0.6268568878347995. Valid Acc: 0.647714376449585.\n",
            "Epoch: 2180. Train Loss: 0.5798399813181572. Train Acc: 0.6919302940368652. Valid Loss: 0.6268623553805469. Valid Acc: 0.647714376449585.\n",
            "Epoch: 2190. Train Loss: 0.5798388572121465. Train Acc: 0.6919302940368652. Valid Loss: 0.6268681787187581. Valid Acc: 0.647714376449585.\n",
            "Epoch: 2200. Train Loss: 0.5798377489131465. Train Acc: 0.6919302940368652. Valid Loss: 0.6268741230731428. Valid Acc: 0.647714376449585.\n",
            "Epoch: 2210. Train Loss: 0.5798369451236024. Train Acc: 0.6919302940368652. Valid Loss: 0.626880927049784. Valid Acc: 0.647714376449585.\n",
            "Epoch: 2220. Train Loss: 0.5798362752986236. Train Acc: 0.6919617652893066. Valid Loss: 0.6268866128088567. Valid Acc: 0.647714376449585.\n",
            "Epoch: 2230. Train Loss: 0.5798350010188507. Train Acc: 0.6919302940368652. Valid Loss: 0.6268927617339045. Valid Acc: 0.647714376449585.\n",
            "Epoch: 2240. Train Loss: 0.5798342034710319. Train Acc: 0.6919302940368652. Valid Loss: 0.6268986172972293. Valid Acc: 0.647714376449585.\n",
            "Epoch: 2250. Train Loss: 0.5798333832661526. Train Acc: 0.6919302940368652. Valid Loss: 0.6269043034864951. Valid Acc: 0.647714376449585.\n",
            "Epoch: 2260. Train Loss: 0.5798322854235011. Train Acc: 0.6919302940368652. Valid Loss: 0.6269111398307122. Valid Acc: 0.647714376449585.\n",
            "Epoch: 2270. Train Loss: 0.5798318756233611. Train Acc: 0.6919302940368652. Valid Loss: 0.6269138074085923. Valid Acc: 0.647714376449585.\n",
            "Epoch: 2280. Train Loss: 0.579830528004019. Train Acc: 0.6919302940368652. Valid Loss: 0.626923019829164. Valid Acc: 0.647714376449585.\n",
            "Epoch: 2290. Train Loss: 0.5798300202336523. Train Acc: 0.6919302940368652. Valid Loss: 0.6269271433613803. Valid Acc: 0.647714376449585.\n",
            "Epoch: 2300. Train Loss: 0.5798290212892291. Train Acc: 0.6919302940368652. Valid Loss: 0.626933531893589. Valid Acc: 0.647714376449585.\n",
            "Epoch: 2310. Train Loss: 0.5798282643834782. Train Acc: 0.6919302940368652. Valid Loss: 0.6269388684567158. Valid Acc: 0.647714376449585.\n",
            "Epoch: 2320. Train Loss: 0.5798274765845673. Train Acc: 0.6919302940368652. Valid Loss: 0.6269447053326299. Valid Acc: 0.647714376449585.\n",
            "Epoch: 2330. Train Loss: 0.5798266854927961. Train Acc: 0.6919302940368652. Valid Loss: 0.6269504695847841. Valid Acc: 0.647714376449585.\n",
            "Epoch: 2340. Train Loss: 0.5798259357120642. Train Acc: 0.6919302940368652. Valid Loss: 0.6269560694209249. Valid Acc: 0.647714376449585.\n",
            "Epoch: 2350. Train Loss: 0.5798253118007862. Train Acc: 0.6919302940368652. Valid Loss: 0.6269619980505702. Valid Acc: 0.647714376449585.\n",
            "Epoch: 2360. Train Loss: 0.5798243866138456. Train Acc: 0.6919302940368652. Valid Loss: 0.626967198127056. Valid Acc: 0.647714376449585.\n",
            "Epoch: 2370. Train Loss: 0.5798236484020763. Train Acc: 0.6919302940368652. Valid Loss: 0.626973658761436. Valid Acc: 0.647714376449585.\n",
            "Epoch: 2380. Train Loss: 0.5798230900370988. Train Acc: 0.6919302940368652. Valid Loss: 0.6269784436577566. Valid Acc: 0.647714376449585.\n",
            "Epoch: 2390. Train Loss: 0.5798224748959028. Train Acc: 0.6919302940368652. Valid Loss: 0.6269845499407714. Valid Acc: 0.647714376449585.\n",
            "Epoch: 2400. Train Loss: 0.5798218914654385. Train Acc: 0.6919302940368652. Valid Loss: 0.6269902783333315. Valid Acc: 0.647714376449585.\n",
            "Epoch: 2410. Train Loss: 0.5798210700976032. Train Acc: 0.6919302940368652. Valid Loss: 0.6269952817420933. Valid Acc: 0.647714376449585.\n",
            "Epoch: 2420. Train Loss: 0.5798202935316858. Train Acc: 0.6919302940368652. Valid Loss: 0.6270006023682365. Valid Acc: 0.647714376449585.\n",
            "Epoch: 2430. Train Loss: 0.5798194746094771. Train Acc: 0.6919302940368652. Valid Loss: 0.6270065432089056. Valid Acc: 0.647714376449585.\n",
            "Epoch: 2440. Train Loss: 0.5798189300881774. Train Acc: 0.6919302940368652. Valid Loss: 0.6270119136009156. Valid Acc: 0.647714376449585.\n",
            "Epoch: 2450. Train Loss: 0.5798185727709785. Train Acc: 0.6919302940368652. Valid Loss: 0.6270173573490484. Valid Acc: 0.647714376449585.\n",
            "Epoch: 2460. Train Loss: 0.5798178866639193. Train Acc: 0.6919617652893066. Valid Loss: 0.6270226526109537. Valid Acc: 0.647714376449585.\n",
            "Epoch: 2470. Train Loss: 0.5798168795722014. Train Acc: 0.6919617652893066. Valid Loss: 0.6270283561092697. Valid Acc: 0.647714376449585.\n",
            "Epoch: 2480. Train Loss: 0.5798166446464031. Train Acc: 0.6919302940368652. Valid Loss: 0.6270335797899458. Valid Acc: 0.647714376449585.\n",
            "Epoch: 2490. Train Loss: 0.5798159548996177. Train Acc: 0.6919302940368652. Valid Loss: 0.6270392855822743. Valid Acc: 0.647714376449585.\n",
            "Epoch: 2500. Train Loss: 0.5798153240945528. Train Acc: 0.6919302940368652. Valid Loss: 0.6270443733478209. Valid Acc: 0.647714376449585.\n",
            "Epoch: 2510. Train Loss: 0.5798147501861542. Train Acc: 0.6919302940368652. Valid Loss: 0.6270498711351022. Valid Acc: 0.647714376449585.\n",
            "Epoch: 2520. Train Loss: 0.579814387403181. Train Acc: 0.6919302940368652. Valid Loss: 0.627054758459775. Valid Acc: 0.6476385593414307.\n",
            "Epoch: 2530. Train Loss: 0.5798139000167488. Train Acc: 0.6919302940368652. Valid Loss: 0.6270600699958839. Valid Acc: 0.6476385593414307.\n",
            "Epoch: 2540. Train Loss: 0.5798131619213576. Train Acc: 0.6919302940368652. Valid Loss: 0.6270663780835156. Valid Acc: 0.647714376449585.\n",
            "Epoch: 2550. Train Loss: 0.5798124275453465. Train Acc: 0.6919302940368652. Valid Loss: 0.6270708810207067. Valid Acc: 0.647714376449585.\n",
            "Epoch: 2560. Train Loss: 0.5798120821730359. Train Acc: 0.6919302940368652. Valid Loss: 0.6270766666882366. Valid Acc: 0.647714376449585.\n",
            "Epoch: 2570. Train Loss: 0.5798114132389551. Train Acc: 0.6919302940368652. Valid Loss: 0.6270817774417318. Valid Acc: 0.647714376449585.\n",
            "Epoch: 2580. Train Loss: 0.5798110261235266. Train Acc: 0.6919302940368652. Valid Loss: 0.6270873196331115. Valid Acc: 0.647714376449585.\n",
            "Epoch: 2590. Train Loss: 0.5798099424205312. Train Acc: 0.6919302940368652. Valid Loss: 0.6270919451371975. Valid Acc: 0.647714376449585.\n",
            "Epoch: 2600. Train Loss: 0.5798096038504457. Train Acc: 0.6919302940368652. Valid Loss: 0.6270976134479277. Valid Acc: 0.647714376449585.\n",
            "Epoch: 2610. Train Loss: 0.5798093758896276. Train Acc: 0.6919302940368652. Valid Loss: 0.6271026601794489. Valid Acc: 0.647714376449585.\n",
            "Epoch: 2620. Train Loss: 0.5798085200642827. Train Acc: 0.6919617652893066. Valid Loss: 0.6271081221957845. Valid Acc: 0.647714376449585.\n",
            "Epoch: 2630. Train Loss: 0.5798085069033472. Train Acc: 0.6919302940368652. Valid Loss: 0.627113277465912. Valid Acc: 0.647714376449585.\n",
            "Epoch: 2640. Train Loss: 0.5798076838794881. Train Acc: 0.6919302940368652. Valid Loss: 0.6271182882314379. Valid Acc: 0.647714376449585.\n",
            "Epoch: 2650. Train Loss: 0.579807261255756. Train Acc: 0.6919617652893066. Valid Loss: 0.6271234640326078. Valid Acc: 0.647714376449585.\n",
            "Epoch: 2660. Train Loss: 0.5798070315119885. Train Acc: 0.6919302940368652. Valid Loss: 0.6271288140199062. Valid Acc: 0.647714376449585.\n",
            "Epoch: 2670. Train Loss: 0.5798068252791791. Train Acc: 0.6919302940368652. Valid Loss: 0.6271342446460795. Valid Acc: 0.647714376449585.\n",
            "Epoch: 2680. Train Loss: 0.5798062574440317. Train Acc: 0.6919302940368652. Valid Loss: 0.6271392967807046. Valid Acc: 0.647714376449585.\n",
            "Epoch: 2690. Train Loss: 0.5798052719724607. Train Acc: 0.6919302940368652. Valid Loss: 0.6271445533373251. Valid Acc: 0.647714376449585.\n",
            "Epoch: 2700. Train Loss: 0.5798051874315223. Train Acc: 0.6919302940368652. Valid Loss: 0.6271492564350918. Valid Acc: 0.647714376449585.\n",
            "Epoch: 2710. Train Loss: 0.5798044791397705. Train Acc: 0.6919302940368652. Valid Loss: 0.6271544639802724. Valid Acc: 0.647714376449585.\n",
            "Epoch: 2720. Train Loss: 0.5798044170193151. Train Acc: 0.6919302940368652. Valid Loss: 0.6271600705577199. Valid Acc: 0.647714376449585.\n",
            "Epoch: 2730. Train Loss: 0.5798035566337055. Train Acc: 0.6919302940368652. Valid Loss: 0.6271650358698875. Valid Acc: 0.647714376449585.\n",
            "Epoch: 2740. Train Loss: 0.5798028085954807. Train Acc: 0.6919302940368652. Valid Loss: 0.6271697386176434. Valid Acc: 0.647714376449585.\n",
            "Epoch: 2750. Train Loss: 0.579802531958053. Train Acc: 0.6919302940368652. Valid Loss: 0.6271747510846485. Valid Acc: 0.647714376449585.\n",
            "Epoch: 2760. Train Loss: 0.5798026324515637. Train Acc: 0.6919302940368652. Valid Loss: 0.6271803047526332. Valid Acc: 0.647714376449585.\n",
            "Epoch: 2770. Train Loss: 0.5798020462476525. Train Acc: 0.6919302940368652. Valid Loss: 0.6271857741409429. Valid Acc: 0.647714376449585.\n",
            "Epoch: 2780. Train Loss: 0.5798014883888534. Train Acc: 0.6919302940368652. Valid Loss: 0.6271904364716876. Valid Acc: 0.647714376449585.\n",
            "Epoch: 2790. Train Loss: 0.5798011639506113. Train Acc: 0.6919302940368652. Valid Loss: 0.6271949618048507. Valid Acc: 0.647714376449585.\n",
            "Epoch: 2800. Train Loss: 0.5798008459193724. Train Acc: 0.6919302940368652. Valid Loss: 0.6272010201903307. Valid Acc: 0.647714376449585.\n",
            "Epoch: 2810. Train Loss: 0.5797999530600536. Train Acc: 0.6919302940368652. Valid Loss: 0.627208719784208. Valid Acc: 0.647714376449585.\n",
            "Epoch: 2820. Train Loss: 0.5797995830793189. Train Acc: 0.6919302940368652. Valid Loss: 0.6272116236751551. Valid Acc: 0.647714376449585.\n",
            "Epoch: 2830. Train Loss: 0.5797995407733866. Train Acc: 0.6919302940368652. Valid Loss: 0.6272146018796657. Valid Acc: 0.647714376449585.\n",
            "Epoch: 2840. Train Loss: 0.5797991589685817. Train Acc: 0.6919302940368652. Valid Loss: 0.6272205691026222. Valid Acc: 0.647714376449585.\n",
            "Epoch: 2850. Train Loss: 0.579798684946939. Train Acc: 0.6919302940368652. Valid Loss: 0.6272257425829452. Valid Acc: 0.647714376449585.\n",
            "Epoch: 2860. Train Loss: 0.5797984538862201. Train Acc: 0.6919302940368652. Valid Loss: 0.6272302976725826. Valid Acc: 0.647714376449585.\n",
            "Epoch: 2870. Train Loss: 0.5797985412273697. Train Acc: 0.6919302940368652. Valid Loss: 0.6272357623635639. Valid Acc: 0.647714376449585.\n",
            "Epoch: 2880. Train Loss: 0.5797974488156896. Train Acc: 0.6919302940368652. Valid Loss: 0.6272404936403072. Valid Acc: 0.647714376449585.\n",
            "Epoch: 2890. Train Loss: 0.5797966263783584. Train Acc: 0.6919302940368652. Valid Loss: 0.6272453087629712. Valid Acc: 0.647714376449585.\n",
            "Epoch: 2900. Train Loss: 0.5797967536475478. Train Acc: 0.6919302940368652. Valid Loss: 0.6272503956784446. Valid Acc: 0.647714376449585.\n",
            "Epoch: 2910. Train Loss: 0.5797963690146943. Train Acc: 0.6919302940368652. Valid Loss: 0.6272552751215288. Valid Acc: 0.647714376449585.\n",
            "Epoch: 2920. Train Loss: 0.5797963940358328. Train Acc: 0.6919302940368652. Valid Loss: 0.6272604066639745. Valid Acc: 0.647714376449585.\n",
            "Epoch: 2930. Train Loss: 0.579795838276396. Train Acc: 0.6919302940368652. Valid Loss: 0.6272651201988513. Valid Acc: 0.647714376449585.\n",
            "Epoch: 2940. Train Loss: 0.5797954766310184. Train Acc: 0.6919302940368652. Valid Loss: 0.6272705845667288. Valid Acc: 0.647714376449585.\n",
            "Epoch: 2950. Train Loss: 0.5797951320838233. Train Acc: 0.6919302940368652. Valid Loss: 0.6272757836039502. Valid Acc: 0.647714376449585.\n",
            "Epoch: 2960. Train Loss: 0.5797945763306241. Train Acc: 0.6919302940368652. Valid Loss: 0.6272806446736915. Valid Acc: 0.647714376449585.\n",
            "Epoch: 2970. Train Loss: 0.5797946750108152. Train Acc: 0.6919302940368652. Valid Loss: 0.6272847609256068. Valid Acc: 0.647714376449585.\n",
            "Epoch: 2980. Train Loss: 0.5797938511772469. Train Acc: 0.6919302940368652. Valid Loss: 0.6272906497899006. Valid Acc: 0.647714376449585.\n",
            "Epoch: 2990. Train Loss: 0.5797938525262761. Train Acc: 0.6919302940368652. Valid Loss: 0.6272941701078569. Valid Acc: 0.647714376449585.\n",
            "Epoch: 3000. Train Loss: 0.5797932899929533. Train Acc: 0.6919302940368652. Valid Loss: 0.6273000714300258. Valid Acc: 0.647714376449585.\n"
          ]
        }
      ]
    },
    {
      "cell_type": "code",
      "source": [
        "fig = plt.figure(figsize = (16,9))\n",
        "numOfEpoch = 3001\n",
        "plt.plot(np.arange(0, numOfEpoch), trainLoss, label='Training Loss')\n",
        "plt.plot(testEp, testLoss, label='Validation Loss')\n",
        "plt.title('Loss Plot')\n",
        "plt.xlabel('Epoch')\n",
        "plt.ylabel('Loss')\n",
        "# plt.ylim((0.0,1.0))\n",
        "plt.legend()"
      ],
      "metadata": {
        "colab": {
          "base_uri": "https://localhost:8080/",
          "height": 584
        },
        "id": "joBlRE3JmxWQ",
        "outputId": "84203716-0de3-4c25-f695-8fb12e3d9cc0"
      },
      "execution_count": 117,
      "outputs": [
        {
          "output_type": "execute_result",
          "data": {
            "text/plain": [
              "<matplotlib.legend.Legend at 0x7fdb5edc1750>"
            ]
          },
          "metadata": {},
          "execution_count": 117
        },
        {
          "output_type": "display_data",
          "data": {
            "text/plain": [
              "<Figure size 1152x648 with 1 Axes>"
            ],
            "image/png": "[encoded data removed]"
          },
          "metadata": {
            "needs_background": "light"
          }
        }
      ]
    },
    {
      "cell_type": "code",
      "source": [
        "fig = plt.figure(figsize = (16,9))\n",
        "numOfEpoch = 3001\n",
        "plt.plot(np.arange(0, numOfEpoch), trainAcc, label='Training Accuracy')\n",
        "plt.plot(testEp, testAcc, label='Validation Accuracy')\n",
        "plt.title('Accuracy Plot')\n",
        "plt.xlabel('Epoch')\n",
        "plt.ylabel('Accuracy')\n",
        "# plt.ylim((0.0,1.0))\n",
        "plt.legend()"
      ],
      "metadata": {
        "colab": {
          "base_uri": "https://localhost:8080/",
          "height": 584
        },
        "id": "T87yn8QQmyvG",
        "outputId": "ca54461d-1e63-4600-c919-628de1315be8"
      },
      "execution_count": 118,
      "outputs": [
        {
          "output_type": "execute_result",
          "data": {
            "text/plain": [
              "<matplotlib.legend.Legend at 0x7fdb5ed31a50>"
            ]
          },
          "metadata": {},
          "execution_count": 118
        },
        {
          "output_type": "display_data",
          "data": {
            "text/plain": [
              "<Figure size 1152x648 with 1 Axes>"
            ],
            "image/png": "[encoded data removed]"
          },
          "metadata": {
            "needs_background": "light"
          }
        }
      ]
    },
    {
      "cell_type": "markdown",
      "source": [
        "Max Acc on Validation Test"
      ],
      "metadata": {
        "id": "tCbXrQHpQrud"
      }
    },
    {
      "cell_type": "code",
      "source": [
        "maxAcc"
      ],
      "metadata": {
        "colab": {
          "base_uri": "https://localhost:8080/"
        },
        "id": "MQdLds7PQZxl",
        "outputId": "9094111a-bd5b-4223-e469-c869b97ec2fb"
      },
      "execution_count": 127,
      "outputs": [
        {
          "output_type": "execute_result",
          "data": {
            "text/plain": [
              "tensor(0.6483)"
            ]
          },
          "metadata": {},
          "execution_count": 127
        }
      ]
    },
    {
      "cell_type": "code",
      "source": [
        "bestU"
      ],
      "metadata": {
        "colab": {
          "base_uri": "https://localhost:8080/"
        },
        "id": "x5UekHG2Qa9l",
        "outputId": "78b22531-ab05-45d7-bc2b-0986883b5f6c"
      },
      "execution_count": 120,
      "outputs": [
        {
          "output_type": "execute_result",
          "data": {
            "text/plain": [
              "tensor([[ 8.5520e-05, -3.2250e-04,  8.9201e-04,  ...,  6.2324e-19,\n",
              "          1.7898e-19,  1.5869e-19],\n",
              "        [ 9.5169e-04, -2.9078e-03,  3.0833e-03,  ..., -1.2146e-04,\n",
              "          2.0347e-03,  3.6578e-19],\n",
              "        [ 2.2283e-03, -7.5406e-04,  6.2048e-04,  ...,  9.6439e-04,\n",
              "         -1.2203e-03, -2.0789e-14],\n",
              "        ...,\n",
              "        [ 9.1636e-04,  6.7088e-04,  4.7628e-04,  ...,  7.3449e-04,\n",
              "         -7.2701e-16, -6.1870e-16],\n",
              "        [ 8.6555e-04, -9.4905e-04,  1.0243e-03,  ...,  7.3378e-04,\n",
              "         -3.3989e-09, -2.7798e-09],\n",
              "        [ 1.1846e-05, -1.2608e-03, -3.0960e-04,  ...,  1.4316e-04,\n",
              "         -2.7402e-03, -2.7624e-03]], dtype=torch.float64, requires_grad=True)"
            ]
          },
          "metadata": {},
          "execution_count": 120
        }
      ]
    },
    {
      "cell_type": "code",
      "source": [
        "bestU.detach().numpy().tofile(\"ModelStorage/U.txt\")\n",
        "bestb.detach().numpy().tofile(\"ModelStorage/b.txt\")"
      ],
      "metadata": {
        "id": "Gp1vVXofQcm0"
      },
      "execution_count": 121,
      "outputs": []
    },
    {
      "cell_type": "code",
      "source": [
        "with open(\"ModelStorage/indexToId.txt\", \"w+\") as file:\n",
        "  file.write(str(indexToId))\n",
        "with open(\"ModelStorage/idToIndex.txt\", \"w+\") as file:\n",
        "  file.write(str(idToIndex))"
      ],
      "metadata": {
        "id": "ONPhzjAgQdZn"
      },
      "execution_count": 122,
      "outputs": []
    }
  ],
  "metadata": {
    "colab": {
      "collapsed_sections": [],
      "name": "Content_Based_Classification_Colab.ipynb",
      "provenance": []
    },
    "kernelspec": {
      "display_name": "Python 3.8.8 ('base')",
      "language": "python",
      "name": "python3"
    },
    "language_info": {
      "codemirror_mode": {
        "name": "ipython",
        "version": 3
      },
      "file_extension": ".py",
      "mimetype": "text/x-python",
      "name": "python",
      "nbconvert_exporter": "python",
      "pygments_lexer": "ipython3",
      "version": "3.8.8"
    },
    "vscode": {
      "interpreter": {
        "hash": "2043299c89c8cd0b4d1a6f5cf4529bd58e6a4e0fe3181a25e0d328c821cdc5c5"
      }
    },
    "widgets": {
      "application/vnd.jupyter.widget-state+json": {
        "bbaddceaf77f45e18e8941852226ddf7": {
          "model_module": "@jupyter-widgets/controls",
          "model_name": "HBoxModel",
          "model_module_version": "1.5.0",
          "state": {
            "_dom_classes": [],
            "_model_module": "@jupyter-widgets/controls",
            "_model_module_version": "1.5.0",
            "_model_name": "HBoxModel",
            "_view_count": null,
            "_view_module": "@jupyter-widgets/controls",
            "_view_module_version": "1.5.0",
            "_view_name": "HBoxView",
            "box_style": "",
            "children": [
              "IPY_MODEL_2ee2a8fcce10495594ff3133d2b4a107",
              "IPY_MODEL_c6e0cd7b878b49df8fa8e1be2f2d86b0",
              "IPY_MODEL_a3f93c95217d461a985398038d55af96"
            ],
            "layout": "IPY_MODEL_bf4fbf2daa534d18ac24bc1da8f62f9f"
          }
        },
        "2ee2a8fcce10495594ff3133d2b4a107": {
          "model_module": "@jupyter-widgets/controls",
          "model_name": "HTMLModel",
          "model_module_version": "1.5.0",
          "state": {
            "_dom_classes": [],
            "_model_module": "@jupyter-widgets/controls",
            "_model_module_version": "1.5.0",
            "_model_name": "HTMLModel",
            "_view_count": null,
            "_view_module": "@jupyter-widgets/controls",
            "_view_module_version": "1.5.0",
            "_view_name": "HTMLView",
            "description": "",
            "description_tooltip": null,
            "layout": "IPY_MODEL_025818dd89214501990773f400e1722a",
            "placeholder": "​",
            "style": "IPY_MODEL_ef5c6765d9534ae7b17d6b3a5d6a89e5",
            "value": "100%"
          }
        },
        "c6e0cd7b878b49df8fa8e1be2f2d86b0": {
          "model_module": "@jupyter-widgets/controls",
          "model_name": "FloatProgressModel",
          "model_module_version": "1.5.0",
          "state": {
            "_dom_classes": [],
            "_model_module": "@jupyter-widgets/controls",
            "_model_module_version": "1.5.0",
            "_model_name": "FloatProgressModel",
            "_view_count": null,
            "_view_module": "@jupyter-widgets/controls",
            "_view_module_version": "1.5.0",
            "_view_name": "ProgressView",
            "bar_style": "success",
            "description": "",
            "description_tooltip": null,
            "layout": "IPY_MODEL_8db4bac184854e87a1b0225a02b7d54d",
            "max": 3001,
            "min": 0,
            "orientation": "horizontal",
            "style": "IPY_MODEL_ecb56abfa1d3455f90317a38b79455e9",
            "value": 3001
          }
        },
        "a3f93c95217d461a985398038d55af96": {
          "model_module": "@jupyter-widgets/controls",
          "model_name": "HTMLModel",
          "model_module_version": "1.5.0",
          "state": {
            "_dom_classes": [],
            "_model_module": "@jupyter-widgets/controls",
            "_model_module_version": "1.5.0",
            "_model_name": "HTMLModel",
            "_view_count": null,
            "_view_module": "@jupyter-widgets/controls",
            "_view_module_version": "1.5.0",
            "_view_name": "HTMLView",
            "description": "",
            "description_tooltip": null,
            "layout": "IPY_MODEL_1297cad86e2346dd93a7ecc7e0889f92",
            "placeholder": "​",
            "style": "IPY_MODEL_e1470a7c0bc64c349a8bbc54bf2228fa",
            "value": " 3001/3001 [02:40&lt;00:00, 20.91it/s]"
          }
        },
        "bf4fbf2daa534d18ac24bc1da8f62f9f": {
          "model_module": "@jupyter-widgets/base",
          "model_name": "LayoutModel",
          "model_module_version": "1.2.0",
          "state": {
            "_model_module": "@jupyter-widgets/base",
            "_model_module_version": "1.2.0",
            "_model_name": "LayoutModel",
            "_view_count": null,
            "_view_module": "@jupyter-widgets/base",
            "_view_module_version": "1.2.0",
            "_view_name": "LayoutView",
            "align_content": null,
            "align_items": null,
            "align_self": null,
            "border": null,
            "bottom": null,
            "display": null,
            "flex": null,
            "flex_flow": null,
            "grid_area": null,
            "grid_auto_columns": null,
            "grid_auto_flow": null,
            "grid_auto_rows": null,
            "grid_column": null,
            "grid_gap": null,
            "grid_row": null,
            "grid_template_areas": null,
            "grid_template_columns": null,
            "grid_template_rows": null,
            "height": null,
            "justify_content": null,
            "justify_items": null,
            "left": null,
            "margin": null,
            "max_height": null,
            "max_width": null,
            "min_height": null,
            "min_width": null,
            "object_fit": null,
            "object_position": null,
            "order": null,
            "overflow": null,
            "overflow_x": null,
            "overflow_y": null,
            "padding": null,
            "right": null,
            "top": null,
            "visibility": null,
            "width": null
          }
        },
        "025818dd89214501990773f400e1722a": {
          "model_module": "@jupyter-widgets/base",
          "model_name": "LayoutModel",
          "model_module_version": "1.2.0",
          "state": {
            "_model_module": "@jupyter-widgets/base",
            "_model_module_version": "1.2.0",
            "_model_name": "LayoutModel",
            "_view_count": null,
            "_view_module": "@jupyter-widgets/base",
            "_view_module_version": "1.2.0",
            "_view_name": "LayoutView",
            "align_content": null,
            "align_items": null,
            "align_self": null,
            "border": null,
            "bottom": null,
            "display": null,
            "flex": null,
            "flex_flow": null,
            "grid_area": null,
            "grid_auto_columns": null,
            "grid_auto_flow": null,
            "grid_auto_rows": null,
            "grid_column": null,
            "grid_gap": null,
            "grid_row": null,
            "grid_template_areas": null,
            "grid_template_columns": null,
            "grid_template_rows": null,
            "height": null,
            "justify_content": null,
            "justify_items": null,
            "left": null,
            "margin": null,
            "max_height": null,
            "max_width": null,
            "min_height": null,
            "min_width": null,
            "object_fit": null,
            "object_position": null,
            "order": null,
            "overflow": null,
            "overflow_x": null,
            "overflow_y": null,
            "padding": null,
            "right": null,
            "top": null,
            "visibility": null,
            "width": null
          }
        },
        "ef5c6765d9534ae7b17d6b3a5d6a89e5": {
          "model_module": "@jupyter-widgets/controls",
          "model_name": "DescriptionStyleModel",
          "model_module_version": "1.5.0",
          "state": {
            "_model_module": "@jupyter-widgets/controls",
            "_model_module_version": "1.5.0",
            "_model_name": "DescriptionStyleModel",
            "_view_count": null,
            "_view_module": "@jupyter-widgets/base",
            "_view_module_version": "1.2.0",
            "_view_name": "StyleView",
            "description_width": ""
          }
        },
        "8db4bac184854e87a1b0225a02b7d54d": {
          "model_module": "@jupyter-widgets/base",
          "model_name": "LayoutModel",
          "model_module_version": "1.2.0",
          "state": {
            "_model_module": "@jupyter-widgets/base",
            "_model_module_version": "1.2.0",
            "_model_name": "LayoutModel",
            "_view_count": null,
            "_view_module": "@jupyter-widgets/base",
            "_view_module_version": "1.2.0",
            "_view_name": "LayoutView",
            "align_content": null,
            "align_items": null,
            "align_self": null,
            "border": null,
            "bottom": null,
            "display": null,
            "flex": null,
            "flex_flow": null,
            "grid_area": null,
            "grid_auto_columns": null,
            "grid_auto_flow": null,
            "grid_auto_rows": null,
            "grid_column": null,
            "grid_gap": null,
            "grid_row": null,
            "grid_template_areas": null,
            "grid_template_columns": null,
            "grid_template_rows": null,
            "height": null,
            "justify_content": null,
            "justify_items": null,
            "left": null,
            "margin": null,
            "max_height": null,
            "max_width": null,
            "min_height": null,
            "min_width": null,
            "object_fit": null,
            "object_position": null,
            "order": null,
            "overflow": null,
            "overflow_x": null,
            "overflow_y": null,
            "padding": null,
            "right": null,
            "top": null,
            "visibility": null,
            "width": null
          }
        },
        "ecb56abfa1d3455f90317a38b79455e9": {
          "model_module": "@jupyter-widgets/controls",
          "model_name": "ProgressStyleModel",
          "model_module_version": "1.5.0",
          "state": {
            "_model_module": "@jupyter-widgets/controls",
            "_model_module_version": "1.5.0",
            "_model_name": "ProgressStyleModel",
            "_view_count": null,
            "_view_module": "@jupyter-widgets/base",
            "_view_module_version": "1.2.0",
            "_view_name": "StyleView",
            "bar_color": null,
            "description_width": ""
          }
        },
        "1297cad86e2346dd93a7ecc7e0889f92": {
          "model_module": "@jupyter-widgets/base",
          "model_name": "LayoutModel",
          "model_module_version": "1.2.0",
          "state": {
            "_model_module": "@jupyter-widgets/base",
            "_model_module_version": "1.2.0",
            "_model_name": "LayoutModel",
            "_view_count": null,
            "_view_module": "@jupyter-widgets/base",
            "_view_module_version": "1.2.0",
            "_view_name": "LayoutView",
            "align_content": null,
            "align_items": null,
            "align_self": null,
            "border": null,
            "bottom": null,
            "display": null,
            "flex": null,
            "flex_flow": null,
            "grid_area": null,
            "grid_auto_columns": null,
            "grid_auto_flow": null,
            "grid_auto_rows": null,
            "grid_column": null,
            "grid_gap": null,
            "grid_row": null,
            "grid_template_areas": null,
            "grid_template_columns": null,
            "grid_template_rows": null,
            "height": null,
            "justify_content": null,
            "justify_items": null,
            "left": null,
            "margin": null,
            "max_height": null,
            "max_width": null,
            "min_height": null,
            "min_width": null,
            "object_fit": null,
            "object_position": null,
            "order": null,
            "overflow": null,
            "overflow_x": null,
            "overflow_y": null,
            "padding": null,
            "right": null,
            "top": null,
            "visibility": null,
            "width": null
          }
        },
        "e1470a7c0bc64c349a8bbc54bf2228fa": {
          "model_module": "@jupyter-widgets/controls",
          "model_name": "DescriptionStyleModel",
          "model_module_version": "1.5.0",
          "state": {
            "_model_module": "@jupyter-widgets/controls",
            "_model_module_version": "1.5.0",
            "_model_name": "DescriptionStyleModel",
            "_view_count": null,
            "_view_module": "@jupyter-widgets/base",
            "_view_module_version": "1.2.0",
            "_view_name": "StyleView",
            "description_width": ""
          }
        },
        "fc35f20a0fb34d468d228799a2805b2b": {
          "model_module": "@jupyter-widgets/controls",
          "model_name": "HBoxModel",
          "model_module_version": "1.5.0",
          "state": {
            "_dom_classes": [],
            "_model_module": "@jupyter-widgets/controls",
            "_model_module_version": "1.5.0",
            "_model_name": "HBoxModel",
            "_view_count": null,
            "_view_module": "@jupyter-widgets/controls",
            "_view_module_version": "1.5.0",
            "_view_name": "HBoxView",
            "box_style": "",
            "children": [
              "IPY_MODEL_deca56a6862f49578c50bf6035cb28bb",
              "IPY_MODEL_951d824df220485190ec3366939e3370",
              "IPY_MODEL_118f18df621a4f3d9c4483f84dfd3efb"
            ],
            "layout": "IPY_MODEL_ee17d8cabb844527b712b4011098ec07"
          }
        },
        "deca56a6862f49578c50bf6035cb28bb": {
          "model_module": "@jupyter-widgets/controls",
          "model_name": "HTMLModel",
          "model_module_version": "1.5.0",
          "state": {
            "_dom_classes": [],
            "_model_module": "@jupyter-widgets/controls",
            "_model_module_version": "1.5.0",
            "_model_name": "HTMLModel",
            "_view_count": null,
            "_view_module": "@jupyter-widgets/controls",
            "_view_module_version": "1.5.0",
            "_view_name": "HTMLView",
            "description": "",
            "description_tooltip": null,
            "layout": "IPY_MODEL_2548e84c88424a9e8351388119bd4abc",
            "placeholder": "​",
            "style": "IPY_MODEL_ee92fbf0fb104e8c96b8c3c73d3e6caf",
            "value": "100%"
          }
        },
        "951d824df220485190ec3366939e3370": {
          "model_module": "@jupyter-widgets/controls",
          "model_name": "FloatProgressModel",
          "model_module_version": "1.5.0",
          "state": {
            "_dom_classes": [],
            "_model_module": "@jupyter-widgets/controls",
            "_model_module_version": "1.5.0",
            "_model_name": "FloatProgressModel",
            "_view_count": null,
            "_view_module": "@jupyter-widgets/controls",
            "_view_module_version": "1.5.0",
            "_view_name": "ProgressView",
            "bar_style": "success",
            "description": "",
            "description_tooltip": null,
            "layout": "IPY_MODEL_bbf865fb84bd490ebe2c36d429b7c8bc",
            "max": 3001,
            "min": 0,
            "orientation": "horizontal",
            "style": "IPY_MODEL_d14401e2f18d4bb8aea9417c4c90684e",
            "value": 3001
          }
        },
        "118f18df621a4f3d9c4483f84dfd3efb": {
          "model_module": "@jupyter-widgets/controls",
          "model_name": "HTMLModel",
          "model_module_version": "1.5.0",
          "state": {
            "_dom_classes": [],
            "_model_module": "@jupyter-widgets/controls",
            "_model_module_version": "1.5.0",
            "_model_name": "HTMLModel",
            "_view_count": null,
            "_view_module": "@jupyter-widgets/controls",
            "_view_module_version": "1.5.0",
            "_view_name": "HTMLView",
            "description": "",
            "description_tooltip": null,
            "layout": "IPY_MODEL_344817c3a8b341ed9998f4a1e861a31c",
            "placeholder": "​",
            "style": "IPY_MODEL_9ea8a4cec0564c318a8722ab9142c7ac",
            "value": " 3001/3001 [02:28&lt;00:00, 20.66it/s]"
          }
        },
        "ee17d8cabb844527b712b4011098ec07": {
          "model_module": "@jupyter-widgets/base",
          "model_name": "LayoutModel",
          "model_module_version": "1.2.0",
          "state": {
            "_model_module": "@jupyter-widgets/base",
            "_model_module_version": "1.2.0",
            "_model_name": "LayoutModel",
            "_view_count": null,
            "_view_module": "@jupyter-widgets/base",
            "_view_module_version": "1.2.0",
            "_view_name": "LayoutView",
            "align_content": null,
            "align_items": null,
            "align_self": null,
            "border": null,
            "bottom": null,
            "display": null,
            "flex": null,
            "flex_flow": null,
            "grid_area": null,
            "grid_auto_columns": null,
            "grid_auto_flow": null,
            "grid_auto_rows": null,
            "grid_column": null,
            "grid_gap": null,
            "grid_row": null,
            "grid_template_areas": null,
            "grid_template_columns": null,
            "grid_template_rows": null,
            "height": null,
            "justify_content": null,
            "justify_items": null,
            "left": null,
            "margin": null,
            "max_height": null,
            "max_width": null,
            "min_height": null,
            "min_width": null,
            "object_fit": null,
            "object_position": null,
            "order": null,
            "overflow": null,
            "overflow_x": null,
            "overflow_y": null,
            "padding": null,
            "right": null,
            "top": null,
            "visibility": null,
            "width": null
          }
        },
        "2548e84c88424a9e8351388119bd4abc": {
          "model_module": "@jupyter-widgets/base",
          "model_name": "LayoutModel",
          "model_module_version": "1.2.0",
          "state": {
            "_model_module": "@jupyter-widgets/base",
            "_model_module_version": "1.2.0",
            "_model_name": "LayoutModel",
            "_view_count": null,
            "_view_module": "@jupyter-widgets/base",
            "_view_module_version": "1.2.0",
            "_view_name": "LayoutView",
            "align_content": null,
            "align_items": null,
            "align_self": null,
            "border": null,
            "bottom": null,
            "display": null,
            "flex": null,
            "flex_flow": null,
            "grid_area": null,
            "grid_auto_columns": null,
            "grid_auto_flow": null,
            "grid_auto_rows": null,
            "grid_column": null,
            "grid_gap": null,
            "grid_row": null,
            "grid_template_areas": null,
            "grid_template_columns": null,
            "grid_template_rows": null,
            "height": null,
            "justify_content": null,
            "justify_items": null,
            "left": null,
            "margin": null,
            "max_height": null,
            "max_width": null,
            "min_height": null,
            "min_width": null,
            "object_fit": null,
            "object_position": null,
            "order": null,
            "overflow": null,
            "overflow_x": null,
            "overflow_y": null,
            "padding": null,
            "right": null,
            "top": null,
            "visibility": null,
            "width": null
          }
        },
        "ee92fbf0fb104e8c96b8c3c73d3e6caf": {
          "model_module": "@jupyter-widgets/controls",
          "model_name": "DescriptionStyleModel",
          "model_module_version": "1.5.0",
          "state": {
            "_model_module": "@jupyter-widgets/controls",
            "_model_module_version": "1.5.0",
            "_model_name": "DescriptionStyleModel",
            "_view_count": null,
            "_view_module": "@jupyter-widgets/base",
            "_view_module_version": "1.2.0",
            "_view_name": "StyleView",
            "description_width": ""
          }
        },
        "bbf865fb84bd490ebe2c36d429b7c8bc": {
          "model_module": "@jupyter-widgets/base",
          "model_name": "LayoutModel",
          "model_module_version": "1.2.0",
          "state": {
            "_model_module": "@jupyter-widgets/base",
            "_model_module_version": "1.2.0",
            "_model_name": "LayoutModel",
            "_view_count": null,
            "_view_module": "@jupyter-widgets/base",
            "_view_module_version": "1.2.0",
            "_view_name": "LayoutView",
            "align_content": null,
            "align_items": null,
            "align_self": null,
            "border": null,
            "bottom": null,
            "display": null,
            "flex": null,
            "flex_flow": null,
            "grid_area": null,
            "grid_auto_columns": null,
            "grid_auto_flow": null,
            "grid_auto_rows": null,
            "grid_column": null,
            "grid_gap": null,
            "grid_row": null,
            "grid_template_areas": null,
            "grid_template_columns": null,
            "grid_template_rows": null,
            "height": null,
            "justify_content": null,
            "justify_items": null,
            "left": null,
            "margin": null,
            "max_height": null,
            "max_width": null,
            "min_height": null,
            "min_width": null,
            "object_fit": null,
            "object_position": null,
            "order": null,
            "overflow": null,
            "overflow_x": null,
            "overflow_y": null,
            "padding": null,
            "right": null,
            "top": null,
            "visibility": null,
            "width": null
          }
        },
        "d14401e2f18d4bb8aea9417c4c90684e": {
          "model_module": "@jupyter-widgets/controls",
          "model_name": "ProgressStyleModel",
          "model_module_version": "1.5.0",
          "state": {
            "_model_module": "@jupyter-widgets/controls",
            "_model_module_version": "1.5.0",
            "_model_name": "ProgressStyleModel",
            "_view_count": null,
            "_view_module": "@jupyter-widgets/base",
            "_view_module_version": "1.2.0",
            "_view_name": "StyleView",
            "bar_color": null,
            "description_width": ""
          }
        },
        "344817c3a8b341ed9998f4a1e861a31c": {
          "model_module": "@jupyter-widgets/base",
          "model_name": "LayoutModel",
          "model_module_version": "1.2.0",
          "state": {
            "_model_module": "@jupyter-widgets/base",
            "_model_module_version": "1.2.0",
            "_model_name": "LayoutModel",
            "_view_count": null,
            "_view_module": "@jupyter-widgets/base",
            "_view_module_version": "1.2.0",
            "_view_name": "LayoutView",
            "align_content": null,
            "align_items": null,
            "align_self": null,
            "border": null,
            "bottom": null,
            "display": null,
            "flex": null,
            "flex_flow": null,
            "grid_area": null,
            "grid_auto_columns": null,
            "grid_auto_flow": null,
            "grid_auto_rows": null,
            "grid_column": null,
            "grid_gap": null,
            "grid_row": null,
            "grid_template_areas": null,
            "grid_template_columns": null,
            "grid_template_rows": null,
            "height": null,
            "justify_content": null,
            "justify_items": null,
            "left": null,
            "margin": null,
            "max_height": null,
            "max_width": null,
            "min_height": null,
            "min_width": null,
            "object_fit": null,
            "object_position": null,
            "order": null,
            "overflow": null,
            "overflow_x": null,
            "overflow_y": null,
            "padding": null,
            "right": null,
            "top": null,
            "visibility": null,
            "width": null
          }
        },
        "9ea8a4cec0564c318a8722ab9142c7ac": {
          "model_module": "@jupyter-widgets/controls",
          "model_name": "DescriptionStyleModel",
          "model_module_version": "1.5.0",
          "state": {
            "_model_module": "@jupyter-widgets/controls",
            "_model_module_version": "1.5.0",
            "_model_name": "DescriptionStyleModel",
            "_view_count": null,
            "_view_module": "@jupyter-widgets/base",
            "_view_module_version": "1.2.0",
            "_view_name": "StyleView",
            "description_width": ""
          }
        }
      }
    }
  },
  "nbformat": 4,
  "nbformat_minor": 0
}