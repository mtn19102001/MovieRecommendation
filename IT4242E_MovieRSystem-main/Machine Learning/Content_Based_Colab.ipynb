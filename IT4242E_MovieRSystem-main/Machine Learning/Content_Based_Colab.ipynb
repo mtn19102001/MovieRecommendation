{
  "cells": [
    {
      "cell_type": "code",
      "execution_count": 1,
      "metadata": {
        "colab": {
          "base_uri": "https://localhost:8080/"
        },
        "id": "3e7l1kq7-MUC",
        "outputId": "a9444c90-8138-46ba-f8ac-505f31a42196"
      },
      "outputs": [
        {
          "output_type": "stream",
          "name": "stdout",
          "text": [
            "Mounted at /content/drive\n"
          ]
        }
      ],
      "source": [
        "from google.colab import drive\n",
        "drive.mount('/content/drive')"
      ]
    },
    {
      "cell_type": "code",
      "execution_count": 2,
      "metadata": {
        "id": "nBCiXDMzkdto"
      },
      "outputs": [],
      "source": [
        "import warnings\n",
        "warnings.filterwarnings('ignore')\n",
        "import pandas as pd\n",
        "import numpy as np\n",
        "import os\n",
        "import json\n",
        "import matplotlib.pyplot as plt"
      ]
    },
    {
      "cell_type": "code",
      "execution_count": 3,
      "metadata": {
        "id": "EXS44fd5krnI"
      },
      "outputs": [],
      "source": [
        "os.chdir(\"/content/drive/MyDrive/MovieRSystem\")"
      ]
    },
    {
      "cell_type": "code",
      "execution_count": 4,
      "metadata": {
        "id": "1iojVoORkiUZ"
      },
      "outputs": [],
      "source": [
        "dataset = pd.read_csv(\"FeatureExtracted/dataset.csv\")\n",
        "ratings_train = pd.read_csv(\"CleanedData/ratings_train.csv\")\n",
        "ratings_test = pd.read_csv(\"CleanedData/ratings_test.csv\")"
      ]
    },
    {
      "cell_type": "markdown",
      "metadata": {
        "id": "Z6k5rKc9k720"
      },
      "source": [
        "## Content-Based Recommendation System - Pytorch"
      ]
    },
    {
      "cell_type": "code",
      "execution_count": 5,
      "metadata": {
        "colab": {
          "base_uri": "https://localhost:8080/"
        },
        "id": "CIBSLACY-hoE",
        "outputId": "5c26205b-856b-49b2-ab93-677fd3d1ab81"
      },
      "outputs": [
        {
          "output_type": "stream",
          "name": "stdout",
          "text": [
            "Looking in indexes: https://pypi.org/simple, https://us-python.pkg.dev/colab-wheels/public/simple/\n",
            "Requirement already satisfied: torch in /usr/local/lib/python3.7/dist-packages (1.11.0+cu113)\n",
            "Requirement already satisfied: typing-extensions in /usr/local/lib/python3.7/dist-packages (from torch) (4.1.1)\n"
          ]
        }
      ],
      "source": [
        "!pip install torch"
      ]
    },
    {
      "cell_type": "code",
      "execution_count": 6,
      "metadata": {
        "id": "uP9PPs_wlVQK"
      },
      "outputs": [],
      "source": [
        "import torch\n",
        "import torch.nn as nn\n",
        "import torch.nn.functional as F\n",
        "import torchvision\n",
        "import torchvision.transforms as transforms"
      ]
    },
    {
      "cell_type": "markdown",
      "metadata": {
        "id": "6lK_ZxPsmHwG"
      },
      "source": [
        "### Make Dataset For Train"
      ]
    },
    {
      "cell_type": "markdown",
      "metadata": {
        "id": "iHRVh4KHnF2N"
      },
      "source": [
        "There are 671 users"
      ]
    },
    {
      "cell_type": "code",
      "execution_count": 7,
      "metadata": {
        "colab": {
          "base_uri": "https://localhost:8080/"
        },
        "id": "jwQUxcCZmly4",
        "outputId": "f5dcd945-fa5d-4bf9-d0b2-3b49ce52420c"
      },
      "outputs": [
        {
          "output_type": "stream",
          "name": "stdout",
          "text": [
            "671\n"
          ]
        }
      ],
      "source": [
        "len_users = ratings_train['userId'].unique().size\n",
        "print(len_users)"
      ]
    },
    {
      "cell_type": "markdown",
      "metadata": {
        "id": "daUnLGdnnNSO"
      },
      "source": [
        "2830 movies"
      ]
    },
    {
      "cell_type": "code",
      "execution_count": 8,
      "metadata": {
        "colab": {
          "base_uri": "https://localhost:8080/"
        },
        "id": "qn7CGKI8nIXN",
        "outputId": "a3acc688-89cd-40e7-e2d1-4ae453dc798e"
      },
      "outputs": [
        {
          "output_type": "stream",
          "name": "stdout",
          "text": [
            "2830\n"
          ]
        }
      ],
      "source": [
        "len_dataset = len(dataset)\n",
        "print(len_dataset)"
      ]
    },
    {
      "cell_type": "markdown",
      "metadata": {
        "id": "05nl88knoDCp"
      },
      "source": [
        "We need to save the id for later recommendation"
      ]
    },
    {
      "cell_type": "code",
      "execution_count": 9,
      "metadata": {
        "colab": {
          "base_uri": "https://localhost:8080/",
          "height": 505
        },
        "id": "Et32VfWBnwF8",
        "outputId": "6d9dca02-2f3c-47d4-9916-f017b0119e74"
      },
      "outputs": [
        {
          "output_type": "execute_result",
          "data": {
            "text/plain": [
              "        budget     id  runtime      revenue  vote_average  vote_count  \\\n",
              "0     60000000    949    170.0  187436818.0           7.7      1886.0   \n",
              "1     58000000    710    130.0  352194034.0           6.6      1194.0   \n",
              "2     98000000   1408    119.0   10017322.0           5.7       137.0   \n",
              "3     52000000    524    178.0  116112375.0           7.8      1343.0   \n",
              "4     16500000   4584    136.0  135000000.0           7.2       364.0   \n",
              "...        ...    ...      ...          ...           ...         ...   \n",
              "2825         0  80831    121.0          0.0           6.5         2.0   \n",
              "2826         0   3104     92.0          0.0           5.9        33.0   \n",
              "2827         0  64197     97.0          0.0           6.0         5.0   \n",
              "2828         0  98604     91.0          0.0           4.6         6.0   \n",
              "2829         0  49280      1.0          0.0           6.5        22.0   \n",
              "\n",
              "      CastsRank  NumLeadActors  HasTop50Actors  NumCrews  ...  History  \\\n",
              "0         14175              3               0        71  ...        0   \n",
              "1          5703              3               1        46  ...        0   \n",
              "2          3771              0               0        16  ...        0   \n",
              "3          6447              0               0        10  ...        0   \n",
              "4          4515              2               1         8  ...        0   \n",
              "...         ...            ...             ...       ...  ...      ...   \n",
              "2825       1105              0               0         4  ...        0   \n",
              "2826       1129              0               0        11  ...        0   \n",
              "2827        399              0               0         4  ...        0   \n",
              "2828       1982              0               0         4  ...        0   \n",
              "2829         77              0               0         1  ...        0   \n",
              "\n",
              "      Horror  Music  Mystery  Romance  Science Fiction  TV Movie  Thriller  \\\n",
              "0          0      0        0        0                0         0         1   \n",
              "1          0      0        0        0                0         0         1   \n",
              "2          0      0        0        0                0         0         0   \n",
              "3          0      0        0        0                0         0         0   \n",
              "4          0      0        0        1                0         0         0   \n",
              "...      ...    ...      ...      ...              ...       ...       ...   \n",
              "2825       0      0        0        0                0         0         0   \n",
              "2826       1      0        0        0                1         0         0   \n",
              "2827       0      0        0        1                0         0         0   \n",
              "2828       0      0        0        1                0         0         0   \n",
              "2829       0      0        0        0                0         0         1   \n",
              "\n",
              "      War  Western  \n",
              "0       0        0  \n",
              "1       0        0  \n",
              "2       0        0  \n",
              "3       0        0  \n",
              "4       0        0  \n",
              "...   ...      ...  \n",
              "2825    0        0  \n",
              "2826    0        0  \n",
              "2827    0        0  \n",
              "2828    0        0  \n",
              "2829    0        0  \n",
              "\n",
              "[2830 rows x 39 columns]"
            ],
            "text/html": [
              "\n",
              "  <div id=\"df-26f4ce8a-05f1-4472-9403-4c3ecae9ebfa\">\n",
              "    <div class=\"colab-df-container\">\n",
              "      <div>\n",
              "<style scoped>\n",
              "    .dataframe tbody tr th:only-of-type {\n",
              "        vertical-align: middle;\n",
              "    }\n",
              "\n",
              "    .dataframe tbody tr th {\n",
              "        vertical-align: top;\n",
              "    }\n",
              "\n",
              "    .dataframe thead th {\n",
              "        text-align: right;\n",
              "    }\n",
              "</style>\n",
              "<table border=\"1\" class=\"dataframe\">\n",
              "  <thead>\n",
              "    <tr style=\"text-align: right;\">\n",
              "      <th></th>\n",
              "      <th>budget</th>\n",
              "      <th>id</th>\n",
              "      <th>runtime</th>\n",
              "      <th>revenue</th>\n",
              "      <th>vote_average</th>\n",
              "      <th>vote_count</th>\n",
              "      <th>CastsRank</th>\n",
              "      <th>NumLeadActors</th>\n",
              "      <th>HasTop50Actors</th>\n",
              "      <th>NumCrews</th>\n",
              "      <th>...</th>\n",
              "      <th>History</th>\n",
              "      <th>Horror</th>\n",
              "      <th>Music</th>\n",
              "      <th>Mystery</th>\n",
              "      <th>Romance</th>\n",
              "      <th>Science Fiction</th>\n",
              "      <th>TV Movie</th>\n",
              "      <th>Thriller</th>\n",
              "      <th>War</th>\n",
              "      <th>Western</th>\n",
              "    </tr>\n",
              "  </thead>\n",
              "  <tbody>\n",
              "    <tr>\n",
              "      <th>0</th>\n",
              "      <td>60000000</td>\n",
              "      <td>949</td>\n",
              "      <td>170.0</td>\n",
              "      <td>187436818.0</td>\n",
              "      <td>7.7</td>\n",
              "      <td>1886.0</td>\n",
              "      <td>14175</td>\n",
              "      <td>3</td>\n",
              "      <td>0</td>\n",
              "      <td>71</td>\n",
              "      <td>...</td>\n",
              "      <td>0</td>\n",
              "      <td>0</td>\n",
              "      <td>0</td>\n",
              "      <td>0</td>\n",
              "      <td>0</td>\n",
              "      <td>0</td>\n",
              "      <td>0</td>\n",
              "      <td>1</td>\n",
              "      <td>0</td>\n",
              "      <td>0</td>\n",
              "    </tr>\n",
              "    <tr>\n",
              "      <th>1</th>\n",
              "      <td>58000000</td>\n",
              "      <td>710</td>\n",
              "      <td>130.0</td>\n",
              "      <td>352194034.0</td>\n",
              "      <td>6.6</td>\n",
              "      <td>1194.0</td>\n",
              "      <td>5703</td>\n",
              "      <td>3</td>\n",
              "      <td>1</td>\n",
              "      <td>46</td>\n",
              "      <td>...</td>\n",
              "      <td>0</td>\n",
              "      <td>0</td>\n",
              "      <td>0</td>\n",
              "      <td>0</td>\n",
              "      <td>0</td>\n",
              "      <td>0</td>\n",
              "      <td>0</td>\n",
              "      <td>1</td>\n",
              "      <td>0</td>\n",
              "      <td>0</td>\n",
              "    </tr>\n",
              "    <tr>\n",
              "      <th>2</th>\n",
              "      <td>98000000</td>\n",
              "      <td>1408</td>\n",
              "      <td>119.0</td>\n",
              "      <td>10017322.0</td>\n",
              "      <td>5.7</td>\n",
              "      <td>137.0</td>\n",
              "      <td>3771</td>\n",
              "      <td>0</td>\n",
              "      <td>0</td>\n",
              "      <td>16</td>\n",
              "      <td>...</td>\n",
              "      <td>0</td>\n",
              "      <td>0</td>\n",
              "      <td>0</td>\n",
              "      <td>0</td>\n",
              "      <td>0</td>\n",
              "      <td>0</td>\n",
              "      <td>0</td>\n",
              "      <td>0</td>\n",
              "      <td>0</td>\n",
              "      <td>0</td>\n",
              "    </tr>\n",
              "    <tr>\n",
              "      <th>3</th>\n",
              "      <td>52000000</td>\n",
              "      <td>524</td>\n",
              "      <td>178.0</td>\n",
              "      <td>116112375.0</td>\n",
              "      <td>7.8</td>\n",
              "      <td>1343.0</td>\n",
              "      <td>6447</td>\n",
              "      <td>0</td>\n",
              "      <td>0</td>\n",
              "      <td>10</td>\n",
              "      <td>...</td>\n",
              "      <td>0</td>\n",
              "      <td>0</td>\n",
              "      <td>0</td>\n",
              "      <td>0</td>\n",
              "      <td>0</td>\n",
              "      <td>0</td>\n",
              "      <td>0</td>\n",
              "      <td>0</td>\n",
              "      <td>0</td>\n",
              "      <td>0</td>\n",
              "    </tr>\n",
              "    <tr>\n",
              "      <th>4</th>\n",
              "      <td>16500000</td>\n",
              "      <td>4584</td>\n",
              "      <td>136.0</td>\n",
              "      <td>135000000.0</td>\n",
              "      <td>7.2</td>\n",
              "      <td>364.0</td>\n",
              "      <td>4515</td>\n",
              "      <td>2</td>\n",
              "      <td>1</td>\n",
              "      <td>8</td>\n",
              "      <td>...</td>\n",
              "      <td>0</td>\n",
              "      <td>0</td>\n",
              "      <td>0</td>\n",
              "      <td>0</td>\n",
              "      <td>1</td>\n",
              "      <td>0</td>\n",
              "      <td>0</td>\n",
              "      <td>0</td>\n",
              "      <td>0</td>\n",
              "      <td>0</td>\n",
              "    </tr>\n",
              "    <tr>\n",
              "      <th>...</th>\n",
              "      <td>...</td>\n",
              "      <td>...</td>\n",
              "      <td>...</td>\n",
              "      <td>...</td>\n",
              "      <td>...</td>\n",
              "      <td>...</td>\n",
              "      <td>...</td>\n",
              "      <td>...</td>\n",
              "      <td>...</td>\n",
              "      <td>...</td>\n",
              "      <td>...</td>\n",
              "      <td>...</td>\n",
              "      <td>...</td>\n",
              "      <td>...</td>\n",
              "      <td>...</td>\n",
              "      <td>...</td>\n",
              "      <td>...</td>\n",
              "      <td>...</td>\n",
              "      <td>...</td>\n",
              "      <td>...</td>\n",
              "      <td>...</td>\n",
              "    </tr>\n",
              "    <tr>\n",
              "      <th>2825</th>\n",
              "      <td>0</td>\n",
              "      <td>80831</td>\n",
              "      <td>121.0</td>\n",
              "      <td>0.0</td>\n",
              "      <td>6.5</td>\n",
              "      <td>2.0</td>\n",
              "      <td>1105</td>\n",
              "      <td>0</td>\n",
              "      <td>0</td>\n",
              "      <td>4</td>\n",
              "      <td>...</td>\n",
              "      <td>0</td>\n",
              "      <td>0</td>\n",
              "      <td>0</td>\n",
              "      <td>0</td>\n",
              "      <td>0</td>\n",
              "      <td>0</td>\n",
              "      <td>0</td>\n",
              "      <td>0</td>\n",
              "      <td>0</td>\n",
              "      <td>0</td>\n",
              "    </tr>\n",
              "    <tr>\n",
              "      <th>2826</th>\n",
              "      <td>0</td>\n",
              "      <td>3104</td>\n",
              "      <td>92.0</td>\n",
              "      <td>0.0</td>\n",
              "      <td>5.9</td>\n",
              "      <td>33.0</td>\n",
              "      <td>1129</td>\n",
              "      <td>0</td>\n",
              "      <td>0</td>\n",
              "      <td>11</td>\n",
              "      <td>...</td>\n",
              "      <td>0</td>\n",
              "      <td>1</td>\n",
              "      <td>0</td>\n",
              "      <td>0</td>\n",
              "      <td>0</td>\n",
              "      <td>1</td>\n",
              "      <td>0</td>\n",
              "      <td>0</td>\n",
              "      <td>0</td>\n",
              "      <td>0</td>\n",
              "    </tr>\n",
              "    <tr>\n",
              "      <th>2827</th>\n",
              "      <td>0</td>\n",
              "      <td>64197</td>\n",
              "      <td>97.0</td>\n",
              "      <td>0.0</td>\n",
              "      <td>6.0</td>\n",
              "      <td>5.0</td>\n",
              "      <td>399</td>\n",
              "      <td>0</td>\n",
              "      <td>0</td>\n",
              "      <td>4</td>\n",
              "      <td>...</td>\n",
              "      <td>0</td>\n",
              "      <td>0</td>\n",
              "      <td>0</td>\n",
              "      <td>0</td>\n",
              "      <td>1</td>\n",
              "      <td>0</td>\n",
              "      <td>0</td>\n",
              "      <td>0</td>\n",
              "      <td>0</td>\n",
              "      <td>0</td>\n",
              "    </tr>\n",
              "    <tr>\n",
              "      <th>2828</th>\n",
              "      <td>0</td>\n",
              "      <td>98604</td>\n",
              "      <td>91.0</td>\n",
              "      <td>0.0</td>\n",
              "      <td>4.6</td>\n",
              "      <td>6.0</td>\n",
              "      <td>1982</td>\n",
              "      <td>0</td>\n",
              "      <td>0</td>\n",
              "      <td>4</td>\n",
              "      <td>...</td>\n",
              "      <td>0</td>\n",
              "      <td>0</td>\n",
              "      <td>0</td>\n",
              "      <td>0</td>\n",
              "      <td>1</td>\n",
              "      <td>0</td>\n",
              "      <td>0</td>\n",
              "      <td>0</td>\n",
              "      <td>0</td>\n",
              "      <td>0</td>\n",
              "    </tr>\n",
              "    <tr>\n",
              "      <th>2829</th>\n",
              "      <td>0</td>\n",
              "      <td>49280</td>\n",
              "      <td>1.0</td>\n",
              "      <td>0.0</td>\n",
              "      <td>6.5</td>\n",
              "      <td>22.0</td>\n",
              "      <td>77</td>\n",
              "      <td>0</td>\n",
              "      <td>0</td>\n",
              "      <td>1</td>\n",
              "      <td>...</td>\n",
              "      <td>0</td>\n",
              "      <td>0</td>\n",
              "      <td>0</td>\n",
              "      <td>0</td>\n",
              "      <td>0</td>\n",
              "      <td>0</td>\n",
              "      <td>0</td>\n",
              "      <td>1</td>\n",
              "      <td>0</td>\n",
              "      <td>0</td>\n",
              "    </tr>\n",
              "  </tbody>\n",
              "</table>\n",
              "<p>2830 rows × 39 columns</p>\n",
              "</div>\n",
              "      <button class=\"colab-df-convert\" onclick=\"convertToInteractive('df-26f4ce8a-05f1-4472-9403-4c3ecae9ebfa')\"\n",
              "              title=\"Convert this dataframe to an interactive table.\"\n",
              "              style=\"display:none;\">\n",
              "        \n",
              "  <svg xmlns=\"http://www.w3.org/2000/svg\" height=\"24px\"viewBox=\"0 0 24 24\"\n",
              "       width=\"24px\">\n",
              "    <path d=\"M0 0h24v24H0V0z\" fill=\"none\"/>\n",
              "    <path d=\"M18.56 5.44l.94 2.06.94-2.06 2.06-.94-2.06-.94-.94-2.06-.94 2.06-2.06.94zm-11 1L8.5 8.5l.94-2.06 2.06-.94-2.06-.94L8.5 2.5l-.94 2.06-2.06.94zm10 10l.94 2.06.94-2.06 2.06-.94-2.06-.94-.94-2.06-.94 2.06-2.06.94z\"/><path d=\"M17.41 7.96l-1.37-1.37c-.4-.4-.92-.59-1.43-.59-.52 0-1.04.2-1.43.59L10.3 9.45l-7.72 7.72c-.78.78-.78 2.05 0 2.83L4 21.41c.39.39.9.59 1.41.59.51 0 1.02-.2 1.41-.59l7.78-7.78 2.81-2.81c.8-.78.8-2.07 0-2.86zM5.41 20L4 18.59l7.72-7.72 1.47 1.35L5.41 20z\"/>\n",
              "  </svg>\n",
              "      </button>\n",
              "      \n",
              "  <style>\n",
              "    .colab-df-container {\n",
              "      display:flex;\n",
              "      flex-wrap:wrap;\n",
              "      gap: 12px;\n",
              "    }\n",
              "\n",
              "    .colab-df-convert {\n",
              "      background-color: #E8F0FE;\n",
              "      border: none;\n",
              "      border-radius: 50%;\n",
              "      cursor: pointer;\n",
              "      display: none;\n",
              "      fill: #1967D2;\n",
              "      height: 32px;\n",
              "      padding: 0 0 0 0;\n",
              "      width: 32px;\n",
              "    }\n",
              "\n",
              "    .colab-df-convert:hover {\n",
              "      background-color: #E2EBFA;\n",
              "      box-shadow: 0px 1px 2px rgba(60, 64, 67, 0.3), 0px 1px 3px 1px rgba(60, 64, 67, 0.15);\n",
              "      fill: #174EA6;\n",
              "    }\n",
              "\n",
              "    [theme=dark] .colab-df-convert {\n",
              "      background-color: #3B4455;\n",
              "      fill: #D2E3FC;\n",
              "    }\n",
              "\n",
              "    [theme=dark] .colab-df-convert:hover {\n",
              "      background-color: #434B5C;\n",
              "      box-shadow: 0px 1px 3px 1px rgba(0, 0, 0, 0.15);\n",
              "      filter: drop-shadow(0px 1px 2px rgba(0, 0, 0, 0.3));\n",
              "      fill: #FFFFFF;\n",
              "    }\n",
              "  </style>\n",
              "\n",
              "      <script>\n",
              "        const buttonEl =\n",
              "          document.querySelector('#df-26f4ce8a-05f1-4472-9403-4c3ecae9ebfa button.colab-df-convert');\n",
              "        buttonEl.style.display =\n",
              "          google.colab.kernel.accessAllowed ? 'block' : 'none';\n",
              "\n",
              "        async function convertToInteractive(key) {\n",
              "          const element = document.querySelector('#df-26f4ce8a-05f1-4472-9403-4c3ecae9ebfa');\n",
              "          const dataTable =\n",
              "            await google.colab.kernel.invokeFunction('convertToInteractive',\n",
              "                                                     [key], {});\n",
              "          if (!dataTable) return;\n",
              "\n",
              "          const docLinkHtml = 'Like what you see? Visit the ' +\n",
              "            '<a target=\"_blank\" href=https://colab.research.google.com/notebooks/data_table.ipynb>data table notebook</a>'\n",
              "            + ' to learn more about interactive tables.';\n",
              "          element.innerHTML = '';\n",
              "          dataTable['output_type'] = 'display_data';\n",
              "          await google.colab.output.renderOutput(dataTable, element);\n",
              "          const docLink = document.createElement('div');\n",
              "          docLink.innerHTML = docLinkHtml;\n",
              "          element.appendChild(docLink);\n",
              "        }\n",
              "      </script>\n",
              "    </div>\n",
              "  </div>\n",
              "  "
            ]
          },
          "metadata": {},
          "execution_count": 9
        }
      ],
      "source": [
        "dataset"
      ]
    },
    {
      "cell_type": "code",
      "execution_count": 10,
      "metadata": {
        "id": "Bs0TVnKboIt7"
      },
      "outputs": [],
      "source": [
        "indexToId = dict(zip(dataset.index, dataset['id']))\n",
        "idToIndex = dict(zip(dataset['id'], dataset.index))"
      ]
    },
    {
      "cell_type": "code",
      "execution_count": 11,
      "metadata": {
        "colab": {
          "base_uri": "https://localhost:8080/"
        },
        "id": "HHTw-2JnoUkD",
        "outputId": "33f274ce-6a72-46e1-b803-f18c6fc12d45"
      },
      "outputs": [
        {
          "output_type": "execute_result",
          "data": {
            "text/plain": [
              "949"
            ]
          },
          "metadata": {},
          "execution_count": 11
        }
      ],
      "source": [
        "indexToId[0]"
      ]
    },
    {
      "cell_type": "code",
      "execution_count": 12,
      "metadata": {
        "id": "0haQ_ZQfocEf"
      },
      "outputs": [],
      "source": [
        "dataset.drop(columns = ['id'], inplace = True)"
      ]
    },
    {
      "cell_type": "markdown",
      "metadata": {
        "id": "1t8nVePeV9ZD"
      },
      "source": [
        "Standardlize the dataset by each column to mean of 0 and standard deviation of 1"
      ]
    },
    {
      "cell_type": "code",
      "execution_count": 13,
      "metadata": {
        "id": "RPDj7O4HJKz5"
      },
      "outputs": [],
      "source": [
        "from sklearn import preprocessing"
      ]
    },
    {
      "cell_type": "code",
      "execution_count": 14,
      "metadata": {
        "id": "ZtLdMonHKIrh"
      },
      "outputs": [],
      "source": [
        "dataset = preprocessing.scale(dataset)"
      ]
    },
    {
      "cell_type": "code",
      "execution_count": 15,
      "metadata": {
        "id": "f9WxSPJT_m2z"
      },
      "outputs": [],
      "source": [
        "len_features = dataset.shape[1]"
      ]
    },
    {
      "cell_type": "markdown",
      "metadata": {
        "id": "8LOrXg1Ep1zR"
      },
      "source": [
        "Test Transfrom Metadata Movies Dataframe to Tensor"
      ]
    },
    {
      "cell_type": "code",
      "execution_count": 16,
      "metadata": {
        "id": "lCdA5Bq2pSYm"
      },
      "outputs": [],
      "source": [
        "movies_tensor = torch.tensor(dataset, requires_grad= False)"
      ]
    },
    {
      "cell_type": "markdown",
      "metadata": {
        "id": "sgy1cJVkp4mH"
      },
      "source": [
        "Test Transform Ratings to Sparse Tensor"
      ]
    },
    {
      "cell_type": "code",
      "execution_count": 17,
      "metadata": {
        "id": "zfVG0vXlqeUg"
      },
      "outputs": [],
      "source": [
        "ratings_train[\"movieId\"] = ratings_train[\"movieId\"].apply(lambda x: idToIndex[x])"
      ]
    },
    {
      "cell_type": "code",
      "execution_count": 18,
      "metadata": {
        "id": "P0GDITByrarE"
      },
      "outputs": [],
      "source": [
        "ratings_test[\"movieId\"] = ratings_test[\"movieId\"].apply(lambda x: idToIndex[x])"
      ]
    },
    {
      "cell_type": "code",
      "execution_count": 19,
      "metadata": {
        "colab": {
          "base_uri": "https://localhost:8080/"
        },
        "id": "sK9aLxXEqZTJ",
        "outputId": "b9545a40-f5ed-4c18-83b0-0252a9bf379d"
      },
      "outputs": [
        {
          "output_type": "execute_result",
          "data": {
            "text/plain": [
              "False"
            ]
          },
          "metadata": {},
          "execution_count": 19
        }
      ],
      "source": [
        "len(ratings_train['userId'].unique()) == len(ratings_test['userId'].unique())"
      ]
    },
    {
      "cell_type": "code",
      "execution_count": 20,
      "metadata": {
        "id": "1FpqymVAsGIX"
      },
      "outputs": [],
      "source": [
        "ratings_train[\"userId\"] = ratings_train[\"userId\"].apply(lambda x: x - 1)\n",
        "ratings_test[\"userId\"] = ratings_test[\"userId\"].apply(lambda x: x - 1)"
      ]
    },
    {
      "cell_type": "code",
      "execution_count": 21,
      "metadata": {
        "colab": {
          "base_uri": "https://localhost:8080/",
          "height": 423
        },
        "id": "wBXdwLd1sZW9",
        "outputId": "7d1fa829-b40b-437f-f7e2-086440c6f12f"
      },
      "outputs": [
        {
          "output_type": "execute_result",
          "data": {
            "text/plain": [
              "       userId  movieId  rating\n",
              "0           0     1333     1.0\n",
              "1           0      522     4.0\n",
              "2           0      618     2.0\n",
              "3           0      835     2.0\n",
              "4           0     1614     2.5\n",
              "...       ...      ...     ...\n",
              "31793     670     1454     5.0\n",
              "31794     670      925     5.0\n",
              "31795     670     1969     4.0\n",
              "31796     670     1235     3.5\n",
              "31797     670      789     4.5\n",
              "\n",
              "[31798 rows x 3 columns]"
            ],
            "text/html": [
              "\n",
              "  <div id=\"df-106237a6-41cb-4f95-8a1e-0db0cc86055e\">\n",
              "    <div class=\"colab-df-container\">\n",
              "      <div>\n",
              "<style scoped>\n",
              "    .dataframe tbody tr th:only-of-type {\n",
              "        vertical-align: middle;\n",
              "    }\n",
              "\n",
              "    .dataframe tbody tr th {\n",
              "        vertical-align: top;\n",
              "    }\n",
              "\n",
              "    .dataframe thead th {\n",
              "        text-align: right;\n",
              "    }\n",
              "</style>\n",
              "<table border=\"1\" class=\"dataframe\">\n",
              "  <thead>\n",
              "    <tr style=\"text-align: right;\">\n",
              "      <th></th>\n",
              "      <th>userId</th>\n",
              "      <th>movieId</th>\n",
              "      <th>rating</th>\n",
              "    </tr>\n",
              "  </thead>\n",
              "  <tbody>\n",
              "    <tr>\n",
              "      <th>0</th>\n",
              "      <td>0</td>\n",
              "      <td>1333</td>\n",
              "      <td>1.0</td>\n",
              "    </tr>\n",
              "    <tr>\n",
              "      <th>1</th>\n",
              "      <td>0</td>\n",
              "      <td>522</td>\n",
              "      <td>4.0</td>\n",
              "    </tr>\n",
              "    <tr>\n",
              "      <th>2</th>\n",
              "      <td>0</td>\n",
              "      <td>618</td>\n",
              "      <td>2.0</td>\n",
              "    </tr>\n",
              "    <tr>\n",
              "      <th>3</th>\n",
              "      <td>0</td>\n",
              "      <td>835</td>\n",
              "      <td>2.0</td>\n",
              "    </tr>\n",
              "    <tr>\n",
              "      <th>4</th>\n",
              "      <td>0</td>\n",
              "      <td>1614</td>\n",
              "      <td>2.5</td>\n",
              "    </tr>\n",
              "    <tr>\n",
              "      <th>...</th>\n",
              "      <td>...</td>\n",
              "      <td>...</td>\n",
              "      <td>...</td>\n",
              "    </tr>\n",
              "    <tr>\n",
              "      <th>31793</th>\n",
              "      <td>670</td>\n",
              "      <td>1454</td>\n",
              "      <td>5.0</td>\n",
              "    </tr>\n",
              "    <tr>\n",
              "      <th>31794</th>\n",
              "      <td>670</td>\n",
              "      <td>925</td>\n",
              "      <td>5.0</td>\n",
              "    </tr>\n",
              "    <tr>\n",
              "      <th>31795</th>\n",
              "      <td>670</td>\n",
              "      <td>1969</td>\n",
              "      <td>4.0</td>\n",
              "    </tr>\n",
              "    <tr>\n",
              "      <th>31796</th>\n",
              "      <td>670</td>\n",
              "      <td>1235</td>\n",
              "      <td>3.5</td>\n",
              "    </tr>\n",
              "    <tr>\n",
              "      <th>31797</th>\n",
              "      <td>670</td>\n",
              "      <td>789</td>\n",
              "      <td>4.5</td>\n",
              "    </tr>\n",
              "  </tbody>\n",
              "</table>\n",
              "<p>31798 rows × 3 columns</p>\n",
              "</div>\n",
              "      <button class=\"colab-df-convert\" onclick=\"convertToInteractive('df-106237a6-41cb-4f95-8a1e-0db0cc86055e')\"\n",
              "              title=\"Convert this dataframe to an interactive table.\"\n",
              "              style=\"display:none;\">\n",
              "        \n",
              "  <svg xmlns=\"http://www.w3.org/2000/svg\" height=\"24px\"viewBox=\"0 0 24 24\"\n",
              "       width=\"24px\">\n",
              "    <path d=\"M0 0h24v24H0V0z\" fill=\"none\"/>\n",
              "    <path d=\"M18.56 5.44l.94 2.06.94-2.06 2.06-.94-2.06-.94-.94-2.06-.94 2.06-2.06.94zm-11 1L8.5 8.5l.94-2.06 2.06-.94-2.06-.94L8.5 2.5l-.94 2.06-2.06.94zm10 10l.94 2.06.94-2.06 2.06-.94-2.06-.94-.94-2.06-.94 2.06-2.06.94z\"/><path d=\"M17.41 7.96l-1.37-1.37c-.4-.4-.92-.59-1.43-.59-.52 0-1.04.2-1.43.59L10.3 9.45l-7.72 7.72c-.78.78-.78 2.05 0 2.83L4 21.41c.39.39.9.59 1.41.59.51 0 1.02-.2 1.41-.59l7.78-7.78 2.81-2.81c.8-.78.8-2.07 0-2.86zM5.41 20L4 18.59l7.72-7.72 1.47 1.35L5.41 20z\"/>\n",
              "  </svg>\n",
              "      </button>\n",
              "      \n",
              "  <style>\n",
              "    .colab-df-container {\n",
              "      display:flex;\n",
              "      flex-wrap:wrap;\n",
              "      gap: 12px;\n",
              "    }\n",
              "\n",
              "    .colab-df-convert {\n",
              "      background-color: #E8F0FE;\n",
              "      border: none;\n",
              "      border-radius: 50%;\n",
              "      cursor: pointer;\n",
              "      display: none;\n",
              "      fill: #1967D2;\n",
              "      height: 32px;\n",
              "      padding: 0 0 0 0;\n",
              "      width: 32px;\n",
              "    }\n",
              "\n",
              "    .colab-df-convert:hover {\n",
              "      background-color: #E2EBFA;\n",
              "      box-shadow: 0px 1px 2px rgba(60, 64, 67, 0.3), 0px 1px 3px 1px rgba(60, 64, 67, 0.15);\n",
              "      fill: #174EA6;\n",
              "    }\n",
              "\n",
              "    [theme=dark] .colab-df-convert {\n",
              "      background-color: #3B4455;\n",
              "      fill: #D2E3FC;\n",
              "    }\n",
              "\n",
              "    [theme=dark] .colab-df-convert:hover {\n",
              "      background-color: #434B5C;\n",
              "      box-shadow: 0px 1px 3px 1px rgba(0, 0, 0, 0.15);\n",
              "      filter: drop-shadow(0px 1px 2px rgba(0, 0, 0, 0.3));\n",
              "      fill: #FFFFFF;\n",
              "    }\n",
              "  </style>\n",
              "\n",
              "      <script>\n",
              "        const buttonEl =\n",
              "          document.querySelector('#df-106237a6-41cb-4f95-8a1e-0db0cc86055e button.colab-df-convert');\n",
              "        buttonEl.style.display =\n",
              "          google.colab.kernel.accessAllowed ? 'block' : 'none';\n",
              "\n",
              "        async function convertToInteractive(key) {\n",
              "          const element = document.querySelector('#df-106237a6-41cb-4f95-8a1e-0db0cc86055e');\n",
              "          const dataTable =\n",
              "            await google.colab.kernel.invokeFunction('convertToInteractive',\n",
              "                                                     [key], {});\n",
              "          if (!dataTable) return;\n",
              "\n",
              "          const docLinkHtml = 'Like what you see? Visit the ' +\n",
              "            '<a target=\"_blank\" href=https://colab.research.google.com/notebooks/data_table.ipynb>data table notebook</a>'\n",
              "            + ' to learn more about interactive tables.';\n",
              "          element.innerHTML = '';\n",
              "          dataTable['output_type'] = 'display_data';\n",
              "          await google.colab.output.renderOutput(dataTable, element);\n",
              "          const docLink = document.createElement('div');\n",
              "          docLink.innerHTML = docLinkHtml;\n",
              "          element.appendChild(docLink);\n",
              "        }\n",
              "      </script>\n",
              "    </div>\n",
              "  </div>\n",
              "  "
            ]
          },
          "metadata": {},
          "execution_count": 21
        }
      ],
      "source": [
        "ratings_train"
      ]
    },
    {
      "cell_type": "code",
      "execution_count": 22,
      "metadata": {
        "id": "1Cqd1dV5p1D0"
      },
      "outputs": [],
      "source": [
        "ratings_tensor = torch.sparse_coo_tensor([ratings_train['userId'], ratings_train['movieId']], ratings_train['rating'], (len_users, len_dataset))"
      ]
    },
    {
      "cell_type": "code",
      "execution_count": 23,
      "metadata": {
        "colab": {
          "base_uri": "https://localhost:8080/"
        },
        "id": "nemaEJj7tDai",
        "outputId": "42da52e9-04bc-4831-b48a-ba209d10b807"
      },
      "outputs": [
        {
          "output_type": "execute_result",
          "data": {
            "text/plain": [
              "tensor(0., dtype=torch.float64)"
            ]
          },
          "metadata": {},
          "execution_count": 23
        }
      ],
      "source": [
        "ratings_tensor[0][474]"
      ]
    },
    {
      "cell_type": "markdown",
      "metadata": {
        "id": "IaFwcoPGtQ9s"
      },
      "source": [
        "All works normally!\n",
        "\n",
        "Now we will put all those codes into one block"
      ]
    },
    {
      "cell_type": "code",
      "execution_count": 24,
      "metadata": {
        "id": "dPoOLXdiuEaI"
      },
      "outputs": [],
      "source": [
        "\"\"\"\n",
        "This codes convert dataset to Tensor data structure\n",
        "\"\"\"\n",
        "\n",
        "movies_tensor = torch.tensor(dataset, requires_grad= False)\n",
        "movies_tensor = torch.cat((movies_tensor, torch.ones(len_dataset, 1, dtype = torch.float64)), axis = 1)\n",
        "ratings_train_tensor = torch.sparse_coo_tensor([ratings_train['userId'],\\\n",
        "                                                     ratings_train['movieId']],\\\n",
        "                                                     ratings_train['rating'], (len_users, len_dataset))\n",
        "ratings_test_tensor = torch.sparse_coo_tensor([ratings_test['userId'],\\\n",
        "                                                     ratings_test['movieId']],\\\n",
        "                                                     ratings_test['rating'], (len_users, len_dataset))\n",
        "\n",
        "ratings_train_tensor = ratings_train_tensor.to_dense()\n",
        "ratings_test_tensor = ratings_test_tensor.to_dense()"
      ]
    },
    {
      "cell_type": "code",
      "execution_count": 25,
      "metadata": {
        "id": "l4xf3ae7ur7s"
      },
      "outputs": [],
      "source": [
        "from torch.autograd import Variable"
      ]
    },
    {
      "cell_type": "code",
      "execution_count": 26,
      "metadata": {
        "colab": {
          "base_uri": "https://localhost:8080/"
        },
        "id": "YQkPDoq4xlIt",
        "outputId": "ddfaaee0-fca5-4df7-f355-ce2f9be58f5f"
      },
      "outputs": [
        {
          "output_type": "execute_result",
          "data": {
            "text/plain": [
              "tensor(0., dtype=torch.float64)"
            ]
          },
          "metadata": {},
          "execution_count": 26
        }
      ],
      "source": [
        "ratings_train_tensor[0][474]"
      ]
    },
    {
      "cell_type": "markdown",
      "metadata": {
        "id": "0L0c6SXJv9WX"
      },
      "source": [
        "### Train"
      ]
    },
    {
      "cell_type": "markdown",
      "metadata": {
        "id": "9X53qYJbAfBa"
      },
      "source": [
        "We proposed a Regression Model for predicting Ratings\n",
        "\n",
        "To predict the rate from user model $U$ and movies profiles $M$:\n",
        "\n",
        "$U$ * $M^\\top$ = $\\hat{R}$ \n",
        "\n",
        "$L = MSE(\\hat{R}, R)$ for all movies that have rated \n",
        "\n",
        "Find the partial derivatives for matrix $U$ : $ \\dfrac{\\partial L}{\\partial U} $\n",
        "\n",
        "Update $U$ based on $ \\dfrac{\\partial L}{\\partial U} $"
      ]
    },
    {
      "cell_type": "markdown",
      "metadata": {
        "id": "V0Hk-5ctEfa2"
      },
      "source": [
        "To calculate derivatives, we use **Autograd** of ***Pytorch***"
      ]
    },
    {
      "cell_type": "code",
      "execution_count": 27,
      "metadata": {
        "colab": {
          "base_uri": "https://localhost:8080/",
          "height": 36
        },
        "id": "esuVsSYYL8C-",
        "outputId": "0717f23f-a3ae-4be9-f8da-bc2c8c8c728a"
      },
      "outputs": [
        {
          "output_type": "execute_result",
          "data": {
            "text/plain": [
              "'\\nAutograd example\\n'"
            ],
            "application/vnd.google.colaboratory.intrinsic+json": {
              "type": "string"
            }
          },
          "metadata": {},
          "execution_count": 27
        }
      ],
      "source": [
        "\"\"\"\n",
        "Autograd example\n",
        "\"\"\"\n",
        "# ratings_pred = torch.matmul(torch.cat((U, b), axis = 1), movies_tensor.T)\n",
        "# mask = ratings_train_tensor.bool()\n",
        "# nonzero_pred = ratings_pred.masked_select(mask)\n",
        "# nonzero_train = ratings_train_tensor.masked_select(mask)\n",
        "# loss = criterion(nonzero_pred, nonzero_train)\n",
        "# loss.backward()"
      ]
    },
    {
      "cell_type": "code",
      "execution_count": 28,
      "metadata": {
        "id": "2rkcb4C3ouo3"
      },
      "outputs": [],
      "source": [
        "U = Variable(torch.randn(len_users, len_features, dtype = torch.float64), requires_grad=True)\n",
        "b = Variable(torch.randn(len_users, 1, dtype = torch.float64), requires_grad=True)"
      ]
    },
    {
      "cell_type": "markdown",
      "metadata": {
        "id": "HUHgQL2eD95N"
      },
      "source": [
        "Here we use MSELoss (**Mean Square Error**)\n",
        "\n",
        "We also use this loss as metrics"
      ]
    },
    {
      "cell_type": "code",
      "execution_count": 29,
      "metadata": {
        "id": "m3oji6TMIC6g"
      },
      "outputs": [],
      "source": [
        "criterion = nn.MSELoss()\n",
        "optimizer = torch.optim.Adam([U], lr = 0.005)\n",
        "optimizer.add_param_group({'params': b, \"lr\": 0.005, \"weight_decay\": 0})"
      ]
    },
    {
      "cell_type": "code",
      "execution_count": 30,
      "metadata": {
        "id": "xJ_-m9TmLk0x"
      },
      "outputs": [],
      "source": [
        "from tqdm.notebook import tqdm"
      ]
    },
    {
      "cell_type": "code",
      "execution_count": 31,
      "metadata": {
        "id": "GMgm2bhOU4OM"
      },
      "outputs": [],
      "source": [
        "bestU = None\n",
        "bestb = None\n",
        "minLoss = 10e10"
      ]
    },
    {
      "cell_type": "markdown",
      "metadata": {
        "id": "IUx-KhHQVkda"
      },
      "source": [
        "First try 3001 loop without regulization, lr = 0.005"
      ]
    },
    {
      "cell_type": "code",
      "execution_count": 32,
      "metadata": {
        "colab": {
          "base_uri": "https://localhost:8080/",
          "height": 1000,
          "referenced_widgets": [
            "40e878e6253c4f4b8df8dcf9a6154270",
            "e599ed8b209145819b374acc5632453e",
            "10bf11ffa98b4e3db983996a1c2312f5",
            "2754049777b64696a792343cddb4183f",
            "e20c010704724632ae65fce3bee1227e",
            "a87f5641a4cc45e4b9680c4f39f10adb",
            "f7e37addf6634720951ecad54ff229b5",
            "7e09e24747c64b2ba9365f0a9a5824ea",
            "3dda87b7df3849b59c4dbbcf69be4435",
            "3c4a934113a04c1a90263772a5f344a5",
            "c290ae7d67cc4edcb909f16b6936107f"
          ]
        },
        "id": "Z6zLIEjrIG9l",
        "outputId": "a7a2e0d8-f891-4048-92d4-77ba4c0f9840"
      },
      "outputs": [
        {
          "output_type": "display_data",
          "data": {
            "text/plain": [
              "  0%|          | 0/3001 [00:00<?, ?it/s]"
            ],
            "application/vnd.jupyter.widget-view+json": {
              "version_major": 2,
              "version_minor": 0,
              "model_id": "40e878e6253c4f4b8df8dcf9a6154270"
            }
          },
          "metadata": {}
        },
        {
          "output_type": "stream",
          "name": "stdout",
          "text": [
            "Epoch: 0. Train Loss: 57.94051990855853. Valid Loss: 59.53860396708518.\n",
            "Epoch: 10. Train Loss: 51.30989605151483. Valid Loss: 54.49041156684292.\n",
            "Epoch: 20. Train Loss: 45.62669889126641. Valid Loss: 50.232474243308104.\n",
            "Epoch: 30. Train Loss: 40.80021164392678. Valid Loss: 46.670319478374516.\n",
            "Epoch: 40. Train Loss: 36.704896415868696. Valid Loss: 43.68167700022045.\n",
            "Epoch: 50. Train Loss: 33.21331884287731. Valid Loss: 41.151734138417545.\n",
            "Epoch: 60. Train Loss: 30.21288587662614. Valid Loss: 38.98748178912827.\n",
            "Epoch: 70. Train Loss: 27.611850015329335. Valid Loss: 37.11581993192499.\n",
            "Epoch: 80. Train Loss: 25.33791841228405. Valid Loss: 35.481261648057945.\n",
            "Epoch: 90. Train Loss: 23.33477468444814. Valid Loss: 34.04058814246482.\n",
            "Epoch: 100. Train Loss: 21.558411015694798. Valid Loss: 32.76043549457833.\n",
            "Epoch: 110. Train Loss: 19.974070277660584. Valid Loss: 31.615210146989842.\n",
            "Epoch: 120. Train Loss: 18.553929603633815. Valid Loss: 30.585027933662957.\n",
            "Epoch: 130. Train Loss: 17.27540050753626. Valid Loss: 29.65411018032669.\n",
            "Epoch: 140. Train Loss: 16.11990042775252. Valid Loss: 28.809684513352348.\n",
            "Epoch: 150. Train Loss: 15.071962104499466. Valid Loss: 28.0412151971654.\n",
            "Epoch: 160. Train Loss: 14.11858254774496. Valid Loss: 27.339818092164553.\n",
            "Epoch: 170. Train Loss: 13.248738088933777. Valid Loss: 26.697931327428808.\n",
            "Epoch: 180. Train Loss: 12.453015108078286. Valid Loss: 26.10903022167745.\n",
            "Epoch: 190. Train Loss: 11.723323092521348. Valid Loss: 25.567450275418707.\n",
            "Epoch: 200. Train Loss: 11.052668112821328. Valid Loss: 25.068273899662255.\n",
            "Epoch: 210. Train Loss: 10.434971937779798. Valid Loss: 24.607214692751466.\n",
            "Epoch: 220. Train Loss: 9.8649263323177. Valid Loss: 24.180510672708586.\n",
            "Epoch: 230. Train Loss: 9.33787481595334. Valid Loss: 23.784843373820856.\n",
            "Epoch: 240. Train Loss: 8.849716030299605. Valid Loss: 23.417278518417.\n",
            "Epoch: 250. Train Loss: 8.396824210398327. Valid Loss: 23.075213877725435.\n",
            "Epoch: 260. Train Loss: 7.97598326478043. Valid Loss: 22.756335544686053.\n",
            "Epoch: 270. Train Loss: 7.5843317457068276. Valid Loss: 22.45858047511749.\n",
            "Epoch: 280. Train Loss: 7.219316592576712. Valid Loss: 22.18010659640559.\n",
            "Epoch: 290. Train Loss: 6.878653991774487. Valid Loss: 21.919255389783526.\n",
            "Epoch: 300. Train Loss: 6.56029606784653. Valid Loss: 21.67455153474256.\n",
            "Epoch: 310. Train Loss: 6.262402366688747. Valid Loss: 21.444655440438503.\n",
            "Epoch: 320. Train Loss: 5.983315339005582. Valid Loss: 21.22836795462605.\n",
            "Epoch: 330. Train Loss: 5.721539160405577. Valid Loss: 21.024604076387934.\n",
            "Epoch: 340. Train Loss: 5.475721369700568. Valid Loss: 20.83238217683392.\n",
            "Epoch: 350. Train Loss: 5.244636893713134. Valid Loss: 20.650814911562964.\n",
            "Epoch: 360. Train Loss: 5.027174106125799. Valid Loss: 20.479097793808.\n",
            "Epoch: 370. Train Loss: 4.822322626535149. Valid Loss: 20.316499885125367.\n",
            "Epoch: 380. Train Loss: 4.629162614178753. Valid Loss: 20.16235738405163.\n",
            "Epoch: 390. Train Loss: 4.446855349690038. Valid Loss: 20.016065718936005.\n",
            "Epoch: 400. Train Loss: 4.274634930153299. Valid Loss: 19.877074176756214.\n",
            "Epoch: 410. Train Loss: 4.111800929145421. Valid Loss: 19.74488011368932.\n",
            "Epoch: 420. Train Loss: 3.957711895453551. Valid Loss: 19.619024344924338.\n",
            "Epoch: 430. Train Loss: 3.811779582588064. Valid Loss: 19.499086798222255.\n",
            "Epoch: 440. Train Loss: 3.6734638167076197. Valid Loss: 19.384682664959264.\n",
            "Epoch: 450. Train Loss: 3.5422679236427097. Valid Loss: 19.27545898191284.\n",
            "Epoch: 460. Train Loss: 3.4177346467506124. Valid Loss: 19.171091550234475.\n",
            "Epoch: 470. Train Loss: 3.2994424966896134. Valid Loss: 19.0712821738386.\n",
            "Epoch: 480. Train Loss: 3.187002482137415. Valid Loss: 18.975756184566457.\n",
            "Epoch: 490. Train Loss: 3.0800551772261926. Valid Loss: 18.884260221822412.\n",
            "Epoch: 500. Train Loss: 2.978268087215447. Valid Loss: 18.796560239983652.\n",
            "Epoch: 510. Train Loss: 2.8813332788336257. Valid Loss: 18.71243971996887.\n",
            "Epoch: 520. Train Loss: 2.788965245924052. Valid Loss: 18.631698063720563.\n",
            "Epoch: 530. Train Loss: 2.700898984641847. Valid Loss: 18.554149153008932.\n",
            "Epoch: 540. Train Loss: 2.6168882555595347. Valid Loss: 18.479620055365746.\n",
            "Epoch: 550. Train Loss: 2.5367040127276246. Valid Loss: 18.407949861161526.\n",
            "Epoch: 560. Train Loss: 2.460132982067469. Valid Loss: 18.338988639179313.\n",
            "Epoch: 570. Train Loss: 2.386976373500957. Valid Loss: 18.272596497338125.\n",
            "Epoch: 580. Train Loss: 2.317048712990169. Valid Loss: 18.20864273782434.\n",
            "Epoch: 590. Train Loss: 2.250176782207412. Valid Loss: 18.147005092953187.\n",
            "Epoch: 600. Train Loss: 2.1861986549177375. Valid Loss: 18.08756884803625.\n",
            "Epoch: 610. Train Loss: 2.12496282033931. Valid Loss: 18.030226840043444.\n",
            "Epoch: 620. Train Loss: 2.0663273849354176. Valid Loss: 17.974880159016553.\n",
            "Epoch: 630. Train Loss: 2.010159343946959. Valid Loss: 17.921428269315943.\n",
            "Epoch: 640. Train Loss: 1.956333918514735. Valid Loss: 17.86978939888773.\n",
            "Epoch: 650. Train Loss: 1.9047339479323304. Valid Loss: 17.819874070127245.\n",
            "Epoch: 660. Train Loss: 1.8552493351979236. Valid Loss: 17.771606544425385.\n",
            "Epoch: 670. Train Loss: 1.8077765391426546. Valid Loss: 17.72491018598827.\n",
            "Epoch: 680. Train Loss: 1.7622181090259792. Valid Loss: 17.67971576871415.\n",
            "Epoch: 690. Train Loss: 1.718482257614469. Valid Loss: 17.635956160384033.\n",
            "Epoch: 700. Train Loss: 1.6764824691496514. Valid Loss: 17.59356863904062.\n",
            "Epoch: 710. Train Loss: 1.636137138978414. Valid Loss: 17.55249377683705.\n",
            "Epoch: 720. Train Loss: 1.5973692419436447. Valid Loss: 17.512675170190654.\n",
            "Epoch: 730. Train Loss: 1.560106026925064. Valid Loss: 17.474059523773978.\n",
            "Epoch: 740. Train Loss: 1.52427873518171. Valid Loss: 17.436596332311602.\n",
            "Epoch: 750. Train Loss: 1.4898223403780797. Valid Loss: 17.400237698198694.\n",
            "Epoch: 760. Train Loss: 1.4566753083854078. Valid Loss: 17.364938201157415.\n",
            "Epoch: 770. Train Loss: 1.4247793751357145. Valid Loss: 17.330654753274814.\n",
            "Epoch: 780. Train Loss: 1.3940793409734222. Valid Loss: 17.29734645972281.\n",
            "Epoch: 790. Train Loss: 1.364522880099025. Valid Loss: 17.26497449184278.\n",
            "Epoch: 800. Train Loss: 1.3360603638335378. Valid Loss: 17.23350196975619.\n",
            "Epoch: 810. Train Loss: 1.3086446965528382. Valid Loss: 17.2028938525157.\n",
            "Epoch: 820. Train Loss: 1.2822311632492844. Valid Loss: 17.173116824967725.\n",
            "Epoch: 830. Train Loss: 1.256777291690722. Valid Loss: 17.144138042926905.\n",
            "Epoch: 840. Train Loss: 1.2322427021087208. Valid Loss: 17.115930365170275.\n",
            "Epoch: 850. Train Loss: 1.2085890176976455. Valid Loss: 17.088463203458623.\n",
            "Epoch: 860. Train Loss: 1.1857797434527393. Valid Loss: 17.061715519613333.\n",
            "Epoch: 870. Train Loss: 1.163780062015015. Valid Loss: 17.035641079984725.\n",
            "Epoch: 880. Train Loss: 1.142556946310856. Valid Loss: 17.0102404207225.\n",
            "Epoch: 890. Train Loss: 1.1220788507763646. Valid Loss: 16.98547320506623.\n",
            "Epoch: 900. Train Loss: 1.1023157427636165. Valid Loss: 16.96132492824024.\n",
            "Epoch: 910. Train Loss: 1.0832389821347597. Valid Loss: 16.937773063352754.\n",
            "Epoch: 920. Train Loss: 1.0648212563602217. Valid Loss: 16.91479499326705.\n",
            "Epoch: 930. Train Loss: 1.04703650548787. Valid Loss: 16.892372424334383.\n",
            "Epoch: 940. Train Loss: 1.0298598555052882. Valid Loss: 16.87048720701675.\n",
            "Epoch: 950. Train Loss: 1.01326755559132. Valid Loss: 16.84912087208216.\n",
            "Epoch: 960. Train Loss: 0.9972369189682802. Valid Loss: 16.828256818071424.\n",
            "Epoch: 970. Train Loss: 0.9817462679767507. Valid Loss: 16.807876560618197.\n",
            "Epoch: 980. Train Loss: 0.9667748798722496. Valid Loss: 16.787970045557262.\n",
            "Epoch: 990. Train Loss: 0.9523029415106908. Valid Loss: 16.76852021641607.\n",
            "Epoch: 1000. Train Loss: 0.9383115012063713. Valid Loss: 16.749509689200014.\n",
            "Epoch: 1010. Train Loss: 0.9247824239080255. Valid Loss: 16.73092710646202.\n",
            "Epoch: 1020. Train Loss: 0.9116983522555989. Valid Loss: 16.71276356986422.\n",
            "Epoch: 1030. Train Loss: 0.8990426695902959. Valid Loss: 16.69499867651056.\n",
            "Epoch: 1040. Train Loss: 0.8867994609875591. Valid Loss: 16.677626036016253.\n",
            "Epoch: 1050. Train Loss: 0.8749534796263593. Valid Loss: 16.66063338680062.\n",
            "Epoch: 1060. Train Loss: 0.8634901153646053. Valid Loss: 16.644008661868778.\n",
            "Epoch: 1070. Train Loss: 0.8523953638766552. Valid Loss: 16.62774229886419.\n",
            "Epoch: 1080. Train Loss: 0.8416557979006459. Valid Loss: 16.611824132138523.\n",
            "Epoch: 1090. Train Loss: 0.8312585400976551. Valid Loss: 16.59624422699416.\n",
            "Epoch: 1100. Train Loss: 0.8211912373454007. Valid Loss: 16.580993553980726.\n",
            "Epoch: 1110. Train Loss: 0.8114420364355592. Valid Loss: 16.56606309430926.\n",
            "Epoch: 1120. Train Loss: 0.8019995610769067. Valid Loss: 16.551444321530887.\n",
            "Epoch: 1130. Train Loss: 0.7928528901216563. Valid Loss: 16.537128985875494.\n",
            "Epoch: 1140. Train Loss: 0.7839915369410576. Valid Loss: 16.523109164811853.\n",
            "Epoch: 1150. Train Loss: 0.7754054298806379. Valid Loss: 16.509377234054217.\n",
            "Epoch: 1160. Train Loss: 0.7670848937300209. Valid Loss: 16.495925854002785.\n",
            "Epoch: 1170. Train Loss: 0.7590206321466431. Valid Loss: 16.482747953223168.\n",
            "Epoch: 1180. Train Loss: 0.7512037109767437. Valid Loss: 16.469836723376947.\n",
            "Epoch: 1190. Train Loss: 0.7436255424207523. Valid Loss: 16.457185598854768.\n",
            "Epoch: 1200. Train Loss: 0.7362778699936774. Valid Loss: 16.444788253017343.\n",
            "Epoch: 1210. Train Loss: 0.7291527542343427. Valid Loss: 16.43263858335533.\n",
            "Epoch: 1220. Train Loss: 0.7222425591203187. Valid Loss: 16.420730702972378.\n",
            "Epoch: 1230. Train Loss: 0.7155399391481947. Valid Loss: 16.409058931482278.\n",
            "Epoch: 1240. Train Loss: 0.7090378270414388. Valid Loss: 16.397617785627105.\n",
            "Epoch: 1250. Train Loss: 0.7027294220505097. Valid Loss: 16.38640197099741.\n",
            "Epoch: 1260. Train Loss: 0.6966081788121388. Valid Loss: 16.375406374087774.\n",
            "Epoch: 1270. Train Loss: 0.6906677967368006. Valid Loss: 16.364626054739848.\n",
            "Epoch: 1280. Train Loss: 0.6849022098953332. Valid Loss: 16.35405623892105.\n",
            "Epoch: 1290. Train Loss: 0.6793055773775034. Valid Loss: 16.343692311917835.\n",
            "Epoch: 1300. Train Loss: 0.6738722740969912. Valid Loss: 16.3335298118548.\n",
            "Epoch: 1310. Train Loss: 0.6685968820188647. Valid Loss: 16.323564423532897.\n",
            "Epoch: 1320. Train Loss: 0.6634741817870743. Valid Loss: 16.313791972556892.\n",
            "Epoch: 1330. Train Loss: 0.6584991447308828. Valid Loss: 16.30420841974737.\n",
            "Epoch: 1340. Train Loss: 0.6536669252304201. Valid Loss: 16.294809855797673.\n",
            "Epoch: 1350. Train Loss: 0.648972853422752. Valid Loss: 16.28559249591291.\n",
            "Epoch: 1360. Train Loss: 0.6444124282309726. Valid Loss: 16.276552668394054.\n",
            "Epoch: 1370. Train Loss: 0.639981310704615. Valid Loss: 16.267686599988846.\n",
            "Epoch: 1380. Train Loss: 0.6356753182432565. Valid Loss: 16.258988738526558.\n",
            "Epoch: 1390. Train Loss: 0.6314904207217674. Valid Loss: 16.250461866730685.\n",
            "Epoch: 1400. Train Loss: 0.6274227194847417. Valid Loss: 16.242096665618536.\n",
            "Epoch: 1410. Train Loss: 0.6234684650334618. Valid Loss: 16.23389525217456.\n",
            "Epoch: 1420. Train Loss: 0.6196240435883734. Valid Loss: 16.22585136464161.\n",
            "Epoch: 1430. Train Loss: 0.6158859629158332. Valid Loss: 16.21796010569937.\n",
            "Epoch: 1440. Train Loss: 0.612250854844116. Valid Loss: 16.210222298022142.\n",
            "Epoch: 1450. Train Loss: 0.6087154702812967. Valid Loss: 16.20263205018025.\n",
            "Epoch: 1460. Train Loss: 0.6052766699427499. Valid Loss: 16.195190283418395.\n",
            "Epoch: 1470. Train Loss: 0.6019314300110643. Valid Loss: 16.187891259194334.\n",
            "Epoch: 1480. Train Loss: 0.5986768279500285. Valid Loss: 16.180734095356755.\n",
            "Epoch: 1490. Train Loss: 0.5955100431754498. Valid Loss: 16.173715911461823.\n",
            "Epoch: 1500. Train Loss: 0.5924283526720876. Valid Loss: 16.166833964588577.\n",
            "Epoch: 1510. Train Loss: 0.5894291278144869. Valid Loss: 16.160086214461888.\n",
            "Epoch: 1520. Train Loss: 0.5865098285566711. Valid Loss: 16.153471313415082.\n",
            "Epoch: 1530. Train Loss: 0.58366800343209. Valid Loss: 16.146985273366454.\n",
            "Epoch: 1540. Train Loss: 0.580901284464494. Valid Loss: 16.140626974773188.\n",
            "Epoch: 1550. Train Loss: 0.5782073831981444. Valid Loss: 16.134394923981514.\n",
            "Epoch: 1560. Train Loss: 0.575584089583612. Valid Loss: 16.128286058139967.\n",
            "Epoch: 1570. Train Loss: 0.5730292691830361. Valid Loss: 16.12229671681215.\n",
            "Epoch: 1580. Train Loss: 0.5705408552311081. Valid Loss: 16.11643117466317.\n",
            "Epoch: 1590. Train Loss: 0.5681168564854465. Valid Loss: 16.110680414067474.\n",
            "Epoch: 1600. Train Loss: 0.5657553446524424. Valid Loss: 16.105046865335783.\n",
            "Epoch: 1610. Train Loss: 0.5634544565629813. Valid Loss: 16.099526893277677.\n",
            "Epoch: 1620. Train Loss: 0.5612123911182021. Valid Loss: 16.094119713965988.\n",
            "Epoch: 1630. Train Loss: 0.5590274069825075. Valid Loss: 16.08882320796796.\n",
            "Epoch: 1640. Train Loss: 0.5568978204145374. Valid Loss: 16.083635850017306.\n",
            "Epoch: 1650. Train Loss: 0.554822003184939. Valid Loss: 16.078556095484185.\n",
            "Epoch: 1660. Train Loss: 0.5527983805746216. Valid Loss: 16.073582249765202.\n",
            "Epoch: 1670. Train Loss: 0.5508254294499668. Valid Loss: 16.068712908240244.\n",
            "Epoch: 1680. Train Loss: 0.5489016764119817. Valid Loss: 16.06394650810208.\n",
            "Epoch: 1690. Train Loss: 0.5470256966382132. Valid Loss: 16.05928212478515.\n",
            "Epoch: 1700. Train Loss: 0.545196109249895. Valid Loss: 16.054717053099164.\n",
            "Epoch: 1710. Train Loss: 0.5434115810097422. Valid Loss: 16.050250458704177.\n",
            "Epoch: 1720. Train Loss: 0.541670820183957. Valid Loss: 16.045881987781197.\n",
            "Epoch: 1730. Train Loss: 0.5399725764019011. Valid Loss: 16.04160876322633.\n",
            "Epoch: 1740. Train Loss: 0.53831563965894. Valid Loss: 16.037430833090493.\n",
            "Epoch: 1750. Train Loss: 0.5366988385144492. Valid Loss: 16.033345926293787.\n",
            "Epoch: 1760. Train Loss: 0.5351210387282984. Valid Loss: 16.029353332983273.\n",
            "Epoch: 1770. Train Loss: 0.5335811420115135. Valid Loss: 16.025451632524934.\n",
            "Epoch: 1780. Train Loss: 0.5320780852582373. Valid Loss: 16.02164084972855.\n",
            "Epoch: 1790. Train Loss: 0.5306108496751514. Valid Loss: 16.017912254076393.\n",
            "Epoch: 1800. Train Loss: 0.5291784014558468. Valid Loss: 16.014279349991437.\n",
            "Epoch: 1810. Train Loss: 0.5277798102683668. Valid Loss: 16.010730340586246.\n",
            "Epoch: 1820. Train Loss: 0.5264141271178072. Valid Loss: 16.007266039187297.\n",
            "Epoch: 1830. Train Loss: 0.5250804447990184. Valid Loss: 16.00388417639527.\n",
            "Epoch: 1840. Train Loss: 0.5237778844045846. Valid Loss: 16.000586919669583.\n",
            "Epoch: 1850. Train Loss: 0.5225055936327263. Valid Loss: 15.997371054223473.\n",
            "Epoch: 1860. Train Loss: 0.521262746309713. Valid Loss: 15.99423609808726.\n",
            "Epoch: 1870. Train Loss: 0.5200485416332971. Valid Loss: 15.991180754855156.\n",
            "Epoch: 1880. Train Loss: 0.5188622217011373. Valid Loss: 15.988199930937254.\n",
            "Epoch: 1890. Train Loss: 0.5177029823522031. Valid Loss: 15.9853044138185.\n",
            "Epoch: 1900. Train Loss: 0.516570142267887. Valid Loss: 15.982488578682496.\n",
            "Epoch: 1910. Train Loss: 0.515462975513335. Valid Loss: 15.979735349652664.\n",
            "Epoch: 1920. Train Loss: 0.5143807958905467. Valid Loss: 15.977068340152291.\n",
            "Epoch: 1930. Train Loss: 0.5133229440283957. Valid Loss: 15.974470128406686.\n",
            "Epoch: 1940. Train Loss: 0.5122887736946783. Valid Loss: 15.971948846120728.\n",
            "Epoch: 1950. Train Loss: 0.5112776427948966. Valid Loss: 15.969496002562549.\n",
            "Epoch: 1960. Train Loss: 0.510288956763534. Valid Loss: 15.967116012417812.\n",
            "Epoch: 1970. Train Loss: 0.5093221234239111. Valid Loss: 15.964806722955917.\n",
            "Epoch: 1980. Train Loss: 0.5083765690941788. Valid Loss: 15.962566423216066.\n",
            "Epoch: 1990. Train Loss: 0.5074517373947556. Valid Loss: 15.960395351975757.\n",
            "Epoch: 2000. Train Loss: 0.5065470884610072. Valid Loss: 15.958293645564083.\n",
            "Epoch: 2010. Train Loss: 0.5056620981777017. Valid Loss: 15.956252654505773.\n",
            "Epoch: 2020. Train Loss: 0.5047962600846684. Valid Loss: 15.954287935533133.\n",
            "Epoch: 2030. Train Loss: 0.5039490785646477. Valid Loss: 15.952379374853352.\n",
            "Epoch: 2040. Train Loss: 0.5031200638621738. Valid Loss: 15.950540824316198.\n",
            "Epoch: 2050. Train Loss: 0.502308764220913. Valid Loss: 15.948764780821316.\n",
            "Epoch: 2060. Train Loss: 0.5015147219616812. Valid Loss: 15.947051020593808.\n",
            "Epoch: 2070. Train Loss: 0.500737497105357. Valid Loss: 15.94540067357604.\n",
            "Epoch: 2080. Train Loss: 0.49997666244168865. Valid Loss: 15.943810942663331.\n",
            "Epoch: 2090. Train Loss: 0.49923180407359447. Valid Loss: 15.942284311465615.\n",
            "Epoch: 2100. Train Loss: 0.49850251568523435. Valid Loss: 15.940814963259735.\n",
            "Epoch: 2110. Train Loss: 0.4977884072868316. Valid Loss: 15.939404452739627.\n",
            "Epoch: 2120. Train Loss: 0.4970890983921884. Valid Loss: 15.93805353905382.\n",
            "Epoch: 2130. Train Loss: 0.49640421990038813. Valid Loss: 15.936761704668482.\n",
            "Epoch: 2140. Train Loss: 0.49573340776286495. Valid Loss: 15.935525253582304.\n",
            "Epoch: 2150. Train Loss: 0.49507631475972197. Valid Loss: 15.934345421037511.\n",
            "Epoch: 2160. Train Loss: 0.49443260143050893. Valid Loss: 15.933221854883243.\n",
            "Epoch: 2170. Train Loss: 0.49380193636124275. Valid Loss: 15.932152886278189.\n",
            "Epoch: 2180. Train Loss: 0.49318399799898194. Valid Loss: 15.931138677993646.\n",
            "Epoch: 2190. Train Loss: 0.4925784737666471. Valid Loss: 15.930176745890346.\n",
            "Epoch: 2200. Train Loss: 0.4919850597536832. Valid Loss: 15.929272530668865.\n",
            "Epoch: 2210. Train Loss: 0.49140345921842016. Valid Loss: 15.928415805128493.\n",
            "Epoch: 2220. Train Loss: 0.490833385467742. Valid Loss: 15.927610488238768.\n",
            "Epoch: 2230. Train Loss: 0.4902745584975141. Valid Loss: 15.92685770494588.\n",
            "Epoch: 2240. Train Loss: 0.48972670598104884. Valid Loss: 15.9261558729466.\n",
            "Epoch: 2250. Train Loss: 0.4891895631099966. Valid Loss: 15.925503293322071.\n",
            "Epoch: 2260. Train Loss: 0.4886628721874383. Valid Loss: 15.924899593133336.\n",
            "Epoch: 2270. Train Loss: 0.48814638249454606. Valid Loss: 15.924344470418603.\n",
            "Epoch: 2280. Train Loss: 0.48763985005073085. Valid Loss: 15.923837296922054.\n",
            "Epoch: 2290. Train Loss: 0.48714303807929793. Valid Loss: 15.923377489588523.\n",
            "Epoch: 2300. Train Loss: 0.4866557135712716. Valid Loss: 15.922964106690326.\n",
            "Epoch: 2310. Train Loss: 0.48617765381648137. Valid Loss: 15.922596956384004.\n",
            "Epoch: 2320. Train Loss: 0.48570863861654767. Valid Loss: 15.922275092355813.\n",
            "Epoch: 2330. Train Loss: 0.4852484553498801. Valid Loss: 15.921998263773565.\n",
            "Epoch: 2340. Train Loss: 0.4847968965795378. Valid Loss: 15.921765630940895.\n",
            "Epoch: 2350. Train Loss: 0.4843537603453178. Valid Loss: 15.921576777161679.\n",
            "Epoch: 2360. Train Loss: 0.48391885003746465. Valid Loss: 15.92143104672042.\n",
            "Epoch: 2370. Train Loss: 0.48349197438212016. Valid Loss: 15.921328082023138.\n",
            "Epoch: 2380. Train Loss: 0.4830729533951677. Valid Loss: 15.921267909444442.\n",
            "Epoch: 2390. Train Loss: 0.482661594465338. Valid Loss: 15.921243745967914.\n",
            "Epoch: 2400. Train Loss: 0.4822577235554528. Valid Loss: 15.921273441066663.\n",
            "Epoch: 2410. Train Loss: 0.48186116189584594. Valid Loss: 15.92132876096624.\n",
            "Epoch: 2420. Train Loss: 0.48147175815649135. Valid Loss: 15.921431100797816.\n",
            "Epoch: 2430. Train Loss: 0.4810893438755648. Valid Loss: 15.921575601257542.\n",
            "Epoch: 2440. Train Loss: 0.48071375341825234. Valid Loss: 15.921751622102587.\n",
            "Epoch: 2450. Train Loss: 0.48034483920584936. Valid Loss: 15.92197176550525.\n",
            "Epoch: 2460. Train Loss: 0.4799824450012142. Valid Loss: 15.922225488159333.\n",
            "Epoch: 2470. Train Loss: 0.47962644734374654. Valid Loss: 15.922513646538697.\n",
            "Epoch: 2480. Train Loss: 0.47927664257212105. Valid Loss: 15.92284758152678.\n",
            "Epoch: 2490. Train Loss: 0.4789329486804768. Valid Loss: 15.923216527983106.\n",
            "Epoch: 2500. Train Loss: 0.47859521101565344. Valid Loss: 15.923615881345102.\n",
            "Epoch: 2510. Train Loss: 0.4782633106301324. Valid Loss: 15.924054564726067.\n",
            "Epoch: 2520. Train Loss: 0.47793708355275233. Valid Loss: 15.924525651083371.\n",
            "Epoch: 2530. Train Loss: 0.47761643357298206. Valid Loss: 15.925032598178023.\n",
            "Epoch: 2540. Train Loss: 0.47730123039816386. Valid Loss: 15.925572615040846.\n",
            "Epoch: 2550. Train Loss: 0.47699135583359215. Valid Loss: 15.926146141818972.\n",
            "Epoch: 2560. Train Loss: 0.47668670034462696. Valid Loss: 15.926751867308452.\n",
            "Epoch: 2570. Train Loss: 0.476387127576298. Valid Loss: 15.927391628263372.\n",
            "Epoch: 2580. Train Loss: 0.4760925498580938. Valid Loss: 15.928063154247608.\n",
            "Epoch: 2590. Train Loss: 0.47580285152952495. Valid Loss: 15.928765508609079.\n",
            "Epoch: 2600. Train Loss: 0.4755179270792007. Valid Loss: 15.929498611194324.\n",
            "Epoch: 2610. Train Loss: 0.47523767623513374. Valid Loss: 15.930262346321799.\n",
            "Epoch: 2620. Train Loss: 0.47496199413822476. Valid Loss: 15.93105784949291.\n",
            "Epoch: 2630. Train Loss: 0.47469078871683534. Valid Loss: 15.93188139813188.\n",
            "Epoch: 2640. Train Loss: 0.47442396309635587. Valid Loss: 15.932739013604092.\n",
            "Epoch: 2650. Train Loss: 0.47416142536929906. Valid Loss: 15.93362115854309.\n",
            "Epoch: 2660. Train Loss: 0.4739030851848635. Valid Loss: 15.93453087548875.\n",
            "Epoch: 2670. Train Loss: 0.47364885474633023. Valid Loss: 15.935477815114572.\n",
            "Epoch: 2680. Train Loss: 0.47339864749667004. Valid Loss: 15.936438989891203.\n",
            "Epoch: 2690. Train Loss: 0.47315238067385545. Valid Loss: 15.937436673982328.\n",
            "Epoch: 2700. Train Loss: 0.47290997252760025. Valid Loss: 15.93845834822401.\n",
            "Epoch: 2710. Train Loss: 0.47267134352263135. Valid Loss: 15.939507438863208.\n",
            "Epoch: 2720. Train Loss: 0.472436418628564. Valid Loss: 15.940582082452027.\n",
            "Epoch: 2730. Train Loss: 0.4722051158820663. Valid Loss: 15.94168326262752.\n",
            "Epoch: 2740. Train Loss: 0.4719773654124536. Valid Loss: 15.942810906730461.\n",
            "Epoch: 2750. Train Loss: 0.47175309635357987. Valid Loss: 15.943962566657861.\n",
            "Epoch: 2760. Train Loss: 0.47153223735531036. Valid Loss: 15.945139202500691.\n",
            "Epoch: 2770. Train Loss: 0.4713147259364194. Valid Loss: 15.9463368893318.\n",
            "Epoch: 2780. Train Loss: 0.47110047992698734. Valid Loss: 15.947563176181713.\n",
            "Epoch: 2790. Train Loss: 0.4708894449025897. Valid Loss: 15.948816011268546.\n",
            "Epoch: 2800. Train Loss: 0.47068155813640866. Valid Loss: 15.950084896818273.\n",
            "Epoch: 2810. Train Loss: 0.470476765271221. Valid Loss: 15.951387185427032.\n",
            "Epoch: 2820. Train Loss: 0.4702749760364156. Valid Loss: 15.952698307468944.\n",
            "Epoch: 2830. Train Loss: 0.47007615847858714. Valid Loss: 15.954042241475836.\n",
            "Epoch: 2840. Train Loss: 0.46988024887852303. Valid Loss: 15.955403041270836.\n",
            "Epoch: 2850. Train Loss: 0.4696871929529421. Valid Loss: 15.956788591949223.\n",
            "Epoch: 2860. Train Loss: 0.46949692728585823. Valid Loss: 15.95819436456871.\n",
            "Epoch: 2870. Train Loss: 0.46930941090214723. Valid Loss: 15.95962467761536.\n",
            "Epoch: 2880. Train Loss: 0.4691245719693699. Valid Loss: 15.961067897895722.\n",
            "Epoch: 2890. Train Loss: 0.46894237886619644. Valid Loss: 15.962534719313306.\n",
            "Epoch: 2900. Train Loss: 0.46876277175424697. Valid Loss: 15.964025802041789.\n",
            "Epoch: 2910. Train Loss: 0.4685857051962776. Valid Loss: 15.965533729201004.\n",
            "Epoch: 2920. Train Loss: 0.46841113461930634. Valid Loss: 15.96706380484426.\n",
            "Epoch: 2930. Train Loss: 0.46823901229496384. Valid Loss: 15.968607578815076.\n",
            "Epoch: 2940. Train Loss: 0.4680692759649761. Valid Loss: 15.970175615171506.\n",
            "Epoch: 2950. Train Loss: 0.46790190276894833. Valid Loss: 15.971759787830802.\n",
            "Epoch: 2960. Train Loss: 0.46773684117120445. Valid Loss: 15.973362908078581.\n",
            "Epoch: 2970. Train Loss: 0.4675740508642947. Valid Loss: 15.974985436394245.\n",
            "Epoch: 2980. Train Loss: 0.46741348999212307. Valid Loss: 15.976624670013369.\n",
            "Epoch: 2990. Train Loss: 0.4672551183386295. Valid Loss: 15.978282142308057.\n",
            "Epoch: 3000. Train Loss: 0.4670988950841327. Valid Loss: 15.979957138846167.\n"
          ]
        }
      ],
      "source": [
        "EPOCH = 3001\n",
        "trainLoss = []\n",
        "testLoss = []\n",
        "testEp = []\n",
        "for ep in tqdm(range(EPOCH)):\n",
        "    optimizer.zero_grad()\n",
        "    ratings_pred = torch.matmul(torch.cat((U, b), axis = 1), movies_tensor.T)\n",
        "    mask = ratings_train_tensor.bool()\n",
        "    nonzero_pred = ratings_pred.masked_select(mask)\n",
        "    nonzero_train = ratings_train_tensor.masked_select(mask)\n",
        "    loss = criterion(nonzero_pred, nonzero_train)\n",
        "    loss.backward()\n",
        "    optimizer.step()\n",
        "    trainLoss.append(loss.item())\n",
        "    if ep % 10 == 0:\n",
        "      testEp.append(ep)\n",
        "      mask = ratings_test_tensor.bool()\n",
        "      nonzero_pred = ratings_pred.masked_select(mask)\n",
        "      nonzero_test = ratings_test_tensor.masked_select(mask)\n",
        "      loss_test = criterion(nonzero_pred, nonzero_test)\n",
        "      testLoss.append(loss_test.item())\n",
        "      if minLoss > loss_test:\n",
        "        bestU = U\n",
        "        bestb = b\n",
        "        minLoss = loss_test\n",
        "      print(f'Epoch: {ep}. Train Loss: {loss}. Valid Loss: {loss_test}.')\n"
      ]
    },
    {
      "cell_type": "code",
      "execution_count": 33,
      "metadata": {
        "colab": {
          "base_uri": "https://localhost:8080/",
          "height": 584
        },
        "id": "9qJ8Hpl1W-df",
        "outputId": "f1c59121-3acf-4abf-a2ea-c62c2efaee18"
      },
      "outputs": [
        {
          "output_type": "execute_result",
          "data": {
            "text/plain": [
              "<matplotlib.legend.Legend at 0x7fe4ab04c950>"
            ]
          },
          "metadata": {},
          "execution_count": 33
        },
        {
          "output_type": "display_data",
          "data": {
            "text/plain": [
              "<Figure size 1152x648 with 1 Axes>"
            ],
            "image/png": "[encoded data removed]"
          },
          "metadata": {
            "needs_background": "light"
          }
        }
      ],
      "source": [
        "fig = plt.figure(figsize = (16,9))\n",
        "numOfEpoch = 3001\n",
        "plt.plot(np.arange(0, numOfEpoch), trainLoss, label='Training Loss')\n",
        "plt.plot(testEp, testLoss, label='Validation Loss')\n",
        "plt.title('Loss Plot')\n",
        "plt.xlabel('Epoch')\n",
        "plt.ylabel('Loss')\n",
        "# plt.ylim((0.0,1.0))\n",
        "plt.legend()"
      ]
    },
    {
      "cell_type": "markdown",
      "metadata": {
        "id": "XNMFbHYIo-mx"
      },
      "source": [
        "Now apply regularization weight_decay on U = 0.05 and lr = 0.005"
      ]
    },
    {
      "cell_type": "code",
      "execution_count": 34,
      "metadata": {
        "id": "1_ecNxLEozJx"
      },
      "outputs": [],
      "source": [
        "U = Variable(torch.randn(len_users, len_features, dtype = torch.float64), requires_grad=True)\n",
        "b = Variable(torch.randn(len_users, 1, dtype = torch.float64), requires_grad=True)"
      ]
    },
    {
      "cell_type": "code",
      "execution_count": 35,
      "metadata": {
        "id": "8--tleoso1-W"
      },
      "outputs": [],
      "source": [
        "criterion = nn.MSELoss()\n",
        "optimizer = torch.optim.Adam([U], lr = 0.005, weight_decay = 0.05)\n",
        "optimizer.add_param_group({'params': b, \"lr\": 0.005, \"weight_decay\": 0})"
      ]
    },
    {
      "cell_type": "code",
      "execution_count": 36,
      "metadata": {
        "id": "Ulla7mLJo4zu"
      },
      "outputs": [],
      "source": [
        "bestU = None\n",
        "bestb = None\n",
        "minLoss = 10e10"
      ]
    },
    {
      "cell_type": "code",
      "execution_count": 37,
      "metadata": {
        "colab": {
          "base_uri": "https://localhost:8080/",
          "height": 1000,
          "referenced_widgets": [
            "027b77787c074d94b83239df7a7ec3cb",
            "9a873c70912248a984a221a03b25f560",
            "2e0e093cc21345e8bfd961f2f7ab4524",
            "cd445c9af4c74fccb88abde5baa1af76",
            "b53a596b9ed14c31b50241d4b681a649",
            "d53dcaf392044d84be757859817a3bfa",
            "6ee0f4ed5b104939a861a3365fa9fb05",
            "cea890e612aa471cb541e971aed3e353",
            "01e475555d6d42d89b5c87bc10af0a61",
            "f8c3530b4665428b9fd9fe79b1296fe6",
            "26dafdb3068d47ca82554868d3e6d7f7"
          ]
        },
        "id": "OOFtCxSro7Ji",
        "outputId": "9f351579-c3d6-4dbc-e199-ce15c69d7f04"
      },
      "outputs": [
        {
          "output_type": "display_data",
          "data": {
            "text/plain": [
              "  0%|          | 0/3001 [00:00<?, ?it/s]"
            ],
            "application/vnd.jupyter.widget-view+json": {
              "version_major": 2,
              "version_minor": 0,
              "model_id": "027b77787c074d94b83239df7a7ec3cb"
            }
          },
          "metadata": {}
        },
        {
          "output_type": "stream",
          "name": "stdout",
          "text": [
            "Epoch: 0. Train Loss: 60.189948357891815. Valid Loss: 58.92834735937518.\n",
            "Epoch: 10. Train Loss: 55.14644388819727. Valid Loss: 54.265277951015726.\n",
            "Epoch: 20. Train Loss: 50.609353188956405. Valid Loss: 50.06896302910299.\n",
            "Epoch: 30. Train Loss: 46.57234570343397. Valid Loss: 46.32340350127427.\n",
            "Epoch: 40. Train Loss: 42.989120889071486. Valid Loss: 42.98440455297229.\n",
            "Epoch: 50. Train Loss: 39.80462169077263. Valid Loss: 40.000671509985395.\n",
            "Epoch: 60. Train Loss: 36.961914261622965. Valid Loss: 37.32041028735446.\n",
            "Epoch: 70. Train Loss: 34.40944722565189. Valid Loss: 34.89623070829582.\n",
            "Epoch: 80. Train Loss: 32.10588744789834. Valid Loss: 32.694225362446666.\n",
            "Epoch: 90. Train Loss: 30.01804528033529. Valid Loss: 30.685999630637692.\n",
            "Epoch: 100. Train Loss: 28.118328877644018. Valid Loss: 28.847599795063168.\n",
            "Epoch: 110. Train Loss: 26.383612056624948. Valid Loss: 27.15891564491933.\n",
            "Epoch: 120. Train Loss: 24.794553664249378. Valid Loss: 25.60327882920089.\n",
            "Epoch: 130. Train Loss: 23.334940450469617. Valid Loss: 24.166683225015685.\n",
            "Epoch: 140. Train Loss: 21.991068581868188. Valid Loss: 22.837031954626728.\n",
            "Epoch: 150. Train Loss: 20.751050785863345. Valid Loss: 21.60389595601916.\n",
            "Epoch: 160. Train Loss: 19.6045497495339. Valid Loss: 20.458236905160263.\n",
            "Epoch: 170. Train Loss: 18.542560418686254. Valid Loss: 19.392136714288593.\n",
            "Epoch: 180. Train Loss: 17.55718057902956. Valid Loss: 18.398608261195935.\n",
            "Epoch: 190. Train Loss: 16.6414520682119. Valid Loss: 17.471452098056528.\n",
            "Epoch: 200. Train Loss: 15.789215174833117. Valid Loss: 16.6051398706103.\n",
            "Epoch: 210. Train Loss: 14.994989665305509. Valid Loss: 15.79473417986474.\n",
            "Epoch: 220. Train Loss: 14.253881298061087. Valid Loss: 15.035807224673158.\n",
            "Epoch: 230. Train Loss: 13.56150296877569. Valid Loss: 14.32436946742903.\n",
            "Epoch: 240. Train Loss: 12.913908514362296. Valid Loss: 13.65681102063453.\n",
            "Epoch: 250. Train Loss: 12.307538223950683. Valid Loss: 13.029857216236866.\n",
            "Epoch: 260. Train Loss: 11.739172436496508. Valid Loss: 12.44052931824235.\n",
            "Epoch: 270. Train Loss: 11.205891912858629. Valid Loss: 11.886111243989827.\n",
            "Epoch: 280. Train Loss: 10.705044124315155. Valid Loss: 11.364120805634233.\n",
            "Epoch: 290. Train Loss: 10.234214186714592. Valid Loss: 10.872285107372885.\n",
            "Epoch: 300. Train Loss: 9.791199622763632. Valid Loss: 10.40851901322928.\n",
            "Epoch: 310. Train Loss: 9.373988310081202. Valid Loss: 9.970906268433286.\n",
            "Epoch: 320. Train Loss: 8.980739168159998. Valid Loss: 9.557682990108086.\n",
            "Epoch: 330. Train Loss: 8.609765205637782. Valid Loss: 9.167223242455893.\n",
            "Epoch: 340. Train Loss: 8.25951857207473. Valid Loss: 8.798026285394547.\n",
            "Epoch: 350. Train Loss: 7.928577320556246. Valid Loss: 8.448705278233934.\n",
            "Epoch: 360. Train Loss: 7.61563365017815. Valid Loss: 8.117977244336412.\n",
            "Epoch: 370. Train Loss: 7.319483434639618. Valid Loss: 7.8046541257969215.\n",
            "Epoch: 380. Train Loss: 7.039016868738995. Valid Loss: 7.507634775360956.\n",
            "Epoch: 390. Train Loss: 6.77321009127818. Valid Loss: 7.2258977631588595.\n",
            "Epoch: 400. Train Loss: 6.521117664304429. Valid Loss: 6.958494894534806.\n",
            "Epoch: 410. Train Loss: 6.28186580466606. Valid Loss: 6.704545350499651.\n",
            "Epoch: 420. Train Loss: 6.054646279059721. Valid Loss: 6.463230376178465.\n",
            "Epoch: 430. Train Loss: 5.838710885744003. Valid Loss: 6.233788452786254.\n",
            "Epoch: 440. Train Loss: 5.633366456980163. Valid Loss: 6.015510898566314.\n",
            "Epoch: 450. Train Loss: 5.437970324992882. Valid Loss: 5.807737851466608.\n",
            "Epoch: 460. Train Loss: 5.251926201779067. Valid Loss: 5.60985459294553.\n",
            "Epoch: 470. Train Loss: 5.074680429484122. Valid Loss: 5.421288177759753.\n",
            "Epoch: 480. Train Loss: 4.905718563453073. Valid Loss: 5.241504339209575.\n",
            "Epoch: 490. Train Loss: 4.744562254721455. Valid Loss: 5.070004643236566.\n",
            "Epoch: 500. Train Loss: 4.5907664026145465. Valid Loss: 4.906323868024855.\n",
            "Epoch: 510. Train Loss: 4.443916551522996. Valid Loss: 4.75002758854305.\n",
            "Epoch: 520. Train Loss: 4.30362650881963. Valid Loss: 4.600709947846322.\n",
            "Epoch: 530. Train Loss: 4.169536163399535. Valid Loss: 4.4579915989816135.\n",
            "Epoch: 540. Train Loss: 4.041309486499753. Valid Loss: 4.321517803073421.\n",
            "Epoch: 550. Train Loss: 3.9186326983529645. Valid Loss: 4.1909566706614.\n",
            "Epoch: 560. Train Loss: 3.801212585892001. Valid Loss: 4.065997534656875.\n",
            "Epoch: 570. Train Loss: 3.688774958182699. Valid Loss: 3.946349444410129.\n",
            "Epoch: 580. Train Loss: 3.5810632275534213. Valid Loss: 3.8317397713644077.\n",
            "Epoch: 590. Train Loss: 3.4778371055341855. Valid Loss: 3.72191291763716.\n",
            "Epoch: 600. Train Loss: 3.378871403737502. Valid Loss: 3.616629119632056.\n",
            "Epoch: 610. Train Loss: 3.283954930723698. Valid Loss: 3.515663339462798.\n",
            "Epoch: 620. Train Loss: 3.1928894767099125. Valid Loss: 3.4188042375734655.\n",
            "Epoch: 630. Train Loss: 3.1054888787157706. Valid Loss: 3.3258532204809237.\n",
            "Epoch: 640. Train Loss: 3.021578159400134. Valid Loss: 3.2366235580513893.\n",
            "Epoch: 650. Train Loss: 2.9409927334405364. Valid Loss: 3.1509395651626186.\n",
            "Epoch: 660. Train Loss: 2.863577675847164. Valid Loss: 3.06863584300156.\n",
            "Epoch: 670. Train Loss: 2.789187047092808. Valid Loss: 2.989556575609719.\n",
            "Epoch: 680. Train Loss: 2.717683270384241. Valid Loss: 2.9135548776191715.\n",
            "Epoch: 690. Train Loss: 2.6489365568037813. Valid Loss: 2.8404921894248343.\n",
            "Epoch: 700. Train Loss: 2.5828243744163726. Valid Loss: 2.7702377163162173.\n",
            "Epoch: 710. Train Loss: 2.5192309577709624. Valid Loss: 2.7026679083472103.\n",
            "Epoch: 720. Train Loss: 2.4580468545285155. Valid Loss: 2.6376659779576634.\n",
            "Epoch: 730. Train Loss: 2.399168506225514. Valid Loss: 2.5751214525775925.\n",
            "Epoch: 740. Train Loss: 2.342497860433742. Valid Loss: 2.5149297596455424.\n",
            "Epoch: 750. Train Loss: 2.2879420118069795. Valid Loss: 2.4569918416583234.\n",
            "Epoch: 760. Train Loss: 2.2354128697148408. Valid Loss: 2.401213799041485.\n",
            "Epoch: 770. Train Loss: 2.1848268503553228. Valid Loss: 2.347506558789455.\n",
            "Epoch: 780. Train Loss: 2.136104591412402. Valid Loss: 2.295785566972486.\n",
            "Epoch: 790. Train Loss: 2.089170687484626. Valid Loss: 2.2459705033451303.\n",
            "Epoch: 800. Train Loss: 2.043953444656582. Valid Loss: 2.1979850164188486.\n",
            "Epoch: 810. Train Loss: 2.0003846527185534. Valid Loss: 2.1517564774802453.\n",
            "Epoch: 820. Train Loss: 1.9583993736617458. Valid Loss: 2.1072157521469546.\n",
            "Epoch: 830. Train Loss: 1.9179357451881733. Valid Loss: 2.0642969881559656.\n",
            "Epoch: 840. Train Loss: 1.8789347980766005. Valid Loss: 2.022937418174806.\n",
            "Epoch: 850. Train Loss: 1.8413402863395913. Valid Loss: 1.983077176514855.\n",
            "Epoch: 860. Train Loss: 1.8050985291925505. Valid Loss: 1.9446591287086923.\n",
            "Epoch: 870. Train Loss: 1.7701582639323616. Valid Loss: 1.9076287129874836.\n",
            "Epoch: 880. Train Loss: 1.736470508722809. Valid Loss: 1.8719337925141433.\n",
            "Epoch: 890. Train Loss: 1.70398841309202. Valid Loss: 1.8375244850545547.\n",
            "Epoch: 900. Train Loss: 1.67266730980179. Valid Loss: 1.8043532973843053.\n",
            "Epoch: 910. Train Loss: 1.6424639161005423. Valid Loss: 1.7723739265248315.\n",
            "Epoch: 920. Train Loss: 1.6133379899593043. Valid Loss: 1.7415439754831246.\n",
            "Epoch: 930. Train Loss: 1.585249384213479. Valid Loss: 1.7118202016838402.\n",
            "Epoch: 940. Train Loss: 1.5581606701078063. Valid Loss: 1.683162871875271.\n",
            "Epoch: 950. Train Loss: 1.5320358172912267. Valid Loss: 1.6555336826313054.\n",
            "Epoch: 960. Train Loss: 1.5068401126331203. Valid Loss: 1.6288956201120282.\n",
            "Epoch: 970. Train Loss: 1.482540205917292. Valid Loss: 1.6032130717425639.\n",
            "Epoch: 980. Train Loss: 1.459104134302234. Valid Loss: 1.578451944692552.\n",
            "Epoch: 990. Train Loss: 1.4365012200398748. Valid Loss: 1.554579539988733.\n",
            "Epoch: 1000. Train Loss: 1.414701949681961. Valid Loss: 1.5315643575073343.\n",
            "Epoch: 1010. Train Loss: 1.393677941430956. Valid Loss: 1.509376090961124.\n",
            "Epoch: 1020. Train Loss: 1.373401520494701. Valid Loss: 1.4879856425641258.\n",
            "Epoch: 1030. Train Loss: 1.3538477487751346. Valid Loss: 1.4673649158327637.\n",
            "Epoch: 1040. Train Loss: 1.3349897309255612. Valid Loss: 1.4474869863394135.\n",
            "Epoch: 1050. Train Loss: 1.3168042534119742. Valid Loss: 1.4283258249488915.\n",
            "Epoch: 1060. Train Loss: 1.29926744541052. Valid Loss: 1.4098564095479955.\n",
            "Epoch: 1070. Train Loss: 1.2823571807922638. Valid Loss: 1.392054472173603.\n",
            "Epoch: 1080. Train Loss: 1.2660510649091374. Valid Loss: 1.3748970112488434.\n",
            "Epoch: 1090. Train Loss: 1.2503277221482954. Valid Loss: 1.3583618366014572.\n",
            "Epoch: 1100. Train Loss: 1.2351682906466155. Valid Loss: 1.342426664141776.\n",
            "Epoch: 1110. Train Loss: 1.2205531180024973. Valid Loss: 1.3270709686303224.\n",
            "Epoch: 1120. Train Loss: 1.2064624957658636. Valid Loss: 1.3122748161656612.\n",
            "Epoch: 1130. Train Loss: 1.192878944785434. Valid Loss: 1.2980185922223761.\n",
            "Epoch: 1140. Train Loss: 1.1797850082570958. Valid Loss: 1.2842835967113966.\n",
            "Epoch: 1150. Train Loss: 1.1671635942557859. Valid Loss: 1.271051823189505.\n",
            "Epoch: 1160. Train Loss: 1.154998268418963. Valid Loss: 1.2583058972446046.\n",
            "Epoch: 1170. Train Loss: 1.1432737830443738. Valid Loss: 1.2460286998565142.\n",
            "Epoch: 1180. Train Loss: 1.131975076593071. Valid Loss: 1.234203996865975.\n",
            "Epoch: 1190. Train Loss: 1.1210866906622197. Valid Loss: 1.2228161197962586.\n",
            "Epoch: 1200. Train Loss: 1.110594871302413. Valid Loss: 1.211850213885789.\n",
            "Epoch: 1210. Train Loss: 1.1004863339500874. Valid Loss: 1.2012919347187136.\n",
            "Epoch: 1220. Train Loss: 1.0907468250494214. Valid Loss: 1.1911270634119415.\n",
            "Epoch: 1230. Train Loss: 1.0813655366557684. Valid Loss: 1.1813383013629137.\n",
            "Epoch: 1240. Train Loss: 1.072327941902515. Valid Loss: 1.1719181140972679.\n",
            "Epoch: 1250. Train Loss: 1.063623760881585. Valid Loss: 1.1628493885521756.\n",
            "Epoch: 1260. Train Loss: 1.0552392114296396. Valid Loss: 1.1541252526646681.\n",
            "Epoch: 1270. Train Loss: 1.0471663628215455. Valid Loss: 1.1457260503923956.\n",
            "Epoch: 1280. Train Loss: 1.0393921383588798. Valid Loss: 1.1376459424845762.\n",
            "Epoch: 1290. Train Loss: 1.0319067521498724. Valid Loss: 1.1298722672948593.\n",
            "Epoch: 1300. Train Loss: 1.0247003493992373. Valid Loss: 1.1223935243861878.\n",
            "Epoch: 1310. Train Loss: 1.0177631284735758. Valid Loss: 1.115199877644916.\n",
            "Epoch: 1320. Train Loss: 1.0110854010501158. Valid Loss: 1.1082819170267157.\n",
            "Epoch: 1330. Train Loss: 1.0046576874655353. Valid Loss: 1.1016283774420716.\n",
            "Epoch: 1340. Train Loss: 0.9984742624192495. Valid Loss: 1.0952304420589025.\n",
            "Epoch: 1350. Train Loss: 0.9925211163293696. Valid Loss: 1.0890800727454455.\n",
            "Epoch: 1360. Train Loss: 0.9867954584902834. Valid Loss: 1.0831671272711911.\n",
            "Epoch: 1370. Train Loss: 0.9812858320545764. Valid Loss: 1.077483887444639.\n",
            "Epoch: 1380. Train Loss: 0.9759864798847139. Valid Loss: 1.0720218010475369.\n",
            "Epoch: 1390. Train Loss: 0.9708886103300405. Valid Loss: 1.066773138817733.\n",
            "Epoch: 1400. Train Loss: 0.9659852328859794. Valid Loss: 1.0617304251851087.\n",
            "Epoch: 1410. Train Loss: 0.9612719177234741. Valid Loss: 1.0568857553233633.\n",
            "Epoch: 1420. Train Loss: 0.9567378772988725. Valid Loss: 1.05223120827033.\n",
            "Epoch: 1430. Train Loss: 0.9523803511289092. Valid Loss: 1.047761775106181.\n",
            "Epoch: 1440. Train Loss: 0.9481898023288179. Valid Loss: 1.043469377612743.\n",
            "Epoch: 1450. Train Loss: 0.9441628453891113. Valid Loss: 1.0393483174758678.\n",
            "Epoch: 1460. Train Loss: 0.9402922124917882. Valid Loss: 1.0353917061469209.\n",
            "Epoch: 1470. Train Loss: 0.936572893259425. Valid Loss: 1.0315937051734059.\n",
            "Epoch: 1480. Train Loss: 0.9329992582804132. Valid Loss: 1.027947414764902.\n",
            "Epoch: 1490. Train Loss: 0.9295647639411188. Valid Loss: 1.0244513239072581.\n",
            "Epoch: 1500. Train Loss: 0.9262666172115587. Valid Loss: 1.0210939732320103.\n",
            "Epoch: 1510. Train Loss: 0.9230976631716354. Valid Loss: 1.017876417037924.\n",
            "Epoch: 1520. Train Loss: 0.9200548357200803. Valid Loss: 1.0147872658195212.\n",
            "Epoch: 1530. Train Loss: 0.9171332756359598. Valid Loss: 1.011826023501024.\n",
            "Epoch: 1540. Train Loss: 0.9143273337878753. Valid Loss: 1.008986206736277.\n",
            "Epoch: 1550. Train Loss: 0.9116334257762893. Valid Loss: 1.006263519804127.\n",
            "Epoch: 1560. Train Loss: 0.9090490403957155. Valid Loss: 1.0036535440577048.\n",
            "Epoch: 1570. Train Loss: 0.9065670738252913. Valid Loss: 1.0011527273556327.\n",
            "Epoch: 1580. Train Loss: 0.9041850179611329. Valid Loss: 0.9987549295413634.\n",
            "Epoch: 1590. Train Loss: 0.9019006093986416. Valid Loss: 0.9964587621355518.\n",
            "Epoch: 1600. Train Loss: 0.8997077554976595. Valid Loss: 0.9942588987930363.\n",
            "Epoch: 1610. Train Loss: 0.8976045692076844. Valid Loss: 0.9921512649597832.\n",
            "Epoch: 1620. Train Loss: 0.895588179155768. Valid Loss: 0.9901343592698375.\n",
            "Epoch: 1630. Train Loss: 0.8936524849864033. Valid Loss: 0.9882021068327228.\n",
            "Epoch: 1640. Train Loss: 0.8917978800998009. Valid Loss: 0.9863526267798111.\n",
            "Epoch: 1650. Train Loss: 0.8900186790365743. Valid Loss: 0.9845821513411146.\n",
            "Epoch: 1660. Train Loss: 0.888314558096915. Valid Loss: 0.9828881214106973.\n",
            "Epoch: 1670. Train Loss: 0.886679518940722. Valid Loss: 0.9812676362508401.\n",
            "Epoch: 1680. Train Loss: 0.8851122816646649. Valid Loss: 0.9797157262284106.\n",
            "Epoch: 1690. Train Loss: 0.883611565196556. Valid Loss: 0.978235157755738.\n",
            "Epoch: 1700. Train Loss: 0.8821738616072454. Valid Loss: 0.9768163353782459.\n",
            "Epoch: 1710. Train Loss: 0.8807957254515445. Valid Loss: 0.975460964147419.\n",
            "Epoch: 1720. Train Loss: 0.8794762863081514. Valid Loss: 0.97416497398368.\n",
            "Epoch: 1730. Train Loss: 0.87821184678545. Valid Loss: 0.9729264857700153.\n",
            "Epoch: 1740. Train Loss: 0.8770023106457806. Valid Loss: 0.9717436527322549.\n",
            "Epoch: 1750. Train Loss: 0.8758430202767021. Valid Loss: 0.9706127022701043.\n",
            "Epoch: 1760. Train Loss: 0.87473403375122. Valid Loss: 0.9695327167818039.\n",
            "Epoch: 1770. Train Loss: 0.8736727000041972. Valid Loss: 0.9685031954289308.\n",
            "Epoch: 1780. Train Loss: 0.8726548153929914. Valid Loss: 0.9675170080121874.\n",
            "Epoch: 1790. Train Loss: 0.8716818682180116. Valid Loss: 0.9665783207126324.\n",
            "Epoch: 1800. Train Loss: 0.8707531291431978. Valid Loss: 0.9656818646562179.\n",
            "Epoch: 1810. Train Loss: 0.8698624921188803. Valid Loss: 0.9648252576731047.\n",
            "Epoch: 1820. Train Loss: 0.8690116021206338. Valid Loss: 0.9640095582182536.\n",
            "Epoch: 1830. Train Loss: 0.8681977497819237. Valid Loss: 0.9632323727594304.\n",
            "Epoch: 1840. Train Loss: 0.8674196510734397. Valid Loss: 0.9624901708166079.\n",
            "Epoch: 1850. Train Loss: 0.8666747967128736. Valid Loss: 0.9617808724146926.\n",
            "Epoch: 1860. Train Loss: 0.865962961967786. Valid Loss: 0.9611085274953532.\n",
            "Epoch: 1870. Train Loss: 0.8652826778332285. Valid Loss: 0.9604643484478255.\n",
            "Epoch: 1880. Train Loss: 0.8646332047074725. Valid Loss: 0.9598537794877047.\n",
            "Epoch: 1890. Train Loss: 0.8640124936939746. Valid Loss: 0.9592697623256101.\n",
            "Epoch: 1900. Train Loss: 0.8634191761203713. Valid Loss: 0.9587154954473326.\n",
            "Epoch: 1910. Train Loss: 0.862852971540298. Valid Loss: 0.9581870207572818.\n",
            "Epoch: 1920. Train Loss: 0.8623110683890793. Valid Loss: 0.957684297909227.\n",
            "Epoch: 1930. Train Loss: 0.8617951153720804. Valid Loss: 0.9572058843625004.\n",
            "Epoch: 1940. Train Loss: 0.8613015041863732. Valid Loss: 0.956750744769692.\n",
            "Epoch: 1950. Train Loss: 0.8608311809883887. Valid Loss: 0.9563182233754486.\n",
            "Epoch: 1960. Train Loss: 0.8603809947622291. Valid Loss: 0.9559082637069352.\n",
            "Epoch: 1970. Train Loss: 0.8599522483981334. Valid Loss: 0.955520578066289.\n",
            "Epoch: 1980. Train Loss: 0.8595441032626062. Valid Loss: 0.9551421845631751.\n",
            "Epoch: 1990. Train Loss: 0.8591530336848824. Valid Loss: 0.9547935263715197.\n",
            "Epoch: 2000. Train Loss: 0.858781375718491. Valid Loss: 0.9544564289144742.\n",
            "Epoch: 2010. Train Loss: 0.8584255760878127. Valid Loss: 0.9541406123509341.\n",
            "Epoch: 2020. Train Loss: 0.8580862096739525. Valid Loss: 0.9538362276364472.\n",
            "Epoch: 2030. Train Loss: 0.8577637109846072. Valid Loss: 0.9535517189290894.\n",
            "Epoch: 2040. Train Loss: 0.8574565296917649. Valid Loss: 0.9532796952339592.\n",
            "Epoch: 2050. Train Loss: 0.8571645654316586. Valid Loss: 0.9530218884151714.\n",
            "Epoch: 2060. Train Loss: 0.8568843865639639. Valid Loss: 0.9527754665195631.\n",
            "Epoch: 2070. Train Loss: 0.856617901613141. Valid Loss: 0.9525471965602862.\n",
            "Epoch: 2080. Train Loss: 0.8563641402648662. Valid Loss: 0.9523268951955306.\n",
            "Epoch: 2090. Train Loss: 0.8561229277225451. Valid Loss: 0.9521207536644262.\n",
            "Epoch: 2100. Train Loss: 0.855893214682071. Valid Loss: 0.9519229597264232.\n",
            "Epoch: 2110. Train Loss: 0.855673851838925. Valid Loss: 0.9517374721849645.\n",
            "Epoch: 2120. Train Loss: 0.8554654363290278. Valid Loss: 0.9515631259898737.\n",
            "Epoch: 2130. Train Loss: 0.8552652237602723. Valid Loss: 0.9513971739408853.\n",
            "Epoch: 2140. Train Loss: 0.8550780591253235. Valid Loss: 0.9512384828719922.\n",
            "Epoch: 2150. Train Loss: 0.854898838729534. Valid Loss: 0.9510912890243043.\n",
            "Epoch: 2160. Train Loss: 0.8547280719265304. Valid Loss: 0.9509515230393623.\n",
            "Epoch: 2170. Train Loss: 0.8545657412452345. Valid Loss: 0.9508188495919537.\n",
            "Epoch: 2180. Train Loss: 0.8544116269992232. Valid Loss: 0.9506909519275596.\n",
            "Epoch: 2190. Train Loss: 0.8542631403261313. Valid Loss: 0.9505796396523959.\n",
            "Epoch: 2200. Train Loss: 0.854125509245274. Valid Loss: 0.9504554743362759.\n",
            "Epoch: 2210. Train Loss: 0.8539911195235108. Valid Loss: 0.9503612385731739.\n",
            "Epoch: 2220. Train Loss: 0.8538659987609051. Valid Loss: 0.9502642520178046.\n",
            "Epoch: 2230. Train Loss: 0.8537476805737491. Valid Loss: 0.9501721680502803.\n",
            "Epoch: 2240. Train Loss: 0.853631563061348. Valid Loss: 0.9500820703561024.\n",
            "Epoch: 2250. Train Loss: 0.8535247090665837. Valid Loss: 0.9500023994766462.\n",
            "Epoch: 2260. Train Loss: 0.8534220022654408. Valid Loss: 0.9499228545055652.\n",
            "Epoch: 2270. Train Loss: 0.853324313685341. Valid Loss: 0.9498528653382328.\n",
            "Epoch: 2280. Train Loss: 0.8532304845609984. Valid Loss: 0.9497846124573825.\n",
            "Epoch: 2290. Train Loss: 0.8531447476057666. Valid Loss: 0.9497218557346297.\n",
            "Epoch: 2300. Train Loss: 0.8530613323845515. Valid Loss: 0.949660233456674.\n",
            "Epoch: 2310. Train Loss: 0.8529823977960156. Valid Loss: 0.9496047167501108.\n",
            "Epoch: 2320. Train Loss: 0.8529069118519255. Valid Loss: 0.9495530780590864.\n",
            "Epoch: 2330. Train Loss: 0.8528359911718056. Valid Loss: 0.9495042368136968.\n",
            "Epoch: 2340. Train Loss: 0.8527686855486701. Valid Loss: 0.9494582139461515.\n",
            "Epoch: 2350. Train Loss: 0.8527053865121175. Valid Loss: 0.9494160859574257.\n",
            "Epoch: 2360. Train Loss: 0.8526449320734689. Valid Loss: 0.9493762332714474.\n",
            "Epoch: 2370. Train Loss: 0.8525855674493464. Valid Loss: 0.949337481935063.\n",
            "Epoch: 2380. Train Loss: 0.8525334180691487. Valid Loss: 0.9493047180022872.\n",
            "Epoch: 2390. Train Loss: 0.852481705958382. Valid Loss: 0.9492720155582798.\n",
            "Epoch: 2400. Train Loss: 0.852432807203425. Valid Loss: 0.9492420556355344.\n",
            "Epoch: 2410. Train Loss: 0.8523870401196585. Valid Loss: 0.9492134759236862.\n",
            "Epoch: 2420. Train Loss: 0.8523450909085233. Valid Loss: 0.949187105124902.\n",
            "Epoch: 2430. Train Loss: 0.852301401518625. Valid Loss: 0.949165470283485.\n",
            "Epoch: 2440. Train Loss: 0.8522630049547513. Valid Loss: 0.9491418392865809.\n",
            "Epoch: 2450. Train Loss: 0.852225852958618. Valid Loss: 0.9491225859284358.\n",
            "Epoch: 2460. Train Loss: 0.8521909020808394. Valid Loss: 0.9491031853528352.\n",
            "Epoch: 2470. Train Loss: 0.8521578838286108. Valid Loss: 0.949085741090929.\n",
            "Epoch: 2480. Train Loss: 0.8521258645029248. Valid Loss: 0.9490697260646558.\n",
            "Epoch: 2490. Train Loss: 0.852097726980554. Valid Loss: 0.9490543292533812.\n",
            "Epoch: 2500. Train Loss: 0.8520696294481587. Valid Loss: 0.9490416774957686.\n",
            "Epoch: 2510. Train Loss: 0.8520428026642379. Valid Loss: 0.9490305133578808.\n",
            "Epoch: 2520. Train Loss: 0.852019327919008. Valid Loss: 0.9490195688052575.\n",
            "Epoch: 2530. Train Loss: 0.8519942891343981. Valid Loss: 0.9490077419876051.\n",
            "Epoch: 2540. Train Loss: 0.8519724125407567. Valid Loss: 0.9489998784408692.\n",
            "Epoch: 2550. Train Loss: 0.8519515729833806. Valid Loss: 0.9489910106382974.\n",
            "Epoch: 2560. Train Loss: 0.8519317521497876. Valid Loss: 0.9489837142196152.\n",
            "Epoch: 2570. Train Loss: 0.8519125751126263. Valid Loss: 0.9489755585374782.\n",
            "Epoch: 2580. Train Loss: 0.8518953000368635. Valid Loss: 0.9489696613716965.\n",
            "Epoch: 2590. Train Loss: 0.8518784834485971. Valid Loss: 0.9489658213750765.\n",
            "Epoch: 2600. Train Loss: 0.8518628429306759. Valid Loss: 0.9489605454098645.\n",
            "Epoch: 2610. Train Loss: 0.8518482633559892. Valid Loss: 0.9489583898244186.\n",
            "Epoch: 2620. Train Loss: 0.85183475451297. Valid Loss: 0.948951679841338.\n",
            "Epoch: 2630. Train Loss: 0.8518213112096579. Valid Loss: 0.9489528965323275.\n",
            "Epoch: 2640. Train Loss: 0.8518083018879608. Valid Loss: 0.9489461308311883.\n",
            "Epoch: 2650. Train Loss: 0.8517977302326831. Valid Loss: 0.9489458405050657.\n",
            "Epoch: 2660. Train Loss: 0.8517873985197262. Valid Loss: 0.9489475102096009.\n",
            "Epoch: 2670. Train Loss: 0.851775081485234. Valid Loss: 0.9489423164098005.\n",
            "Epoch: 2680. Train Loss: 0.8517668099627803. Valid Loss: 0.9489423421198264.\n",
            "Epoch: 2690. Train Loss: 0.8517561119091229. Valid Loss: 0.948940678689632.\n",
            "Epoch: 2700. Train Loss: 0.8517493570876633. Valid Loss: 0.9489417575814216.\n",
            "Epoch: 2710. Train Loss: 0.8517411623104911. Valid Loss: 0.9489402764387074.\n",
            "Epoch: 2720. Train Loss: 0.8517337220758353. Valid Loss: 0.948940517572473.\n",
            "Epoch: 2730. Train Loss: 0.8517253448200028. Valid Loss: 0.9489404391730528.\n",
            "Epoch: 2740. Train Loss: 0.8517189401796429. Valid Loss: 0.9489408222542669.\n",
            "Epoch: 2750. Train Loss: 0.8517132261497236. Valid Loss: 0.9489401468450868.\n",
            "Epoch: 2760. Train Loss: 0.8517063065362624. Valid Loss: 0.9489426755993172.\n",
            "Epoch: 2770. Train Loss: 0.8517002754736134. Valid Loss: 0.9489425177110578.\n",
            "Epoch: 2780. Train Loss: 0.8516963121224578. Valid Loss: 0.9489439819291361.\n",
            "Epoch: 2790. Train Loss: 0.8516904688010372. Valid Loss: 0.9489439944942482.\n",
            "Epoch: 2800. Train Loss: 0.8516858007187695. Valid Loss: 0.9489501607437385.\n",
            "Epoch: 2810. Train Loss: 0.8516822539694154. Valid Loss: 0.9489502321641077.\n",
            "Epoch: 2820. Train Loss: 0.8516778372090283. Valid Loss: 0.9489428341640822.\n",
            "Epoch: 2830. Train Loss: 0.8516742391199821. Valid Loss: 0.9489558008046065.\n",
            "Epoch: 2840. Train Loss: 0.851670332234164. Valid Loss: 0.9489498714845567.\n",
            "Epoch: 2850. Train Loss: 0.851666183854953. Valid Loss: 0.9489555386511271.\n",
            "Epoch: 2860. Train Loss: 0.8516638427764123. Valid Loss: 0.9489558207349403.\n",
            "Epoch: 2870. Train Loss: 0.8516612204257613. Valid Loss: 0.9489568712912233.\n",
            "Epoch: 2880. Train Loss: 0.8516581872554965. Valid Loss: 0.9489599198779569.\n",
            "Epoch: 2890. Train Loss: 0.8516559484366175. Valid Loss: 0.9489609754579237.\n",
            "Epoch: 2900. Train Loss: 0.8516530325759816. Valid Loss: 0.9489618717822952.\n",
            "Epoch: 2910. Train Loss: 0.8516503314607449. Valid Loss: 0.9489642123461214.\n",
            "Epoch: 2920. Train Loss: 0.8516497026111697. Valid Loss: 0.9489679940240742.\n",
            "Epoch: 2930. Train Loss: 0.851647086929528. Valid Loss: 0.9489676769773048.\n",
            "Epoch: 2940. Train Loss: 0.8516453494474645. Valid Loss: 0.9489719765615947.\n",
            "Epoch: 2950. Train Loss: 0.8516433113072919. Valid Loss: 0.9489707345101003.\n",
            "Epoch: 2960. Train Loss: 0.8516420675948627. Valid Loss: 0.9489743732958362.\n",
            "Epoch: 2970. Train Loss: 0.8516404310897897. Valid Loss: 0.9489758940010972.\n",
            "Epoch: 2980. Train Loss: 0.851638536777555. Valid Loss: 0.948978653783106.\n",
            "Epoch: 2990. Train Loss: 0.8516379696756834. Valid Loss: 0.9489785637890483.\n",
            "Epoch: 3000. Train Loss: 0.8516363169198472. Valid Loss: 0.9489816108719301.\n"
          ]
        }
      ],
      "source": [
        "EPOCH = 3001\n",
        "trainLoss = []\n",
        "testLoss = []\n",
        "testEp = []\n",
        "for ep in tqdm(range(EPOCH)):\n",
        "    optimizer.zero_grad()\n",
        "    ratings_pred = torch.matmul(torch.cat((U, b), axis = 1), movies_tensor.T)\n",
        "    mask = ratings_train_tensor.bool()\n",
        "    nonzero_pred = ratings_pred.masked_select(mask)\n",
        "    nonzero_train = ratings_train_tensor.masked_select(mask)\n",
        "    loss = criterion(nonzero_pred, nonzero_train)\n",
        "    loss.backward()\n",
        "    optimizer.step()\n",
        "    trainLoss.append(loss.item())\n",
        "    if ep % 10 == 0:\n",
        "      testEp.append(ep)\n",
        "      mask = ratings_test_tensor.bool()\n",
        "      nonzero_pred = ratings_pred.masked_select(mask)\n",
        "      nonzero_test = ratings_test_tensor.masked_select(mask)\n",
        "      loss_test = criterion(nonzero_pred, nonzero_test)\n",
        "      testLoss.append(loss_test.item())\n",
        "      if minLoss > loss_test:\n",
        "        bestU = U\n",
        "        bestb = b\n",
        "        minLoss = loss_test\n",
        "      print(f'Epoch: {ep}. Train Loss: {loss}. Valid Loss: {loss_test}.')\n"
      ]
    },
    {
      "cell_type": "code",
      "execution_count": 38,
      "metadata": {
        "colab": {
          "base_uri": "https://localhost:8080/",
          "height": 584
        },
        "id": "y9_gBbkMo9nz",
        "outputId": "1e684500-0c9b-4852-dcc2-4b8913d7b8b6"
      },
      "outputs": [
        {
          "output_type": "execute_result",
          "data": {
            "text/plain": [
              "<matplotlib.legend.Legend at 0x7fe4a9af4190>"
            ]
          },
          "metadata": {},
          "execution_count": 38
        },
        {
          "output_type": "display_data",
          "data": {
            "text/plain": [
              "<Figure size 1152x648 with 1 Axes>"
            ],
            "image/png": "[encoded data removed]"
          },
          "metadata": {
            "needs_background": "light"
          }
        }
      ],
      "source": [
        "fig = plt.figure(figsize = (16,9))\n",
        "numOfEpoch = 3001\n",
        "plt.plot(np.arange(0, numOfEpoch), trainLoss, label='Training Loss')\n",
        "plt.plot(testEp, testLoss, label='Validation Loss')\n",
        "plt.title('Loss Plot')\n",
        "plt.xlabel('Epoch')\n",
        "plt.ylabel('Loss')\n",
        "# plt.ylim((0.0,1.0))\n",
        "plt.legend()"
      ]
    },
    {
      "cell_type": "markdown",
      "metadata": {
        "id": "DQ_aJpD-bWB7"
      },
      "source": [
        "Take minLoss and bestU, bestb"
      ]
    },
    {
      "cell_type": "code",
      "execution_count": 39,
      "metadata": {
        "colab": {
          "base_uri": "https://localhost:8080/"
        },
        "id": "Yol-SnS8ZyWZ",
        "outputId": "f1929884-6b1c-4d99-c1fb-21f813915e81"
      },
      "outputs": [
        {
          "output_type": "execute_result",
          "data": {
            "text/plain": [
              "tensor(0.9489, dtype=torch.float64, grad_fn=<MseLossBackward0>)"
            ]
          },
          "metadata": {},
          "execution_count": 39
        }
      ],
      "source": [
        "minLoss"
      ]
    },
    {
      "cell_type": "code",
      "execution_count": 40,
      "metadata": {
        "colab": {
          "base_uri": "https://localhost:8080/"
        },
        "id": "HG3lzfAmZ6oW",
        "outputId": "a63601fc-f856-4a29-88c6-cad539af63ee"
      },
      "outputs": [
        {
          "output_type": "execute_result",
          "data": {
            "text/plain": [
              "tensor([[ 4.0285e-04, -2.5438e-03,  3.6949e-03,  ..., -1.9762e-12,\n",
              "         -5.8832e-13, -5.0266e-13],\n",
              "        [ 3.5373e-03, -1.0132e-02,  1.0812e-02,  ..., -3.1742e-03,\n",
              "          4.0791e-03, -7.9047e-10],\n",
              "        [ 6.3041e-03, -3.7687e-03,  1.3198e-03,  ...,  5.4221e-03,\n",
              "         -3.6970e-03, -2.9928e-06],\n",
              "        ...,\n",
              "        [ 3.1861e-03, -2.8215e-04,  1.8962e-03,  ...,  2.8374e-03,\n",
              "         -9.9142e-08, -9.6435e-08],\n",
              "        [ 4.2721e-03, -6.8486e-03,  4.3069e-03,  ...,  6.1254e-03,\n",
              "          9.4713e-16,  7.1340e-16],\n",
              "        [-3.8510e-03, -1.5260e-03, -3.1519e-03,  ...,  3.3629e-03,\n",
              "         -5.4986e-03,  3.1608e-03]], dtype=torch.float64, requires_grad=True)"
            ]
          },
          "metadata": {},
          "execution_count": 40
        }
      ],
      "source": [
        "bestU"
      ]
    },
    {
      "cell_type": "code",
      "execution_count": 41,
      "metadata": {
        "id": "ATtO1DT3bTcU"
      },
      "outputs": [],
      "source": [
        "bestU.detach().numpy().tofile(\"ModelStorage/U.txt\")\n",
        "bestb.detach().numpy().tofile(\"ModelStorage/b.txt\")"
      ]
    },
    {
      "cell_type": "code",
      "execution_count": 42,
      "metadata": {
        "id": "LmyIu1RGdcs0"
      },
      "outputs": [],
      "source": [
        "with open(\"ModelStorage/indexToId.txt\", \"w+\") as file:\n",
        "  file.write(str(indexToId))\n",
        "with open(\"ModelStorage/idToIndex.txt\", \"w+\") as file:\n",
        "  file.write(str(idToIndex))"
      ]
    }
  ],
  "metadata": {
    "colab": {
      "collapsed_sections": [],
      "name": "Content_Based_Colab.ipynb",
      "provenance": []
    },
    "kernelspec": {
      "display_name": "Python 3.8.8 ('base')",
      "language": "python",
      "name": "python3"
    },
    "language_info": {
      "codemirror_mode": {
        "name": "ipython",
        "version": 3
      },
      "file_extension": ".py",
      "mimetype": "text/x-python",
      "name": "python",
      "nbconvert_exporter": "python",
      "pygments_lexer": "ipython3",
      "version": "3.8.8"
    },
    "vscode": {
      "interpreter": {
        "hash": "2043299c89c8cd0b4d1a6f5cf4529bd58e6a4e0fe3181a25e0d328c821cdc5c5"
      }
    },
    "widgets": {
      "application/vnd.jupyter.widget-state+json": {
        "40e878e6253c4f4b8df8dcf9a6154270": {
          "model_module": "@jupyter-widgets/controls",
          "model_name": "HBoxModel",
          "model_module_version": "1.5.0",
          "state": {
            "_dom_classes": [],
            "_model_module": "@jupyter-widgets/controls",
            "_model_module_version": "1.5.0",
            "_model_name": "HBoxModel",
            "_view_count": null,
            "_view_module": "@jupyter-widgets/controls",
            "_view_module_version": "1.5.0",
            "_view_name": "HBoxView",
            "box_style": "",
            "children": [
              "IPY_MODEL_e599ed8b209145819b374acc5632453e",
              "IPY_MODEL_10bf11ffa98b4e3db983996a1c2312f5",
              "IPY_MODEL_2754049777b64696a792343cddb4183f"
            ],
            "layout": "IPY_MODEL_e20c010704724632ae65fce3bee1227e"
          }
        },
        "e599ed8b209145819b374acc5632453e": {
          "model_module": "@jupyter-widgets/controls",
          "model_name": "HTMLModel",
          "model_module_version": "1.5.0",
          "state": {
            "_dom_classes": [],
            "_model_module": "@jupyter-widgets/controls",
            "_model_module_version": "1.5.0",
            "_model_name": "HTMLModel",
            "_view_count": null,
            "_view_module": "@jupyter-widgets/controls",
            "_view_module_version": "1.5.0",
            "_view_name": "HTMLView",
            "description": "",
            "description_tooltip": null,
            "layout": "IPY_MODEL_a87f5641a4cc45e4b9680c4f39f10adb",
            "placeholder": "​",
            "style": "IPY_MODEL_f7e37addf6634720951ecad54ff229b5",
            "value": "100%"
          }
        },
        "10bf11ffa98b4e3db983996a1c2312f5": {
          "model_module": "@jupyter-widgets/controls",
          "model_name": "FloatProgressModel",
          "model_module_version": "1.5.0",
          "state": {
            "_dom_classes": [],
            "_model_module": "@jupyter-widgets/controls",
            "_model_module_version": "1.5.0",
            "_model_name": "FloatProgressModel",
            "_view_count": null,
            "_view_module": "@jupyter-widgets/controls",
            "_view_module_version": "1.5.0",
            "_view_name": "ProgressView",
            "bar_style": "success",
            "description": "",
            "description_tooltip": null,
            "layout": "IPY_MODEL_7e09e24747c64b2ba9365f0a9a5824ea",
            "max": 3001,
            "min": 0,
            "orientation": "horizontal",
            "style": "IPY_MODEL_3dda87b7df3849b59c4dbbcf69be4435",
            "value": 3001
          }
        },
        "2754049777b64696a792343cddb4183f": {
          "model_module": "@jupyter-widgets/controls",
          "model_name": "HTMLModel",
          "model_module_version": "1.5.0",
          "state": {
            "_dom_classes": [],
            "_model_module": "@jupyter-widgets/controls",
            "_model_module_version": "1.5.0",
            "_model_name": "HTMLModel",
            "_view_count": null,
            "_view_module": "@jupyter-widgets/controls",
            "_view_module_version": "1.5.0",
            "_view_name": "HTMLView",
            "description": "",
            "description_tooltip": null,
            "layout": "IPY_MODEL_3c4a934113a04c1a90263772a5f344a5",
            "placeholder": "​",
            "style": "IPY_MODEL_c290ae7d67cc4edcb909f16b6936107f",
            "value": " 3001/3001 [02:25&lt;00:00, 24.38it/s]"
          }
        },
        "e20c010704724632ae65fce3bee1227e": {
          "model_module": "@jupyter-widgets/base",
          "model_name": "LayoutModel",
          "model_module_version": "1.2.0",
          "state": {
            "_model_module": "@jupyter-widgets/base",
            "_model_module_version": "1.2.0",
            "_model_name": "LayoutModel",
            "_view_count": null,
            "_view_module": "@jupyter-widgets/base",
            "_view_module_version": "1.2.0",
            "_view_name": "LayoutView",
            "align_content": null,
            "align_items": null,
            "align_self": null,
            "border": null,
            "bottom": null,
            "display": null,
            "flex": null,
            "flex_flow": null,
            "grid_area": null,
            "grid_auto_columns": null,
            "grid_auto_flow": null,
            "grid_auto_rows": null,
            "grid_column": null,
            "grid_gap": null,
            "grid_row": null,
            "grid_template_areas": null,
            "grid_template_columns": null,
            "grid_template_rows": null,
            "height": null,
            "justify_content": null,
            "justify_items": null,
            "left": null,
            "margin": null,
            "max_height": null,
            "max_width": null,
            "min_height": null,
            "min_width": null,
            "object_fit": null,
            "object_position": null,
            "order": null,
            "overflow": null,
            "overflow_x": null,
            "overflow_y": null,
            "padding": null,
            "right": null,
            "top": null,
            "visibility": null,
            "width": null
          }
        },
        "a87f5641a4cc45e4b9680c4f39f10adb": {
          "model_module": "@jupyter-widgets/base",
          "model_name": "LayoutModel",
          "model_module_version": "1.2.0",
          "state": {
            "_model_module": "@jupyter-widgets/base",
            "_model_module_version": "1.2.0",
            "_model_name": "LayoutModel",
            "_view_count": null,
            "_view_module": "@jupyter-widgets/base",
            "_view_module_version": "1.2.0",
            "_view_name": "LayoutView",
            "align_content": null,
            "align_items": null,
            "align_self": null,
            "border": null,
            "bottom": null,
            "display": null,
            "flex": null,
            "flex_flow": null,
            "grid_area": null,
            "grid_auto_columns": null,
            "grid_auto_flow": null,
            "grid_auto_rows": null,
            "grid_column": null,
            "grid_gap": null,
            "grid_row": null,
            "grid_template_areas": null,
            "grid_template_columns": null,
            "grid_template_rows": null,
            "height": null,
            "justify_content": null,
            "justify_items": null,
            "left": null,
            "margin": null,
            "max_height": null,
            "max_width": null,
            "min_height": null,
            "min_width": null,
            "object_fit": null,
            "object_position": null,
            "order": null,
            "overflow": null,
            "overflow_x": null,
            "overflow_y": null,
            "padding": null,
            "right": null,
            "top": null,
            "visibility": null,
            "width": null
          }
        },
        "f7e37addf6634720951ecad54ff229b5": {
          "model_module": "@jupyter-widgets/controls",
          "model_name": "DescriptionStyleModel",
          "model_module_version": "1.5.0",
          "state": {
            "_model_module": "@jupyter-widgets/controls",
            "_model_module_version": "1.5.0",
            "_model_name": "DescriptionStyleModel",
            "_view_count": null,
            "_view_module": "@jupyter-widgets/base",
            "_view_module_version": "1.2.0",
            "_view_name": "StyleView",
            "description_width": ""
          }
        },
        "7e09e24747c64b2ba9365f0a9a5824ea": {
          "model_module": "@jupyter-widgets/base",
          "model_name": "LayoutModel",
          "model_module_version": "1.2.0",
          "state": {
            "_model_module": "@jupyter-widgets/base",
            "_model_module_version": "1.2.0",
            "_model_name": "LayoutModel",
            "_view_count": null,
            "_view_module": "@jupyter-widgets/base",
            "_view_module_version": "1.2.0",
            "_view_name": "LayoutView",
            "align_content": null,
            "align_items": null,
            "align_self": null,
            "border": null,
            "bottom": null,
            "display": null,
            "flex": null,
            "flex_flow": null,
            "grid_area": null,
            "grid_auto_columns": null,
            "grid_auto_flow": null,
            "grid_auto_rows": null,
            "grid_column": null,
            "grid_gap": null,
            "grid_row": null,
            "grid_template_areas": null,
            "grid_template_columns": null,
            "grid_template_rows": null,
            "height": null,
            "justify_content": null,
            "justify_items": null,
            "left": null,
            "margin": null,
            "max_height": null,
            "max_width": null,
            "min_height": null,
            "min_width": null,
            "object_fit": null,
            "object_position": null,
            "order": null,
            "overflow": null,
            "overflow_x": null,
            "overflow_y": null,
            "padding": null,
            "right": null,
            "top": null,
            "visibility": null,
            "width": null
          }
        },
        "3dda87b7df3849b59c4dbbcf69be4435": {
          "model_module": "@jupyter-widgets/controls",
          "model_name": "ProgressStyleModel",
          "model_module_version": "1.5.0",
          "state": {
            "_model_module": "@jupyter-widgets/controls",
            "_model_module_version": "1.5.0",
            "_model_name": "ProgressStyleModel",
            "_view_count": null,
            "_view_module": "@jupyter-widgets/base",
            "_view_module_version": "1.2.0",
            "_view_name": "StyleView",
            "bar_color": null,
            "description_width": ""
          }
        },
        "3c4a934113a04c1a90263772a5f344a5": {
          "model_module": "@jupyter-widgets/base",
          "model_name": "LayoutModel",
          "model_module_version": "1.2.0",
          "state": {
            "_model_module": "@jupyter-widgets/base",
            "_model_module_version": "1.2.0",
            "_model_name": "LayoutModel",
            "_view_count": null,
            "_view_module": "@jupyter-widgets/base",
            "_view_module_version": "1.2.0",
            "_view_name": "LayoutView",
            "align_content": null,
            "align_items": null,
            "align_self": null,
            "border": null,
            "bottom": null,
            "display": null,
            "flex": null,
            "flex_flow": null,
            "grid_area": null,
            "grid_auto_columns": null,
            "grid_auto_flow": null,
            "grid_auto_rows": null,
            "grid_column": null,
            "grid_gap": null,
            "grid_row": null,
            "grid_template_areas": null,
            "grid_template_columns": null,
            "grid_template_rows": null,
            "height": null,
            "justify_content": null,
            "justify_items": null,
            "left": null,
            "margin": null,
            "max_height": null,
            "max_width": null,
            "min_height": null,
            "min_width": null,
            "object_fit": null,
            "object_position": null,
            "order": null,
            "overflow": null,
            "overflow_x": null,
            "overflow_y": null,
            "padding": null,
            "right": null,
            "top": null,
            "visibility": null,
            "width": null
          }
        },
        "c290ae7d67cc4edcb909f16b6936107f": {
          "model_module": "@jupyter-widgets/controls",
          "model_name": "DescriptionStyleModel",
          "model_module_version": "1.5.0",
          "state": {
            "_model_module": "@jupyter-widgets/controls",
            "_model_module_version": "1.5.0",
            "_model_name": "DescriptionStyleModel",
            "_view_count": null,
            "_view_module": "@jupyter-widgets/base",
            "_view_module_version": "1.2.0",
            "_view_name": "StyleView",
            "description_width": ""
          }
        },
        "027b77787c074d94b83239df7a7ec3cb": {
          "model_module": "@jupyter-widgets/controls",
          "model_name": "HBoxModel",
          "model_module_version": "1.5.0",
          "state": {
            "_dom_classes": [],
            "_model_module": "@jupyter-widgets/controls",
            "_model_module_version": "1.5.0",
            "_model_name": "HBoxModel",
            "_view_count": null,
            "_view_module": "@jupyter-widgets/controls",
            "_view_module_version": "1.5.0",
            "_view_name": "HBoxView",
            "box_style": "",
            "children": [
              "IPY_MODEL_9a873c70912248a984a221a03b25f560",
              "IPY_MODEL_2e0e093cc21345e8bfd961f2f7ab4524",
              "IPY_MODEL_cd445c9af4c74fccb88abde5baa1af76"
            ],
            "layout": "IPY_MODEL_b53a596b9ed14c31b50241d4b681a649"
          }
        },
        "9a873c70912248a984a221a03b25f560": {
          "model_module": "@jupyter-widgets/controls",
          "model_name": "HTMLModel",
          "model_module_version": "1.5.0",
          "state": {
            "_dom_classes": [],
            "_model_module": "@jupyter-widgets/controls",
            "_model_module_version": "1.5.0",
            "_model_name": "HTMLModel",
            "_view_count": null,
            "_view_module": "@jupyter-widgets/controls",
            "_view_module_version": "1.5.0",
            "_view_name": "HTMLView",
            "description": "",
            "description_tooltip": null,
            "layout": "IPY_MODEL_d53dcaf392044d84be757859817a3bfa",
            "placeholder": "​",
            "style": "IPY_MODEL_6ee0f4ed5b104939a861a3365fa9fb05",
            "value": "100%"
          }
        },
        "2e0e093cc21345e8bfd961f2f7ab4524": {
          "model_module": "@jupyter-widgets/controls",
          "model_name": "FloatProgressModel",
          "model_module_version": "1.5.0",
          "state": {
            "_dom_classes": [],
            "_model_module": "@jupyter-widgets/controls",
            "_model_module_version": "1.5.0",
            "_model_name": "FloatProgressModel",
            "_view_count": null,
            "_view_module": "@jupyter-widgets/controls",
            "_view_module_version": "1.5.0",
            "_view_name": "ProgressView",
            "bar_style": "success",
            "description": "",
            "description_tooltip": null,
            "layout": "IPY_MODEL_cea890e612aa471cb541e971aed3e353",
            "max": 3001,
            "min": 0,
            "orientation": "horizontal",
            "style": "IPY_MODEL_01e475555d6d42d89b5c87bc10af0a61",
            "value": 3001
          }
        },
        "cd445c9af4c74fccb88abde5baa1af76": {
          "model_module": "@jupyter-widgets/controls",
          "model_name": "HTMLModel",
          "model_module_version": "1.5.0",
          "state": {
            "_dom_classes": [],
            "_model_module": "@jupyter-widgets/controls",
            "_model_module_version": "1.5.0",
            "_model_name": "HTMLModel",
            "_view_count": null,
            "_view_module": "@jupyter-widgets/controls",
            "_view_module_version": "1.5.0",
            "_view_name": "HTMLView",
            "description": "",
            "description_tooltip": null,
            "layout": "IPY_MODEL_f8c3530b4665428b9fd9fe79b1296fe6",
            "placeholder": "​",
            "style": "IPY_MODEL_26dafdb3068d47ca82554868d3e6d7f7",
            "value": " 3001/3001 [02:07&lt;00:00, 24.25it/s]"
          }
        },
        "b53a596b9ed14c31b50241d4b681a649": {
          "model_module": "@jupyter-widgets/base",
          "model_name": "LayoutModel",
          "model_module_version": "1.2.0",
          "state": {
            "_model_module": "@jupyter-widgets/base",
            "_model_module_version": "1.2.0",
            "_model_name": "LayoutModel",
            "_view_count": null,
            "_view_module": "@jupyter-widgets/base",
            "_view_module_version": "1.2.0",
            "_view_name": "LayoutView",
            "align_content": null,
            "align_items": null,
            "align_self": null,
            "border": null,
            "bottom": null,
            "display": null,
            "flex": null,
            "flex_flow": null,
            "grid_area": null,
            "grid_auto_columns": null,
            "grid_auto_flow": null,
            "grid_auto_rows": null,
            "grid_column": null,
            "grid_gap": null,
            "grid_row": null,
            "grid_template_areas": null,
            "grid_template_columns": null,
            "grid_template_rows": null,
            "height": null,
            "justify_content": null,
            "justify_items": null,
            "left": null,
            "margin": null,
            "max_height": null,
            "max_width": null,
            "min_height": null,
            "min_width": null,
            "object_fit": null,
            "object_position": null,
            "order": null,
            "overflow": null,
            "overflow_x": null,
            "overflow_y": null,
            "padding": null,
            "right": null,
            "top": null,
            "visibility": null,
            "width": null
          }
        },
        "d53dcaf392044d84be757859817a3bfa": {
          "model_module": "@jupyter-widgets/base",
          "model_name": "LayoutModel",
          "model_module_version": "1.2.0",
          "state": {
            "_model_module": "@jupyter-widgets/base",
            "_model_module_version": "1.2.0",
            "_model_name": "LayoutModel",
            "_view_count": null,
            "_view_module": "@jupyter-widgets/base",
            "_view_module_version": "1.2.0",
            "_view_name": "LayoutView",
            "align_content": null,
            "align_items": null,
            "align_self": null,
            "border": null,
            "bottom": null,
            "display": null,
            "flex": null,
            "flex_flow": null,
            "grid_area": null,
            "grid_auto_columns": null,
            "grid_auto_flow": null,
            "grid_auto_rows": null,
            "grid_column": null,
            "grid_gap": null,
            "grid_row": null,
            "grid_template_areas": null,
            "grid_template_columns": null,
            "grid_template_rows": null,
            "height": null,
            "justify_content": null,
            "justify_items": null,
            "left": null,
            "margin": null,
            "max_height": null,
            "max_width": null,
            "min_height": null,
            "min_width": null,
            "object_fit": null,
            "object_position": null,
            "order": null,
            "overflow": null,
            "overflow_x": null,
            "overflow_y": null,
            "padding": null,
            "right": null,
            "top": null,
            "visibility": null,
            "width": null
          }
        },
        "6ee0f4ed5b104939a861a3365fa9fb05": {
          "model_module": "@jupyter-widgets/controls",
          "model_name": "DescriptionStyleModel",
          "model_module_version": "1.5.0",
          "state": {
            "_model_module": "@jupyter-widgets/controls",
            "_model_module_version": "1.5.0",
            "_model_name": "DescriptionStyleModel",
            "_view_count": null,
            "_view_module": "@jupyter-widgets/base",
            "_view_module_version": "1.2.0",
            "_view_name": "StyleView",
            "description_width": ""
          }
        },
        "cea890e612aa471cb541e971aed3e353": {
          "model_module": "@jupyter-widgets/base",
          "model_name": "LayoutModel",
          "model_module_version": "1.2.0",
          "state": {
            "_model_module": "@jupyter-widgets/base",
            "_model_module_version": "1.2.0",
            "_model_name": "LayoutModel",
            "_view_count": null,
            "_view_module": "@jupyter-widgets/base",
            "_view_module_version": "1.2.0",
            "_view_name": "LayoutView",
            "align_content": null,
            "align_items": null,
            "align_self": null,
            "border": null,
            "bottom": null,
            "display": null,
            "flex": null,
            "flex_flow": null,
            "grid_area": null,
            "grid_auto_columns": null,
            "grid_auto_flow": null,
            "grid_auto_rows": null,
            "grid_column": null,
            "grid_gap": null,
            "grid_row": null,
            "grid_template_areas": null,
            "grid_template_columns": null,
            "grid_template_rows": null,
            "height": null,
            "justify_content": null,
            "justify_items": null,
            "left": null,
            "margin": null,
            "max_height": null,
            "max_width": null,
            "min_height": null,
            "min_width": null,
            "object_fit": null,
            "object_position": null,
            "order": null,
            "overflow": null,
            "overflow_x": null,
            "overflow_y": null,
            "padding": null,
            "right": null,
            "top": null,
            "visibility": null,
            "width": null
          }
        },
        "01e475555d6d42d89b5c87bc10af0a61": {
          "model_module": "@jupyter-widgets/controls",
          "model_name": "ProgressStyleModel",
          "model_module_version": "1.5.0",
          "state": {
            "_model_module": "@jupyter-widgets/controls",
            "_model_module_version": "1.5.0",
            "_model_name": "ProgressStyleModel",
            "_view_count": null,
            "_view_module": "@jupyter-widgets/base",
            "_view_module_version": "1.2.0",
            "_view_name": "StyleView",
            "bar_color": null,
            "description_width": ""
          }
        },
        "f8c3530b4665428b9fd9fe79b1296fe6": {
          "model_module": "@jupyter-widgets/base",
          "model_name": "LayoutModel",
          "model_module_version": "1.2.0",
          "state": {
            "_model_module": "@jupyter-widgets/base",
            "_model_module_version": "1.2.0",
            "_model_name": "LayoutModel",
            "_view_count": null,
            "_view_module": "@jupyter-widgets/base",
            "_view_module_version": "1.2.0",
            "_view_name": "LayoutView",
            "align_content": null,
            "align_items": null,
            "align_self": null,
            "border": null,
            "bottom": null,
            "display": null,
            "flex": null,
            "flex_flow": null,
            "grid_area": null,
            "grid_auto_columns": null,
            "grid_auto_flow": null,
            "grid_auto_rows": null,
            "grid_column": null,
            "grid_gap": null,
            "grid_row": null,
            "grid_template_areas": null,
            "grid_template_columns": null,
            "grid_template_rows": null,
            "height": null,
            "justify_content": null,
            "justify_items": null,
            "left": null,
            "margin": null,
            "max_height": null,
            "max_width": null,
            "min_height": null,
            "min_width": null,
            "object_fit": null,
            "object_position": null,
            "order": null,
            "overflow": null,
            "overflow_x": null,
            "overflow_y": null,
            "padding": null,
            "right": null,
            "top": null,
            "visibility": null,
            "width": null
          }
        },
        "26dafdb3068d47ca82554868d3e6d7f7": {
          "model_module": "@jupyter-widgets/controls",
          "model_name": "DescriptionStyleModel",
          "model_module_version": "1.5.0",
          "state": {
            "_model_module": "@jupyter-widgets/controls",
            "_model_module_version": "1.5.0",
            "_model_name": "DescriptionStyleModel",
            "_view_count": null,
            "_view_module": "@jupyter-widgets/base",
            "_view_module_version": "1.2.0",
            "_view_name": "StyleView",
            "description_width": ""
          }
        }
      }
    }
  },
  "nbformat": 4,
  "nbformat_minor": 0
}