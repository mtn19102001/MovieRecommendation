{
  "cells": [
    {
      "cell_type": "code",
      "execution_count": 1,
      "id": "6690ea36",
      "metadata": {},
      "outputs": [],
      "source": [
        "import warnings\n",
        "warnings.filterwarnings('ignore')"
      ]
    },
    {
      "cell_type": "code",
      "execution_count": 2,
      "id": "bbe2767d",
      "metadata": {
        "execution": {
          "iopub.execute_input": "2022-05-29T09:55:42.860261Z",
          "iopub.status.busy": "2022-05-29T09:55:42.858874Z",
          "iopub.status.idle": "2022-05-29T09:55:42.872018Z",
          "shell.execute_reply": "2022-05-29T09:55:42.871225Z"
        },
        "id": "bbe2767d",
        "papermill": {
          "duration": 0.032932,
          "end_time": "2022-05-29T09:55:42.874459",
          "exception": false,
          "start_time": "2022-05-29T09:55:42.841527",
          "status": "completed"
        },
        "tags": []
      },
      "outputs": [],
      "source": [
        "import pandas as pd\n",
        "import os\n",
        "import json \n",
        "import numpy as np\n",
        "import ast"
      ]
    },
    {
      "cell_type": "code",
      "execution_count": 3,
      "id": "9892e443",
      "metadata": {},
      "outputs": [],
      "source": [
        "os.chdir(\"../Dataset\")"
      ]
    },
    {
      "cell_type": "markdown",
      "id": "e8cd877e",
      "metadata": {},
      "source": [
        "In this notebook, the Train and Test Split may take long!"
      ]
    },
    {
      "cell_type": "markdown",
      "id": "cb1dfc00",
      "metadata": {},
      "source": [
        "## 1. Clean data"
      ]
    },
    {
      "cell_type": "code",
      "execution_count": 4,
      "id": "23a6851a",
      "metadata": {
        "colab": {
          "base_uri": "https://localhost:8080/"
        },
        "execution": {
          "iopub.execute_input": "2022-05-29T09:55:44.093421Z",
          "iopub.status.busy": "2022-05-29T09:55:44.092811Z",
          "iopub.status.idle": "2022-05-29T09:56:07.276470Z",
          "shell.execute_reply": "2022-05-29T09:56:07.275499Z"
        },
        "id": "23a6851a",
        "outputId": "9a03e05a-741a-41e4-8c67-ddda096ec5e9",
        "papermill": {
          "duration": 23.199228,
          "end_time": "2022-05-29T09:56:07.278885",
          "exception": false,
          "start_time": "2022-05-29T09:55:44.079657",
          "status": "completed"
        },
        "tags": []
      },
      "outputs": [],
      "source": [
        "ratings = pd.read_csv(\"ratings_small.csv\")\n",
        "metadata = pd.read_csv(\"movies_metadata.csv\")\n",
        "credits = pd.read_csv(\"credits.csv\")\n",
        "keywords = pd.read_csv(\"keywords.csv\")"
      ]
    },
    {
      "cell_type": "code",
      "execution_count": 5,
      "id": "6476d52b",
      "metadata": {
        "colab": {
          "base_uri": "https://localhost:8080/"
        },
        "execution": {
          "iopub.execute_input": "2022-05-29T09:56:07.372062Z",
          "iopub.status.busy": "2022-05-29T09:56:07.371074Z",
          "iopub.status.idle": "2022-05-29T09:56:07.488306Z",
          "shell.execute_reply": "2022-05-29T09:56:07.487304Z"
        },
        "id": "6476d52b",
        "outputId": "50b4cbc2-4063-4b8a-de10-cb0b848668a4",
        "papermill": {
          "duration": 0.133657,
          "end_time": "2022-05-29T09:56:07.490497",
          "exception": false,
          "start_time": "2022-05-29T09:56:07.356840",
          "status": "completed"
        },
        "tags": []
      },
      "outputs": [
        {
          "name": "stdout",
          "output_type": "stream",
          "text": [
            "<class 'pandas.core.frame.DataFrame'>\n",
            "RangeIndex: 45466 entries, 0 to 45465\n",
            "Data columns (total 24 columns):\n",
            " #   Column                 Non-Null Count  Dtype  \n",
            "---  ------                 --------------  -----  \n",
            " 0   adult                  45466 non-null  object \n",
            " 1   belongs_to_collection  4494 non-null   object \n",
            " 2   budget                 45466 non-null  object \n",
            " 3   genres                 45466 non-null  object \n",
            " 4   homepage               7782 non-null   object \n",
            " 5   id                     45466 non-null  object \n",
            " 6   imdb_id                45449 non-null  object \n",
            " 7   original_language      45455 non-null  object \n",
            " 8   original_title         45466 non-null  object \n",
            " 9   overview               44512 non-null  object \n",
            " 10  popularity             45461 non-null  object \n",
            " 11  poster_path            45080 non-null  object \n",
            " 12  production_companies   45463 non-null  object \n",
            " 13  production_countries   45463 non-null  object \n",
            " 14  release_date           45379 non-null  object \n",
            " 15  revenue                45460 non-null  float64\n",
            " 16  runtime                45203 non-null  float64\n",
            " 17  spoken_languages       45460 non-null  object \n",
            " 18  status                 45379 non-null  object \n",
            " 19  tagline                20412 non-null  object \n",
            " 20  title                  45460 non-null  object \n",
            " 21  video                  45460 non-null  object \n",
            " 22  vote_average           45460 non-null  float64\n",
            " 23  vote_count             45460 non-null  float64\n",
            "dtypes: float64(4), object(20)\n",
            "memory usage: 8.3+ MB\n"
          ]
        }
      ],
      "source": [
        "metadata.info()"
      ]
    },
    {
      "cell_type": "markdown",
      "id": "4a75fc29",
      "metadata": {
        "id": "4a75fc29",
        "papermill": {
          "duration": 0.012075,
          "end_time": "2022-05-29T09:56:07.514960",
          "exception": false,
          "start_time": "2022-05-29T09:56:07.502885",
          "status": "completed"
        },
        "tags": []
      },
      "source": [
        "### ID"
      ]
    },
    {
      "cell_type": "code",
      "execution_count": 6,
      "id": "309ec6c5",
      "metadata": {
        "colab": {
          "base_uri": "https://localhost:8080/",
          "height": 226
        },
        "execution": {
          "iopub.execute_input": "2022-05-29T09:56:07.541874Z",
          "iopub.status.busy": "2022-05-29T09:56:07.541112Z",
          "iopub.status.idle": "2022-05-29T09:56:07.576030Z",
          "shell.execute_reply": "2022-05-29T09:56:07.574884Z"
        },
        "id": "309ec6c5",
        "outputId": "f8a424d3-434b-4c50-b1eb-524e63306225",
        "papermill": {
          "duration": 0.050945,
          "end_time": "2022-05-29T09:56:07.578404",
          "exception": false,
          "start_time": "2022-05-29T09:56:07.527459",
          "status": "completed"
        },
        "tags": []
      },
      "outputs": [
        {
          "data": {
            "text/html": [
              "<div>\n",
              "<style scoped>\n",
              "    .dataframe tbody tr th:only-of-type {\n",
              "        vertical-align: middle;\n",
              "    }\n",
              "\n",
              "    .dataframe tbody tr th {\n",
              "        vertical-align: top;\n",
              "    }\n",
              "\n",
              "    .dataframe thead th {\n",
              "        text-align: right;\n",
              "    }\n",
              "</style>\n",
              "<table border=\"1\" class=\"dataframe\">\n",
              "  <thead>\n",
              "    <tr style=\"text-align: right;\">\n",
              "      <th></th>\n",
              "      <th>adult</th>\n",
              "      <th>belongs_to_collection</th>\n",
              "      <th>budget</th>\n",
              "      <th>genres</th>\n",
              "      <th>homepage</th>\n",
              "      <th>id</th>\n",
              "      <th>imdb_id</th>\n",
              "      <th>original_language</th>\n",
              "      <th>original_title</th>\n",
              "      <th>overview</th>\n",
              "      <th>...</th>\n",
              "      <th>release_date</th>\n",
              "      <th>revenue</th>\n",
              "      <th>runtime</th>\n",
              "      <th>spoken_languages</th>\n",
              "      <th>status</th>\n",
              "      <th>tagline</th>\n",
              "      <th>title</th>\n",
              "      <th>video</th>\n",
              "      <th>vote_average</th>\n",
              "      <th>vote_count</th>\n",
              "    </tr>\n",
              "  </thead>\n",
              "  <tbody>\n",
              "    <tr>\n",
              "      <th>19730</th>\n",
              "      <td>- Written by Ørnås</td>\n",
              "      <td>0.065736</td>\n",
              "      <td>/ff9qCepilowshEtG2GYWwzt2bs4.jpg</td>\n",
              "      <td>[{'name': 'Carousel Productions', 'id': 11176}...</td>\n",
              "      <td>[{'iso_3166_1': 'CA', 'name': 'Canada'}, {'iso...</td>\n",
              "      <td>1997-08-20</td>\n",
              "      <td>0</td>\n",
              "      <td>104.0</td>\n",
              "      <td>[{'iso_639_1': 'en', 'name': 'English'}]</td>\n",
              "      <td>Released</td>\n",
              "      <td>...</td>\n",
              "      <td>1</td>\n",
              "      <td>NaN</td>\n",
              "      <td>NaN</td>\n",
              "      <td>NaN</td>\n",
              "      <td>NaN</td>\n",
              "      <td>NaN</td>\n",
              "      <td>NaN</td>\n",
              "      <td>NaN</td>\n",
              "      <td>NaN</td>\n",
              "      <td>NaN</td>\n",
              "    </tr>\n",
              "  </tbody>\n",
              "</table>\n",
              "<p>1 rows × 24 columns</p>\n",
              "</div>"
            ],
            "text/plain": [
              "                     adult belongs_to_collection  \\\n",
              "19730   - Written by Ørnås              0.065736   \n",
              "\n",
              "                                 budget  \\\n",
              "19730  /ff9qCepilowshEtG2GYWwzt2bs4.jpg   \n",
              "\n",
              "                                                  genres  \\\n",
              "19730  [{'name': 'Carousel Productions', 'id': 11176}...   \n",
              "\n",
              "                                                homepage          id imdb_id  \\\n",
              "19730  [{'iso_3166_1': 'CA', 'name': 'Canada'}, {'iso...  1997-08-20       0   \n",
              "\n",
              "      original_language                            original_title  overview  \\\n",
              "19730             104.0  [{'iso_639_1': 'en', 'name': 'English'}]  Released   \n",
              "\n",
              "       ... release_date revenue runtime spoken_languages status  tagline  \\\n",
              "19730  ...            1     NaN     NaN              NaN    NaN      NaN   \n",
              "\n",
              "       title video vote_average vote_count  \n",
              "19730    NaN   NaN          NaN        NaN  \n",
              "\n",
              "[1 rows x 24 columns]"
            ]
          },
          "execution_count": 6,
          "metadata": {},
          "output_type": "execute_result"
        }
      ],
      "source": [
        "metadata[metadata['id']==\"1997-08-20\"]"
      ]
    },
    {
      "cell_type": "code",
      "execution_count": 7,
      "id": "2f93861d",
      "metadata": {
        "execution": {
          "iopub.execute_input": "2022-05-29T09:56:07.606407Z",
          "iopub.status.busy": "2022-05-29T09:56:07.605306Z",
          "iopub.status.idle": "2022-05-29T09:56:07.610739Z",
          "shell.execute_reply": "2022-05-29T09:56:07.609739Z"
        },
        "id": "2f93861d",
        "papermill": {
          "duration": 0.021636,
          "end_time": "2022-05-29T09:56:07.612759",
          "exception": false,
          "start_time": "2022-05-29T09:56:07.591123",
          "status": "completed"
        },
        "tags": []
      },
      "outputs": [],
      "source": [
        "def isInteger(number):\n",
        "    try:\n",
        "        a = int(number)\n",
        "    except:\n",
        "        return False\n",
        "    return True"
      ]
    },
    {
      "cell_type": "code",
      "execution_count": 8,
      "id": "65c1db0a",
      "metadata": {
        "colab": {
          "base_uri": "https://localhost:8080/",
          "height": 445
        },
        "execution": {
          "iopub.execute_input": "2022-05-29T09:56:07.641347Z",
          "iopub.status.busy": "2022-05-29T09:56:07.640928Z",
          "iopub.status.idle": "2022-05-29T09:56:07.691887Z",
          "shell.execute_reply": "2022-05-29T09:56:07.691011Z"
        },
        "id": "65c1db0a",
        "outputId": "e8742a26-9c72-4921-c1ec-aa513ccc9961",
        "papermill": {
          "duration": 0.067955,
          "end_time": "2022-05-29T09:56:07.693955",
          "exception": false,
          "start_time": "2022-05-29T09:56:07.626000",
          "status": "completed"
        },
        "tags": []
      },
      "outputs": [
        {
          "data": {
            "text/html": [
              "<div>\n",
              "<style scoped>\n",
              "    .dataframe tbody tr th:only-of-type {\n",
              "        vertical-align: middle;\n",
              "    }\n",
              "\n",
              "    .dataframe tbody tr th {\n",
              "        vertical-align: top;\n",
              "    }\n",
              "\n",
              "    .dataframe thead th {\n",
              "        text-align: right;\n",
              "    }\n",
              "</style>\n",
              "<table border=\"1\" class=\"dataframe\">\n",
              "  <thead>\n",
              "    <tr style=\"text-align: right;\">\n",
              "      <th></th>\n",
              "      <th>adult</th>\n",
              "      <th>belongs_to_collection</th>\n",
              "      <th>budget</th>\n",
              "      <th>genres</th>\n",
              "      <th>homepage</th>\n",
              "      <th>id</th>\n",
              "      <th>imdb_id</th>\n",
              "      <th>original_language</th>\n",
              "      <th>original_title</th>\n",
              "      <th>overview</th>\n",
              "      <th>...</th>\n",
              "      <th>revenue</th>\n",
              "      <th>runtime</th>\n",
              "      <th>spoken_languages</th>\n",
              "      <th>status</th>\n",
              "      <th>tagline</th>\n",
              "      <th>title</th>\n",
              "      <th>video</th>\n",
              "      <th>vote_average</th>\n",
              "      <th>vote_count</th>\n",
              "      <th>isInteger</th>\n",
              "    </tr>\n",
              "  </thead>\n",
              "  <tbody>\n",
              "    <tr>\n",
              "      <th>19730</th>\n",
              "      <td>- Written by Ørnås</td>\n",
              "      <td>0.065736</td>\n",
              "      <td>/ff9qCepilowshEtG2GYWwzt2bs4.jpg</td>\n",
              "      <td>[{'name': 'Carousel Productions', 'id': 11176}...</td>\n",
              "      <td>[{'iso_3166_1': 'CA', 'name': 'Canada'}, {'iso...</td>\n",
              "      <td>1997-08-20</td>\n",
              "      <td>0</td>\n",
              "      <td>104.0</td>\n",
              "      <td>[{'iso_639_1': 'en', 'name': 'English'}]</td>\n",
              "      <td>Released</td>\n",
              "      <td>...</td>\n",
              "      <td>NaN</td>\n",
              "      <td>NaN</td>\n",
              "      <td>NaN</td>\n",
              "      <td>NaN</td>\n",
              "      <td>NaN</td>\n",
              "      <td>NaN</td>\n",
              "      <td>NaN</td>\n",
              "      <td>NaN</td>\n",
              "      <td>NaN</td>\n",
              "      <td>False</td>\n",
              "    </tr>\n",
              "    <tr>\n",
              "      <th>29503</th>\n",
              "      <td>Rune Balot goes to a casino connected to the ...</td>\n",
              "      <td>1.931659</td>\n",
              "      <td>/zV8bHuSL6WXoD6FWogP9j4x80bL.jpg</td>\n",
              "      <td>[{'name': 'Aniplex', 'id': 2883}, {'name': 'Go...</td>\n",
              "      <td>[{'iso_3166_1': 'US', 'name': 'United States o...</td>\n",
              "      <td>2012-09-29</td>\n",
              "      <td>0</td>\n",
              "      <td>68.0</td>\n",
              "      <td>[{'iso_639_1': 'ja', 'name': '日本語'}]</td>\n",
              "      <td>Released</td>\n",
              "      <td>...</td>\n",
              "      <td>NaN</td>\n",
              "      <td>NaN</td>\n",
              "      <td>NaN</td>\n",
              "      <td>NaN</td>\n",
              "      <td>NaN</td>\n",
              "      <td>NaN</td>\n",
              "      <td>NaN</td>\n",
              "      <td>NaN</td>\n",
              "      <td>NaN</td>\n",
              "      <td>False</td>\n",
              "    </tr>\n",
              "    <tr>\n",
              "      <th>35587</th>\n",
              "      <td>Avalanche Sharks tells the story of a bikini ...</td>\n",
              "      <td>2.185485</td>\n",
              "      <td>/zaSf5OG7V8X8gqFvly88zDdRm46.jpg</td>\n",
              "      <td>[{'name': 'Odyssey Media', 'id': 17161}, {'nam...</td>\n",
              "      <td>[{'iso_3166_1': 'CA', 'name': 'Canada'}]</td>\n",
              "      <td>2014-01-01</td>\n",
              "      <td>0</td>\n",
              "      <td>82.0</td>\n",
              "      <td>[{'iso_639_1': 'en', 'name': 'English'}]</td>\n",
              "      <td>Released</td>\n",
              "      <td>...</td>\n",
              "      <td>NaN</td>\n",
              "      <td>NaN</td>\n",
              "      <td>NaN</td>\n",
              "      <td>NaN</td>\n",
              "      <td>NaN</td>\n",
              "      <td>NaN</td>\n",
              "      <td>NaN</td>\n",
              "      <td>NaN</td>\n",
              "      <td>NaN</td>\n",
              "      <td>False</td>\n",
              "    </tr>\n",
              "  </tbody>\n",
              "</table>\n",
              "<p>3 rows × 25 columns</p>\n",
              "</div>"
            ],
            "text/plain": [
              "                                                   adult  \\\n",
              "19730                                 - Written by Ørnås   \n",
              "29503   Rune Balot goes to a casino connected to the ...   \n",
              "35587   Avalanche Sharks tells the story of a bikini ...   \n",
              "\n",
              "      belongs_to_collection                            budget  \\\n",
              "19730              0.065736  /ff9qCepilowshEtG2GYWwzt2bs4.jpg   \n",
              "29503              1.931659  /zV8bHuSL6WXoD6FWogP9j4x80bL.jpg   \n",
              "35587              2.185485  /zaSf5OG7V8X8gqFvly88zDdRm46.jpg   \n",
              "\n",
              "                                                  genres  \\\n",
              "19730  [{'name': 'Carousel Productions', 'id': 11176}...   \n",
              "29503  [{'name': 'Aniplex', 'id': 2883}, {'name': 'Go...   \n",
              "35587  [{'name': 'Odyssey Media', 'id': 17161}, {'nam...   \n",
              "\n",
              "                                                homepage          id imdb_id  \\\n",
              "19730  [{'iso_3166_1': 'CA', 'name': 'Canada'}, {'iso...  1997-08-20       0   \n",
              "29503  [{'iso_3166_1': 'US', 'name': 'United States o...  2012-09-29       0   \n",
              "35587           [{'iso_3166_1': 'CA', 'name': 'Canada'}]  2014-01-01       0   \n",
              "\n",
              "      original_language                            original_title  overview  \\\n",
              "19730             104.0  [{'iso_639_1': 'en', 'name': 'English'}]  Released   \n",
              "29503              68.0      [{'iso_639_1': 'ja', 'name': '日本語'}]  Released   \n",
              "35587              82.0  [{'iso_639_1': 'en', 'name': 'English'}]  Released   \n",
              "\n",
              "       ... revenue runtime spoken_languages status tagline  title  video  \\\n",
              "19730  ...     NaN     NaN              NaN    NaN     NaN    NaN    NaN   \n",
              "29503  ...     NaN     NaN              NaN    NaN     NaN    NaN    NaN   \n",
              "35587  ...     NaN     NaN              NaN    NaN     NaN    NaN    NaN   \n",
              "\n",
              "      vote_average vote_count isInteger  \n",
              "19730          NaN        NaN     False  \n",
              "29503          NaN        NaN     False  \n",
              "35587          NaN        NaN     False  \n",
              "\n",
              "[3 rows x 25 columns]"
            ]
          },
          "execution_count": 8,
          "metadata": {},
          "output_type": "execute_result"
        }
      ],
      "source": [
        "metadata['isInteger'] = metadata['id'].apply(isInteger)\n",
        "metadata[metadata['isInteger'] == False]"
      ]
    },
    {
      "cell_type": "code",
      "execution_count": 9,
      "id": "db0393bc",
      "metadata": {
        "execution": {
          "iopub.execute_input": "2022-05-29T09:56:07.722565Z",
          "iopub.status.busy": "2022-05-29T09:56:07.721575Z",
          "iopub.status.idle": "2022-05-29T09:56:07.739307Z",
          "shell.execute_reply": "2022-05-29T09:56:07.738205Z"
        },
        "id": "db0393bc",
        "papermill": {
          "duration": 0.034632,
          "end_time": "2022-05-29T09:56:07.741932",
          "exception": false,
          "start_time": "2022-05-29T09:56:07.707300",
          "status": "completed"
        },
        "tags": []
      },
      "outputs": [],
      "source": [
        "metadata.drop([29503, 35587, 19730], inplace=True)"
      ]
    },
    {
      "cell_type": "code",
      "execution_count": 10,
      "id": "41fddcfd",
      "metadata": {
        "execution": {
          "iopub.execute_input": "2022-05-29T09:56:07.771350Z",
          "iopub.status.busy": "2022-05-29T09:56:07.770344Z",
          "iopub.status.idle": "2022-05-29T09:56:07.826379Z",
          "shell.execute_reply": "2022-05-29T09:56:07.825448Z"
        },
        "id": "41fddcfd",
        "papermill": {
          "duration": 0.073607,
          "end_time": "2022-05-29T09:56:07.828923",
          "exception": false,
          "start_time": "2022-05-29T09:56:07.755316",
          "status": "completed"
        },
        "tags": []
      },
      "outputs": [],
      "source": [
        "metadata['id'] = metadata['id'].apply(lambda x: int(x))"
      ]
    },
    {
      "cell_type": "markdown",
      "id": "c408e710",
      "metadata": {
        "id": "c408e710",
        "papermill": {
          "duration": 0.013429,
          "end_time": "2022-05-29T09:56:07.855615",
          "exception": false,
          "start_time": "2022-05-29T09:56:07.842186",
          "status": "completed"
        },
        "tags": []
      },
      "source": [
        "ID should not be duplicated"
      ]
    },
    {
      "cell_type": "code",
      "execution_count": 11,
      "id": "ca0783bf",
      "metadata": {
        "colab": {
          "base_uri": "https://localhost:8080/"
        },
        "execution": {
          "iopub.execute_input": "2022-05-29T09:56:07.885086Z",
          "iopub.status.busy": "2022-05-29T09:56:07.884495Z",
          "iopub.status.idle": "2022-05-29T09:56:07.897109Z",
          "shell.execute_reply": "2022-05-29T09:56:07.896034Z"
        },
        "id": "ca0783bf",
        "outputId": "64366a06-708e-481e-c8ad-b618c5c9afa7",
        "papermill": {
          "duration": 0.029449,
          "end_time": "2022-05-29T09:56:07.899215",
          "exception": false,
          "start_time": "2022-05-29T09:56:07.869766",
          "status": "completed"
        },
        "tags": []
      },
      "outputs": [
        {
          "data": {
            "text/plain": [
              "141971    3\n",
              "5511      2\n",
              "132641    2\n",
              "10991     2\n",
              "168538    2\n",
              "         ..\n",
              "55135     1\n",
              "15877     1\n",
              "72272     1\n",
              "1549      1\n",
              "461257    1\n",
              "Name: id, Length: 45433, dtype: int64"
            ]
          },
          "execution_count": 11,
          "metadata": {},
          "output_type": "execute_result"
        }
      ],
      "source": [
        "metadata['id'].value_counts()"
      ]
    },
    {
      "cell_type": "code",
      "execution_count": 12,
      "id": "0772323c",
      "metadata": {
        "execution": {
          "iopub.execute_input": "2022-05-29T09:56:07.927866Z",
          "iopub.status.busy": "2022-05-29T09:56:07.927195Z",
          "iopub.status.idle": "2022-05-29T09:56:07.953335Z",
          "shell.execute_reply": "2022-05-29T09:56:07.952317Z"
        },
        "id": "0772323c",
        "papermill": {
          "duration": 0.043163,
          "end_time": "2022-05-29T09:56:07.955807",
          "exception": false,
          "start_time": "2022-05-29T09:56:07.912644",
          "status": "completed"
        },
        "tags": []
      },
      "outputs": [],
      "source": [
        "metadata.drop_duplicates(subset=['id'], inplace=True)"
      ]
    },
    {
      "cell_type": "code",
      "execution_count": 13,
      "id": "2d057c89",
      "metadata": {
        "colab": {
          "base_uri": "https://localhost:8080/"
        },
        "execution": {
          "iopub.execute_input": "2022-05-29T09:56:07.983679Z",
          "iopub.status.busy": "2022-05-29T09:56:07.983299Z",
          "iopub.status.idle": "2022-05-29T09:56:07.996301Z",
          "shell.execute_reply": "2022-05-29T09:56:07.995069Z"
        },
        "id": "2d057c89",
        "outputId": "35285d71-4678-4ab9-8bde-77d4fa15854e",
        "papermill": {
          "duration": 0.029312,
          "end_time": "2022-05-29T09:56:07.998349",
          "exception": false,
          "start_time": "2022-05-29T09:56:07.969037",
          "status": "completed"
        },
        "tags": []
      },
      "outputs": [
        {
          "data": {
            "text/plain": [
              "141971    3\n",
              "298721    2\n",
              "9755      2\n",
              "10991     2\n",
              "99080     2\n",
              "         ..\n",
              "55135     1\n",
              "15877     1\n",
              "72272     1\n",
              "1549      1\n",
              "461257    1\n",
              "Name: id, Length: 45432, dtype: int64"
            ]
          },
          "execution_count": 13,
          "metadata": {},
          "output_type": "execute_result"
        }
      ],
      "source": [
        "credits['id'].value_counts()"
      ]
    },
    {
      "cell_type": "code",
      "execution_count": 14,
      "id": "8a8aadcf",
      "metadata": {
        "execution": {
          "iopub.execute_input": "2022-05-29T09:56:08.027609Z",
          "iopub.status.busy": "2022-05-29T09:56:08.026597Z",
          "iopub.status.idle": "2022-05-29T09:56:08.042643Z",
          "shell.execute_reply": "2022-05-29T09:56:08.041602Z"
        },
        "id": "8a8aadcf",
        "papermill": {
          "duration": 0.033055,
          "end_time": "2022-05-29T09:56:08.045075",
          "exception": false,
          "start_time": "2022-05-29T09:56:08.012020",
          "status": "completed"
        },
        "tags": []
      },
      "outputs": [],
      "source": [
        "credits.drop_duplicates(subset=['id'], inplace=True)"
      ]
    },
    {
      "cell_type": "code",
      "execution_count": 15,
      "id": "7d6a6f97",
      "metadata": {
        "colab": {
          "base_uri": "https://localhost:8080/"
        },
        "execution": {
          "iopub.execute_input": "2022-05-29T09:56:08.074530Z",
          "iopub.status.busy": "2022-05-29T09:56:08.074105Z",
          "iopub.status.idle": "2022-05-29T09:56:08.086206Z",
          "shell.execute_reply": "2022-05-29T09:56:08.085325Z"
        },
        "id": "7d6a6f97",
        "outputId": "6f6517b0-eabc-4f5d-90ca-f106845183da",
        "papermill": {
          "duration": 0.029122,
          "end_time": "2022-05-29T09:56:08.088451",
          "exception": false,
          "start_time": "2022-05-29T09:56:08.059329",
          "status": "completed"
        },
        "tags": []
      },
      "outputs": [
        {
          "data": {
            "text/plain": [
              "141971    3\n",
              "159849    3\n",
              "105045    2\n",
              "255396    2\n",
              "85729     2\n",
              "         ..\n",
              "55135     1\n",
              "15877     1\n",
              "72272     1\n",
              "1549      1\n",
              "461257    1\n",
              "Name: id, Length: 45432, dtype: int64"
            ]
          },
          "execution_count": 15,
          "metadata": {},
          "output_type": "execute_result"
        }
      ],
      "source": [
        "keywords['id'].value_counts()"
      ]
    },
    {
      "cell_type": "code",
      "execution_count": 16,
      "id": "99569f1b",
      "metadata": {
        "execution": {
          "iopub.execute_input": "2022-05-29T09:56:08.117222Z",
          "iopub.status.busy": "2022-05-29T09:56:08.116650Z",
          "iopub.status.idle": "2022-05-29T09:56:08.128359Z",
          "shell.execute_reply": "2022-05-29T09:56:08.127624Z"
        },
        "id": "99569f1b",
        "papermill": {
          "duration": 0.028716,
          "end_time": "2022-05-29T09:56:08.130477",
          "exception": false,
          "start_time": "2022-05-29T09:56:08.101761",
          "status": "completed"
        },
        "tags": []
      },
      "outputs": [],
      "source": [
        "keywords.drop_duplicates(subset=['id'], inplace=True)"
      ]
    },
    {
      "cell_type": "markdown",
      "id": "4382915b",
      "metadata": {
        "id": "4382915b",
        "papermill": {
          "duration": 0.01378,
          "end_time": "2022-05-29T09:56:08.422416",
          "exception": false,
          "start_time": "2022-05-29T09:56:08.408636",
          "status": "completed"
        },
        "tags": []
      },
      "source": [
        "## 2. Merge Datasets"
      ]
    },
    {
      "cell_type": "markdown",
      "id": "b25f8248",
      "metadata": {
        "id": "b25f8248",
        "papermill": {
          "duration": 0.013499,
          "end_time": "2022-05-29T09:56:08.449909",
          "exception": false,
          "start_time": "2022-05-29T09:56:08.436410",
          "status": "completed"
        },
        "tags": []
      },
      "source": [
        "Currently working on:\n",
        "\n",
        "genres, crew, cast, keywords, popularity, vote_average, language, runtime, vote_count, production_companies, production_countries, overview"
      ]
    },
    {
      "cell_type": "code",
      "execution_count": 17,
      "id": "4158f04e",
      "metadata": {
        "execution": {
          "iopub.execute_input": "2022-05-29T09:56:08.479626Z",
          "iopub.status.busy": "2022-05-29T09:56:08.478986Z",
          "iopub.status.idle": "2022-05-29T09:56:08.613686Z",
          "shell.execute_reply": "2022-05-29T09:56:08.612515Z"
        },
        "id": "4158f04e",
        "papermill": {
          "duration": 0.152827,
          "end_time": "2022-05-29T09:56:08.616504",
          "exception": false,
          "start_time": "2022-05-29T09:56:08.463677",
          "status": "completed"
        },
        "tags": []
      },
      "outputs": [],
      "source": [
        "dataset = metadata.merge(credits, how = 'inner', on = \"id\")\n",
        "dataset = dataset.merge(keywords, how = 'inner', on = \"id\")"
      ]
    },
    {
      "cell_type": "code",
      "execution_count": 18,
      "id": "edfc3f1f",
      "metadata": {
        "colab": {
          "base_uri": "https://localhost:8080/"
        },
        "execution": {
          "iopub.execute_input": "2022-05-29T09:56:08.648096Z",
          "iopub.status.busy": "2022-05-29T09:56:08.646955Z",
          "iopub.status.idle": "2022-05-29T09:56:08.772941Z",
          "shell.execute_reply": "2022-05-29T09:56:08.771099Z"
        },
        "id": "edfc3f1f",
        "outputId": "2033b1c3-045d-4ce7-a90f-43351e2a0f36",
        "papermill": {
          "duration": 0.144485,
          "end_time": "2022-05-29T09:56:08.775420",
          "exception": false,
          "start_time": "2022-05-29T09:56:08.630935",
          "status": "completed"
        },
        "tags": []
      },
      "outputs": [
        {
          "name": "stdout",
          "output_type": "stream",
          "text": [
            "<class 'pandas.core.frame.DataFrame'>\n",
            "Int64Index: 45432 entries, 0 to 45431\n",
            "Data columns (total 28 columns):\n",
            " #   Column                 Non-Null Count  Dtype  \n",
            "---  ------                 --------------  -----  \n",
            " 0   adult                  45432 non-null  object \n",
            " 1   belongs_to_collection  4488 non-null   object \n",
            " 2   budget                 45432 non-null  object \n",
            " 3   genres                 45432 non-null  object \n",
            " 4   homepage               7774 non-null   object \n",
            " 5   id                     45432 non-null  int64  \n",
            " 6   imdb_id                45415 non-null  object \n",
            " 7   original_language      45421 non-null  object \n",
            " 8   original_title         45432 non-null  object \n",
            " 9   overview               44478 non-null  object \n",
            " 10  popularity             45429 non-null  object \n",
            " 11  poster_path            45046 non-null  object \n",
            " 12  production_companies   45429 non-null  object \n",
            " 13  production_countries   45429 non-null  object \n",
            " 14  release_date           45345 non-null  object \n",
            " 15  revenue                45429 non-null  float64\n",
            " 16  runtime                45172 non-null  float64\n",
            " 17  spoken_languages       45429 non-null  object \n",
            " 18  status                 45348 non-null  object \n",
            " 19  tagline                20401 non-null  object \n",
            " 20  title                  45429 non-null  object \n",
            " 21  video                  45429 non-null  object \n",
            " 22  vote_average           45429 non-null  float64\n",
            " 23  vote_count             45429 non-null  float64\n",
            " 24  isInteger              45432 non-null  bool   \n",
            " 25  cast                   45432 non-null  object \n",
            " 26  crew                   45432 non-null  object \n",
            " 27  keywords               45432 non-null  object \n",
            "dtypes: bool(1), float64(4), int64(1), object(22)\n",
            "memory usage: 9.7+ MB\n"
          ]
        }
      ],
      "source": [
        "dataset.info()"
      ]
    },
    {
      "cell_type": "code",
      "execution_count": 19,
      "id": "67f80d0e",
      "metadata": {
        "execution": {
          "iopub.execute_input": "2022-05-29T09:56:08.804724Z",
          "iopub.status.busy": "2022-05-29T09:56:08.804314Z",
          "iopub.status.idle": "2022-05-29T09:56:08.809274Z",
          "shell.execute_reply": "2022-05-29T09:56:08.808342Z"
        },
        "id": "67f80d0e",
        "papermill": {
          "duration": 0.021894,
          "end_time": "2022-05-29T09:56:08.811144",
          "exception": false,
          "start_time": "2022-05-29T09:56:08.789250",
          "status": "completed"
        },
        "tags": []
      },
      "outputs": [],
      "source": [
        "columns = ['genres', 'budget', 'id', 'original_language', 'overview', 'production_companies', \\\n",
        "          'production_countries', 'runtime', 'revenue', 'vote_average', 'vote_count', 'cast', \\\n",
        "          'crew', 'keywords', 'title']"
      ]
    },
    {
      "cell_type": "code",
      "execution_count": 20,
      "id": "862edb62",
      "metadata": {
        "colab": {
          "base_uri": "https://localhost:8080/",
          "height": 739
        },
        "execution": {
          "iopub.execute_input": "2022-05-29T09:56:08.840444Z",
          "iopub.status.busy": "2022-05-29T09:56:08.840013Z",
          "iopub.status.idle": "2022-05-29T09:56:08.920380Z",
          "shell.execute_reply": "2022-05-29T09:56:08.919441Z"
        },
        "id": "862edb62",
        "outputId": "d7ffecde-eea1-4a91-f4f2-e122e74c08e9",
        "papermill": {
          "duration": 0.097834,
          "end_time": "2022-05-29T09:56:08.922714",
          "exception": false,
          "start_time": "2022-05-29T09:56:08.824880",
          "status": "completed"
        },
        "tags": []
      },
      "outputs": [
        {
          "data": {
            "text/html": [
              "<div>\n",
              "<style scoped>\n",
              "    .dataframe tbody tr th:only-of-type {\n",
              "        vertical-align: middle;\n",
              "    }\n",
              "\n",
              "    .dataframe tbody tr th {\n",
              "        vertical-align: top;\n",
              "    }\n",
              "\n",
              "    .dataframe thead th {\n",
              "        text-align: right;\n",
              "    }\n",
              "</style>\n",
              "<table border=\"1\" class=\"dataframe\">\n",
              "  <thead>\n",
              "    <tr style=\"text-align: right;\">\n",
              "      <th></th>\n",
              "      <th>genres</th>\n",
              "      <th>budget</th>\n",
              "      <th>id</th>\n",
              "      <th>original_language</th>\n",
              "      <th>overview</th>\n",
              "      <th>production_companies</th>\n",
              "      <th>production_countries</th>\n",
              "      <th>runtime</th>\n",
              "      <th>revenue</th>\n",
              "      <th>vote_average</th>\n",
              "      <th>vote_count</th>\n",
              "      <th>cast</th>\n",
              "      <th>crew</th>\n",
              "      <th>keywords</th>\n",
              "      <th>title</th>\n",
              "    </tr>\n",
              "  </thead>\n",
              "  <tbody>\n",
              "    <tr>\n",
              "      <th>0</th>\n",
              "      <td>[{'id': 16, 'name': 'Animation'}, {'id': 35, '...</td>\n",
              "      <td>30000000</td>\n",
              "      <td>862</td>\n",
              "      <td>en</td>\n",
              "      <td>Led by Woody, Andy's toys live happily in his ...</td>\n",
              "      <td>[{'name': 'Pixar Animation Studios', 'id': 3}]</td>\n",
              "      <td>[{'iso_3166_1': 'US', 'name': 'United States o...</td>\n",
              "      <td>81.0</td>\n",
              "      <td>373554033.0</td>\n",
              "      <td>7.7</td>\n",
              "      <td>5415.0</td>\n",
              "      <td>[{'cast_id': 14, 'character': 'Woody (voice)',...</td>\n",
              "      <td>[{'credit_id': '52fe4284c3a36847f8024f49', 'de...</td>\n",
              "      <td>[{'id': 931, 'name': 'jealousy'}, {'id': 4290,...</td>\n",
              "      <td>Toy Story</td>\n",
              "    </tr>\n",
              "    <tr>\n",
              "      <th>1</th>\n",
              "      <td>[{'id': 12, 'name': 'Adventure'}, {'id': 14, '...</td>\n",
              "      <td>65000000</td>\n",
              "      <td>8844</td>\n",
              "      <td>en</td>\n",
              "      <td>When siblings Judy and Peter discover an encha...</td>\n",
              "      <td>[{'name': 'TriStar Pictures', 'id': 559}, {'na...</td>\n",
              "      <td>[{'iso_3166_1': 'US', 'name': 'United States o...</td>\n",
              "      <td>104.0</td>\n",
              "      <td>262797249.0</td>\n",
              "      <td>6.9</td>\n",
              "      <td>2413.0</td>\n",
              "      <td>[{'cast_id': 1, 'character': 'Alan Parrish', '...</td>\n",
              "      <td>[{'credit_id': '52fe44bfc3a36847f80a7cd1', 'de...</td>\n",
              "      <td>[{'id': 10090, 'name': 'board game'}, {'id': 1...</td>\n",
              "      <td>Jumanji</td>\n",
              "    </tr>\n",
              "    <tr>\n",
              "      <th>2</th>\n",
              "      <td>[{'id': 10749, 'name': 'Romance'}, {'id': 35, ...</td>\n",
              "      <td>0</td>\n",
              "      <td>15602</td>\n",
              "      <td>en</td>\n",
              "      <td>A family wedding reignites the ancient feud be...</td>\n",
              "      <td>[{'name': 'Warner Bros.', 'id': 6194}, {'name'...</td>\n",
              "      <td>[{'iso_3166_1': 'US', 'name': 'United States o...</td>\n",
              "      <td>101.0</td>\n",
              "      <td>0.0</td>\n",
              "      <td>6.5</td>\n",
              "      <td>92.0</td>\n",
              "      <td>[{'cast_id': 2, 'character': 'Max Goldman', 'c...</td>\n",
              "      <td>[{'credit_id': '52fe466a9251416c75077a89', 'de...</td>\n",
              "      <td>[{'id': 1495, 'name': 'fishing'}, {'id': 12392...</td>\n",
              "      <td>Grumpier Old Men</td>\n",
              "    </tr>\n",
              "    <tr>\n",
              "      <th>3</th>\n",
              "      <td>[{'id': 35, 'name': 'Comedy'}, {'id': 18, 'nam...</td>\n",
              "      <td>16000000</td>\n",
              "      <td>31357</td>\n",
              "      <td>en</td>\n",
              "      <td>Cheated on, mistreated and stepped on, the wom...</td>\n",
              "      <td>[{'name': 'Twentieth Century Fox Film Corporat...</td>\n",
              "      <td>[{'iso_3166_1': 'US', 'name': 'United States o...</td>\n",
              "      <td>127.0</td>\n",
              "      <td>81452156.0</td>\n",
              "      <td>6.1</td>\n",
              "      <td>34.0</td>\n",
              "      <td>[{'cast_id': 1, 'character': \"Savannah 'Vannah...</td>\n",
              "      <td>[{'credit_id': '52fe44779251416c91011acb', 'de...</td>\n",
              "      <td>[{'id': 818, 'name': 'based on novel'}, {'id':...</td>\n",
              "      <td>Waiting to Exhale</td>\n",
              "    </tr>\n",
              "    <tr>\n",
              "      <th>4</th>\n",
              "      <td>[{'id': 35, 'name': 'Comedy'}]</td>\n",
              "      <td>0</td>\n",
              "      <td>11862</td>\n",
              "      <td>en</td>\n",
              "      <td>Just when George Banks has recovered from his ...</td>\n",
              "      <td>[{'name': 'Sandollar Productions', 'id': 5842}...</td>\n",
              "      <td>[{'iso_3166_1': 'US', 'name': 'United States o...</td>\n",
              "      <td>106.0</td>\n",
              "      <td>76578911.0</td>\n",
              "      <td>5.7</td>\n",
              "      <td>173.0</td>\n",
              "      <td>[{'cast_id': 1, 'character': 'George Banks', '...</td>\n",
              "      <td>[{'credit_id': '52fe44959251416c75039ed7', 'de...</td>\n",
              "      <td>[{'id': 1009, 'name': 'baby'}, {'id': 1599, 'n...</td>\n",
              "      <td>Father of the Bride Part II</td>\n",
              "    </tr>\n",
              "  </tbody>\n",
              "</table>\n",
              "</div>"
            ],
            "text/plain": [
              "                                              genres    budget     id  \\\n",
              "0  [{'id': 16, 'name': 'Animation'}, {'id': 35, '...  30000000    862   \n",
              "1  [{'id': 12, 'name': 'Adventure'}, {'id': 14, '...  65000000   8844   \n",
              "2  [{'id': 10749, 'name': 'Romance'}, {'id': 35, ...         0  15602   \n",
              "3  [{'id': 35, 'name': 'Comedy'}, {'id': 18, 'nam...  16000000  31357   \n",
              "4                     [{'id': 35, 'name': 'Comedy'}]         0  11862   \n",
              "\n",
              "  original_language                                           overview  \\\n",
              "0                en  Led by Woody, Andy's toys live happily in his ...   \n",
              "1                en  When siblings Judy and Peter discover an encha...   \n",
              "2                en  A family wedding reignites the ancient feud be...   \n",
              "3                en  Cheated on, mistreated and stepped on, the wom...   \n",
              "4                en  Just when George Banks has recovered from his ...   \n",
              "\n",
              "                                production_companies  \\\n",
              "0     [{'name': 'Pixar Animation Studios', 'id': 3}]   \n",
              "1  [{'name': 'TriStar Pictures', 'id': 559}, {'na...   \n",
              "2  [{'name': 'Warner Bros.', 'id': 6194}, {'name'...   \n",
              "3  [{'name': 'Twentieth Century Fox Film Corporat...   \n",
              "4  [{'name': 'Sandollar Productions', 'id': 5842}...   \n",
              "\n",
              "                                production_countries  runtime      revenue  \\\n",
              "0  [{'iso_3166_1': 'US', 'name': 'United States o...     81.0  373554033.0   \n",
              "1  [{'iso_3166_1': 'US', 'name': 'United States o...    104.0  262797249.0   \n",
              "2  [{'iso_3166_1': 'US', 'name': 'United States o...    101.0          0.0   \n",
              "3  [{'iso_3166_1': 'US', 'name': 'United States o...    127.0   81452156.0   \n",
              "4  [{'iso_3166_1': 'US', 'name': 'United States o...    106.0   76578911.0   \n",
              "\n",
              "   vote_average  vote_count  \\\n",
              "0           7.7      5415.0   \n",
              "1           6.9      2413.0   \n",
              "2           6.5        92.0   \n",
              "3           6.1        34.0   \n",
              "4           5.7       173.0   \n",
              "\n",
              "                                                cast  \\\n",
              "0  [{'cast_id': 14, 'character': 'Woody (voice)',...   \n",
              "1  [{'cast_id': 1, 'character': 'Alan Parrish', '...   \n",
              "2  [{'cast_id': 2, 'character': 'Max Goldman', 'c...   \n",
              "3  [{'cast_id': 1, 'character': \"Savannah 'Vannah...   \n",
              "4  [{'cast_id': 1, 'character': 'George Banks', '...   \n",
              "\n",
              "                                                crew  \\\n",
              "0  [{'credit_id': '52fe4284c3a36847f8024f49', 'de...   \n",
              "1  [{'credit_id': '52fe44bfc3a36847f80a7cd1', 'de...   \n",
              "2  [{'credit_id': '52fe466a9251416c75077a89', 'de...   \n",
              "3  [{'credit_id': '52fe44779251416c91011acb', 'de...   \n",
              "4  [{'credit_id': '52fe44959251416c75039ed7', 'de...   \n",
              "\n",
              "                                            keywords  \\\n",
              "0  [{'id': 931, 'name': 'jealousy'}, {'id': 4290,...   \n",
              "1  [{'id': 10090, 'name': 'board game'}, {'id': 1...   \n",
              "2  [{'id': 1495, 'name': 'fishing'}, {'id': 12392...   \n",
              "3  [{'id': 818, 'name': 'based on novel'}, {'id':...   \n",
              "4  [{'id': 1009, 'name': 'baby'}, {'id': 1599, 'n...   \n",
              "\n",
              "                         title  \n",
              "0                    Toy Story  \n",
              "1                      Jumanji  \n",
              "2             Grumpier Old Men  \n",
              "3            Waiting to Exhale  \n",
              "4  Father of the Bride Part II  "
            ]
          },
          "execution_count": 20,
          "metadata": {},
          "output_type": "execute_result"
        }
      ],
      "source": [
        "final_dataset = dataset[columns]\n",
        "final_dataset.head()"
      ]
    },
    {
      "cell_type": "markdown",
      "id": "eb7e1de5",
      "metadata": {
        "id": "eb7e1de5",
        "papermill": {
          "duration": 0.013852,
          "end_time": "2022-05-29T09:56:08.950600",
          "exception": false,
          "start_time": "2022-05-29T09:56:08.936748",
          "status": "completed"
        },
        "tags": []
      },
      "source": [
        "## 3. Fill Null Value"
      ]
    },
    {
      "cell_type": "code",
      "execution_count": 21,
      "id": "8e786469",
      "metadata": {},
      "outputs": [
        {
          "data": {
            "text/plain": [
              "0        5415.0\n",
              "1        2413.0\n",
              "2          92.0\n",
              "3          34.0\n",
              "4         173.0\n",
              "          ...  \n",
              "45461       1.0\n",
              "45462       3.0\n",
              "45463       6.0\n",
              "45464       0.0\n",
              "45465       0.0\n",
              "Name: vote_count, Length: 45433, dtype: float64"
            ]
          },
          "execution_count": 21,
          "metadata": {},
          "output_type": "execute_result"
        }
      ],
      "source": [
        "metadata['vote_count']"
      ]
    },
    {
      "cell_type": "code",
      "execution_count": 22,
      "id": "d91c0b10",
      "metadata": {
        "colab": {
          "base_uri": "https://localhost:8080/"
        },
        "execution": {
          "iopub.execute_input": "2022-05-29T09:56:08.982134Z",
          "iopub.status.busy": "2022-05-29T09:56:08.981387Z",
          "iopub.status.idle": "2022-05-29T09:56:09.048407Z",
          "shell.execute_reply": "2022-05-29T09:56:09.047336Z"
        },
        "id": "d91c0b10",
        "outputId": "22056171-b359-42e5-ef35-a23c16b18d66",
        "papermill": {
          "duration": 0.085332,
          "end_time": "2022-05-29T09:56:09.050946",
          "exception": false,
          "start_time": "2022-05-29T09:56:08.965614",
          "status": "completed"
        },
        "tags": []
      },
      "outputs": [
        {
          "data": {
            "text/plain": [
              "genres                    0\n",
              "budget                    0\n",
              "id                        0\n",
              "original_language        11\n",
              "overview                954\n",
              "production_companies      3\n",
              "production_countries      3\n",
              "runtime                 260\n",
              "revenue                   3\n",
              "vote_average              3\n",
              "vote_count                3\n",
              "cast                      0\n",
              "crew                      0\n",
              "keywords                  0\n",
              "title                     3\n",
              "dtype: int64"
            ]
          },
          "execution_count": 22,
          "metadata": {},
          "output_type": "execute_result"
        }
      ],
      "source": [
        "final_dataset.isnull().sum()"
      ]
    },
    {
      "cell_type": "markdown",
      "id": "284d3d65",
      "metadata": {
        "id": "284d3d65",
        "papermill": {
          "duration": 0.015703,
          "end_time": "2022-05-29T09:56:09.519921",
          "exception": false,
          "start_time": "2022-05-29T09:56:09.504218",
          "status": "completed"
        },
        "tags": []
      },
      "source": [
        "### Runtime"
      ]
    },
    {
      "cell_type": "code",
      "execution_count": 23,
      "id": "4115ba99",
      "metadata": {
        "colab": {
          "base_uri": "https://localhost:8080/"
        },
        "execution": {
          "iopub.execute_input": "2022-05-29T09:56:09.554036Z",
          "iopub.status.busy": "2022-05-29T09:56:09.552877Z",
          "iopub.status.idle": "2022-05-29T09:56:09.560112Z",
          "shell.execute_reply": "2022-05-29T09:56:09.559354Z"
        },
        "id": "4115ba99",
        "outputId": "ee26b1a5-49e1-4a65-fb7b-dca53c15aaf3",
        "papermill": {
          "duration": 0.026199,
          "end_time": "2022-05-29T09:56:09.562054",
          "exception": false,
          "start_time": "2022-05-29T09:56:09.535855",
          "status": "completed"
        },
        "tags": []
      },
      "outputs": [
        {
          "data": {
            "text/plain": [
              "260"
            ]
          },
          "execution_count": 23,
          "metadata": {},
          "output_type": "execute_result"
        }
      ],
      "source": [
        "final_dataset['runtime'].isnull().sum()"
      ]
    },
    {
      "cell_type": "code",
      "execution_count": 24,
      "id": "68370704",
      "metadata": {
        "colab": {
          "base_uri": "https://localhost:8080/"
        },
        "execution": {
          "iopub.execute_input": "2022-05-29T09:56:09.596441Z",
          "iopub.status.busy": "2022-05-29T09:56:09.595768Z",
          "iopub.status.idle": "2022-05-29T09:56:09.601978Z",
          "shell.execute_reply": "2022-05-29T09:56:09.601347Z"
        },
        "id": "68370704",
        "outputId": "9a3c9cef-7fe0-41d4-bef3-b65e0fcf24c2",
        "papermill": {
          "duration": 0.026154,
          "end_time": "2022-05-29T09:56:09.604182",
          "exception": false,
          "start_time": "2022-05-29T09:56:09.578028",
          "status": "completed"
        },
        "tags": []
      },
      "outputs": [],
      "source": [
        "final_dataset['runtime'] = final_dataset['runtime'].fillna(final_dataset['runtime'].mean())"
      ]
    },
    {
      "cell_type": "code",
      "execution_count": 25,
      "id": "98b5890a",
      "metadata": {
        "colab": {
          "base_uri": "https://localhost:8080/"
        },
        "execution": {
          "iopub.execute_input": "2022-05-29T09:56:09.638511Z",
          "iopub.status.busy": "2022-05-29T09:56:09.637515Z",
          "iopub.status.idle": "2022-05-29T09:56:09.653202Z",
          "shell.execute_reply": "2022-05-29T09:56:09.652373Z"
        },
        "id": "98b5890a",
        "outputId": "034454a8-0923-431b-8e74-7408b7b463b2",
        "papermill": {
          "duration": 0.035186,
          "end_time": "2022-05-29T09:56:09.655357",
          "exception": false,
          "start_time": "2022-05-29T09:56:09.620171",
          "status": "completed"
        },
        "tags": []
      },
      "outputs": [],
      "source": [
        "final_dataset['overview'] = final_dataset['overview'].fillna(\"\")"
      ]
    },
    {
      "cell_type": "markdown",
      "id": "1454d1c2",
      "metadata": {},
      "source": [
        "## 4. Intersection"
      ]
    },
    {
      "cell_type": "markdown",
      "id": "5f74b5ae",
      "metadata": {},
      "source": [
        "Join to remove 'id' field that not appear in others\n",
        "\n",
        "Drop all na field in dataset first"
      ]
    },
    {
      "cell_type": "code",
      "execution_count": 26,
      "id": "cbc60f4f",
      "metadata": {},
      "outputs": [],
      "source": [
        "final_dataset = final_dataset.dropna(axis = 0).reset_index(drop = True)"
      ]
    },
    {
      "cell_type": "markdown",
      "id": "fca64f76",
      "metadata": {},
      "source": [
        "Find id appear in both dataset"
      ]
    },
    {
      "cell_type": "code",
      "execution_count": 27,
      "id": "8b731b72",
      "metadata": {},
      "outputs": [],
      "source": [
        "movie_dataset = set(final_dataset['id'])\n",
        "movie_rating = set(ratings['movieId'])\n",
        "intersected = movie_dataset.intersection(movie_rating)"
      ]
    },
    {
      "cell_type": "markdown",
      "id": "88c8d98f",
      "metadata": {},
      "source": [
        "Remove ID that not appear in others"
      ]
    },
    {
      "cell_type": "code",
      "execution_count": 28,
      "id": "fbc33d47",
      "metadata": {},
      "outputs": [],
      "source": [
        "final_dataset = final_dataset[final_dataset['id'].isin(intersected)]\n",
        "ratings = ratings[ratings['movieId'].isin(intersected)]"
      ]
    },
    {
      "cell_type": "markdown",
      "id": "770f5329",
      "metadata": {},
      "source": [
        "## 5. Composite Attribute Fields"
      ]
    },
    {
      "cell_type": "code",
      "execution_count": 29,
      "id": "aac41815",
      "metadata": {},
      "outputs": [],
      "source": [
        "columns = ['genres', 'production_companies','production_countries', 'cast', 'crew', 'keywords']"
      ]
    },
    {
      "cell_type": "code",
      "execution_count": 30,
      "id": "6b898e05",
      "metadata": {},
      "outputs": [],
      "source": [
        "for column in columns:\n",
        "    final_dataset[column] = final_dataset[column].apply(ast.literal_eval)"
      ]
    },
    {
      "cell_type": "code",
      "execution_count": 31,
      "id": "107d014b",
      "metadata": {},
      "outputs": [],
      "source": [
        "final_dataset['genres'] = final_dataset['genres'].apply(lambda x: [y['name'] for y in x])"
      ]
    },
    {
      "cell_type": "code",
      "execution_count": 32,
      "metadata": {},
      "outputs": [],
      "source": [
        "final_dataset['production_companies'] = final_dataset['production_companies'].apply(lambda x: [y['name'] for y in x])"
      ]
    },
    {
      "cell_type": "code",
      "execution_count": 33,
      "id": "92d87896",
      "metadata": {},
      "outputs": [],
      "source": [
        "final_dataset['production_countries'] = final_dataset['production_countries'].apply(lambda x: [y['iso_3166_1'] for y in x])"
      ]
    },
    {
      "cell_type": "code",
      "execution_count": 34,
      "id": "5d07152f",
      "metadata": {},
      "outputs": [],
      "source": [
        "final_dataset['cast'] = final_dataset['cast'].apply(lambda x: [y['name'] for y in x])"
      ]
    },
    {
      "cell_type": "code",
      "execution_count": 35,
      "id": "4435b4cb",
      "metadata": {},
      "outputs": [],
      "source": [
        "final_dataset['crew'] = final_dataset['crew'].apply(lambda x: [y['name'] for y in x])"
      ]
    },
    {
      "cell_type": "code",
      "execution_count": 36,
      "id": "b14cdd16",
      "metadata": {},
      "outputs": [],
      "source": [
        "final_dataset['keywords'] = final_dataset['keywords'].apply(lambda x: [y['name'] for y in x])"
      ]
    },
    {
      "cell_type": "markdown",
      "id": "c03da10f",
      "metadata": {},
      "source": [
        "The dictionary store index to title of movies"
      ]
    },
    {
      "cell_type": "code",
      "execution_count": 37,
      "id": "eae61bea",
      "metadata": {},
      "outputs": [],
      "source": [
        "idToTitle = dict(zip(final_dataset['id'], final_dataset['title']))"
      ]
    },
    {
      "cell_type": "markdown",
      "id": "b36521bb",
      "metadata": {},
      "source": [
        "## 6. Train and Test Split"
      ]
    },
    {
      "cell_type": "code",
      "execution_count": 38,
      "id": "30fd9090",
      "metadata": {},
      "outputs": [
        {
          "data": {
            "text/html": [
              "<div>\n",
              "<style scoped>\n",
              "    .dataframe tbody tr th:only-of-type {\n",
              "        vertical-align: middle;\n",
              "    }\n",
              "\n",
              "    .dataframe tbody tr th {\n",
              "        vertical-align: top;\n",
              "    }\n",
              "\n",
              "    .dataframe thead th {\n",
              "        text-align: right;\n",
              "    }\n",
              "</style>\n",
              "<table border=\"1\" class=\"dataframe\">\n",
              "  <thead>\n",
              "    <tr style=\"text-align: right;\">\n",
              "      <th></th>\n",
              "      <th>userId</th>\n",
              "      <th>movieId</th>\n",
              "      <th>rating</th>\n",
              "      <th>timestamp</th>\n",
              "    </tr>\n",
              "  </thead>\n",
              "  <tbody>\n",
              "    <tr>\n",
              "      <th>10</th>\n",
              "      <td>1</td>\n",
              "      <td>1371</td>\n",
              "      <td>2.5</td>\n",
              "      <td>1260759135</td>\n",
              "    </tr>\n",
              "    <tr>\n",
              "      <th>11</th>\n",
              "      <td>1</td>\n",
              "      <td>1405</td>\n",
              "      <td>1.0</td>\n",
              "      <td>1260759203</td>\n",
              "    </tr>\n",
              "    <tr>\n",
              "      <th>13</th>\n",
              "      <td>1</td>\n",
              "      <td>2105</td>\n",
              "      <td>4.0</td>\n",
              "      <td>1260759139</td>\n",
              "    </tr>\n",
              "    <tr>\n",
              "      <th>15</th>\n",
              "      <td>1</td>\n",
              "      <td>2193</td>\n",
              "      <td>2.0</td>\n",
              "      <td>1260759198</td>\n",
              "    </tr>\n",
              "    <tr>\n",
              "      <th>16</th>\n",
              "      <td>1</td>\n",
              "      <td>2294</td>\n",
              "      <td>2.0</td>\n",
              "      <td>1260759108</td>\n",
              "    </tr>\n",
              "    <tr>\n",
              "      <th>...</th>\n",
              "      <td>...</td>\n",
              "      <td>...</td>\n",
              "      <td>...</td>\n",
              "      <td>...</td>\n",
              "    </tr>\n",
              "    <tr>\n",
              "      <th>99983</th>\n",
              "      <td>671</td>\n",
              "      <td>4995</td>\n",
              "      <td>4.0</td>\n",
              "      <td>1064891537</td>\n",
              "    </tr>\n",
              "    <tr>\n",
              "      <th>99992</th>\n",
              "      <td>671</td>\n",
              "      <td>5816</td>\n",
              "      <td>4.0</td>\n",
              "      <td>1065111963</td>\n",
              "    </tr>\n",
              "    <tr>\n",
              "      <th>99993</th>\n",
              "      <td>671</td>\n",
              "      <td>5902</td>\n",
              "      <td>3.5</td>\n",
              "      <td>1064245507</td>\n",
              "    </tr>\n",
              "    <tr>\n",
              "      <th>99996</th>\n",
              "      <td>671</td>\n",
              "      <td>5991</td>\n",
              "      <td>4.5</td>\n",
              "      <td>1064245387</td>\n",
              "    </tr>\n",
              "    <tr>\n",
              "      <th>99997</th>\n",
              "      <td>671</td>\n",
              "      <td>5995</td>\n",
              "      <td>4.0</td>\n",
              "      <td>1066793014</td>\n",
              "    </tr>\n",
              "  </tbody>\n",
              "</table>\n",
              "<p>44989 rows × 4 columns</p>\n",
              "</div>"
            ],
            "text/plain": [
              "       userId  movieId  rating   timestamp\n",
              "10          1     1371     2.5  1260759135\n",
              "11          1     1405     1.0  1260759203\n",
              "13          1     2105     4.0  1260759139\n",
              "15          1     2193     2.0  1260759198\n",
              "16          1     2294     2.0  1260759108\n",
              "...       ...      ...     ...         ...\n",
              "99983     671     4995     4.0  1064891537\n",
              "99992     671     5816     4.0  1065111963\n",
              "99993     671     5902     3.5  1064245507\n",
              "99996     671     5991     4.5  1064245387\n",
              "99997     671     5995     4.0  1066793014\n",
              "\n",
              "[44989 rows x 4 columns]"
            ]
          },
          "execution_count": 38,
          "metadata": {},
          "output_type": "execute_result"
        }
      ],
      "source": [
        "ratings"
      ]
    },
    {
      "cell_type": "code",
      "execution_count": 39,
      "id": "22ed7585",
      "metadata": {},
      "outputs": [],
      "source": [
        "ratings['flag'] = 1"
      ]
    },
    {
      "cell_type": "code",
      "execution_count": 40,
      "id": "8bd380f5",
      "metadata": {},
      "outputs": [],
      "source": [
        "def split(x):\n",
        "    # x is Series type\n",
        "    x[int(x.size * 0.7) : None] = 0\n",
        "    return pd.Series(np.random.permutation(x))"
      ]
    },
    {
      "cell_type": "markdown",
      "id": "4811feef",
      "metadata": {},
      "source": [
        "This may take long!"
      ]
    },
    {
      "cell_type": "code",
      "execution_count": 41,
      "id": "78a87a19",
      "metadata": {},
      "outputs": [],
      "source": [
        "ratings['flag'] = ratings.groupby(\"userId\")[['flag']].transform(split)"
      ]
    },
    {
      "cell_type": "code",
      "execution_count": 42,
      "id": "a6ea0d9c",
      "metadata": {},
      "outputs": [
        {
          "data": {
            "text/html": [
              "<div>\n",
              "<style scoped>\n",
              "    .dataframe tbody tr th:only-of-type {\n",
              "        vertical-align: middle;\n",
              "    }\n",
              "\n",
              "    .dataframe tbody tr th {\n",
              "        vertical-align: top;\n",
              "    }\n",
              "\n",
              "    .dataframe thead th {\n",
              "        text-align: right;\n",
              "    }\n",
              "</style>\n",
              "<table border=\"1\" class=\"dataframe\">\n",
              "  <thead>\n",
              "    <tr style=\"text-align: right;\">\n",
              "      <th></th>\n",
              "      <th>userId</th>\n",
              "      <th>movieId</th>\n",
              "      <th>rating</th>\n",
              "      <th>timestamp</th>\n",
              "      <th>flag</th>\n",
              "    </tr>\n",
              "  </thead>\n",
              "  <tbody>\n",
              "    <tr>\n",
              "      <th>10</th>\n",
              "      <td>1</td>\n",
              "      <td>1371</td>\n",
              "      <td>2.5</td>\n",
              "      <td>1260759135</td>\n",
              "      <td>1</td>\n",
              "    </tr>\n",
              "    <tr>\n",
              "      <th>11</th>\n",
              "      <td>1</td>\n",
              "      <td>1405</td>\n",
              "      <td>1.0</td>\n",
              "      <td>1260759203</td>\n",
              "      <td>0</td>\n",
              "    </tr>\n",
              "    <tr>\n",
              "      <th>13</th>\n",
              "      <td>1</td>\n",
              "      <td>2105</td>\n",
              "      <td>4.0</td>\n",
              "      <td>1260759139</td>\n",
              "      <td>0</td>\n",
              "    </tr>\n",
              "    <tr>\n",
              "      <th>15</th>\n",
              "      <td>1</td>\n",
              "      <td>2193</td>\n",
              "      <td>2.0</td>\n",
              "      <td>1260759198</td>\n",
              "      <td>1</td>\n",
              "    </tr>\n",
              "    <tr>\n",
              "      <th>16</th>\n",
              "      <td>1</td>\n",
              "      <td>2294</td>\n",
              "      <td>2.0</td>\n",
              "      <td>1260759108</td>\n",
              "      <td>1</td>\n",
              "    </tr>\n",
              "    <tr>\n",
              "      <th>...</th>\n",
              "      <td>...</td>\n",
              "      <td>...</td>\n",
              "      <td>...</td>\n",
              "      <td>...</td>\n",
              "      <td>...</td>\n",
              "    </tr>\n",
              "    <tr>\n",
              "      <th>99983</th>\n",
              "      <td>671</td>\n",
              "      <td>4995</td>\n",
              "      <td>4.0</td>\n",
              "      <td>1064891537</td>\n",
              "      <td>1</td>\n",
              "    </tr>\n",
              "    <tr>\n",
              "      <th>99992</th>\n",
              "      <td>671</td>\n",
              "      <td>5816</td>\n",
              "      <td>4.0</td>\n",
              "      <td>1065111963</td>\n",
              "      <td>0</td>\n",
              "    </tr>\n",
              "    <tr>\n",
              "      <th>99993</th>\n",
              "      <td>671</td>\n",
              "      <td>5902</td>\n",
              "      <td>3.5</td>\n",
              "      <td>1064245507</td>\n",
              "      <td>1</td>\n",
              "    </tr>\n",
              "    <tr>\n",
              "      <th>99996</th>\n",
              "      <td>671</td>\n",
              "      <td>5991</td>\n",
              "      <td>4.5</td>\n",
              "      <td>1064245387</td>\n",
              "      <td>0</td>\n",
              "    </tr>\n",
              "    <tr>\n",
              "      <th>99997</th>\n",
              "      <td>671</td>\n",
              "      <td>5995</td>\n",
              "      <td>4.0</td>\n",
              "      <td>1066793014</td>\n",
              "      <td>1</td>\n",
              "    </tr>\n",
              "  </tbody>\n",
              "</table>\n",
              "<p>44989 rows × 5 columns</p>\n",
              "</div>"
            ],
            "text/plain": [
              "       userId  movieId  rating   timestamp  flag\n",
              "10          1     1371     2.5  1260759135     1\n",
              "11          1     1405     1.0  1260759203     0\n",
              "13          1     2105     4.0  1260759139     0\n",
              "15          1     2193     2.0  1260759198     1\n",
              "16          1     2294     2.0  1260759108     1\n",
              "...       ...      ...     ...         ...   ...\n",
              "99983     671     4995     4.0  1064891537     1\n",
              "99992     671     5816     4.0  1065111963     0\n",
              "99993     671     5902     3.5  1064245507     1\n",
              "99996     671     5991     4.5  1064245387     0\n",
              "99997     671     5995     4.0  1066793014     1\n",
              "\n",
              "[44989 rows x 5 columns]"
            ]
          },
          "execution_count": 42,
          "metadata": {},
          "output_type": "execute_result"
        }
      ],
      "source": [
        "ratings"
      ]
    },
    {
      "cell_type": "code",
      "execution_count": 43,
      "id": "e8df8856",
      "metadata": {},
      "outputs": [],
      "source": [
        "ratings_train = ratings[ratings['flag'] == 1].drop(['flag', 'timestamp'], axis = 1)\n",
        "ratings_test = ratings[ratings['flag'] == 0].drop(['flag', 'timestamp'], axis = 1)"
      ]
    },
    {
      "cell_type": "markdown",
      "id": "e2086c07",
      "metadata": {
        "id": "e2086c07",
        "papermill": {
          "duration": 0.015743,
          "end_time": "2022-05-29T09:56:09.687164",
          "exception": false,
          "start_time": "2022-05-29T09:56:09.671421",
          "status": "completed"
        },
        "tags": []
      },
      "source": [
        "## 7. Save"
      ]
    },
    {
      "cell_type": "code",
      "execution_count": 44,
      "id": "d78de8ff",
      "metadata": {},
      "outputs": [],
      "source": [
        "!mkdir CleanedData"
      ]
    },
    {
      "cell_type": "code",
      "execution_count": 45,
      "id": "6fddbac5",
      "metadata": {
        "execution": {
          "iopub.execute_input": "2022-05-29T09:56:09.721219Z",
          "iopub.status.busy": "2022-05-29T09:56:09.720597Z",
          "iopub.status.idle": "2022-05-29T09:57:59.978890Z",
          "shell.execute_reply": "2022-05-29T09:57:59.977966Z"
        },
        "id": "6fddbac5",
        "papermill": {
          "duration": 110.278334,
          "end_time": "2022-05-29T09:57:59.981508",
          "exception": false,
          "start_time": "2022-05-29T09:56:09.703174",
          "status": "completed"
        },
        "tags": []
      },
      "outputs": [],
      "source": [
        "final_dataset.to_csv(\"CleanedData/dataset.csv\", index = False)"
      ]
    },
    {
      "cell_type": "code",
      "execution_count": 46,
      "id": "76742aa2",
      "metadata": {},
      "outputs": [],
      "source": [
        "ratings_train.to_csv(\"CleanedData/ratings_train.csv\", index = False)"
      ]
    },
    {
      "cell_type": "code",
      "execution_count": 47,
      "id": "47bad5c2",
      "metadata": {},
      "outputs": [],
      "source": [
        "ratings_test.to_csv(\"CleanedData/ratings_test.csv\", index = False)"
      ]
    },
    {
      "cell_type": "code",
      "execution_count": 48,
      "id": "5d95ef5c",
      "metadata": {},
      "outputs": [],
      "source": [
        "!mkdir ModelStorage"
      ]
    },
    {
      "cell_type": "code",
      "execution_count": 49,
      "id": "c76f564b",
      "metadata": {},
      "outputs": [],
      "source": [
        "with open(\"ModelStorage/idToTitle.json\", \"w+\") as file:\n",
        "    file.write(json.dumps(idToTitle))"
      ]
    }
  ],
  "metadata": {
    "colab": {
      "collapsed_sections": [],
      "name": "cleaning-data (1).ipynb",
      "provenance": []
    },
    "kernelspec": {
      "display_name": "Python 3.8.8 ('base')",
      "language": "python",
      "name": "python3"
    },
    "language_info": {
      "codemirror_mode": {
        "name": "ipython",
        "version": 3
      },
      "file_extension": ".py",
      "mimetype": "text/x-python",
      "name": "python",
      "nbconvert_exporter": "python",
      "pygments_lexer": "ipython3",
      "version": "3.8.8"
    },
    "papermill": {
      "default_parameters": {},
      "duration": 147.718041,
      "end_time": "2022-05-29T09:58:00.722976",
      "environment_variables": {},
      "exception": null,
      "input_path": "__notebook__.ipynb",
      "output_path": "__notebook__.ipynb",
      "parameters": {},
      "start_time": "2022-05-29T09:55:33.004935",
      "version": "2.3.4"
    },
    "vscode": {
      "interpreter": {
        "hash": "2043299c89c8cd0b4d1a6f5cf4529bd58e6a4e0fe3181a25e0d328c821cdc5c5"
      }
    }
  },
  "nbformat": 4,
  "nbformat_minor": 5
}
