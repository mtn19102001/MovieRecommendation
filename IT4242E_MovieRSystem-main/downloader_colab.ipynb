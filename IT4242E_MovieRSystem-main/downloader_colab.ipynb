{
  "cells": [
    {
      "cell_type": "markdown",
      "metadata": {
        "id": "nRI8X2s-v2WW"
      },
      "source": [
        "# Download and Extract"
      ]
    },
    {
      "cell_type": "markdown",
      "metadata": {
        "id": "9WKlqBlo4T4Q"
      },
      "source": [
        "Dataset is available on Kaggle. In this notebook, we will download and extract it"
      ]
    },
    {
      "cell_type": "markdown",
      "metadata": {
        "id": "7YZ5tU3Yv2Wm"
      },
      "source": [
        "https://www.kaggle.com/datasets/rounakbanik/the-movies-dataset"
      ]
    },
    {
      "cell_type": "markdown",
      "metadata": {
        "id": "aeRCm1-c4Fgp"
      },
      "source": [
        "Connect to Google Drive first"
      ]
    },
    {
      "cell_type": "code",
      "execution_count": 1,
      "metadata": {
        "colab": {
          "base_uri": "https://localhost:8080/"
        },
        "id": "VFBOvmDpwgHd",
        "outputId": "f066fc30-39d6-4dcf-9004-57b9b4322602"
      },
      "outputs": [
        {
          "name": "stdout",
          "output_type": "stream",
          "text": [
            "Mounted at /content/drive\n"
          ]
        }
      ],
      "source": [
        "from google.colab import drive\n",
        "drive.mount('/content/drive')"
      ]
    },
    {
      "cell_type": "code",
      "execution_count": 2,
      "metadata": {
        "id": "BR0X5CEyv2Wp"
      },
      "outputs": [],
      "source": [
        "import pandas as pd\n",
        "import os\n",
        "import json \n",
        "from zipfile import ZipFile"
      ]
    },
    {
      "cell_type": "code",
      "execution_count": 3,
      "metadata": {
        "colab": {
          "base_uri": "https://localhost:8080/"
        },
        "id": "EZ_wAoaMv2Wx",
        "outputId": "f78ab7f4-e855-4bd4-f71d-6d3bb0b2a45a"
      },
      "outputs": [
        {
          "name": "stdout",
          "output_type": "stream",
          "text": [
            "/root\n"
          ]
        }
      ],
      "source": [
        "%cd ~\n",
        "%mkdir .kaggle"
      ]
    },
    {
      "cell_type": "code",
      "execution_count": 4,
      "metadata": {
        "id": "lq41M6pAv2W1"
      },
      "outputs": [],
      "source": [
        "kaggle_id = {\"username\":\"tientrungcao\",\"key\":\"b77ecb48c68d90c155a3ce6f66e1495a\"}"
      ]
    },
    {
      "cell_type": "code",
      "execution_count": 5,
      "metadata": {
        "colab": {
          "base_uri": "https://localhost:8080/"
        },
        "id": "s7qehkcSv2W4",
        "outputId": "65de2683-e6be-4db4-cad5-f7f781bdffa4"
      },
      "outputs": [
        {
          "name": "stdout",
          "output_type": "stream",
          "text": [
            "/root/.kaggle\n"
          ]
        }
      ],
      "source": [
        "%cd .kaggle"
      ]
    },
    {
      "cell_type": "markdown",
      "metadata": {
        "id": "eShYGk244SOr"
      },
      "source": [
        "Kaggle needs a configuration file(Authentication File), kaggle.json in ~/.kaggle folder\n",
        "\n"
      ]
    },
    {
      "cell_type": "code",
      "execution_count": 6,
      "metadata": {
        "id": "kSTUScfov2W7"
      },
      "outputs": [],
      "source": [
        "with open(\"kaggle.json\", \"w+\") as file:\n",
        "    file.write(json.dumps(kaggle_id))"
      ]
    },
    {
      "cell_type": "code",
      "execution_count": 7,
      "metadata": {
        "colab": {
          "base_uri": "https://localhost:8080/"
        },
        "id": "cF0XKgslv2W9",
        "outputId": "ce73c1e1-2a0f-4f30-d0e6-01e6e781f0f4"
      },
      "outputs": [
        {
          "name": "stdout",
          "output_type": "stream",
          "text": [
            "Warning: Your Kaggle API key is readable by other users on this system! To fix this, you can run 'chmod 600 /root/.kaggle/kaggle.json'\n",
            "Downloading the-movies-dataset.zip to /root/.kaggle\n",
            " 88% 201M/228M [00:01<00:00, 149MB/s]\n",
            "100% 228M/228M [00:01<00:00, 164MB/s]\n"
          ]
        }
      ],
      "source": [
        "!kaggle datasets download -d rounakbanik/the-movies-dataset"
      ]
    },
    {
      "cell_type": "markdown",
      "metadata": {
        "id": "YjnAeHhd4tBK"
      },
      "source": [
        "Extract"
      ]
    },
    {
      "cell_type": "code",
      "execution_count": 8,
      "metadata": {
        "id": "gCOzIg0nv2XA"
      },
      "outputs": [],
      "source": [
        "with ZipFile('the-movies-dataset.zip', 'r') as zipObj:\n",
        "   # Extract all the contents of zip file in current directory\n",
        "   zipObj.extractall(\"/content/drive/MyDrive/MovieRSystem\")"
      ]
    }
  ],
  "metadata": {
    "colab": {
      "collapsed_sections": [],
      "name": "downloader.ipynb",
      "provenance": []
    },
    "kernelspec": {
      "display_name": "Python 3.8.8 ('base')",
      "language": "python",
      "name": "python3"
    },
    "language_info": {
      "codemirror_mode": {
        "name": "ipython",
        "version": 3
      },
      "file_extension": ".py",
      "mimetype": "text/x-python",
      "name": "python",
      "nbconvert_exporter": "python",
      "pygments_lexer": "ipython3",
      "version": "3.8.8"
    },
    "orig_nbformat": 4,
    "vscode": {
      "interpreter": {
        "hash": "2043299c89c8cd0b4d1a6f5cf4529bd58e6a4e0fe3181a25e0d328c821cdc5c5"
      }
    }
  },
  "nbformat": 4,
  "nbformat_minor": 0
}
